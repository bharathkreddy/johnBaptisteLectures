{
 "cells": [
  {
   "cell_type": "code",
   "execution_count": 57,
   "id": "ac57e5d9-da72-4ad5-b78e-aa7aa123cf19",
   "metadata": {},
   "outputs": [],
   "source": [
    "def averager(userList):\n",
    "    total,count = 0,0\n",
    "    for element in userList:\n",
    "        try:\n",
    "            total += element\n",
    "            count+=1\n",
    "        except TypeError as er:\n",
    "            print(f'ERROR💥: {er}. Hence, Skipping element: {element}')\n",
    "        \n",
    "    try:\n",
    "        return total/count\n",
    "    except ZeroDivisionError as er:\n",
    "        print(f'ERROR💥: {er}. Hence, returnig ZERO')\n",
    "        return 0"
   ]
  },
  {
   "cell_type": "code",
   "execution_count": 58,
   "id": "e1282be1-4e02-4009-9286-9d0d8cbdd6c0",
   "metadata": {},
   "outputs": [
    {
     "name": "stdout",
     "output_type": "stream",
     "text": [
      "ERROR💥: division by zero. Hence, returnig ZERO\n",
      "0\n"
     ]
    }
   ],
   "source": [
    "print(averager([]))"
   ]
  },
  {
   "cell_type": "markdown",
   "id": "94519baa-ee85-4b6e-a4c6-53072298402e",
   "metadata": {},
   "source": [
    "# ITERATORS AND ITERABLES"
   ]
  },
  {
   "cell_type": "code",
   "execution_count": 61,
   "id": "6684d24a-f7cd-4985-a452-f6e39bc13998",
   "metadata": {},
   "outputs": [],
   "source": [
    "l = [1,2,3]"
   ]
  },
  {
   "cell_type": "code",
   "execution_count": 62,
   "id": "14ea89bd-50c6-42ca-9eff-f42f73149c63",
   "metadata": {},
   "outputs": [],
   "source": [
    "iterator = iter(l)"
   ]
  },
  {
   "cell_type": "code",
   "execution_count": 63,
   "id": "68fbf291-4b46-4f9d-ad84-9465ba7d51fe",
   "metadata": {},
   "outputs": [
    {
     "data": {
      "text/plain": [
       "list_iterator"
      ]
     },
     "execution_count": 63,
     "metadata": {},
     "output_type": "execute_result"
    }
   ],
   "source": [
    "type(iterator)"
   ]
  },
  {
   "cell_type": "code",
   "execution_count": 65,
   "id": "374d5d2a-462b-4deb-b3eb-00ea7c9844dc",
   "metadata": {},
   "outputs": [
    {
     "data": {
      "text/plain": [
       "1"
      ]
     },
     "execution_count": 65,
     "metadata": {},
     "output_type": "execute_result"
    }
   ],
   "source": [
    "next(iterator)"
   ]
  },
  {
   "cell_type": "code",
   "execution_count": 66,
   "id": "b94977e5-cf08-40e7-b770-2c0b12392363",
   "metadata": {},
   "outputs": [
    {
     "data": {
      "text/plain": [
       "2"
      ]
     },
     "execution_count": 66,
     "metadata": {},
     "output_type": "execute_result"
    }
   ],
   "source": [
    "next(iterator)"
   ]
  },
  {
   "cell_type": "code",
   "execution_count": 67,
   "id": "3c03702e-40ca-4006-aa7a-bd61cb2f25f2",
   "metadata": {},
   "outputs": [
    {
     "data": {
      "text/plain": [
       "3"
      ]
     },
     "execution_count": 67,
     "metadata": {},
     "output_type": "execute_result"
    }
   ],
   "source": [
    "next(iterator)"
   ]
  },
  {
   "cell_type": "code",
   "execution_count": 68,
   "id": "a2c520ad-d2f2-41bb-b33c-8ab8bcbc9cee",
   "metadata": {},
   "outputs": [
    {
     "ename": "StopIteration",
     "evalue": "",
     "output_type": "error",
     "traceback": [
      "\u001b[31m---------------------------------------------------------------------------\u001b[39m",
      "\u001b[31mStopIteration\u001b[39m                             Traceback (most recent call last)",
      "\u001b[36mCell\u001b[39m\u001b[36m \u001b[39m\u001b[32mIn[68]\u001b[39m\u001b[32m, line 1\u001b[39m\n\u001b[32m----> \u001b[39m\u001b[32m1\u001b[39m \u001b[38;5;28;43mnext\u001b[39;49m\u001b[43m(\u001b[49m\u001b[43miterator\u001b[49m\u001b[43m)\u001b[49m\n",
      "\u001b[31mStopIteration\u001b[39m: "
     ]
    }
   ],
   "source": [
    "next(iterator)"
   ]
  },
  {
   "cell_type": "code",
   "execution_count": 69,
   "id": "400ff2aa-9adc-4fb6-b026-7821a6b29e91",
   "metadata": {},
   "outputs": [
    {
     "data": {
      "text/plain": [
       "['__class__',\n",
       " '__delattr__',\n",
       " '__dir__',\n",
       " '__doc__',\n",
       " '__eq__',\n",
       " '__format__',\n",
       " '__ge__',\n",
       " '__getattribute__',\n",
       " '__getstate__',\n",
       " '__gt__',\n",
       " '__hash__',\n",
       " '__init__',\n",
       " '__init_subclass__',\n",
       " '__iter__',\n",
       " '__le__',\n",
       " '__length_hint__',\n",
       " '__lt__',\n",
       " '__ne__',\n",
       " '__new__',\n",
       " '__next__',\n",
       " '__reduce__',\n",
       " '__reduce_ex__',\n",
       " '__repr__',\n",
       " '__setattr__',\n",
       " '__setstate__',\n",
       " '__sizeof__',\n",
       " '__str__',\n",
       " '__subclasshook__']"
      ]
     },
     "execution_count": 69,
     "metadata": {},
     "output_type": "execute_result"
    }
   ],
   "source": [
    "dir(iterator)"
   ]
  },
  {
   "cell_type": "code",
   "execution_count": 72,
   "id": "8b96f1fc-3382-4e1f-a046-ebb0c369b085",
   "metadata": {},
   "outputs": [],
   "source": [
    "newIterator = iter(l)"
   ]
  },
  {
   "cell_type": "code",
   "execution_count": 73,
   "id": "8c79885b-68dd-4b25-bf4b-f7a612967de4",
   "metadata": {},
   "outputs": [
    {
     "data": {
      "text/plain": [
       "(4366752624, 4366245440)"
      ]
     },
     "execution_count": 73,
     "metadata": {},
     "output_type": "execute_result"
    }
   ],
   "source": [
    "id(newIterator), id(iterator)"
   ]
  },
  {
   "cell_type": "markdown",
   "id": "99f1a328-ee47-40a4-91f2-ff7db844e4d4",
   "metadata": {},
   "source": [
    "# l -> iterable (can be used manytimes) but iterator can be exhausted."
   ]
  },
  {
   "cell_type": "code",
   "execution_count": 74,
   "id": "37a90cd8-9765-4802-832b-655bd9cee841",
   "metadata": {},
   "outputs": [],
   "source": [
    "r = range(0,10)"
   ]
  },
  {
   "cell_type": "code",
   "execution_count": 75,
   "id": "b62bfec3-01fc-46c5-8d13-f78cbba9037e",
   "metadata": {},
   "outputs": [
    {
     "data": {
      "text/plain": [
       "range(0, 10)"
      ]
     },
     "execution_count": 75,
     "metadata": {},
     "output_type": "execute_result"
    }
   ],
   "source": [
    "r"
   ]
  },
  {
   "cell_type": "code",
   "execution_count": 76,
   "id": "b60da4a2-6b82-409b-aec6-7f11ac270221",
   "metadata": {},
   "outputs": [
    {
     "data": {
      "text/plain": [
       "range"
      ]
     },
     "execution_count": 76,
     "metadata": {},
     "output_type": "execute_result"
    }
   ],
   "source": [
    "type(r)"
   ]
  },
  {
   "cell_type": "code",
   "execution_count": 91,
   "id": "5b3ba8ce-12bf-4a3f-8ad3-297cb3910ddc",
   "metadata": {},
   "outputs": [],
   "source": [
    "r_iter = iter(r)"
   ]
  },
  {
   "cell_type": "code",
   "execution_count": 92,
   "id": "96455179-86d0-4144-9e2d-cbd14004ac34",
   "metadata": {},
   "outputs": [
    {
     "data": {
      "text/plain": [
       "range_iterator"
      ]
     },
     "execution_count": 92,
     "metadata": {},
     "output_type": "execute_result"
    }
   ],
   "source": [
    "type(r_iter)"
   ]
  },
  {
   "cell_type": "code",
   "execution_count": 93,
   "id": "99005fbc-168e-476e-85fe-0a24e0226c9c",
   "metadata": {},
   "outputs": [
    {
     "data": {
      "text/plain": [
       "0"
      ]
     },
     "execution_count": 93,
     "metadata": {},
     "output_type": "execute_result"
    }
   ],
   "source": [
    "next(r_iter)"
   ]
  },
  {
   "cell_type": "code",
   "execution_count": 94,
   "id": "cf1e93d0-159c-4891-95b8-9fb68734c626",
   "metadata": {},
   "outputs": [
    {
     "data": {
      "text/plain": [
       "1"
      ]
     },
     "execution_count": 94,
     "metadata": {},
     "output_type": "execute_result"
    }
   ],
   "source": [
    "next(r_iter)"
   ]
  },
  {
   "cell_type": "code",
   "execution_count": 95,
   "id": "ed60d5c4-f620-4d27-bd48-57858c0142a1",
   "metadata": {},
   "outputs": [
    {
     "data": {
      "text/plain": [
       "[2, 3, 4, 5, 6, 7, 8, 9]"
      ]
     },
     "execution_count": 95,
     "metadata": {},
     "output_type": "execute_result"
    }
   ],
   "source": [
    "list(r_iter) # gives only remaning values"
   ]
  },
  {
   "cell_type": "code",
   "execution_count": 96,
   "id": "b5471f93-a5c5-4ae3-9df0-1bf56ee4a7c0",
   "metadata": {},
   "outputs": [],
   "source": [
    "from time import perf_counter"
   ]
  },
  {
   "cell_type": "code",
   "execution_count": 99,
   "id": "d742e309-ced7-44b3-95cb-efdcb6125912",
   "metadata": {},
   "outputs": [
    {
     "name": "stdout",
     "output_type": "stream",
     "text": [
      "time elapsed: 6.595894228667021e-05\n"
     ]
    }
   ],
   "source": [
    "start = perf_counter()\n",
    "l = range(100_000_000)\n",
    "end = perf_counter()\n",
    "print(f'time elapsed: {end - start}')"
   ]
  },
  {
   "cell_type": "code",
   "execution_count": 103,
   "id": "5310b306-e15d-4b65-a0aa-46eac10e6270",
   "metadata": {},
   "outputs": [
    {
     "name": "stdout",
     "output_type": "stream",
     "text": [
      "time elapsed: 1.056868416024372\n"
     ]
    }
   ],
   "source": [
    "start = perf_counter()\n",
    "l = list(range(100_000_000))\n",
    "end = perf_counter()\n",
    "print(f'time elapsed: {end - start}')"
   ]
  },
  {
   "cell_type": "code",
   "execution_count": 104,
   "id": "47e4b2ee-cf84-4bd6-8d2d-2ac24c1253d5",
   "metadata": {},
   "outputs": [],
   "source": [
    "del l # this uses a lotof memeory"
   ]
  },
  {
   "cell_type": "code",
   "execution_count": 105,
   "id": "74efeafd-79d4-4d0d-9ab3-bc7e922967c7",
   "metadata": {},
   "outputs": [],
   "source": [
    "enum = enumerate('abc')"
   ]
  },
  {
   "cell_type": "code",
   "execution_count": 106,
   "id": "eabde66d-ac16-4452-9bb8-0465ed6e6bcd",
   "metadata": {},
   "outputs": [
    {
     "name": "stdout",
     "output_type": "stream",
     "text": [
      "<enumerate object at 0x10925c1d0>\n"
     ]
    }
   ],
   "source": [
    "print(enum)"
   ]
  },
  {
   "cell_type": "code",
   "execution_count": 107,
   "id": "63f4bfe6-7b5f-4f4c-894c-a2fd62cebae6",
   "metadata": {},
   "outputs": [
    {
     "data": {
      "text/plain": [
       "[(0, 'a'), (1, 'b'), (2, 'c')]"
      ]
     },
     "execution_count": 107,
     "metadata": {},
     "output_type": "execute_result"
    }
   ],
   "source": [
    "list(enum)"
   ]
  },
  {
   "cell_type": "code",
   "execution_count": 108,
   "id": "e8ce3814-2c1f-479b-98b1-e40aef405cf6",
   "metadata": {},
   "outputs": [
    {
     "data": {
      "text/plain": [
       "enumerate"
      ]
     },
     "execution_count": 108,
     "metadata": {},
     "output_type": "execute_result"
    }
   ],
   "source": [
    "type(enum)"
   ]
  },
  {
   "cell_type": "code",
   "execution_count": 109,
   "id": "89213130-5147-4581-82bb-113f783209bd",
   "metadata": {},
   "outputs": [
    {
     "data": {
      "text/plain": [
       "[]"
      ]
     },
     "execution_count": 109,
     "metadata": {},
     "output_type": "execute_result"
    }
   ],
   "source": [
    "list(enum)"
   ]
  },
  {
   "cell_type": "markdown",
   "id": "7304b650-595b-4cef-914f-062d6db7b57a",
   "metadata": {},
   "source": [
    "# Generators\n",
    "1. Why read and store entire file in memory when read one line save it to disk and move on.\n",
    "2. If we need to read an iterable until we hit some condition - why compute all of the elements\n",
    "\n",
    "## creating\n",
    "1. generator comprehension\n",
    "2. use `yield` keyword in function instead of `return`"
   ]
  },
  {
   "cell_type": "code",
   "execution_count": 111,
   "id": "260e4b4b-4225-434f-b305-f5af7ecd264e",
   "metadata": {},
   "outputs": [],
   "source": [
    "squares = [i**2 for i in range(5)]"
   ]
  },
  {
   "cell_type": "code",
   "execution_count": 112,
   "id": "6b302973-769c-470c-a05b-146c24abcb14",
   "metadata": {},
   "outputs": [
    {
     "data": {
      "text/plain": [
       "[0, 1, 4, 9, 16]"
      ]
     },
     "execution_count": 112,
     "metadata": {},
     "output_type": "execute_result"
    }
   ],
   "source": [
    "squares"
   ]
  },
  {
   "cell_type": "code",
   "execution_count": 113,
   "id": "6522e817-197e-4e59-9c9a-c56a532bfc90",
   "metadata": {},
   "outputs": [],
   "source": [
    "squares = (i**2 for i in range(5))"
   ]
  },
  {
   "cell_type": "code",
   "execution_count": 114,
   "id": "a7c92174-7928-4241-a404-07b34250ca6f",
   "metadata": {},
   "outputs": [
    {
     "data": {
      "text/plain": [
       "generator"
      ]
     },
     "execution_count": 114,
     "metadata": {},
     "output_type": "execute_result"
    }
   ],
   "source": [
    "type(squares)"
   ]
  },
  {
   "cell_type": "code",
   "execution_count": 115,
   "id": "079081e8-4d17-4848-9c02-7996900b6e5e",
   "metadata": {},
   "outputs": [
    {
     "name": "stdout",
     "output_type": "stream",
     "text": [
      "0\n",
      "1\n",
      "4\n",
      "9\n",
      "16\n"
     ]
    }
   ],
   "source": [
    "for i in squares:\n",
    "    print(i)"
   ]
  },
  {
   "cell_type": "code",
   "execution_count": 117,
   "id": "6498ba1d-7aeb-49e8-b849-36fe44f30bfe",
   "metadata": {},
   "outputs": [],
   "source": [
    "# generator is exhausted now\n",
    "for i in squares:\n",
    "    print(i)"
   ]
  },
  {
   "cell_type": "code",
   "execution_count": 118,
   "id": "5a820c22-8862-4585-89b3-590eb3dd2d0f",
   "metadata": {},
   "outputs": [
    {
     "data": {
      "text/plain": [
       "True"
      ]
     },
     "execution_count": 118,
     "metadata": {},
     "output_type": "execute_result"
    }
   ],
   "source": [
    "iter(squares) is squares"
   ]
  },
  {
   "cell_type": "code",
   "execution_count": 120,
   "id": "2bff2542-8e6e-45c2-92a7-5764784a1050",
   "metadata": {},
   "outputs": [
    {
     "data": {
      "text/plain": [
       "0"
      ]
     },
     "execution_count": 120,
     "metadata": {},
     "output_type": "execute_result"
    }
   ],
   "source": [
    "squares = (i**2 for i in range(5))\n",
    "next(squares)"
   ]
  },
  {
   "cell_type": "code",
   "execution_count": 121,
   "id": "c9922ba1-c66c-4662-be1e-570bb92d02b0",
   "metadata": {},
   "outputs": [
    {
     "data": {
      "text/plain": [
       "False"
      ]
     },
     "execution_count": 121,
     "metadata": {},
     "output_type": "execute_result"
    }
   ],
   "source": [
    "squares = (i**2 for i in range(5))\n",
    "3 in squares"
   ]
  },
  {
   "cell_type": "code",
   "execution_count": 123,
   "id": "c0c23915-2321-41aa-87fa-08c4eaed4333",
   "metadata": {},
   "outputs": [
    {
     "data": {
      "text/plain": [
       "[]"
      ]
     },
     "execution_count": 123,
     "metadata": {},
     "output_type": "execute_result"
    }
   ],
   "source": [
    "list(squares) # empty as its been exhausted"
   ]
  },
  {
   "cell_type": "code",
   "execution_count": 125,
   "id": "3a8a8cd5-ce90-4a4d-919d-e8a076340ee6",
   "metadata": {},
   "outputs": [
    {
     "data": {
      "text/plain": [
       "[9, 16]"
      ]
     },
     "execution_count": 125,
     "metadata": {},
     "output_type": "execute_result"
    }
   ],
   "source": [
    "squares = (i**2 for i in range(5))\n",
    "4 in squares\n",
    "list(squares) # remainder printed after exhausing elements till condition"
   ]
  },
  {
   "cell_type": "code",
   "execution_count": 128,
   "id": "88f1084c-0eed-40ff-a6cc-b48b79a4c623",
   "metadata": {},
   "outputs": [
    {
     "name": "stdout",
     "output_type": "stream",
     "text": [
      "took 11.967678249930032 seconds\n"
     ]
    }
   ],
   "source": [
    "start = perf_counter()\n",
    "[i**2 for i in range(250_000_000)]\n",
    "end = perf_counter()\n",
    "print(f'took {end - start} seconds')"
   ]
  },
  {
   "cell_type": "code",
   "execution_count": 129,
   "id": "4e32fa9d-6587-4013-8ef9-4bfbf173699c",
   "metadata": {},
   "outputs": [
    {
     "name": "stdout",
     "output_type": "stream",
     "text": [
      "took 4.000007174909115e-05 seconds\n"
     ]
    }
   ],
   "source": [
    "start = perf_counter()\n",
    "(i**2 for i in range(250_000_000))\n",
    "end = perf_counter()\n",
    "print(f'took {end - start} seconds')"
   ]
  },
  {
   "cell_type": "markdown",
   "id": "68be54f1-af43-4c98-88f2-5329637ade4f",
   "metadata": {},
   "source": [
    "# Functions"
   ]
  },
  {
   "cell_type": "code",
   "execution_count": 130,
   "id": "7c36a623-5eb8-45a1-91a4-cf3965c494ae",
   "metadata": {},
   "outputs": [],
   "source": [
    "def say_hi():\n",
    "    return 'hello'"
   ]
  },
  {
   "cell_type": "code",
   "execution_count": 135,
   "id": "0e5fd80f-2eb5-448c-b6dd-015b0340134f",
   "metadata": {},
   "outputs": [],
   "source": [
    "def find_max(a,b,c):\n",
    "    print(f'Before: {locals()}')\n",
    "    max_ = a\n",
    "    if b > max_:\n",
    "        max_ = b\n",
    "    if c > max_:\n",
    "        max_ = c\n",
    "    print(f'After: {locals()}')\n",
    "    return max_\n",
    "    "
   ]
  },
  {
   "cell_type": "code",
   "execution_count": 136,
   "id": "e5167976-e116-4671-bf5f-cb3d5cf89e70",
   "metadata": {},
   "outputs": [
    {
     "name": "stdout",
     "output_type": "stream",
     "text": [
      "Before: {'a': 1, 'b': 2, 'c': 3}\n",
      "After: {'a': 1, 'b': 2, 'c': 3, 'max_': 3}\n"
     ]
    },
    {
     "data": {
      "text/plain": [
       "3"
      ]
     },
     "execution_count": 136,
     "metadata": {},
     "output_type": "execute_result"
    }
   ],
   "source": [
    "find_max(1,2,3)"
   ]
  },
  {
   "cell_type": "code",
   "execution_count": 138,
   "id": "544b70f9-b647-4d57-9207-6fc63e6e7231",
   "metadata": {},
   "outputs": [
    {
     "name": "stdout",
     "output_type": "stream",
     "text": [
      "Before: {'a': 10, 'b': 20, 'c': 5}\n",
      "After: {'a': 10, 'b': 20, 'c': 5, 'max_': 20}\n"
     ]
    },
    {
     "data": {
      "text/plain": [
       "20"
      ]
     },
     "execution_count": 138,
     "metadata": {},
     "output_type": "execute_result"
    }
   ],
   "source": [
    "find_max(10,20,5)"
   ]
  },
  {
   "cell_type": "code",
   "execution_count": 139,
   "id": "f0ee3c51-0312-469a-9987-8fd379624366",
   "metadata": {},
   "outputs": [],
   "source": [
    "def my_func(*args):\n",
    "    print(type(args))\n",
    "    print(args)"
   ]
  },
  {
   "cell_type": "code",
   "execution_count": 140,
   "id": "d6d2bf1b-2a2f-4d0a-b5fc-0cc0a29d24e5",
   "metadata": {},
   "outputs": [
    {
     "name": "stdout",
     "output_type": "stream",
     "text": [
      "<class 'tuple'>\n",
      "(1, 2, 3, ['abc', 0])\n"
     ]
    }
   ],
   "source": [
    "my_func(1,2,3,['abc',0])"
   ]
  },
  {
   "cell_type": "code",
   "execution_count": 141,
   "id": "7ef31ab4-365c-4330-a164-d8ed5d3d2449",
   "metadata": {},
   "outputs": [],
   "source": [
    "def my_func(a, b, *args):\n",
    "    print(a)\n",
    "    print(b)\n",
    "    print(args)"
   ]
  },
  {
   "cell_type": "code",
   "execution_count": 142,
   "id": "1767f0b5-f97f-4a04-941b-db9c722235fc",
   "metadata": {},
   "outputs": [
    {
     "name": "stdout",
     "output_type": "stream",
     "text": [
      "2\n",
      "a\n",
      "('bharath', 50)\n"
     ]
    }
   ],
   "source": [
    "my_func(2,'a', 'bharath', 50)"
   ]
  },
  {
   "cell_type": "code",
   "execution_count": 143,
   "id": "624dea92-6cbf-4b63-a655-8a67b1715ab8",
   "metadata": {},
   "outputs": [],
   "source": [
    "def my_func(a, b, *args, c):\n",
    "    print(a)\n",
    "    print(b)\n",
    "    print(args)\n",
    "    print(c)"
   ]
  },
  {
   "cell_type": "code",
   "execution_count": 144,
   "id": "c95af5e6-d04d-4456-90c3-10132d52ca57",
   "metadata": {},
   "outputs": [
    {
     "ename": "TypeError",
     "evalue": "my_func() missing 1 required keyword-only argument: 'c'",
     "output_type": "error",
     "traceback": [
      "\u001b[31m---------------------------------------------------------------------------\u001b[39m",
      "\u001b[31mTypeError\u001b[39m                                 Traceback (most recent call last)",
      "\u001b[36mCell\u001b[39m\u001b[36m \u001b[39m\u001b[32mIn[144]\u001b[39m\u001b[32m, line 1\u001b[39m\n\u001b[32m----> \u001b[39m\u001b[32m1\u001b[39m \u001b[43mmy_func\u001b[49m\u001b[43m(\u001b[49m\u001b[32;43m1\u001b[39;49m\u001b[43m,\u001b[49m\u001b[32;43m2\u001b[39;49m\u001b[43m,\u001b[49m\u001b[32;43m3\u001b[39;49m\u001b[43m,\u001b[49m\u001b[32;43m4\u001b[39;49m\u001b[43m,\u001b[49m\u001b[32;43m5\u001b[39;49m\u001b[43m,\u001b[49m\u001b[32;43m6\u001b[39;49m\u001b[43m,\u001b[49m\u001b[32;43m7\u001b[39;49m\u001b[43m)\u001b[49m\n",
      "\u001b[31mTypeError\u001b[39m: my_func() missing 1 required keyword-only argument: 'c'"
     ]
    }
   ],
   "source": [
    "my_func(1,2,3,4,5,6,7)"
   ]
  },
  {
   "cell_type": "code",
   "execution_count": 145,
   "id": "d63f0e62-0421-4652-bc52-273edd43dcde",
   "metadata": {},
   "outputs": [
    {
     "name": "stdout",
     "output_type": "stream",
     "text": [
      "1\n",
      "2\n",
      "(3, 4, 5, 6)\n",
      "7\n"
     ]
    }
   ],
   "source": [
    "my_func(1,2,3,4,5,6,c=7)"
   ]
  },
  {
   "cell_type": "code",
   "execution_count": 147,
   "id": "f10f3800-8816-4199-a318-027ff6f5b876",
   "metadata": {},
   "outputs": [
    {
     "name": "stdout",
     "output_type": "stream",
     "text": [
      "[1, 2, 3, 4]\n",
      "1 2 3 4\n"
     ]
    }
   ],
   "source": [
    "l = [1,2,3,4]\n",
    "print(l)\n",
    "print(*l)"
   ]
  },
  {
   "cell_type": "code",
   "execution_count": 148,
   "id": "87eeace6-604a-42d2-a59b-dae0f81cd910",
   "metadata": {},
   "outputs": [],
   "source": [
    "def prod_(*values):\n",
    "    product = 1\n",
    "    for val in values:\n",
    "        product *= val\n",
    "    return product"
   ]
  },
  {
   "cell_type": "code",
   "execution_count": 149,
   "id": "7b062942-90c0-4047-b716-17b931a1b0c5",
   "metadata": {},
   "outputs": [
    {
     "data": {
      "text/plain": [
       "[1, 2, 3, 4]"
      ]
     },
     "execution_count": 149,
     "metadata": {},
     "output_type": "execute_result"
    }
   ],
   "source": [
    "prod_(l)"
   ]
  },
  {
   "cell_type": "code",
   "execution_count": 150,
   "id": "00ca2594-729a-48f8-bab1-5c5db8b38fa3",
   "metadata": {},
   "outputs": [
    {
     "data": {
      "text/plain": [
       "24"
      ]
     },
     "execution_count": 150,
     "metadata": {},
     "output_type": "execute_result"
    }
   ],
   "source": [
    "prod_(*l)"
   ]
  },
  {
   "cell_type": "code",
   "execution_count": 153,
   "id": "c0cb45d6-916f-450d-94bc-088a5e49aaef",
   "metadata": {},
   "outputs": [],
   "source": [
    "def fun(a, b, *args, c, d, **kwargs):\n",
    "    print(a)\n",
    "    print(b)\n",
    "    print(args)\n",
    "    print(c)\n",
    "    print(d)\n",
    "    print(kwargs)"
   ]
  },
  {
   "cell_type": "code",
   "execution_count": 154,
   "id": "f3bd5cdf-0e3b-4ac5-9054-91bd22d51338",
   "metadata": {},
   "outputs": [
    {
     "name": "stdout",
     "output_type": "stream",
     "text": [
      "10\n",
      "20\n",
      "(30, 40, 50)\n",
      "1\n",
      "2\n",
      "{'x': 100, 'y': 200}\n"
     ]
    }
   ],
   "source": [
    "fun(10,20,30,40,50, c=1, d=2, x=100, y=200)"
   ]
  },
  {
   "cell_type": "code",
   "execution_count": 156,
   "id": "30694295-ffdb-41e8-a201-838b2815e64b",
   "metadata": {},
   "outputs": [
    {
     "name": "stdout",
     "output_type": "stream",
     "text": [
      "{'a': 10, 'b': 20}\n"
     ]
    }
   ],
   "source": [
    "l = {'a':10,'b':20}\n",
    "print(l)"
   ]
  },
  {
   "cell_type": "code",
   "execution_count": 158,
   "id": "d927fc8d-c94b-41cf-bc98-d16c182df57b",
   "metadata": {},
   "outputs": [
    {
     "data": {
      "text/plain": [
       "dict"
      ]
     },
     "execution_count": 158,
     "metadata": {},
     "output_type": "execute_result"
    }
   ],
   "source": [
    "type(l)"
   ]
  },
  {
   "cell_type": "code",
   "execution_count": 182,
   "id": "918e759a-7df8-43f7-8c00-fbc5584aa062",
   "metadata": {},
   "outputs": [],
   "source": [
    "def to_json(arg1, *args, **extras):\n",
    "    opString = ''\n",
    "    opString += f'{{\"arg1\":{arg1},'\n",
    "    for el in args:\n",
    "        opString+=f'\"{el}\":{el},'\n",
    "    for el in extras:\n",
    "        opString+=f'\"{el}\":{extras[el]},'\n",
    "    opString = opString[:-1]+f'}}'\n",
    "    return opString\n",
    "    "
   ]
  },
  {
   "cell_type": "code",
   "execution_count": 183,
   "id": "338baab2-a4c4-4056-8bfb-8b068ec0a9df",
   "metadata": {},
   "outputs": [
    {
     "data": {
      "text/plain": [
       "'{\"arg1\":1,\"2\":2,\"3\":3,\"4\":4,\"kw1\":5,\"b\":6,\"c\":7,\"d\":8}'"
      ]
     },
     "execution_count": 183,
     "metadata": {},
     "output_type": "execute_result"
    }
   ],
   "source": [
    "to_json(1,2,3,4, kw1=5, b=6, c=7, d=8)"
   ]
  },
  {
   "cell_type": "code",
   "execution_count": 185,
   "id": "018029e6-0626-4791-94f7-ffb983a062c1",
   "metadata": {},
   "outputs": [],
   "source": [
    "def func(a,b, /, *, c,d):\n",
    "    print(a) # a and b are required to be positionals\n",
    "    print(b)\n",
    "    print(c) # c & d are required to be key word args\n",
    "    print(d)"
   ]
  },
  {
   "cell_type": "code",
   "execution_count": 188,
   "id": "6fe084df-1eaf-4d1b-afe3-976031a51c84",
   "metadata": {},
   "outputs": [
    {
     "ename": "TypeError",
     "evalue": "func() got some positional-only arguments passed as keyword arguments: 'a, b'",
     "output_type": "error",
     "traceback": [
      "\u001b[31m---------------------------------------------------------------------------\u001b[39m",
      "\u001b[31mTypeError\u001b[39m                                 Traceback (most recent call last)",
      "\u001b[36mCell\u001b[39m\u001b[36m \u001b[39m\u001b[32mIn[188]\u001b[39m\u001b[32m, line 1\u001b[39m\n\u001b[32m----> \u001b[39m\u001b[32m1\u001b[39m \u001b[43mfunc\u001b[49m\u001b[43m(\u001b[49m\u001b[43ma\u001b[49m\u001b[43m=\u001b[49m\u001b[43m \u001b[49m\u001b[32;43m1\u001b[39;49m\u001b[43m,\u001b[49m\u001b[43mb\u001b[49m\u001b[43m=\u001b[49m\u001b[43m \u001b[49m\u001b[32;43m2\u001b[39;49m\u001b[43m,\u001b[49m\u001b[43mc\u001b[49m\u001b[43m=\u001b[49m\u001b[43m \u001b[49m\u001b[32;43m3\u001b[39;49m\u001b[43m,\u001b[49m\u001b[43m \u001b[49m\u001b[43md\u001b[49m\u001b[43m=\u001b[49m\u001b[32;43m4\u001b[39;49m\u001b[43m \u001b[49m\u001b[43m)\u001b[49m\n",
      "\u001b[31mTypeError\u001b[39m: func() got some positional-only arguments passed as keyword arguments: 'a, b'"
     ]
    }
   ],
   "source": [
    "func(a= 1,b= 2,c= 3, d=4 )"
   ]
  },
  {
   "cell_type": "code",
   "execution_count": 189,
   "id": "e57457ed-8277-40af-a9db-c482be672543",
   "metadata": {},
   "outputs": [
    {
     "ename": "TypeError",
     "evalue": "func() takes 2 positional arguments but 3 positional arguments (and 1 keyword-only argument) were given",
     "output_type": "error",
     "traceback": [
      "\u001b[31m---------------------------------------------------------------------------\u001b[39m",
      "\u001b[31mTypeError\u001b[39m                                 Traceback (most recent call last)",
      "\u001b[36mCell\u001b[39m\u001b[36m \u001b[39m\u001b[32mIn[189]\u001b[39m\u001b[32m, line 1\u001b[39m\n\u001b[32m----> \u001b[39m\u001b[32m1\u001b[39m \u001b[43mfunc\u001b[49m\u001b[43m(\u001b[49m\u001b[32;43m1\u001b[39;49m\u001b[43m,\u001b[49m\u001b[32;43m2\u001b[39;49m\u001b[43m,\u001b[49m\u001b[32;43m3\u001b[39;49m\u001b[43m,\u001b[49m\u001b[43md\u001b[49m\u001b[43m=\u001b[49m\u001b[32;43m4\u001b[39;49m\u001b[43m)\u001b[49m\n",
      "\u001b[31mTypeError\u001b[39m: func() takes 2 positional arguments but 3 positional arguments (and 1 keyword-only argument) were given"
     ]
    }
   ],
   "source": [
    "func(1,2,3,d=4)"
   ]
  },
  {
   "cell_type": "code",
   "execution_count": 190,
   "id": "48cdd43c-1cce-409e-9d82-4725399da643",
   "metadata": {},
   "outputs": [
    {
     "name": "stdout",
     "output_type": "stream",
     "text": [
      "1\n",
      "2\n",
      "3\n",
      "4\n"
     ]
    }
   ],
   "source": [
    "func(1,2,c=3,d=4)"
   ]
  },
  {
   "cell_type": "markdown",
   "id": "9fa59d8b-f4c5-479a-980a-a5f947d8cd2e",
   "metadata": {},
   "source": [
    "# map\n",
    "like a generator, applies a function to all items of an iterable."
   ]
  },
  {
   "cell_type": "code",
   "execution_count": 311,
   "id": "fc900631-98e3-404b-987d-b2113f3515c6",
   "metadata": {},
   "outputs": [],
   "source": [
    "def iseven(item):\n",
    "    if(item%2):\n",
    "        return True\n",
    "    else:\n",
    "        return False"
   ]
  },
  {
   "cell_type": "code",
   "execution_count": 290,
   "id": "d00ef5c0-6ea6-4a3a-af7f-ba086b40d491",
   "metadata": {},
   "outputs": [],
   "source": [
    "l = range(1,10_000_000)"
   ]
  },
  {
   "cell_type": "markdown",
   "id": "13423cf8-f79d-4276-a16e-9fdab85acbe5",
   "metadata": {},
   "source": [
    "### if we want to find first no which is divisible by 7 and 27 then one way"
   ]
  },
  {
   "cell_type": "code",
   "execution_count": 298,
   "id": "4fb44929-6655-4ab1-a383-7c4981d24fd7",
   "metadata": {},
   "outputs": [],
   "source": [
    "iterator = (1 if x%2==0 else 0 for x in l)"
   ]
  },
  {
   "cell_type": "code",
   "execution_count": 299,
   "id": "dfc4bd21-baa0-4874-999c-ad4450f55115",
   "metadata": {},
   "outputs": [
    {
     "data": {
      "text/plain": [
       "generator"
      ]
     },
     "execution_count": 299,
     "metadata": {},
     "output_type": "execute_result"
    }
   ],
   "source": [
    "type(iterator)"
   ]
  },
  {
   "cell_type": "code",
   "execution_count": 300,
   "id": "1513d1c9-d44c-4c40-a552-908570f5e5f1",
   "metadata": {},
   "outputs": [
    {
     "data": {
      "text/plain": [
       "0"
      ]
     },
     "execution_count": 300,
     "metadata": {},
     "output_type": "execute_result"
    }
   ],
   "source": [
    "next(iterator)"
   ]
  },
  {
   "cell_type": "code",
   "execution_count": 301,
   "id": "e810a939-c3c3-43ce-84d4-dd5f9fd2abec",
   "metadata": {},
   "outputs": [
    {
     "data": {
      "text/plain": [
       "1"
      ]
     },
     "execution_count": 301,
     "metadata": {},
     "output_type": "execute_result"
    }
   ],
   "source": [
    "next(iterator)"
   ]
  },
  {
   "cell_type": "code",
   "execution_count": 315,
   "id": "94d8fa27-00f6-4a5f-b768-b9f7e68c949b",
   "metadata": {},
   "outputs": [],
   "source": [
    "m = map(iseven, l)"
   ]
  },
  {
   "cell_type": "code",
   "execution_count": 316,
   "id": "23a0157f-4594-4887-aa3c-dbaa2926c7df",
   "metadata": {},
   "outputs": [
    {
     "data": {
      "text/plain": [
       "map"
      ]
     },
     "execution_count": 316,
     "metadata": {},
     "output_type": "execute_result"
    }
   ],
   "source": [
    "type(m)"
   ]
  },
  {
   "cell_type": "code",
   "execution_count": 317,
   "id": "4a55f0fd-2c78-4fd1-b984-98fa2452cd3e",
   "metadata": {},
   "outputs": [
    {
     "data": {
      "text/plain": [
       "True"
      ]
     },
     "execution_count": 317,
     "metadata": {},
     "output_type": "execute_result"
    }
   ],
   "source": [
    "next(m)"
   ]
  },
  {
   "cell_type": "code",
   "execution_count": 318,
   "id": "a750cd6f-687c-4975-9fbf-f7ef6344670b",
   "metadata": {},
   "outputs": [
    {
     "data": {
      "text/plain": [
       "False"
      ]
     },
     "execution_count": 318,
     "metadata": {},
     "output_type": "execute_result"
    }
   ],
   "source": [
    "next(m)"
   ]
  },
  {
   "cell_type": "markdown",
   "id": "1019a2fb-a71d-4de2-a82c-ec7023b8c335",
   "metadata": {},
   "source": [
    "# Filter"
   ]
  },
  {
   "cell_type": "code",
   "execution_count": 323,
   "id": "249c03f8-ea7c-4792-a2c7-22285e6fe40a",
   "metadata": {},
   "outputs": [
    {
     "name": "stdout",
     "output_type": "stream",
     "text": [
      "Time Elapsed: 3.5161358329933137 sec\n",
      "[12215009, 24430018, 36645027, 48860036, 61075045, 73290054, 85505063, 97720072]\n"
     ]
    }
   ],
   "source": [
    "start= perf_counter()\n",
    "l = [x for x in range(1, 100_000_000) if x%3491==0 and x%3499==0]\n",
    "end = perf_counter()\n",
    "print(f'Time Elapsed: {end - start} sec')\n",
    "print(l)"
   ]
  },
  {
   "cell_type": "code",
   "execution_count": 324,
   "id": "86a3dcb0-24a4-42e7-b282-2019e2046a85",
   "metadata": {},
   "outputs": [],
   "source": [
    "def func(x):\n",
    "    if(x%3491==0 and x%3499==0):\n",
    "        return True\n",
    "    else:\n",
    "        return False"
   ]
  },
  {
   "cell_type": "code",
   "execution_count": 325,
   "id": "d6c4b4e8-2803-43ce-9d08-932c687bfbe1",
   "metadata": {},
   "outputs": [
    {
     "name": "stdout",
     "output_type": "stream",
     "text": [
      "Time Elapsed: 7.60830007493496e-05 sec\n",
      "<filter object at 0x1094f23b0>\n"
     ]
    }
   ],
   "source": [
    "start= perf_counter()\n",
    "l = filter(func,range(1,100_000_000))\n",
    "end = perf_counter()\n",
    "print(f'Time Elapsed: {end - start} sec')\n",
    "print(l)"
   ]
  },
  {
   "cell_type": "code",
   "execution_count": 326,
   "id": "08b490b0-fcc8-4d3a-a1aa-ee71f2a6c3c4",
   "metadata": {},
   "outputs": [
    {
     "data": {
      "text/plain": [
       "12215009"
      ]
     },
     "execution_count": 326,
     "metadata": {},
     "output_type": "execute_result"
    }
   ],
   "source": [
    "next(l)"
   ]
  },
  {
   "cell_type": "code",
   "execution_count": 327,
   "id": "e3f7235c-0908-44b1-b957-9eb518e6973d",
   "metadata": {},
   "outputs": [
    {
     "data": {
      "text/plain": [
       "24430018"
      ]
     },
     "execution_count": 327,
     "metadata": {},
     "output_type": "execute_result"
    }
   ],
   "source": [
    "next(l)"
   ]
  },
  {
   "cell_type": "markdown",
   "id": "ba7a3880-67ea-44d7-bb11-6aa623a87bb8",
   "metadata": {},
   "source": [
    "# Sorting"
   ]
  },
  {
   "cell_type": "code",
   "execution_count": 330,
   "id": "8a04ce7a-fd64-41c6-877f-1ac4191ad726",
   "metadata": {},
   "outputs": [],
   "source": [
    "data = [\n",
    "    {\"tick\": 'MSFTT', \"open\": 100, \"close\": 150},\n",
    "    {\"tick\": 'GOOG', \"open\": 200, \"close\": 210},\n",
    "    {\"tick\": 'OAI', \"open\": 300, \"close\": 140},\n",
    "]"
   ]
  },
  {
   "cell_type": "code",
   "execution_count": 341,
   "id": "00eea8c6-4f57-412e-8249-b57bc7f573a9",
   "metadata": {},
   "outputs": [
    {
     "data": {
      "text/plain": [
       "[{'tick': 'OAI', 'open': 300, 'close': 140},\n",
       " {'tick': 'GOOG', 'open': 200, 'close': 210},\n",
       " {'tick': 'MSFTT', 'open': 100, 'close': 150}]"
      ]
     },
     "execution_count": 341,
     "metadata": {},
     "output_type": "execute_result"
    }
   ],
   "source": [
    "sorted(data, key=lambda x: len(x['tick']))"
   ]
  },
  {
   "cell_type": "code",
   "execution_count": 337,
   "id": "1afee893-7d60-400e-b26e-9e8ba4df3bb3",
   "metadata": {},
   "outputs": [
    {
     "data": {
      "text/plain": [
       "[{'tick': 'OAI', 'open': 300, 'close': 140},\n",
       " {'tick': 'MSFTT', 'open': 100, 'close': 150},\n",
       " {'tick': 'GOOG', 'open': 200, 'close': 210}]"
      ]
     },
     "execution_count": 337,
     "metadata": {},
     "output_type": "execute_result"
    }
   ],
   "source": [
    "sorted(data, key=lambda x: abs(x['open']-x['close'])/x['open'], reverse=True)"
   ]
  },
  {
   "cell_type": "code",
   "execution_count": 344,
   "id": "37c98e35-1438-4bc2-9f72-17c4237f8791",
   "metadata": {},
   "outputs": [
    {
     "data": {
      "text/plain": [
       "{'tick': 'GOOG', 'open': 200, 'close': 210}"
      ]
     },
     "execution_count": 344,
     "metadata": {},
     "output_type": "execute_result"
    }
   ],
   "source": [
    "max(data, key=lambda x: x['close'])"
   ]
  },
  {
   "cell_type": "code",
   "execution_count": 343,
   "id": "d3054089-3714-4b58-8138-fec52275873a",
   "metadata": {},
   "outputs": [
    {
     "data": {
      "text/plain": [
       "{'tick': 'OAI', 'open': 300, 'close': 140}"
      ]
     },
     "execution_count": 343,
     "metadata": {},
     "output_type": "execute_result"
    }
   ],
   "source": [
    "min(data, key=lambda x: x['close'])"
   ]
  },
  {
   "cell_type": "markdown",
   "id": "d768b858-b80a-47b7-99e4-e8a43a7f85dc",
   "metadata": {},
   "source": [
    "# Decorators"
   ]
  },
  {
   "cell_type": "code",
   "execution_count": 348,
   "id": "45f1bc30-f169-4e05-ae72-6fc7b3b5b394",
   "metadata": {},
   "outputs": [],
   "source": [
    "def wrapper(func):\n",
    "    def inner(*args, **kwargs):\n",
    "        result = func(*args, **kwargs)\n",
    "        return result\n",
    "    return inner"
   ]
  },
  {
   "cell_type": "code",
   "execution_count": 371,
   "id": "eafc5916-0d60-48a9-a036-4e0fb31b3a18",
   "metadata": {},
   "outputs": [],
   "source": [
    "def add(a,b,c):\n",
    "    return a+b+c\n",
    "\n",
    "def greet(name):\n",
    "    return f'Hello {name}'"
   ]
  },
  {
   "cell_type": "code",
   "execution_count": 372,
   "id": "104f59b8-12b3-4fbf-b191-e4baeb96bebd",
   "metadata": {},
   "outputs": [
    {
     "name": "stdout",
     "output_type": "stream",
     "text": [
      "6\n",
      "Hello Bharath\n"
     ]
    }
   ],
   "source": [
    "add_wrapped = wrapper(add)\n",
    "greet_wrapped = wrapper(greet)\n",
    "\n",
    "print(add_wrapped(1,2,3))\n",
    "print(greet_wrapped('Bharath'))"
   ]
  },
  {
   "cell_type": "code",
   "execution_count": 373,
   "id": "cefcb873-3796-4b76-978b-485b7a542cd7",
   "metadata": {},
   "outputs": [],
   "source": [
    "def log(func):\n",
    "    def inner(*args, **kwargs):\n",
    "        result = func(*args, **kwargs)\n",
    "        print(f'{func.__name__} called...')\n",
    "        return result\n",
    "    return inner"
   ]
  },
  {
   "cell_type": "code",
   "execution_count": 374,
   "id": "9a81fce2-8d24-40ea-8f5c-6f5cdc34364c",
   "metadata": {},
   "outputs": [
    {
     "name": "stdout",
     "output_type": "stream",
     "text": [
      "add called...\n"
     ]
    },
    {
     "data": {
      "text/plain": [
       "6"
      ]
     },
     "execution_count": 374,
     "metadata": {},
     "output_type": "execute_result"
    }
   ],
   "source": [
    "add_logged = log(add)\n",
    "add_logged(1,2,3)"
   ]
  },
  {
   "cell_type": "code",
   "execution_count": 375,
   "id": "cf8e1780-b405-48bf-a19b-f3e850734833",
   "metadata": {},
   "outputs": [
    {
     "name": "stdout",
     "output_type": "stream",
     "text": [
      "greet called...\n"
     ]
    },
    {
     "data": {
      "text/plain": [
       "'Hello bharath'"
      ]
     },
     "execution_count": 375,
     "metadata": {},
     "output_type": "execute_result"
    }
   ],
   "source": [
    "greet_logged = log(greet)\n",
    "greet_logged('bharath')"
   ]
  },
  {
   "cell_type": "code",
   "execution_count": 376,
   "id": "b2748420-33f5-40d5-97d5-43dd3225a3e7",
   "metadata": {},
   "outputs": [
    {
     "name": "stdout",
     "output_type": "stream",
     "text": [
      "0x4b1590720\n",
      "0x4b1590540\n"
     ]
    }
   ],
   "source": [
    "print(hex(id(add)))\n",
    "add = log(add)\n",
    "print(hex(id(add)))"
   ]
  },
  {
   "cell_type": "code",
   "execution_count": 382,
   "id": "fce4b4fd-4ecb-4d09-8c30-170031fe6985",
   "metadata": {},
   "outputs": [
    {
     "name": "stdout",
     "output_type": "stream",
     "text": [
      "(<cell at 0x1094a7af0: function object at 0x4b1590720>,)\n"
     ]
    }
   ],
   "source": [
    "# new add has a closure to original add function\n",
    "print(add.__closure__) "
   ]
  },
  {
   "cell_type": "code",
   "execution_count": 383,
   "id": "c6319640-f275-41ac-9993-2d10fc197b22",
   "metadata": {},
   "outputs": [
    {
     "name": "stdout",
     "output_type": "stream",
     "text": [
      "add called...\n"
     ]
    },
    {
     "data": {
      "text/plain": [
       "6"
      ]
     },
     "execution_count": 383,
     "metadata": {},
     "output_type": "execute_result"
    }
   ],
   "source": [
    "add(1,2,3)"
   ]
  },
  {
   "cell_type": "markdown",
   "id": "bce8b891-fd5a-4415-9103-060192fb0242",
   "metadata": {},
   "source": [
    "## easier way to do this "
   ]
  },
  {
   "cell_type": "code",
   "execution_count": 386,
   "id": "3059fce7-a3ef-4564-8bf8-bd239f239023",
   "metadata": {},
   "outputs": [],
   "source": [
    "def log(func):\n",
    "    def inner(*args, **kwargs):\n",
    "        result = func(*args, **kwargs)\n",
    "        print(f'decorated {func.__name__} called...')\n",
    "        return result\n",
    "    return inner"
   ]
  },
  {
   "cell_type": "code",
   "execution_count": 387,
   "id": "5c517110-1c57-45dc-a0d7-bcce86566af4",
   "metadata": {},
   "outputs": [],
   "source": [
    "@log\n",
    "def add(a,b,c):\n",
    "    return a+b+c\n",
    "\n",
    "@log\n",
    "def greet(name):\n",
    "    return f'Hello {name}'"
   ]
  },
  {
   "cell_type": "code",
   "execution_count": 388,
   "id": "adb97947-605b-4dec-ae56-4b91607c1bc9",
   "metadata": {},
   "outputs": [
    {
     "name": "stdout",
     "output_type": "stream",
     "text": [
      "decorated add called...\n"
     ]
    },
    {
     "data": {
      "text/plain": [
       "6"
      ]
     },
     "execution_count": 388,
     "metadata": {},
     "output_type": "execute_result"
    }
   ],
   "source": [
    "add(1,2,3)"
   ]
  },
  {
   "cell_type": "code",
   "execution_count": 389,
   "id": "ea082b11-c8a2-42a5-81ea-e7d85a54a1a4",
   "metadata": {},
   "outputs": [
    {
     "name": "stdout",
     "output_type": "stream",
     "text": [
      "decorated greet called...\n"
     ]
    },
    {
     "data": {
      "text/plain": [
       "'Hello bharath'"
      ]
     },
     "execution_count": 389,
     "metadata": {},
     "output_type": "execute_result"
    }
   ],
   "source": [
    "greet('bharath')"
   ]
  },
  {
   "cell_type": "code",
   "execution_count": 390,
   "id": "e4828780-3148-40b6-b16d-f388052f3bde",
   "metadata": {},
   "outputs": [],
   "source": [
    "import logging"
   ]
  },
  {
   "cell_type": "code",
   "execution_count": 391,
   "id": "a5bcc3a5-ccc7-46ba-99e5-146dbdf06638",
   "metadata": {},
   "outputs": [],
   "source": [
    "logging.basicConfig(\n",
    "    format='%(asctime)s %(levelname)s: %(message)s',\n",
    "    level=logging.DEBUG\n",
    ")"
   ]
  },
  {
   "cell_type": "code",
   "execution_count": 392,
   "id": "011aeb01-9d2c-4746-94fa-a0f310566a6d",
   "metadata": {},
   "outputs": [],
   "source": [
    "logger = logging.getLogger('Custom Log')"
   ]
  },
  {
   "cell_type": "code",
   "execution_count": 393,
   "id": "2cbdd3ef-d066-40e7-a59c-ff107d23742b",
   "metadata": {},
   "outputs": [
    {
     "name": "stderr",
     "output_type": "stream",
     "text": [
      "2025-06-14 14:36:37,694 DEBUG: test debug message\n"
     ]
    }
   ],
   "source": [
    "logger.debug('test debug message')"
   ]
  },
  {
   "cell_type": "code",
   "execution_count": 394,
   "id": "ea357c16-a547-418d-9c65-f808872a670f",
   "metadata": {},
   "outputs": [
    {
     "name": "stderr",
     "output_type": "stream",
     "text": [
      "2025-06-14 14:36:46,328 ERROR: some error\n"
     ]
    }
   ],
   "source": [
    "logger.error('some error')"
   ]
  },
  {
   "cell_type": "code",
   "execution_count": 395,
   "id": "60be7d53-fb3a-4821-8b79-2dd20b9aa220",
   "metadata": {},
   "outputs": [
    {
     "name": "stderr",
     "output_type": "stream",
     "text": [
      "2025-06-14 14:37:00,111 WARNING: warning message\n"
     ]
    }
   ],
   "source": [
    "logger.warning('warning message')"
   ]
  },
  {
   "cell_type": "code",
   "execution_count": 404,
   "id": "c46d218e-7afb-48ac-8f68-75a1509c6925",
   "metadata": {},
   "outputs": [],
   "source": [
    "def log(func):\n",
    "    def inner(*args, **kwargs):\n",
    "        start = perf_counter()\n",
    "        result =  func(*args, **kwargs)\n",
    "        end = perf_counter()\n",
    "        logger.info(f'called: {func.__name__}, execution time: {end-start}s')\n",
    "        return result\n",
    "    return inner"
   ]
  },
  {
   "cell_type": "code",
   "execution_count": 405,
   "id": "e998b118-60ea-46ea-8084-701fd474edaf",
   "metadata": {},
   "outputs": [],
   "source": [
    "@log\n",
    "def add(*args):\n",
    "    return sum(args)"
   ]
  },
  {
   "cell_type": "code",
   "execution_count": 406,
   "id": "c8a894b7-6a6e-479b-97f8-15a10f1ae017",
   "metadata": {},
   "outputs": [
    {
     "name": "stderr",
     "output_type": "stream",
     "text": [
      "2025-06-14 14:40:24,196 INFO: called: add, execution time: 2.9170187190175056e-06s\n"
     ]
    },
    {
     "data": {
      "text/plain": [
       "6"
      ]
     },
     "execution_count": 406,
     "metadata": {},
     "output_type": "execute_result"
    }
   ],
   "source": [
    "add(1,2,3)"
   ]
  },
  {
   "cell_type": "markdown",
   "id": "3e2cf897-e1e3-4148-be3a-c4eba1a1778e",
   "metadata": {},
   "source": [
    "# LRU cache <- one of uses of decorator"
   ]
  },
  {
   "cell_type": "code",
   "execution_count": 446,
   "id": "fab9e220-1523-44f9-8fad-884e2b7a7a33",
   "metadata": {},
   "outputs": [],
   "source": [
    "def fib(n):\n",
    "    if n<=1:\n",
    "        return n\n",
    "    return fib(n-1) + fib(n-2)"
   ]
  },
  {
   "cell_type": "code",
   "execution_count": 450,
   "id": "a0c42818-32f9-4caf-9ee5-401209d1d455",
   "metadata": {},
   "outputs": [
    {
     "name": "stdout",
     "output_type": "stream",
     "text": [
      "time: 12.987471374915913s\n",
      "102334155\n"
     ]
    }
   ],
   "source": [
    "start = perf_counter()\n",
    "res = fib(40)\n",
    "end = perf_counter()\n",
    "print(f'time: {end-start}s')\n",
    "print(res)"
   ]
  },
  {
   "cell_type": "code",
   "execution_count": 453,
   "id": "2248e6ef-8101-4fef-ad16-66482b4e4c4a",
   "metadata": {},
   "outputs": [],
   "source": [
    "def cache(func):\n",
    "    cache_dic = {}\n",
    "    def inner(*args):\n",
    "        if args in cache_dic:\n",
    "            return cache_dic[args]\n",
    "        else:\n",
    "            result = func(*args)\n",
    "            cache_dic[args] = result\n",
    "        return result\n",
    "    return inner\n",
    "\n",
    "@cache    \n",
    "def fib(n):\n",
    "    if n<=1:\n",
    "        return n\n",
    "    return fib(n-1) + fib(n-2)"
   ]
  },
  {
   "cell_type": "code",
   "execution_count": 454,
   "id": "313db3e3-b08a-40b9-8e6c-63d29a9299ae",
   "metadata": {},
   "outputs": [
    {
     "name": "stdout",
     "output_type": "stream",
     "text": [
      "time: 0.00010158296208828688s\n",
      "102334155\n"
     ]
    }
   ],
   "source": [
    "start = perf_counter()\n",
    "res = fib(40)\n",
    "end = perf_counter()\n",
    "print(f'time: {end-start}s')\n",
    "print(res)"
   ]
  },
  {
   "cell_type": "code",
   "execution_count": 459,
   "id": "1e0feda9-34d9-455f-8926-3f3bc294193e",
   "metadata": {},
   "outputs": [],
   "source": [
    "from functools import lru_cache\n",
    "\n",
    "@lru_cache(maxsize = 100)\n",
    "def fib(n):\n",
    "    if n<=1:\n",
    "        return n\n",
    "    return fib(n-1) + fib(n-2)"
   ]
  },
  {
   "cell_type": "code",
   "execution_count": 460,
   "id": "1e695ab5-2060-4ba5-9045-1e6ef1802b5c",
   "metadata": {},
   "outputs": [
    {
     "name": "stdout",
     "output_type": "stream",
     "text": [
      "time: 9.216694161295891e-05s\n",
      "102334155\n"
     ]
    }
   ],
   "source": [
    "start = perf_counter()\n",
    "res = fib(40)\n",
    "end = perf_counter()\n",
    "print(f'time: {end-start}s')\n",
    "print(res)"
   ]
  },
  {
   "cell_type": "code",
   "execution_count": null,
   "id": "44f3530d-6600-4d1f-8c36-e03dfb63ef2f",
   "metadata": {},
   "outputs": [],
   "source": []
  }
 ],
 "metadata": {
  "kernelspec": {
   "display_name": "Python 3 (ipykernel)",
   "language": "python",
   "name": "python3"
  },
  "language_info": {
   "codemirror_mode": {
    "name": "ipython",
    "version": 3
   },
   "file_extension": ".py",
   "mimetype": "text/x-python",
   "name": "python",
   "nbconvert_exporter": "python",
   "pygments_lexer": "ipython3",
   "version": "3.13.2"
  }
 },
 "nbformat": 4,
 "nbformat_minor": 5
}
