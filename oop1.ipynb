{
 "cells": [
  {
   "cell_type": "markdown",
   "id": "2dca39c1-ace7-4a47-9dbe-376b4f778900",
   "metadata": {},
   "source": [
    "# Objects and Classes"
   ]
  },
  {
   "cell_type": "code",
   "execution_count": 1,
   "id": "bf961c8a-069c-4565-a325-eeccd4a53ff0",
   "metadata": {},
   "outputs": [],
   "source": [
    "class Person:\n",
    "    pass"
   ]
  },
  {
   "cell_type": "code",
   "execution_count": 2,
   "id": "fe769f73-6a23-4a77-a568-5feb205885e0",
   "metadata": {},
   "outputs": [
    {
     "data": {
      "text/plain": [
       "type"
      ]
     },
     "execution_count": 2,
     "metadata": {},
     "output_type": "execute_result"
    }
   ],
   "source": [
    "type(Person)"
   ]
  },
  {
   "cell_type": "code",
   "execution_count": 3,
   "id": "3c19f20a-282d-40b2-b175-16d2b17a5f29",
   "metadata": {},
   "outputs": [
    {
     "data": {
      "text/plain": [
       "type"
      ]
     },
     "execution_count": 3,
     "metadata": {},
     "output_type": "execute_result"
    }
   ],
   "source": [
    "type(type)"
   ]
  },
  {
   "cell_type": "code",
   "execution_count": 4,
   "id": "33643443-74ba-4b23-9400-c942db183474",
   "metadata": {},
   "outputs": [
    {
     "data": {
      "text/plain": [
       "'Person'"
      ]
     },
     "execution_count": 4,
     "metadata": {},
     "output_type": "execute_result"
    }
   ],
   "source": [
    "Person.__name__"
   ]
  },
  {
   "cell_type": "code",
   "execution_count": 5,
   "id": "8e85d15b-8c7b-43b4-9560-92863970c811",
   "metadata": {},
   "outputs": [],
   "source": [
    "p = Person()"
   ]
  },
  {
   "cell_type": "code",
   "execution_count": 6,
   "id": "8c07cc52-639d-40d5-9ac4-0682b6969a07",
   "metadata": {},
   "outputs": [
    {
     "data": {
      "text/plain": [
       "__main__.Person"
      ]
     },
     "execution_count": 6,
     "metadata": {},
     "output_type": "execute_result"
    }
   ],
   "source": [
    "type(p)"
   ]
  },
  {
   "cell_type": "code",
   "execution_count": 8,
   "id": "9618b0cc-877d-4640-8479-0b4499fd7917",
   "metadata": {},
   "outputs": [
    {
     "data": {
      "text/plain": [
       "'Person'"
      ]
     },
     "execution_count": 8,
     "metadata": {},
     "output_type": "execute_result"
    }
   ],
   "source": [
    "p.__class__.__name__"
   ]
  },
  {
   "cell_type": "code",
   "execution_count": 9,
   "id": "45eb59e7-3320-4627-8764-6f7371103f7d",
   "metadata": {},
   "outputs": [
    {
     "data": {
      "text/plain": [
       "True"
      ]
     },
     "execution_count": 9,
     "metadata": {},
     "output_type": "execute_result"
    }
   ],
   "source": [
    "isinstance(p, Person)"
   ]
  },
  {
   "cell_type": "markdown",
   "id": "0b0042d6-9598-4b3a-a9a1-3b9714398068",
   "metadata": {},
   "source": [
    "# Class Attributes (not instance atributes)"
   ]
  },
  {
   "cell_type": "code",
   "execution_count": 31,
   "id": "1352a532-553b-4bb7-bd80-e45992d0948e",
   "metadata": {},
   "outputs": [],
   "source": [
    "class MyClass:\n",
    "    language = 'Python'\n",
    "    version = 3.14"
   ]
  },
  {
   "cell_type": "code",
   "execution_count": 32,
   "id": "e611811f-74a9-4ba6-9af8-cc4e6d747137",
   "metadata": {},
   "outputs": [
    {
     "data": {
      "text/plain": [
       "'Python'"
      ]
     },
     "execution_count": 32,
     "metadata": {},
     "output_type": "execute_result"
    }
   ],
   "source": [
    "getattr(MyClass, 'language')"
   ]
  },
  {
   "cell_type": "code",
   "execution_count": 33,
   "id": "4648e053-bea9-415f-a2f1-18b339f11634",
   "metadata": {},
   "outputs": [
    {
     "data": {
      "text/plain": [
       "'DefaultValue'"
      ]
     },
     "execution_count": 33,
     "metadata": {},
     "output_type": "execute_result"
    }
   ],
   "source": [
    "getattr(MyClass, 'doesntExit', 'DefaultValue')"
   ]
  },
  {
   "cell_type": "code",
   "execution_count": 34,
   "id": "ded109d6-38e9-417d-aacb-347a18892c58",
   "metadata": {},
   "outputs": [
    {
     "data": {
      "text/plain": [
       "3.14"
      ]
     },
     "execution_count": 34,
     "metadata": {},
     "output_type": "execute_result"
    }
   ],
   "source": [
    "MyClass.version"
   ]
  },
  {
   "cell_type": "code",
   "execution_count": 35,
   "id": "df5e508c-6b7d-4ab7-a491-7147e6020c20",
   "metadata": {},
   "outputs": [
    {
     "ename": "AttributeError",
     "evalue": "type object 'MyClass' has no attribute 'doesntExist'",
     "output_type": "error",
     "traceback": [
      "\u001b[31m---------------------------------------------------------------------------\u001b[39m",
      "\u001b[31mAttributeError\u001b[39m                            Traceback (most recent call last)",
      "\u001b[36mCell\u001b[39m\u001b[36m \u001b[39m\u001b[32mIn[35]\u001b[39m\u001b[32m, line 1\u001b[39m\n\u001b[32m----> \u001b[39m\u001b[32m1\u001b[39m \u001b[43mMyClass\u001b[49m\u001b[43m.\u001b[49m\u001b[43mdoesntExist\u001b[49m\n",
      "\u001b[31mAttributeError\u001b[39m: type object 'MyClass' has no attribute 'doesntExist'"
     ]
    }
   ],
   "source": [
    "MyClass.doesntExist"
   ]
  },
  {
   "cell_type": "code",
   "execution_count": 36,
   "id": "7cf37230-a5d4-4030-961a-ec9c992b3a5b",
   "metadata": {},
   "outputs": [],
   "source": [
    "setattr(MyClass, 'linter', 'Ruff')"
   ]
  },
  {
   "cell_type": "code",
   "execution_count": 37,
   "id": "be4e0140-c2ad-464a-a5e5-2c1fc55cd624",
   "metadata": {},
   "outputs": [
    {
     "data": {
      "text/plain": [
       "'Ruff'"
      ]
     },
     "execution_count": 37,
     "metadata": {},
     "output_type": "execute_result"
    }
   ],
   "source": [
    "getattr(MyClass, 'linter')"
   ]
  },
  {
   "cell_type": "code",
   "execution_count": 38,
   "id": "83fdeba2-476a-43fc-be09-1049aaec3b2d",
   "metadata": {},
   "outputs": [
    {
     "data": {
      "text/plain": [
       "['__class__',\n",
       " '__delattr__',\n",
       " '__dict__',\n",
       " '__dir__',\n",
       " '__doc__',\n",
       " '__eq__',\n",
       " '__firstlineno__',\n",
       " '__format__',\n",
       " '__ge__',\n",
       " '__getattribute__',\n",
       " '__getstate__',\n",
       " '__gt__',\n",
       " '__hash__',\n",
       " '__init__',\n",
       " '__init_subclass__',\n",
       " '__le__',\n",
       " '__lt__',\n",
       " '__module__',\n",
       " '__ne__',\n",
       " '__new__',\n",
       " '__reduce__',\n",
       " '__reduce_ex__',\n",
       " '__repr__',\n",
       " '__setattr__',\n",
       " '__sizeof__',\n",
       " '__static_attributes__',\n",
       " '__str__',\n",
       " '__subclasshook__',\n",
       " '__weakref__',\n",
       " 'language',\n",
       " 'linter',\n",
       " 'version']"
      ]
     },
     "execution_count": 38,
     "metadata": {},
     "output_type": "execute_result"
    }
   ],
   "source": [
    "dir(MyClass)"
   ]
  },
  {
   "cell_type": "code",
   "execution_count": 39,
   "id": "c6758f25-1083-4f03-8361-2140ff0198c2",
   "metadata": {},
   "outputs": [
    {
     "data": {
      "text/plain": [
       "mappingproxy({'__module__': '__main__',\n",
       "              '__firstlineno__': 1,\n",
       "              'language': 'Python',\n",
       "              'version': 3.14,\n",
       "              '__static_attributes__': (),\n",
       "              '__dict__': <attribute '__dict__' of 'MyClass' objects>,\n",
       "              '__weakref__': <attribute '__weakref__' of 'MyClass' objects>,\n",
       "              '__doc__': None,\n",
       "              'linter': 'Ruff'})"
      ]
     },
     "execution_count": 39,
     "metadata": {},
     "output_type": "execute_result"
    }
   ],
   "source": [
    "# READ only dictionary where the state of class is stored\n",
    "MyClass.__dict__"
   ]
  },
  {
   "cell_type": "code",
   "execution_count": 40,
   "id": "e98cc742-f654-4c10-8d89-6e4a8ad26e1c",
   "metadata": {},
   "outputs": [],
   "source": [
    "delattr(MyClass, 'linter')"
   ]
  },
  {
   "cell_type": "code",
   "execution_count": 41,
   "id": "add6f77a-0f94-4931-bef3-b2dd977ee3b1",
   "metadata": {},
   "outputs": [
    {
     "ename": "AttributeError",
     "evalue": "type object 'MyClass' has no attribute 'linter'",
     "output_type": "error",
     "traceback": [
      "\u001b[31m---------------------------------------------------------------------------\u001b[39m",
      "\u001b[31mAttributeError\u001b[39m                            Traceback (most recent call last)",
      "\u001b[36mCell\u001b[39m\u001b[36m \u001b[39m\u001b[32mIn[41]\u001b[39m\u001b[32m, line 1\u001b[39m\n\u001b[32m----> \u001b[39m\u001b[32m1\u001b[39m \u001b[43mMyClass\u001b[49m\u001b[43m.\u001b[49m\u001b[43mlinter\u001b[49m\n",
      "\u001b[31mAttributeError\u001b[39m: type object 'MyClass' has no attribute 'linter'"
     ]
    }
   ],
   "source": [
    "MyClass.linter"
   ]
  },
  {
   "cell_type": "code",
   "execution_count": 42,
   "id": "593f1674-3b2e-4c96-8b49-89c0cd6f3860",
   "metadata": {},
   "outputs": [],
   "source": [
    "del MyClass.version"
   ]
  },
  {
   "cell_type": "code",
   "execution_count": 43,
   "id": "f6012eb5-214b-450a-9a84-29c98a13f4d9",
   "metadata": {},
   "outputs": [
    {
     "data": {
      "text/plain": [
       "mappingproxy({'__module__': '__main__',\n",
       "              '__firstlineno__': 1,\n",
       "              'language': 'Python',\n",
       "              '__static_attributes__': (),\n",
       "              '__dict__': <attribute '__dict__' of 'MyClass' objects>,\n",
       "              '__weakref__': <attribute '__weakref__' of 'MyClass' objects>,\n",
       "              '__doc__': None})"
      ]
     },
     "execution_count": 43,
     "metadata": {},
     "output_type": "execute_result"
    }
   ],
   "source": [
    "MyClass.__dict__"
   ]
  },
  {
   "cell_type": "markdown",
   "id": "53a72a76-c50b-4863-8698-feb30362019c",
   "metadata": {},
   "source": [
    "# class attributes can be callables as well"
   ]
  },
  {
   "cell_type": "code",
   "execution_count": 50,
   "id": "7aab4f4d-25ac-460b-80b0-727e2d0d5574",
   "metadata": {},
   "outputs": [],
   "source": [
    "class Program:\n",
    "    language = 'Python'\n",
    "\n",
    "    def say_hello():\n",
    "        print(f'Hello from {Program.language}')"
   ]
  },
  {
   "cell_type": "code",
   "execution_count": 51,
   "id": "497e1319-151e-457f-9efb-d81d9b487fc2",
   "metadata": {},
   "outputs": [
    {
     "data": {
      "text/plain": [
       "mappingproxy({'__module__': '__main__',\n",
       "              '__firstlineno__': 1,\n",
       "              'language': 'Python',\n",
       "              'say_hello': <function __main__.Program.say_hello()>,\n",
       "              '__static_attributes__': (),\n",
       "              '__dict__': <attribute '__dict__' of 'Program' objects>,\n",
       "              '__weakref__': <attribute '__weakref__' of 'Program' objects>,\n",
       "              '__doc__': None})"
      ]
     },
     "execution_count": 51,
     "metadata": {},
     "output_type": "execute_result"
    }
   ],
   "source": [
    "Program.__dict__"
   ]
  },
  {
   "cell_type": "code",
   "execution_count": 52,
   "id": "219b671f-8e64-4d97-9707-10579e237001",
   "metadata": {},
   "outputs": [
    {
     "name": "stdout",
     "output_type": "stream",
     "text": [
      "Hello from Python\n"
     ]
    }
   ],
   "source": [
    "Program.say_hello()"
   ]
  },
  {
   "cell_type": "code",
   "execution_count": 53,
   "id": "079afb5e-d301-4b24-bd6e-f79e36e9424e",
   "metadata": {},
   "outputs": [],
   "source": [
    "p = Program()"
   ]
  },
  {
   "cell_type": "code",
   "execution_count": 54,
   "id": "a7754154-1fdb-45f0-a372-96bb3e7a8a87",
   "metadata": {},
   "outputs": [
    {
     "data": {
      "text/plain": [
       "{}"
      ]
     },
     "execution_count": 54,
     "metadata": {},
     "output_type": "execute_result"
    }
   ],
   "source": [
    "p.__dict__"
   ]
  },
  {
   "cell_type": "code",
   "execution_count": 59,
   "id": "4e69606f-398e-4e3d-af62-7e38de1f6964",
   "metadata": {},
   "outputs": [
    {
     "data": {
      "text/plain": [
       "mappingproxy({'__module__': '__main__',\n",
       "              '__firstlineno__': 1,\n",
       "              'language': 'Python',\n",
       "              'say_hello': <function __main__.Program.say_hello()>,\n",
       "              '__static_attributes__': (),\n",
       "              '__dict__': <attribute '__dict__' of 'Program' objects>,\n",
       "              '__weakref__': <attribute '__weakref__' of 'Program' objects>,\n",
       "              '__doc__': None})"
      ]
     },
     "execution_count": 59,
     "metadata": {},
     "output_type": "execute_result"
    }
   ],
   "source": [
    "Program.__dict__"
   ]
  },
  {
   "cell_type": "code",
   "execution_count": 60,
   "id": "3ed814f3-5621-46a5-92ae-8478c5d9660d",
   "metadata": {},
   "outputs": [
    {
     "data": {
      "text/plain": [
       "__main__.Program"
      ]
     },
     "execution_count": 60,
     "metadata": {},
     "output_type": "execute_result"
    }
   ],
   "source": [
    "p.__class__"
   ]
  },
  {
   "cell_type": "code",
   "execution_count": 62,
   "id": "a8ece44b-cfad-4fc5-9c6d-c2a2a35ef60b",
   "metadata": {},
   "outputs": [
    {
     "data": {
      "text/plain": [
       "True"
      ]
     },
     "execution_count": 62,
     "metadata": {},
     "output_type": "execute_result"
    }
   ],
   "source": [
    "type(p) is p.__class__"
   ]
  },
  {
   "cell_type": "code",
   "execution_count": 63,
   "id": "e65f43ae-eec3-47c2-9ea2-13a3332c2c6b",
   "metadata": {},
   "outputs": [
    {
     "ename": "TypeError",
     "evalue": "Program.say_hello() takes 0 positional arguments but 1 was given",
     "output_type": "error",
     "traceback": [
      "\u001b[31m---------------------------------------------------------------------------\u001b[39m",
      "\u001b[31mTypeError\u001b[39m                                 Traceback (most recent call last)",
      "\u001b[36mCell\u001b[39m\u001b[36m \u001b[39m\u001b[32mIn[63]\u001b[39m\u001b[32m, line 1\u001b[39m\n\u001b[32m----> \u001b[39m\u001b[32m1\u001b[39m \u001b[43mp\u001b[49m\u001b[43m.\u001b[49m\u001b[43msay_hello\u001b[49m\u001b[43m(\u001b[49m\u001b[43m)\u001b[49m\n",
      "\u001b[31mTypeError\u001b[39m: Program.say_hello() takes 0 positional arguments but 1 was given"
     ]
    }
   ],
   "source": [
    "p.say_hello()"
   ]
  },
  {
   "cell_type": "code",
   "execution_count": 65,
   "id": "a410dd9e-bda7-4dc5-9282-831993d5ed7a",
   "metadata": {},
   "outputs": [
    {
     "data": {
      "text/plain": [
       "'Python'"
      ]
     },
     "execution_count": 65,
     "metadata": {},
     "output_type": "execute_result"
    }
   ],
   "source": [
    "# python looks instance dict ad if it doesnt find attribute it looks up the chain\n",
    "p.language"
   ]
  },
  {
   "cell_type": "code",
   "execution_count": 66,
   "id": "41a22ef5-14bf-428b-a0a4-8a4cafa5ab99",
   "metadata": {},
   "outputs": [],
   "source": [
    "setattr(p, 'language', 'java')"
   ]
  },
  {
   "cell_type": "code",
   "execution_count": 70,
   "id": "6c1cd9e7-7835-4ce8-838d-d6fa776ff430",
   "metadata": {},
   "outputs": [
    {
     "data": {
      "text/plain": [
       "('java', 'Python')"
      ]
     },
     "execution_count": 70,
     "metadata": {},
     "output_type": "execute_result"
    }
   ],
   "source": [
    "# instance attribute vs class attribute\n",
    "p.language, Program.language"
   ]
  },
  {
   "cell_type": "code",
   "execution_count": 71,
   "id": "ddb36429-1d5f-40dc-8286-f368b68f0b2c",
   "metadata": {},
   "outputs": [
    {
     "data": {
      "text/plain": [
       "({'language': 'java'},\n",
       " mappingproxy({'__module__': '__main__',\n",
       "               '__firstlineno__': 1,\n",
       "               'language': 'Python',\n",
       "               'say_hello': <function __main__.Program.say_hello()>,\n",
       "               '__static_attributes__': (),\n",
       "               '__dict__': <attribute '__dict__' of 'Program' objects>,\n",
       "               '__weakref__': <attribute '__weakref__' of 'Program' objects>,\n",
       "               '__doc__': None}))"
      ]
     },
     "execution_count": 71,
     "metadata": {},
     "output_type": "execute_result"
    }
   ],
   "source": [
    "p.__dict__, Program.__dict__"
   ]
  },
  {
   "cell_type": "code",
   "execution_count": 73,
   "id": "71a84913-fada-474e-92a9-922eb556fdae",
   "metadata": {},
   "outputs": [
    {
     "data": {
      "text/plain": [
       "(mappingproxy, dict)"
      ]
     },
     "execution_count": 73,
     "metadata": {},
     "output_type": "execute_result"
    }
   ],
   "source": [
    "# mappingproxy is read-only, instance namespace is normal dict\n",
    "type(Program.__dict__), type(p.__dict__)"
   ]
  },
  {
   "cell_type": "markdown",
   "id": "1196e4a7-f575-4196-804f-fe05497a8acb",
   "metadata": {},
   "source": [
    "# Function Attributes"
   ]
  },
  {
   "cell_type": "code",
   "execution_count": 74,
   "id": "0f82433d-a3d0-4db3-825c-5d8146a618a1",
   "metadata": {},
   "outputs": [],
   "source": [
    "class Person:\n",
    "    def say_hello():\n",
    "        print('hello')"
   ]
  },
  {
   "cell_type": "code",
   "execution_count": 77,
   "id": "6aff20d0-e3c8-4ba9-8594-b7c2f5225788",
   "metadata": {},
   "outputs": [
    {
     "data": {
      "text/plain": [
       "<function __main__.Person.say_hello()>"
      ]
     },
     "execution_count": 77,
     "metadata": {},
     "output_type": "execute_result"
    }
   ],
   "source": [
    "Person.say_hello"
   ]
  },
  {
   "cell_type": "code",
   "execution_count": 80,
   "id": "dddfc660-9d2c-4605-b5ea-e90d95e2a8f3",
   "metadata": {},
   "outputs": [
    {
     "data": {
      "text/plain": [
       "function"
      ]
     },
     "execution_count": 80,
     "metadata": {},
     "output_type": "execute_result"
    }
   ],
   "source": [
    "type(Person.say_hello)"
   ]
  },
  {
   "cell_type": "code",
   "execution_count": 81,
   "id": "db6d0aaf-9ae6-471a-98a4-5eca7d9c5596",
   "metadata": {},
   "outputs": [
    {
     "name": "stdout",
     "output_type": "stream",
     "text": [
      "hello\n"
     ]
    }
   ],
   "source": [
    "Person.say_hello()"
   ]
  },
  {
   "cell_type": "code",
   "execution_count": 84,
   "id": "5e377901-c7e0-4219-b76b-41e457e3836c",
   "metadata": {},
   "outputs": [],
   "source": [
    "p = Person()"
   ]
  },
  {
   "cell_type": "code",
   "execution_count": 85,
   "id": "5048702d-53cf-40c2-966b-205beaf01ee1",
   "metadata": {},
   "outputs": [
    {
     "data": {
      "text/plain": [
       "'0x106622d50'"
      ]
     },
     "execution_count": 85,
     "metadata": {},
     "output_type": "execute_result"
    }
   ],
   "source": [
    "hex(id(p))"
   ]
  },
  {
   "cell_type": "code",
   "execution_count": 87,
   "id": "e5d7a130-2503-4a08-a068-7a07aa1e82f5",
   "metadata": {},
   "outputs": [
    {
     "data": {
      "text/plain": [
       "<bound method Person.say_hello of <__main__.Person object at 0x106622d50>>"
      ]
     },
     "execution_count": 87,
     "metadata": {},
     "output_type": "execute_result"
    }
   ],
   "source": [
    "# note the address here and addres of instance\n",
    "p.say_hello"
   ]
  },
  {
   "cell_type": "code",
   "execution_count": 89,
   "id": "68d0fea2-b0ea-4ef2-b325-2792558a2c5d",
   "metadata": {},
   "outputs": [
    {
     "data": {
      "text/plain": [
       "(method, function)"
      ]
     },
     "execution_count": 89,
     "metadata": {},
     "output_type": "execute_result"
    }
   ],
   "source": [
    "type(p.say_hello), type(Person.say_hello)"
   ]
  },
  {
   "cell_type": "code",
   "execution_count": 90,
   "id": "c1c9206b-cb0e-4475-b42e-6c28ddf21e2c",
   "metadata": {},
   "outputs": [
    {
     "ename": "TypeError",
     "evalue": "Person.say_hello() takes 0 positional arguments but 1 was given",
     "output_type": "error",
     "traceback": [
      "\u001b[31m---------------------------------------------------------------------------\u001b[39m",
      "\u001b[31mTypeError\u001b[39m                                 Traceback (most recent call last)",
      "\u001b[36mCell\u001b[39m\u001b[36m \u001b[39m\u001b[32mIn[90]\u001b[39m\u001b[32m, line 1\u001b[39m\n\u001b[32m----> \u001b[39m\u001b[32m1\u001b[39m \u001b[43mp\u001b[49m\u001b[43m.\u001b[49m\u001b[43msay_hello\u001b[49m\u001b[43m(\u001b[49m\u001b[43m)\u001b[49m\n",
      "\u001b[31mTypeError\u001b[39m: Person.say_hello() takes 0 positional arguments but 1 was given"
     ]
    }
   ],
   "source": [
    "p.say_hello()"
   ]
  },
  {
   "cell_type": "markdown",
   "id": "b3875739-3046-4aa6-850b-417112d97435",
   "metadata": {},
   "source": [
    "# method is a function bound to an instance"
   ]
  },
  {
   "cell_type": "code",
   "execution_count": 92,
   "id": "3dabf823-b627-446e-adba-06da398d6d47",
   "metadata": {},
   "outputs": [],
   "source": [
    "class Person:\n",
    "    def say_hello(*args):\n",
    "        print(f'say_hello args: {args}')"
   ]
  },
  {
   "cell_type": "code",
   "execution_count": 93,
   "id": "2133f26a-5fb0-4d96-8a4f-370892e30a50",
   "metadata": {},
   "outputs": [
    {
     "name": "stdout",
     "output_type": "stream",
     "text": [
      "say_hello args: ()\n"
     ]
    }
   ],
   "source": [
    "Person.say_hello()"
   ]
  },
  {
   "cell_type": "code",
   "execution_count": 94,
   "id": "910a6bc2-a52b-4217-8806-48e4553b962d",
   "metadata": {},
   "outputs": [],
   "source": [
    "p = Person()"
   ]
  },
  {
   "cell_type": "code",
   "execution_count": 95,
   "id": "8ac76d1c-201e-4b58-960e-d30b77cbc862",
   "metadata": {},
   "outputs": [
    {
     "name": "stdout",
     "output_type": "stream",
     "text": [
      "say_hello args: (<__main__.Person object at 0x10661dfd0>,)\n"
     ]
    }
   ],
   "source": [
    "p.say_hello()"
   ]
  },
  {
   "cell_type": "code",
   "execution_count": 96,
   "id": "97950891-1e39-4ee2-8691-66dd7219474f",
   "metadata": {},
   "outputs": [
    {
     "data": {
      "text/plain": [
       "'0x10661dfd0'"
      ]
     },
     "execution_count": 96,
     "metadata": {},
     "output_type": "execute_result"
    }
   ],
   "source": [
    "hex(id(p))"
   ]
  },
  {
   "cell_type": "code",
   "execution_count": 97,
   "id": "75ee671d-8f2d-404f-8799-09d9fd103a48",
   "metadata": {},
   "outputs": [],
   "source": [
    "class Person:\n",
    "    def set_name(instance_obj, new_name):\n",
    "        instance_obj.name = new_name"
   ]
  },
  {
   "cell_type": "code",
   "execution_count": 98,
   "id": "bfa051d3-f762-41c7-8b3f-eec940030f03",
   "metadata": {},
   "outputs": [],
   "source": [
    "p = Person()"
   ]
  },
  {
   "cell_type": "code",
   "execution_count": 99,
   "id": "912ed8ef-2dab-4a2d-a668-d78bbe53ef4d",
   "metadata": {},
   "outputs": [],
   "source": [
    "p.set_name('BRK')"
   ]
  },
  {
   "cell_type": "code",
   "execution_count": 100,
   "id": "fb158f78-f8c7-472a-8720-ffd7da19e124",
   "metadata": {},
   "outputs": [
    {
     "data": {
      "text/plain": [
       "{'name': 'BRK'}"
      ]
     },
     "execution_count": 100,
     "metadata": {},
     "output_type": "execute_result"
    }
   ],
   "source": [
    "p.__dict__"
   ]
  },
  {
   "cell_type": "code",
   "execution_count": 108,
   "id": "a8ad5df4-c04d-40a0-9fbf-2687d1689266",
   "metadata": {},
   "outputs": [],
   "source": [
    "# self is a convention\n",
    "\n",
    "class Person:\n",
    "    def set_name(self, new_name):\n",
    "        self.name = new_name"
   ]
  },
  {
   "cell_type": "code",
   "execution_count": 112,
   "id": "b3fd813c-bab0-43ac-b631-e8bebe974d0a",
   "metadata": {},
   "outputs": [],
   "source": [
    "p = Person()"
   ]
  },
  {
   "cell_type": "code",
   "execution_count": 113,
   "id": "d83911eb-bf2e-4947-a863-9fed24d762ed",
   "metadata": {},
   "outputs": [],
   "source": [
    "Person.set_name(p, 'Bharath')"
   ]
  },
  {
   "cell_type": "code",
   "execution_count": 114,
   "id": "a551c59d-6f90-4724-bbbd-d3451b135725",
   "metadata": {},
   "outputs": [
    {
     "data": {
      "text/plain": [
       "{'name': 'Bharath'}"
      ]
     },
     "execution_count": 114,
     "metadata": {},
     "output_type": "execute_result"
    }
   ],
   "source": [
    "p.__dict__"
   ]
  },
  {
   "cell_type": "code",
   "execution_count": 115,
   "id": "9d83dd03-489f-4e79-a1e6-acef1c8f7c86",
   "metadata": {},
   "outputs": [
    {
     "data": {
      "text/plain": [
       "<function __main__.Person.set_name(self, new_name)>"
      ]
     },
     "execution_count": 115,
     "metadata": {},
     "output_type": "execute_result"
    }
   ],
   "source": [
    "p.set_name.__func__"
   ]
  },
  {
   "cell_type": "code",
   "execution_count": 120,
   "id": "6e34c09c-bfe0-466f-9186-5978bfbf59d6",
   "metadata": {},
   "outputs": [
    {
     "data": {
      "text/plain": [
       "<__main__.Person at 0x10661e270>"
      ]
     },
     "execution_count": 120,
     "metadata": {},
     "output_type": "execute_result"
    }
   ],
   "source": [
    "p.set_name.__self__"
   ]
  },
  {
   "cell_type": "code",
   "execution_count": 118,
   "id": "ca033c47-01f8-4c65-9d31-c6cd622a442f",
   "metadata": {},
   "outputs": [
    {
     "data": {
      "text/plain": [
       "'0x10661e270'"
      ]
     },
     "execution_count": 118,
     "metadata": {},
     "output_type": "execute_result"
    }
   ],
   "source": [
    "hex(id(p))"
   ]
  },
  {
   "cell_type": "code",
   "execution_count": 121,
   "id": "2bf08121-81c5-476c-829c-c31208309b9f",
   "metadata": {},
   "outputs": [
    {
     "data": {
      "text/plain": [
       "True"
      ]
     },
     "execution_count": 121,
     "metadata": {},
     "output_type": "execute_result"
    }
   ],
   "source": [
    "p.set_name.__self__ is p"
   ]
  },
  {
   "cell_type": "markdown",
   "id": "d25d4e5e-02eb-4b4d-83d3-4aedd164dcf2",
   "metadata": {},
   "source": [
    "# Initializing Class Instance"
   ]
  },
  {
   "cell_type": "markdown",
   "id": "1c93fb23-b1fd-43e6-bb3f-ca8847f56951",
   "metadata": {},
   "source": [
    "1. `language` is a `class attribute` -> in class namespace\n",
    "2. `__init__` is a `class attribute` -> in a class namespace but also a function\n",
    "3. when we call MyClass(3.7)\n",
    "   1. Python creates a new instance of the object with an empty namespace\n",
    "   2. if we have defined an `__init__` function in the class, it calls `obj.__init__(3.7)` -> a bound method -> MyClass.__init__(obj, 3.7)\n",
    "   3. our function runs and adds `version` to `obj's` namespace\n",
    "   4. `version` is an instance attribute\n",
    "      obj.__dict__ -> {'version': 3.7}\n",
    "   5. A standard convention is to use `self` for obj\n",
    "4. We can specify a custom function to `create` the object by `__new__` method"
   ]
  },
  {
   "cell_type": "code",
   "execution_count": 125,
   "id": "e325239f-9d66-402b-a9c0-88219a907957",
   "metadata": {},
   "outputs": [],
   "source": [
    "class MyClass:\n",
    "    language = 'Python'\n",
    "\n",
    "    def __init__(self, version):\n",
    "        self.version = version"
   ]
  },
  {
   "cell_type": "code",
   "execution_count": 126,
   "id": "11dfd583-3b9e-47db-ae69-e5aaa4f269a5",
   "metadata": {},
   "outputs": [
    {
     "data": {
      "text/plain": [
       "mappingproxy({'__module__': '__main__',\n",
       "              '__firstlineno__': 1,\n",
       "              'language': 'Python',\n",
       "              '__init__': <function __main__.MyClass.__init__(self, version)>,\n",
       "              '__static_attributes__': ('version',),\n",
       "              '__dict__': <attribute '__dict__' of 'MyClass' objects>,\n",
       "              '__weakref__': <attribute '__weakref__' of 'MyClass' objects>,\n",
       "              '__doc__': None})"
      ]
     },
     "execution_count": 126,
     "metadata": {},
     "output_type": "execute_result"
    }
   ],
   "source": [
    "MyClass.__dict__"
   ]
  },
  {
   "cell_type": "code",
   "execution_count": 127,
   "id": "253328ac-5729-41a1-bfdf-5affc31ce1c1",
   "metadata": {},
   "outputs": [],
   "source": [
    "c = MyClass(3.7)"
   ]
  },
  {
   "cell_type": "code",
   "execution_count": 128,
   "id": "80fbf29e-4cdb-4432-b81e-d025922a0935",
   "metadata": {},
   "outputs": [
    {
     "data": {
      "text/plain": [
       "{'version': 3.7}"
      ]
     },
     "execution_count": 128,
     "metadata": {},
     "output_type": "execute_result"
    }
   ],
   "source": [
    "c.__dict__"
   ]
  },
  {
   "cell_type": "markdown",
   "id": "521a45f2-9364-4d8d-abd3-1857a4375cf0",
   "metadata": {},
   "source": [
    "# so do we have to define all instance methods on class - NO\n",
    "### here is how to create instance attributes at runtime"
   ]
  },
  {
   "cell_type": "code",
   "execution_count": 130,
   "id": "79ffa702-1d2d-4f36-9778-fa6cf3535859",
   "metadata": {},
   "outputs": [],
   "source": [
    "class Person:\n",
    "    def __init__(self, name):\n",
    "        self.name = name"
   ]
  },
  {
   "cell_type": "code",
   "execution_count": 131,
   "id": "63832590-50c4-4ec5-a992-2362849ee685",
   "metadata": {},
   "outputs": [],
   "source": [
    "p1 = Person('br')\n",
    "p2 = Person('ka')"
   ]
  },
  {
   "cell_type": "code",
   "execution_count": 132,
   "id": "dff0bf02-a96f-4775-ad42-ce5e72d964a3",
   "metadata": {},
   "outputs": [],
   "source": [
    "from types import MethodType"
   ]
  },
  {
   "cell_type": "code",
   "execution_count": 133,
   "id": "ec292d15-e66c-4ce5-9c29-2a7e7deb8136",
   "metadata": {},
   "outputs": [
    {
     "data": {
      "text/plain": [
       "({'name': 'br'}, {'name': 'ka'})"
      ]
     },
     "execution_count": 133,
     "metadata": {},
     "output_type": "execute_result"
    }
   ],
   "source": [
    "p1.__dict__, p2.__dict__"
   ]
  },
  {
   "cell_type": "code",
   "execution_count": 134,
   "id": "243fabc7-f4bc-438b-a9a2-9b2401b1110b",
   "metadata": {},
   "outputs": [],
   "source": [
    "p1.say_hello = MethodType(lambda x: f'Hello from {x.name}',p1)"
   ]
  },
  {
   "cell_type": "code",
   "execution_count": 135,
   "id": "cf5bfa4d-b6f2-478b-a8f7-94ae8237d1d6",
   "metadata": {},
   "outputs": [
    {
     "data": {
      "text/plain": [
       "{'name': 'br',\n",
       " 'say_hello': <bound method <lambda> of <__main__.Person object at 0x10661d2b0>>}"
      ]
     },
     "execution_count": 135,
     "metadata": {},
     "output_type": "execute_result"
    }
   ],
   "source": [
    "p1.__dict__"
   ]
  },
  {
   "cell_type": "code",
   "execution_count": 136,
   "id": "46935433-2747-4208-a2fd-f53f5f8da4fd",
   "metadata": {},
   "outputs": [
    {
     "data": {
      "text/plain": [
       "'0x10661d2b0'"
      ]
     },
     "execution_count": 136,
     "metadata": {},
     "output_type": "execute_result"
    }
   ],
   "source": [
    "hex(id(p1))"
   ]
  },
  {
   "cell_type": "code",
   "execution_count": 137,
   "id": "bcb1822c-c702-4be8-9f03-09b161eb66a6",
   "metadata": {},
   "outputs": [
    {
     "data": {
      "text/plain": [
       "'Hello from br'"
      ]
     },
     "execution_count": 137,
     "metadata": {},
     "output_type": "execute_result"
    }
   ],
   "source": [
    "p1.say_hello()"
   ]
  },
  {
   "cell_type": "code",
   "execution_count": 139,
   "id": "bace2382-7d16-44c4-ab0d-525a536bdd32",
   "metadata": {},
   "outputs": [
    {
     "ename": "AttributeError",
     "evalue": "'Person' object has no attribute 'say_hello'",
     "output_type": "error",
     "traceback": [
      "\u001b[31m---------------------------------------------------------------------------\u001b[39m",
      "\u001b[31mAttributeError\u001b[39m                            Traceback (most recent call last)",
      "\u001b[36mCell\u001b[39m\u001b[36m \u001b[39m\u001b[32mIn[139]\u001b[39m\u001b[32m, line 1\u001b[39m\n\u001b[32m----> \u001b[39m\u001b[32m1\u001b[39m \u001b[43mp2\u001b[49m\u001b[43m.\u001b[49m\u001b[43msay_hello\u001b[49m()\n",
      "\u001b[31mAttributeError\u001b[39m: 'Person' object has no attribute 'say_hello'"
     ]
    }
   ],
   "source": [
    "p2.say_hello()"
   ]
  },
  {
   "cell_type": "markdown",
   "id": "8c8c01d4-13e4-449e-9477-dd41daa1946d",
   "metadata": {},
   "source": [
    "# Properties\n",
    "1. `property` is a class(type)\n",
    "2. Constructor has a few parameters:\n",
    "    1. `fget`: specifies the function to use to get instance property value\n",
    "    2. `fset`: specifies the function to use to set the instance property value\n",
    "    3. `fdel`: specifies the function to call when deleting the instance property\n",
    "    4. `doc` : a string representing the docstring for the property"
   ]
  },
  {
   "cell_type": "code",
   "execution_count": 140,
   "id": "adcf75ff-7d92-45eb-9157-2175859f01e6",
   "metadata": {},
   "outputs": [],
   "source": [
    "class Person:\n",
    "    def __init__(self, name):\n",
    "        self.set_name(name)  # calling bounded instance method\n",
    "\n",
    "    def get_name(self):\n",
    "        return self._name\n",
    "\n",
    "    def set_name(self, name): # function on instance would be bounded to the instance\n",
    "        if isinstance(name, str) and len(name.strip())>0:\n",
    "            self._name = name.strip()\n",
    "        else:\n",
    "            raise ValueError('name must be non-empty string')"
   ]
  },
  {
   "cell_type": "code",
   "execution_count": 141,
   "id": "e9e0f88f-c51c-439d-a464-89ac0ea94ae3",
   "metadata": {},
   "outputs": [],
   "source": [
    "p = Person('Alex')"
   ]
  },
  {
   "cell_type": "code",
   "execution_count": 143,
   "id": "b01b8b7c-e553-4ab4-ab60-99b2b52e0caf",
   "metadata": {},
   "outputs": [
    {
     "data": {
      "text/plain": [
       "'Alex'"
      ]
     },
     "execution_count": 143,
     "metadata": {},
     "output_type": "execute_result"
    }
   ],
   "source": [
    "p.get_name()"
   ]
  },
  {
   "cell_type": "code",
   "execution_count": 144,
   "id": "4a16d81c-33f6-410e-b604-c6fd1bcd8287",
   "metadata": {},
   "outputs": [
    {
     "data": {
      "text/plain": [
       "{'_name': 'Alex'}"
      ]
     },
     "execution_count": 144,
     "metadata": {},
     "output_type": "execute_result"
    }
   ],
   "source": [
    "p.__dict__"
   ]
  },
  {
   "cell_type": "code",
   "execution_count": 163,
   "id": "3da60e5c-fb1e-4e0d-9ef2-e7f49cfaeb2e",
   "metadata": {},
   "outputs": [],
   "source": [
    "class Person:\n",
    "    def __init__(self, name):\n",
    "        self.name = name  # same as self.set_name(name)\n",
    "\n",
    "    def get_name(self):\n",
    "        print(f'getting name')\n",
    "        return self._name\n",
    "\n",
    "    def set_name(self, name):\n",
    "        print(f'setting name')\n",
    "        if isinstance(name, str) and len(name.strip())>0:\n",
    "            self._name = name.strip()\n",
    "        else:\n",
    "            raise ValueError('name must be non-empty string')\n",
    "\n",
    "    name = property(fget=get_name, fset=set_name)"
   ]
  },
  {
   "cell_type": "code",
   "execution_count": 164,
   "id": "6abee622-ab6f-44b1-bbc2-8ab9ac0ec4fb",
   "metadata": {},
   "outputs": [
    {
     "name": "stdout",
     "output_type": "stream",
     "text": [
      "setting name\n"
     ]
    },
    {
     "ename": "ValueError",
     "evalue": "name must be non-empty string",
     "output_type": "error",
     "traceback": [
      "\u001b[31m---------------------------------------------------------------------------\u001b[39m",
      "\u001b[31mValueError\u001b[39m                                Traceback (most recent call last)",
      "\u001b[36mCell\u001b[39m\u001b[36m \u001b[39m\u001b[32mIn[164]\u001b[39m\u001b[32m, line 1\u001b[39m\n\u001b[32m----> \u001b[39m\u001b[32m1\u001b[39m p = \u001b[43mPerson\u001b[49m\u001b[43m(\u001b[49m\u001b[32;43m12\u001b[39;49m\u001b[43m)\u001b[49m\n",
      "\u001b[36mCell\u001b[39m\u001b[36m \u001b[39m\u001b[32mIn[163]\u001b[39m\u001b[32m, line 3\u001b[39m, in \u001b[36mPerson.__init__\u001b[39m\u001b[34m(self, name)\u001b[39m\n\u001b[32m      2\u001b[39m \u001b[38;5;28;01mdef\u001b[39;00m\u001b[38;5;250m \u001b[39m\u001b[34m__init__\u001b[39m(\u001b[38;5;28mself\u001b[39m, name):\n\u001b[32m----> \u001b[39m\u001b[32m3\u001b[39m     \u001b[38;5;28;43mself\u001b[39;49m\u001b[43m.\u001b[49m\u001b[43mname\u001b[49m = name\n",
      "\u001b[36mCell\u001b[39m\u001b[36m \u001b[39m\u001b[32mIn[163]\u001b[39m\u001b[32m, line 14\u001b[39m, in \u001b[36mPerson.set_name\u001b[39m\u001b[34m(self, name)\u001b[39m\n\u001b[32m     12\u001b[39m     \u001b[38;5;28mself\u001b[39m._name = name.strip()\n\u001b[32m     13\u001b[39m \u001b[38;5;28;01melse\u001b[39;00m:\n\u001b[32m---> \u001b[39m\u001b[32m14\u001b[39m     \u001b[38;5;28;01mraise\u001b[39;00m \u001b[38;5;167;01mValueError\u001b[39;00m(\u001b[33m'\u001b[39m\u001b[33mname must be non-empty string\u001b[39m\u001b[33m'\u001b[39m)\n",
      "\u001b[31mValueError\u001b[39m: name must be non-empty string"
     ]
    }
   ],
   "source": [
    "p = Person(12)"
   ]
  },
  {
   "cell_type": "code",
   "execution_count": 165,
   "id": "47dfae76-b2d5-4abb-ac17-f3f79be5cb70",
   "metadata": {},
   "outputs": [
    {
     "name": "stdout",
     "output_type": "stream",
     "text": [
      "setting name\n"
     ]
    }
   ],
   "source": [
    "p = Person('brk')"
   ]
  },
  {
   "cell_type": "code",
   "execution_count": 166,
   "id": "7f72ddee-ca57-4d85-bceb-39705c00f08c",
   "metadata": {},
   "outputs": [
    {
     "name": "stdout",
     "output_type": "stream",
     "text": [
      "getting name\n"
     ]
    },
    {
     "data": {
      "text/plain": [
       "'brk'"
      ]
     },
     "execution_count": 166,
     "metadata": {},
     "output_type": "execute_result"
    }
   ],
   "source": [
    "p.name"
   ]
  },
  {
   "cell_type": "code",
   "execution_count": 167,
   "id": "fa4f51b5-9868-4f72-b72c-52e5b736ccc5",
   "metadata": {},
   "outputs": [
    {
     "data": {
      "text/plain": [
       "mappingproxy({'__module__': '__main__',\n",
       "              '__firstlineno__': 1,\n",
       "              '__init__': <function __main__.Person.__init__(self, name)>,\n",
       "              'get_name': <function __main__.Person.get_name(self)>,\n",
       "              'set_name': <function __main__.Person.set_name(self, name)>,\n",
       "              'name': <property at 0x107a41940>,\n",
       "              '__static_attributes__': ('_name', 'name'),\n",
       "              '__dict__': <attribute '__dict__' of 'Person' objects>,\n",
       "              '__weakref__': <attribute '__weakref__' of 'Person' objects>,\n",
       "              '__doc__': None})"
      ]
     },
     "execution_count": 167,
     "metadata": {},
     "output_type": "execute_result"
    }
   ],
   "source": [
    "Person.__dict__"
   ]
  },
  {
   "cell_type": "code",
   "execution_count": 168,
   "id": "7b1bcf2a-60ad-49e1-aa09-90f0b0edc65b",
   "metadata": {},
   "outputs": [
    {
     "data": {
      "text/plain": [
       "{'_name': 'brk'}"
      ]
     },
     "execution_count": 168,
     "metadata": {},
     "output_type": "execute_result"
    }
   ],
   "source": [
    "p.__dict__"
   ]
  },
  {
   "cell_type": "code",
   "execution_count": 169,
   "id": "5b18781a-95a1-470d-9d87-c1d21e3b2e37",
   "metadata": {},
   "outputs": [
    {
     "name": "stdout",
     "output_type": "stream",
     "text": [
      "setting name\n"
     ]
    }
   ],
   "source": [
    "p.name = 'kav'"
   ]
  },
  {
   "cell_type": "code",
   "execution_count": 170,
   "id": "19396e8f-0996-40b9-835e-22dd3d691add",
   "metadata": {},
   "outputs": [
    {
     "name": "stdout",
     "output_type": "stream",
     "text": [
      "getting name\n"
     ]
    },
    {
     "data": {
      "text/plain": [
       "'kav'"
      ]
     },
     "execution_count": 170,
     "metadata": {},
     "output_type": "execute_result"
    }
   ],
   "source": [
    "p.name"
   ]
  },
  {
   "cell_type": "code",
   "execution_count": 171,
   "id": "91d1af8a-be65-4b3b-be06-2e42ec4d242d",
   "metadata": {},
   "outputs": [
    {
     "data": {
      "text/plain": [
       "property"
      ]
     },
     "execution_count": 171,
     "metadata": {},
     "output_type": "execute_result"
    }
   ],
   "source": [
    "type(property())"
   ]
  },
  {
   "cell_type": "code",
   "execution_count": 199,
   "id": "0ce45ae4-89f2-439a-9e6b-521613042198",
   "metadata": {},
   "outputs": [],
   "source": [
    "class Person:\n",
    "    \"\"\"This is a person object\"\"\"\n",
    "    def __init__(self, name):\n",
    "        self._name = name  \n",
    "\n",
    "    def get_name(self):\n",
    "        print(f'getter called...')\n",
    "        return self._name\n",
    "\n",
    "    def set_name(self, name):\n",
    "        print(f'setter called...')\n",
    "        if isinstance(name, str) and len(name.strip())>0:\n",
    "            self._name = name.strip()\n",
    "        else:\n",
    "            raise ValueError('name must be non-empty string')\n",
    "\n",
    "    def del_name(self):\n",
    "        print(f'deleter called..')\n",
    "        del self._name\n",
    "\n",
    "    name = property(fget=get_name, fset=set_name, fdel = del_name, doc=\"the person's anme\")"
   ]
  },
  {
   "cell_type": "code",
   "execution_count": 200,
   "id": "aa85d58e-b4fd-44ab-80db-213b8767ea0d",
   "metadata": {},
   "outputs": [],
   "source": [
    "p = Person(12)"
   ]
  },
  {
   "cell_type": "code",
   "execution_count": 201,
   "id": "85538a44-4570-4807-b6d7-aeff76f52852",
   "metadata": {},
   "outputs": [
    {
     "name": "stdout",
     "output_type": "stream",
     "text": [
      "getter called...\n"
     ]
    },
    {
     "data": {
      "text/plain": [
       "12"
      ]
     },
     "execution_count": 201,
     "metadata": {},
     "output_type": "execute_result"
    }
   ],
   "source": [
    "p.name"
   ]
  },
  {
   "cell_type": "code",
   "execution_count": 202,
   "id": "a6be64e7-06e5-4599-bace-4322cd5769c9",
   "metadata": {},
   "outputs": [
    {
     "name": "stdout",
     "output_type": "stream",
     "text": [
      "setter called...\n"
     ]
    }
   ],
   "source": [
    "p.name = 'BRK'"
   ]
  },
  {
   "cell_type": "code",
   "execution_count": 203,
   "id": "76fb9142-e3ac-457d-a716-75f49ea2b46c",
   "metadata": {},
   "outputs": [
    {
     "name": "stdout",
     "output_type": "stream",
     "text": [
      "getter called...\n"
     ]
    },
    {
     "data": {
      "text/plain": [
       "'BRK'"
      ]
     },
     "execution_count": 203,
     "metadata": {},
     "output_type": "execute_result"
    }
   ],
   "source": [
    "getattr(p, 'name')"
   ]
  },
  {
   "cell_type": "code",
   "execution_count": 204,
   "id": "26649ae2-e067-4398-b546-24d7789880cb",
   "metadata": {},
   "outputs": [
    {
     "data": {
      "text/plain": [
       "{'_name': 'BRK'}"
      ]
     },
     "execution_count": 204,
     "metadata": {},
     "output_type": "execute_result"
    }
   ],
   "source": [
    "p.__dict__"
   ]
  },
  {
   "cell_type": "code",
   "execution_count": 205,
   "id": "c3b817da-6b76-4122-9a3a-05965dbea89e",
   "metadata": {},
   "outputs": [
    {
     "name": "stdout",
     "output_type": "stream",
     "text": [
      "deleter called..\n"
     ]
    }
   ],
   "source": [
    "del p.name"
   ]
  },
  {
   "cell_type": "code",
   "execution_count": 206,
   "id": "763ee65f-c9fa-4173-b5a5-74d6391feb92",
   "metadata": {},
   "outputs": [
    {
     "data": {
      "text/plain": [
       "{}"
      ]
     },
     "execution_count": 206,
     "metadata": {},
     "output_type": "execute_result"
    }
   ],
   "source": [
    "p.__dict__"
   ]
  },
  {
   "cell_type": "code",
   "execution_count": 207,
   "id": "cb418001-907a-49b7-b922-be688c34d9d5",
   "metadata": {},
   "outputs": [
    {
     "data": {
      "text/plain": [
       "mappingproxy({'__module__': '__main__',\n",
       "              '__firstlineno__': 1,\n",
       "              '__doc__': 'This is a person object',\n",
       "              '__init__': <function __main__.Person.__init__(self, name)>,\n",
       "              'get_name': <function __main__.Person.get_name(self)>,\n",
       "              'set_name': <function __main__.Person.set_name(self, name)>,\n",
       "              'del_name': <function __main__.Person.del_name(self)>,\n",
       "              'name': <property at 0x107ae2b60>,\n",
       "              '__static_attributes__': ('_name',),\n",
       "              '__dict__': <attribute '__dict__' of 'Person' objects>,\n",
       "              '__weakref__': <attribute '__weakref__' of 'Person' objects>})"
      ]
     },
     "execution_count": 207,
     "metadata": {},
     "output_type": "execute_result"
    }
   ],
   "source": [
    "Person.__dict__"
   ]
  },
  {
   "cell_type": "code",
   "execution_count": 196,
   "id": "1e8414af-ac46-49b1-82b6-0443a44bd156",
   "metadata": {},
   "outputs": [
    {
     "name": "stdout",
     "output_type": "stream",
     "text": [
      "getter called...\n"
     ]
    },
    {
     "ename": "AttributeError",
     "evalue": "'Person' object has no attribute '_name'",
     "output_type": "error",
     "traceback": [
      "\u001b[31m---------------------------------------------------------------------------\u001b[39m",
      "\u001b[31mAttributeError\u001b[39m                            Traceback (most recent call last)",
      "\u001b[36mCell\u001b[39m\u001b[36m \u001b[39m\u001b[32mIn[196]\u001b[39m\u001b[32m, line 1\u001b[39m\n\u001b[32m----> \u001b[39m\u001b[32m1\u001b[39m \u001b[43mp\u001b[49m\u001b[43m.\u001b[49m\u001b[43mname\u001b[49m\n",
      "\u001b[36mCell\u001b[39m\u001b[36m \u001b[39m\u001b[32mIn[178]\u001b[39m\u001b[32m, line 7\u001b[39m, in \u001b[36mPerson.get_name\u001b[39m\u001b[34m(self)\u001b[39m\n\u001b[32m      5\u001b[39m \u001b[38;5;28;01mdef\u001b[39;00m\u001b[38;5;250m \u001b[39m\u001b[34mget_name\u001b[39m(\u001b[38;5;28mself\u001b[39m):\n\u001b[32m      6\u001b[39m     \u001b[38;5;28mprint\u001b[39m(\u001b[33mf\u001b[39m\u001b[33m'\u001b[39m\u001b[33mgetter called...\u001b[39m\u001b[33m'\u001b[39m)\n\u001b[32m----> \u001b[39m\u001b[32m7\u001b[39m     \u001b[38;5;28;01mreturn\u001b[39;00m \u001b[38;5;28;43mself\u001b[39;49m\u001b[43m.\u001b[49m\u001b[43m_name\u001b[49m\n",
      "\u001b[31mAttributeError\u001b[39m: 'Person' object has no attribute '_name'"
     ]
    }
   ],
   "source": [
    "p.name"
   ]
  },
  {
   "cell_type": "code",
   "execution_count": 208,
   "id": "e29caa67-dc63-41b8-a09f-e42b0b9397b1",
   "metadata": {},
   "outputs": [
    {
     "name": "stdout",
     "output_type": "stream",
     "text": [
      "Help on class Person in module __main__:\n",
      "\n",
      "class Person(builtins.object)\n",
      " |  Person(name)\n",
      " |\n",
      " |  This is a person object\n",
      " |\n",
      " |  Methods defined here:\n",
      " |\n",
      " |  __init__(self, name)\n",
      " |      Initialize self.  See help(type(self)) for accurate signature.\n",
      " |\n",
      " |  del_name(self)\n",
      " |\n",
      " |  get_name(self)\n",
      " |\n",
      " |  set_name(self, name)\n",
      " |\n",
      " |  ----------------------------------------------------------------------\n",
      " |  Data descriptors defined here:\n",
      " |\n",
      " |  __dict__\n",
      " |      dictionary for instance variables\n",
      " |\n",
      " |  __weakref__\n",
      " |      list of weak references to the object\n",
      " |\n",
      " |  name\n",
      " |      the person's anme\n",
      "\n"
     ]
    }
   ],
   "source": [
    "help(Person)"
   ]
  },
  {
   "cell_type": "code",
   "execution_count": 209,
   "id": "956fb3ee-6cdd-4406-8e5e-68c1b19da504",
   "metadata": {},
   "outputs": [
    {
     "name": "stdout",
     "output_type": "stream",
     "text": [
      "Help on Person in module __main__ object:\n",
      "\n",
      "class Person(builtins.object)\n",
      " |  Person(name)\n",
      " |\n",
      " |  This is a person object\n",
      " |\n",
      " |  Methods defined here:\n",
      " |\n",
      " |  __init__(self, name)\n",
      " |      Initialize self.  See help(type(self)) for accurate signature.\n",
      " |\n",
      " |  del_name(self)\n",
      " |\n",
      " |  get_name(self)\n",
      " |\n",
      " |  set_name(self, name)\n",
      " |\n",
      " |  ----------------------------------------------------------------------\n",
      " |  Data descriptors defined here:\n",
      " |\n",
      " |  __dict__\n",
      " |      dictionary for instance variables\n",
      " |\n",
      " |  __weakref__\n",
      " |      list of weak references to the object\n",
      " |\n",
      " |  name\n",
      " |      the person's anme\n",
      "\n"
     ]
    }
   ],
   "source": [
    "help(p)"
   ]
  },
  {
   "cell_type": "markdown",
   "id": "a1d40a59-d044-489d-941b-60f8ab7d5723",
   "metadata": {},
   "source": [
    "# Property Decorators"
   ]
  },
  {
   "cell_type": "code",
   "execution_count": 243,
   "id": "2e148e30-b4dc-406f-90e1-01b6af51b35f",
   "metadata": {},
   "outputs": [
    {
     "data": {
      "text/plain": [
       "(function, '0x1075068e0')"
      ]
     },
     "execution_count": 243,
     "metadata": {},
     "output_type": "execute_result"
    }
   ],
   "source": [
    "def name(self):\n",
    "    return print(f'getter...')\n",
    "\n",
    "type(name), hex(id(name))"
   ]
  },
  {
   "cell_type": "code",
   "execution_count": 244,
   "id": "666c97e0-6f39-42d4-a42c-aee1c4605e32",
   "metadata": {},
   "outputs": [
    {
     "data": {
      "text/plain": [
       "(property, '0x1072ebe20', '0x1075068e0')"
      ]
     },
     "execution_count": 244,
     "metadata": {},
     "output_type": "execute_result"
    }
   ],
   "source": [
    "# Reassing name as a property\n",
    "# now name is a property with fget method same as our original name function\n",
    "\n",
    "name = property(name)\n",
    "\n",
    "type(name), hex(id(name)), hex(id(name.fget))"
   ]
  },
  {
   "cell_type": "code",
   "execution_count": 245,
   "id": "dc0a6bbb-d08d-4cf1-a842-746311175e77",
   "metadata": {},
   "outputs": [
    {
     "data": {
      "text/plain": [
       "(function, '0x107506c00')"
      ]
     },
     "execution_count": 245,
     "metadata": {},
     "output_type": "execute_result"
    }
   ],
   "source": [
    "temp_name = name\n",
    "\n",
    "def name(self, value):\n",
    "    return print('setter...')\n",
    "\n",
    "type(name), hex(id(name))"
   ]
  },
  {
   "cell_type": "code",
   "execution_count": 246,
   "id": "896747a1-1da6-41dd-bd0b-481faae4c51c",
   "metadata": {},
   "outputs": [
    {
     "data": {
      "text/plain": [
       "(property, '0x1075102c0', '0x1075068e0', '0x107506c00', '0x1072ebe20')"
      ]
     },
     "execution_count": 246,
     "metadata": {},
     "output_type": "execute_result"
    }
   ],
   "source": [
    "name = temp_name.setter(name)\n",
    "\n",
    "type(name), hex(id(name)), hex(id(name.fget)), hex(id(name.fset)), hex(id(temp_name))"
   ]
  },
  {
   "cell_type": "markdown",
   "id": "3d98ef48-6c4e-4ea3-ace7-5880ef7b0396",
   "metadata": {},
   "source": [
    "# Looks awfuly lot like decorators"
   ]
  },
  {
   "cell_type": "code",
   "execution_count": 251,
   "id": "6bd4fc2d-414d-4191-a830-6153663681ac",
   "metadata": {},
   "outputs": [],
   "source": [
    "class Person:\n",
    "    def __init__(self, name):\n",
    "        self.name = name  # calls the setter during initialization (can use self._name if we want to bypass validations on initialization\n",
    "\n",
    "    @property   # same as name = property(name), now name is of type property\n",
    "    def name(self):\n",
    "        return self._name\n",
    "\n",
    "    @name.setter   # same as name = temp_name.setter(name), returns a new property object with getter from original property\n",
    "    def name(self, value):\n",
    "        self._name = value\n",
    "    "
   ]
  },
  {
   "cell_type": "code",
   "execution_count": 252,
   "id": "9b9e4e15-f3c7-427d-8a05-47ca79bdf303",
   "metadata": {},
   "outputs": [],
   "source": [
    "p = Person('Alex')"
   ]
  },
  {
   "cell_type": "code",
   "execution_count": 253,
   "id": "edcc2df5-a2c3-4669-8210-10d7762e346f",
   "metadata": {},
   "outputs": [
    {
     "data": {
      "text/plain": [
       "mappingproxy({'__module__': '__main__',\n",
       "              '__firstlineno__': 1,\n",
       "              '__init__': <function __main__.Person.__init__(self, name)>,\n",
       "              'name': <property at 0x107449670>,\n",
       "              '__static_attributes__': ('_name', 'name'),\n",
       "              '__dict__': <attribute '__dict__' of 'Person' objects>,\n",
       "              '__weakref__': <attribute '__weakref__' of 'Person' objects>,\n",
       "              '__doc__': None})"
      ]
     },
     "execution_count": 253,
     "metadata": {},
     "output_type": "execute_result"
    }
   ],
   "source": [
    "Person.__dict__"
   ]
  },
  {
   "cell_type": "code",
   "execution_count": 254,
   "id": "8f09e9bb-337b-455f-9598-1bdf110b9f4c",
   "metadata": {},
   "outputs": [
    {
     "data": {
      "text/plain": [
       "{'_name': 'Alex'}"
      ]
     },
     "execution_count": 254,
     "metadata": {},
     "output_type": "execute_result"
    }
   ],
   "source": [
    "p.__dict__"
   ]
  },
  {
   "cell_type": "markdown",
   "id": "d93ef491-44d2-4936-a054-0a9389fa2401",
   "metadata": {},
   "source": [
    "# Read-Only and Computed properties"
   ]
  },
  {
   "cell_type": "code",
   "execution_count": 255,
   "id": "99f79542-a178-42eb-b769-a82b05a5755a",
   "metadata": {},
   "outputs": [],
   "source": [
    "import math"
   ]
  },
  {
   "cell_type": "code",
   "execution_count": 297,
   "id": "0a44b233-8e68-4deb-8331-286275c0c2f1",
   "metadata": {},
   "outputs": [],
   "source": [
    "class Circle:\n",
    "    def __init__(self, radius):\n",
    "        self.radius = radius\n",
    "        self._area = None\n",
    "\n",
    "    @property\n",
    "    def radius(self):\n",
    "        return self._radius\n",
    "\n",
    "    @radius.setter\n",
    "    def radius(self, radius):\n",
    "        if radius < 0:\n",
    "            raise ValueError('Radius must be non-negative')\n",
    "        self._radius = radius\n",
    "        self._area = None  # invalidate area if radius changes\n",
    "        \n",
    "    @property\n",
    "    def area(self): # area is a property not a method now. feels natural\n",
    "        if not self._area:\n",
    "            print(f'calculating area')\n",
    "            self._area = math.pi * (self.radius ** 2)\n",
    "        return self._area\n"
   ]
  },
  {
   "cell_type": "code",
   "execution_count": 298,
   "id": "9bd671bb-36e4-47c1-b755-fc0231e67a86",
   "metadata": {},
   "outputs": [],
   "source": [
    "c1 = Circle(10)"
   ]
  },
  {
   "cell_type": "code",
   "execution_count": 299,
   "id": "8b7c2518-aa9c-49a5-8978-4557ba544442",
   "metadata": {},
   "outputs": [],
   "source": [
    "c1.radius= 100"
   ]
  },
  {
   "cell_type": "code",
   "execution_count": 300,
   "id": "52625de4-5c83-4716-87f0-b30ef68ad9eb",
   "metadata": {},
   "outputs": [
    {
     "data": {
      "text/plain": [
       "100"
      ]
     },
     "execution_count": 300,
     "metadata": {},
     "output_type": "execute_result"
    }
   ],
   "source": [
    "c1.radius"
   ]
  },
  {
   "cell_type": "code",
   "execution_count": 301,
   "id": "70af6442-61a8-4d57-8d2b-3cfd38c72a25",
   "metadata": {},
   "outputs": [
    {
     "name": "stdout",
     "output_type": "stream",
     "text": [
      "calculating area\n"
     ]
    },
    {
     "data": {
      "text/plain": [
       "31415.926535897932"
      ]
     },
     "execution_count": 301,
     "metadata": {},
     "output_type": "execute_result"
    }
   ],
   "source": [
    "c1.area"
   ]
  },
  {
   "cell_type": "code",
   "execution_count": 302,
   "id": "25012ad9-0536-4214-bcbd-6b0c331e41af",
   "metadata": {},
   "outputs": [
    {
     "data": {
      "text/plain": [
       "31415.926535897932"
      ]
     },
     "execution_count": 302,
     "metadata": {},
     "output_type": "execute_result"
    }
   ],
   "source": [
    "c1.area"
   ]
  },
  {
   "cell_type": "code",
   "execution_count": 303,
   "id": "299c7131-afc9-4edb-b03c-9f2202366dc2",
   "metadata": {},
   "outputs": [],
   "source": [
    "c1.radius = 10"
   ]
  },
  {
   "cell_type": "code",
   "execution_count": 304,
   "id": "9b0bab08-3775-469c-945e-39738a28137b",
   "metadata": {},
   "outputs": [
    {
     "name": "stdout",
     "output_type": "stream",
     "text": [
      "calculating area\n"
     ]
    },
    {
     "data": {
      "text/plain": [
       "314.1592653589793"
      ]
     },
     "execution_count": 304,
     "metadata": {},
     "output_type": "execute_result"
    }
   ],
   "source": [
    "c1.area"
   ]
  },
  {
   "cell_type": "code",
   "execution_count": 305,
   "id": "e5e62cb4-748d-4dd8-9d64-6b0e7876f8a2",
   "metadata": {},
   "outputs": [
    {
     "data": {
      "text/plain": [
       "314.1592653589793"
      ]
     },
     "execution_count": 305,
     "metadata": {},
     "output_type": "execute_result"
    }
   ],
   "source": [
    "c1.area"
   ]
  },
  {
   "cell_type": "code",
   "execution_count": 306,
   "id": "a888833c-389a-4dca-b9f5-abe29c5a8aa3",
   "metadata": {},
   "outputs": [
    {
     "data": {
      "text/plain": [
       "{'_radius': 10, '_area': 314.1592653589793}"
      ]
     },
     "execution_count": 306,
     "metadata": {},
     "output_type": "execute_result"
    }
   ],
   "source": [
    "c1.__dict__"
   ]
  },
  {
   "cell_type": "code",
   "execution_count": 307,
   "id": "79a05337-a321-4fad-a306-61bdf74c55f4",
   "metadata": {},
   "outputs": [
    {
     "data": {
      "text/plain": [
       "mappingproxy({'__module__': '__main__',\n",
       "              '__firstlineno__': 1,\n",
       "              '__init__': <function __main__.Circle.__init__(self, radius)>,\n",
       "              'radius': <property at 0x107a97920>,\n",
       "              'area': <property at 0x107ab9530>,\n",
       "              '__static_attributes__': ('_area', '_radius', 'radius'),\n",
       "              '__dict__': <attribute '__dict__' of 'Circle' objects>,\n",
       "              '__weakref__': <attribute '__weakref__' of 'Circle' objects>,\n",
       "              '__doc__': None})"
      ]
     },
     "execution_count": 307,
     "metadata": {},
     "output_type": "execute_result"
    }
   ],
   "source": [
    "Circle.__dict__"
   ]
  },
  {
   "cell_type": "markdown",
   "id": "d47e89d2-d29c-4bb5-bcc1-52f071d00aaa",
   "metadata": {},
   "source": [
    "# Deleting INSTANCE property"
   ]
  },
  {
   "cell_type": "code",
   "execution_count": 318,
   "id": "5c01b45e-9e4c-4ad5-9c02-83aba013aa5c",
   "metadata": {},
   "outputs": [],
   "source": [
    "class Circle:\n",
    "    def __init__(self, radius, color):\n",
    "        self.radius = radius\n",
    "        self.color = color\n",
    "\n",
    "    @property\n",
    "    def radius(self):\n",
    "        return self._radius\n",
    "\n",
    "    @radius.setter\n",
    "    def radius(self, radius):\n",
    "        if radius < 0:\n",
    "            raise ValueError('radius cannot be non-negative')\n",
    "        self._radius = radius\n",
    "\n",
    "    @property\n",
    "    def color(self):\n",
    "        return self._color\n",
    "\n",
    "    @color.setter\n",
    "    def color(self, color):\n",
    "        if not isinstance(color, str) or color not in ['red', 'green', 'blue']:\n",
    "            raise ValueError(\"color has to be red, blue or green\")\n",
    "        self._color = color\n",
    "\n",
    "    @color.deleter\n",
    "    def color(self):\n",
    "        del self._color"
   ]
  },
  {
   "cell_type": "code",
   "execution_count": 321,
   "id": "0cfcac6e-f068-4724-8e7b-1ddbc20539f9",
   "metadata": {},
   "outputs": [],
   "source": [
    "c1 = Circle(10, 'red')"
   ]
  },
  {
   "cell_type": "code",
   "execution_count": 322,
   "id": "0556e7ad-fa00-4cc3-b3c8-dd88c764f464",
   "metadata": {},
   "outputs": [
    {
     "data": {
      "text/plain": [
       "{'_radius': 10, '_color': 'red'}"
      ]
     },
     "execution_count": 322,
     "metadata": {},
     "output_type": "execute_result"
    }
   ],
   "source": [
    "c1.__dict__"
   ]
  },
  {
   "cell_type": "code",
   "execution_count": 323,
   "id": "09c2e2e1-a6ce-4943-87a6-900a2ffe6753",
   "metadata": {},
   "outputs": [
    {
     "data": {
      "text/plain": [
       "'red'"
      ]
     },
     "execution_count": 323,
     "metadata": {},
     "output_type": "execute_result"
    }
   ],
   "source": [
    "c1.color"
   ]
  },
  {
   "cell_type": "code",
   "execution_count": 325,
   "id": "77a4d17f-4bec-4137-b8b7-ef6179dd381a",
   "metadata": {},
   "outputs": [
    {
     "ename": "ValueError",
     "evalue": "color has to be red, blue or green",
     "output_type": "error",
     "traceback": [
      "\u001b[31m---------------------------------------------------------------------------\u001b[39m",
      "\u001b[31mValueError\u001b[39m                                Traceback (most recent call last)",
      "\u001b[36mCell\u001b[39m\u001b[36m \u001b[39m\u001b[32mIn[325]\u001b[39m\u001b[32m, line 1\u001b[39m\n\u001b[32m----> \u001b[39m\u001b[32m1\u001b[39m \u001b[43mc1\u001b[49m\u001b[43m.\u001b[49m\u001b[43mcolor\u001b[49m = \u001b[33m'\u001b[39m\u001b[33mpurple\u001b[39m\u001b[33m'\u001b[39m\n",
      "\u001b[36mCell\u001b[39m\u001b[36m \u001b[39m\u001b[32mIn[318]\u001b[39m\u001b[32m, line 23\u001b[39m, in \u001b[36mCircle.color\u001b[39m\u001b[34m(self, color)\u001b[39m\n\u001b[32m     20\u001b[39m \u001b[38;5;129m@color\u001b[39m.setter\n\u001b[32m     21\u001b[39m \u001b[38;5;28;01mdef\u001b[39;00m\u001b[38;5;250m \u001b[39m\u001b[34mcolor\u001b[39m(\u001b[38;5;28mself\u001b[39m, color):\n\u001b[32m     22\u001b[39m     \u001b[38;5;28;01mif\u001b[39;00m \u001b[38;5;129;01mnot\u001b[39;00m \u001b[38;5;28misinstance\u001b[39m(color, \u001b[38;5;28mstr\u001b[39m) \u001b[38;5;129;01mor\u001b[39;00m color \u001b[38;5;129;01mnot\u001b[39;00m \u001b[38;5;129;01min\u001b[39;00m [\u001b[33m'\u001b[39m\u001b[33mred\u001b[39m\u001b[33m'\u001b[39m, \u001b[33m'\u001b[39m\u001b[33mgreen\u001b[39m\u001b[33m'\u001b[39m, \u001b[33m'\u001b[39m\u001b[33mblue\u001b[39m\u001b[33m'\u001b[39m]:\n\u001b[32m---> \u001b[39m\u001b[32m23\u001b[39m         \u001b[38;5;28;01mraise\u001b[39;00m \u001b[38;5;167;01mValueError\u001b[39;00m(\u001b[33m\"\u001b[39m\u001b[33mcolor has to be red, blue or green\u001b[39m\u001b[33m\"\u001b[39m)\n\u001b[32m     24\u001b[39m     \u001b[38;5;28mself\u001b[39m._color = color\n",
      "\u001b[31mValueError\u001b[39m: color has to be red, blue or green"
     ]
    }
   ],
   "source": [
    "c1.color = 'purple'"
   ]
  },
  {
   "cell_type": "code",
   "execution_count": 326,
   "id": "2092197f-0581-4bf4-8a2a-c647e99c24a5",
   "metadata": {},
   "outputs": [
    {
     "data": {
      "text/plain": [
       "{'_radius': 10}"
      ]
     },
     "execution_count": 326,
     "metadata": {},
     "output_type": "execute_result"
    }
   ],
   "source": [
    "del c1.color\n",
    "c1.__dict__"
   ]
  },
  {
   "cell_type": "code",
   "execution_count": 328,
   "id": "870c9210-8106-49cf-8155-1a0e58238941",
   "metadata": {},
   "outputs": [
    {
     "ename": "ValueError",
     "evalue": "color has to be red, blue or green",
     "output_type": "error",
     "traceback": [
      "\u001b[31m---------------------------------------------------------------------------\u001b[39m",
      "\u001b[31mValueError\u001b[39m                                Traceback (most recent call last)",
      "\u001b[36mCell\u001b[39m\u001b[36m \u001b[39m\u001b[32mIn[328]\u001b[39m\u001b[32m, line 1\u001b[39m\n\u001b[32m----> \u001b[39m\u001b[32m1\u001b[39m \u001b[43mc1\u001b[49m\u001b[43m.\u001b[49m\u001b[43mcolor\u001b[49m = \u001b[33m'\u001b[39m\u001b[33mpink\u001b[39m\u001b[33m'\u001b[39m\n",
      "\u001b[36mCell\u001b[39m\u001b[36m \u001b[39m\u001b[32mIn[318]\u001b[39m\u001b[32m, line 23\u001b[39m, in \u001b[36mCircle.color\u001b[39m\u001b[34m(self, color)\u001b[39m\n\u001b[32m     20\u001b[39m \u001b[38;5;129m@color\u001b[39m.setter\n\u001b[32m     21\u001b[39m \u001b[38;5;28;01mdef\u001b[39;00m\u001b[38;5;250m \u001b[39m\u001b[34mcolor\u001b[39m(\u001b[38;5;28mself\u001b[39m, color):\n\u001b[32m     22\u001b[39m     \u001b[38;5;28;01mif\u001b[39;00m \u001b[38;5;129;01mnot\u001b[39;00m \u001b[38;5;28misinstance\u001b[39m(color, \u001b[38;5;28mstr\u001b[39m) \u001b[38;5;129;01mor\u001b[39;00m color \u001b[38;5;129;01mnot\u001b[39;00m \u001b[38;5;129;01min\u001b[39;00m [\u001b[33m'\u001b[39m\u001b[33mred\u001b[39m\u001b[33m'\u001b[39m, \u001b[33m'\u001b[39m\u001b[33mgreen\u001b[39m\u001b[33m'\u001b[39m, \u001b[33m'\u001b[39m\u001b[33mblue\u001b[39m\u001b[33m'\u001b[39m]:\n\u001b[32m---> \u001b[39m\u001b[32m23\u001b[39m         \u001b[38;5;28;01mraise\u001b[39;00m \u001b[38;5;167;01mValueError\u001b[39;00m(\u001b[33m\"\u001b[39m\u001b[33mcolor has to be red, blue or green\u001b[39m\u001b[33m\"\u001b[39m)\n\u001b[32m     24\u001b[39m     \u001b[38;5;28mself\u001b[39m._color = color\n",
      "\u001b[31mValueError\u001b[39m: color has to be red, blue or green"
     ]
    }
   ],
   "source": [
    "c1.color = 'pink'"
   ]
  },
  {
   "cell_type": "code",
   "execution_count": 330,
   "id": "ae8054fb-482e-46c2-836f-2fc33d878c92",
   "metadata": {},
   "outputs": [],
   "source": [
    "c1.color= 'blue'"
   ]
  },
  {
   "cell_type": "markdown",
   "id": "c562863b-8a7a-43f2-af25-e7ab09b81ca8",
   "metadata": {},
   "source": [
    "# Class and Static Methods"
   ]
  },
  {
   "cell_type": "code",
   "execution_count": 409,
   "id": "7714e0b2-4382-4a2a-9d7c-8a7a8f7b99fb",
   "metadata": {},
   "outputs": [],
   "source": [
    "class Hello:\n",
    "\n",
    "    def plain_hello():\n",
    "        print(\"plain hello\")\n",
    "\n",
    "    def instance_hello(self):\n",
    "        print(f\"{self} hello\")\n",
    "\n",
    "    @classmethod # Bound to a class allways, customary to use cls instead of self\n",
    "    def class_hello(self):\n",
    "        print(f'class hello {self}')\n",
    "\n",
    "    @staticmethod  # UNBOUNDED , not bounded to class or instance\n",
    "    def static_hello():\n",
    "        print(f'static hello')\n",
    "\n",
    "\n",
    "h = Hello()"
   ]
  },
  {
   "cell_type": "code",
   "execution_count": 410,
   "id": "6d60874d-6ef6-49ca-88a6-db2c7fc91f6a",
   "metadata": {},
   "outputs": [
    {
     "data": {
      "text/plain": [
       "(<function __main__.Hello.plain_hello()>,\n",
       " <bound method Hello.plain_hello of <__main__.Hello object at 0x10648d2b0>>)"
      ]
     },
     "execution_count": 410,
     "metadata": {},
     "output_type": "execute_result"
    }
   ],
   "source": [
    "Hello.plain_hello, h.plain_hello"
   ]
  },
  {
   "cell_type": "code",
   "execution_count": 411,
   "id": "c53fe9b2-27e2-42ce-8883-9525e5a4e086",
   "metadata": {},
   "outputs": [
    {
     "name": "stdout",
     "output_type": "stream",
     "text": [
      "plain hello\n"
     ]
    }
   ],
   "source": [
    "Hello.plain_hello()"
   ]
  },
  {
   "cell_type": "code",
   "execution_count": 412,
   "id": "98b2700a-3e2c-4822-84eb-f82999f4357b",
   "metadata": {},
   "outputs": [
    {
     "ename": "TypeError",
     "evalue": "Hello.plain_hello() takes 0 positional arguments but 1 was given",
     "output_type": "error",
     "traceback": [
      "\u001b[31m---------------------------------------------------------------------------\u001b[39m",
      "\u001b[31mTypeError\u001b[39m                                 Traceback (most recent call last)",
      "\u001b[36mCell\u001b[39m\u001b[36m \u001b[39m\u001b[32mIn[412]\u001b[39m\u001b[32m, line 1\u001b[39m\n\u001b[32m----> \u001b[39m\u001b[32m1\u001b[39m \u001b[43mh\u001b[49m\u001b[43m.\u001b[49m\u001b[43mplain_hello\u001b[49m\u001b[43m(\u001b[49m\u001b[43m)\u001b[49m\n",
      "\u001b[31mTypeError\u001b[39m: Hello.plain_hello() takes 0 positional arguments but 1 was given"
     ]
    }
   ],
   "source": [
    "h.plain_hello()"
   ]
  },
  {
   "cell_type": "code",
   "execution_count": 413,
   "id": "faf69c51-7b61-4284-b2c7-9ad56b0dfe63",
   "metadata": {},
   "outputs": [
    {
     "data": {
      "text/plain": [
       "(<function __main__.Hello.instance_hello(self)>,\n",
       " <bound method Hello.instance_hello of <__main__.Hello object at 0x10648d2b0>>)"
      ]
     },
     "execution_count": 413,
     "metadata": {},
     "output_type": "execute_result"
    }
   ],
   "source": [
    "Hello.instance_hello, h.instance_hello"
   ]
  },
  {
   "cell_type": "code",
   "execution_count": 414,
   "id": "8203fdb1-2d5e-4fce-8b89-66354f8332a2",
   "metadata": {},
   "outputs": [
    {
     "ename": "TypeError",
     "evalue": "Hello.instance_hello() missing 1 required positional argument: 'self'",
     "output_type": "error",
     "traceback": [
      "\u001b[31m---------------------------------------------------------------------------\u001b[39m",
      "\u001b[31mTypeError\u001b[39m                                 Traceback (most recent call last)",
      "\u001b[36mCell\u001b[39m\u001b[36m \u001b[39m\u001b[32mIn[414]\u001b[39m\u001b[32m, line 1\u001b[39m\n\u001b[32m----> \u001b[39m\u001b[32m1\u001b[39m \u001b[43mHello\u001b[49m\u001b[43m.\u001b[49m\u001b[43minstance_hello\u001b[49m\u001b[43m(\u001b[49m\u001b[43m)\u001b[49m\n",
      "\u001b[31mTypeError\u001b[39m: Hello.instance_hello() missing 1 required positional argument: 'self'"
     ]
    }
   ],
   "source": [
    "Hello.instance_hello()"
   ]
  },
  {
   "cell_type": "code",
   "execution_count": 415,
   "id": "c8aed66b-a8b6-4c22-b980-de34a8f645d8",
   "metadata": {},
   "outputs": [
    {
     "name": "stdout",
     "output_type": "stream",
     "text": [
      "<__main__.Hello object at 0x10648d2b0> hello\n"
     ]
    }
   ],
   "source": [
    "h.instance_hello()"
   ]
  },
  {
   "cell_type": "code",
   "execution_count": 416,
   "id": "c7cf3e0d-794e-498e-97b8-3323089a0a77",
   "metadata": {},
   "outputs": [
    {
     "data": {
      "text/plain": [
       "(<bound method Hello.class_hello of <class '__main__.Hello'>>,\n",
       " <bound method Hello.class_hello of <class '__main__.Hello'>>)"
      ]
     },
     "execution_count": 416,
     "metadata": {},
     "output_type": "execute_result"
    }
   ],
   "source": [
    "# Function bound to class allways\n",
    "Hello.class_hello, h.class_hello"
   ]
  },
  {
   "cell_type": "code",
   "execution_count": 417,
   "id": "cd03446e-5f34-4af4-ac96-629585a340e1",
   "metadata": {},
   "outputs": [
    {
     "name": "stdout",
     "output_type": "stream",
     "text": [
      "class hello <class '__main__.Hello'>\n"
     ]
    }
   ],
   "source": [
    "Hello.class_hello()"
   ]
  },
  {
   "cell_type": "code",
   "execution_count": 418,
   "id": "0dc8f688-7a32-4543-a003-274a94b4ad65",
   "metadata": {},
   "outputs": [
    {
     "name": "stdout",
     "output_type": "stream",
     "text": [
      "class hello <class '__main__.Hello'>\n"
     ]
    }
   ],
   "source": [
    "h.class_hello()"
   ]
  },
  {
   "cell_type": "code",
   "execution_count": 419,
   "id": "586eed08-24d5-44c9-ae6a-180ef43f1674",
   "metadata": {},
   "outputs": [
    {
     "data": {
      "text/plain": [
       "(<function __main__.Hello.static_hello()>,\n",
       " <function __main__.Hello.static_hello()>)"
      ]
     },
     "execution_count": 419,
     "metadata": {},
     "output_type": "execute_result"
    }
   ],
   "source": [
    "# Function not bound to anything (neither class nor instance)\n",
    "Hello.static_hello, h.static_hello"
   ]
  },
  {
   "cell_type": "code",
   "execution_count": 420,
   "id": "774571e7-63a4-4e80-9194-c89e7c8efc8e",
   "metadata": {},
   "outputs": [
    {
     "name": "stdout",
     "output_type": "stream",
     "text": [
      "static hello\n"
     ]
    }
   ],
   "source": [
    "Hello.static_hello()"
   ]
  },
  {
   "cell_type": "code",
   "execution_count": 421,
   "id": "ffaef8c2-f11a-4959-8c0a-2aa4f335d3fe",
   "metadata": {},
   "outputs": [
    {
     "name": "stdout",
     "output_type": "stream",
     "text": [
      "static hello\n"
     ]
    }
   ],
   "source": [
    "h.static_hello()"
   ]
  },
  {
   "cell_type": "markdown",
   "id": "4d778dc5-4288-4044-93da-e365783cb9be",
   "metadata": {},
   "source": [
    "# SCOPE"
   ]
  },
  {
   "cell_type": "code",
   "execution_count": 431,
   "id": "9b8471b0-44bd-4300-818b-b4cb611bafa3",
   "metadata": {},
   "outputs": [],
   "source": [
    "class Language:\n",
    "    major = 3\n",
    "    minor = 2\n",
    "    revision = 7\n",
    "\n",
    "    @property\n",
    "    def version(self):\n",
    "        return f'{major}.{self.minor}.{self.revision}'\n",
    "\n",
    "\n",
    "l = Language()"
   ]
  },
  {
   "cell_type": "code",
   "execution_count": 432,
   "id": "f22727eb-76a4-4548-ac5e-eced4a3c6453",
   "metadata": {},
   "outputs": [
    {
     "data": {
      "text/plain": [
       "<property at 0x107af1bc0>"
      ]
     },
     "execution_count": 432,
     "metadata": {},
     "output_type": "execute_result"
    }
   ],
   "source": [
    "Language.version"
   ]
  },
  {
   "cell_type": "code",
   "execution_count": 433,
   "id": "84bd3bd7-02fb-4a42-9253-f0909ca12be7",
   "metadata": {},
   "outputs": [
    {
     "ename": "NameError",
     "evalue": "name 'major' is not defined",
     "output_type": "error",
     "traceback": [
      "\u001b[31m---------------------------------------------------------------------------\u001b[39m",
      "\u001b[31mNameError\u001b[39m                                 Traceback (most recent call last)",
      "\u001b[36mCell\u001b[39m\u001b[36m \u001b[39m\u001b[32mIn[433]\u001b[39m\u001b[32m, line 1\u001b[39m\n\u001b[32m----> \u001b[39m\u001b[32m1\u001b[39m \u001b[43ml\u001b[49m\u001b[43m.\u001b[49m\u001b[43mversion\u001b[49m\n",
      "\u001b[36mCell\u001b[39m\u001b[36m \u001b[39m\u001b[32mIn[431]\u001b[39m\u001b[32m, line 8\u001b[39m, in \u001b[36mLanguage.version\u001b[39m\u001b[34m(self)\u001b[39m\n\u001b[32m      6\u001b[39m \u001b[38;5;129m@property\u001b[39m\n\u001b[32m      7\u001b[39m \u001b[38;5;28;01mdef\u001b[39;00m\u001b[38;5;250m \u001b[39m\u001b[34mversion\u001b[39m(\u001b[38;5;28mself\u001b[39m):\n\u001b[32m----> \u001b[39m\u001b[32m8\u001b[39m     \u001b[38;5;28;01mreturn\u001b[39;00m \u001b[33mf\u001b[39m\u001b[33m'\u001b[39m\u001b[38;5;132;01m{\u001b[39;00m\u001b[43mmajor\u001b[49m\u001b[38;5;132;01m}\u001b[39;00m\u001b[33m.\u001b[39m\u001b[38;5;132;01m{\u001b[39;00m\u001b[38;5;28mself\u001b[39m.minor\u001b[38;5;132;01m}\u001b[39;00m\u001b[33m.\u001b[39m\u001b[38;5;132;01m{\u001b[39;00m\u001b[38;5;28mself\u001b[39m.revision\u001b[38;5;132;01m}\u001b[39;00m\u001b[33m'\u001b[39m\n",
      "\u001b[31mNameError\u001b[39m: name 'major' is not defined"
     ]
    }
   ],
   "source": [
    "l.version"
   ]
  },
  {
   "cell_type": "code",
   "execution_count": 434,
   "id": "36652e6f-b123-4de2-8655-23c917e165e0",
   "metadata": {},
   "outputs": [],
   "source": [
    "class Language:\n",
    "    major = 3\n",
    "    minor = 2\n",
    "    revision = 7\n",
    "\n",
    "    @property\n",
    "    def version(self):\n",
    "        return f'{self.major}.{self.minor}.{self.revision}'\n",
    "\n",
    "\n",
    "l = Language()"
   ]
  },
  {
   "cell_type": "code",
   "execution_count": 435,
   "id": "ca40a87d-590b-4295-9efd-c24ef92800ba",
   "metadata": {},
   "outputs": [
    {
     "data": {
      "text/plain": [
       "'3.2.7'"
      ]
     },
     "execution_count": 435,
     "metadata": {},
     "output_type": "execute_result"
    }
   ],
   "source": [
    "l.version"
   ]
  },
  {
   "cell_type": "code",
   "execution_count": 455,
   "id": "73bba3d4-e8d7-4e51-a20c-e97ab039c838",
   "metadata": {},
   "outputs": [],
   "source": [
    "class Language:\n",
    "    major = 3\n",
    "    minor = 2\n",
    "    revision = 7\n",
    "\n",
    "    @property\n",
    "    def version(self):\n",
    "        return f'{self.major}.{self.minor}.{self.revision}'\n",
    "\n",
    "\n",
    "    # This is bounded to class\n",
    "    @classmethod\n",
    "    def cls_version(cls):\n",
    "        return f'{cls.major}.{cls.minor}.{cls.revision}'\n",
    "\n",
    "l = Language()"
   ]
  },
  {
   "cell_type": "code",
   "execution_count": 452,
   "id": "be435cc7-1c78-4e81-a261-9c95c737b45a",
   "metadata": {},
   "outputs": [
    {
     "data": {
      "text/plain": [
       "'3.2.7'"
      ]
     },
     "execution_count": 452,
     "metadata": {},
     "output_type": "execute_result"
    }
   ],
   "source": [
    "Language.cls_version()"
   ]
  },
  {
   "cell_type": "code",
   "execution_count": 454,
   "id": "5736e72d-bd47-48b1-95ca-c0f2d83c9827",
   "metadata": {},
   "outputs": [
    {
     "data": {
      "text/plain": [
       "'3.2.7'"
      ]
     },
     "execution_count": 454,
     "metadata": {},
     "output_type": "execute_result"
    }
   ],
   "source": [
    "l.cls_version()"
   ]
  },
  {
   "cell_type": "code",
   "execution_count": 456,
   "id": "33d78aba-e5f6-4e22-a060-14fa3dd0d89a",
   "metadata": {},
   "outputs": [
    {
     "data": {
      "text/plain": [
       "<bound method Language.cls_version of <class '__main__.Language'>>"
      ]
     },
     "execution_count": 456,
     "metadata": {},
     "output_type": "execute_result"
    }
   ],
   "source": [
    "Language.cls_version"
   ]
  },
  {
   "cell_type": "code",
   "execution_count": 457,
   "id": "bfefbdd5-42ea-41c8-bfc8-58c5919ed75d",
   "metadata": {},
   "outputs": [
    {
     "data": {
      "text/plain": [
       "<bound method Language.cls_version of <class '__main__.Language'>>"
      ]
     },
     "execution_count": 457,
     "metadata": {},
     "output_type": "execute_result"
    }
   ],
   "source": [
    "l.cls_version"
   ]
  },
  {
   "cell_type": "code",
   "execution_count": 458,
   "id": "cc70aa6d-1494-4cbb-a8cd-65f21e52a2fe",
   "metadata": {},
   "outputs": [],
   "source": [
    "class Language:\n",
    "    major = 3\n",
    "    minor = 2\n",
    "    revision = 7\n",
    "\n",
    "    @property\n",
    "    def version(self):\n",
    "        return f'{self.major}.{self.minor}.{self.revision}'\n",
    "\n",
    "\n",
    "    # This is bounded to class\n",
    "    @classmethod\n",
    "    def cls_version(cls):\n",
    "        return f'{cls.major}.{cls.minor}.{cls.revision}'\n",
    "\n",
    "\n",
    "    @staticmethod\n",
    "    def static_version():\n",
    "        return f'{major}.{minor}.{revision}'\n",
    "\n",
    "l = Language()"
   ]
  },
  {
   "cell_type": "code",
   "execution_count": 459,
   "id": "6ef91887-00d0-48f1-b132-beac1408d526",
   "metadata": {},
   "outputs": [
    {
     "ename": "NameError",
     "evalue": "name 'major' is not defined",
     "output_type": "error",
     "traceback": [
      "\u001b[31m---------------------------------------------------------------------------\u001b[39m",
      "\u001b[31mNameError\u001b[39m                                 Traceback (most recent call last)",
      "\u001b[36mCell\u001b[39m\u001b[36m \u001b[39m\u001b[32mIn[459]\u001b[39m\u001b[32m, line 1\u001b[39m\n\u001b[32m----> \u001b[39m\u001b[32m1\u001b[39m \u001b[43mLanguage\u001b[49m\u001b[43m.\u001b[49m\u001b[43mstatic_version\u001b[49m\u001b[43m(\u001b[49m\u001b[43m)\u001b[49m\n",
      "\u001b[36mCell\u001b[39m\u001b[36m \u001b[39m\u001b[32mIn[458]\u001b[39m\u001b[32m, line 19\u001b[39m, in \u001b[36mLanguage.static_version\u001b[39m\u001b[34m()\u001b[39m\n\u001b[32m     17\u001b[39m \u001b[38;5;129m@staticmethod\u001b[39m\n\u001b[32m     18\u001b[39m \u001b[38;5;28;01mdef\u001b[39;00m\u001b[38;5;250m \u001b[39m\u001b[34mstatic_version\u001b[39m():\n\u001b[32m---> \u001b[39m\u001b[32m19\u001b[39m     \u001b[38;5;28;01mreturn\u001b[39;00m \u001b[33mf\u001b[39m\u001b[33m'\u001b[39m\u001b[38;5;132;01m{\u001b[39;00m\u001b[43mmajor\u001b[49m\u001b[38;5;132;01m}\u001b[39;00m\u001b[33m.\u001b[39m\u001b[38;5;132;01m{\u001b[39;00mminor\u001b[38;5;132;01m}\u001b[39;00m\u001b[33m.\u001b[39m\u001b[38;5;132;01m{\u001b[39;00mrevision\u001b[38;5;132;01m}\u001b[39;00m\u001b[33m'\u001b[39m\n",
      "\u001b[31mNameError\u001b[39m: name 'major' is not defined"
     ]
    }
   ],
   "source": [
    "Language.static_version()"
   ]
  },
  {
   "cell_type": "code",
   "execution_count": 461,
   "id": "8bcd2d2c-4fec-4dc2-8eb9-4dbaf06a0d6e",
   "metadata": {},
   "outputs": [
    {
     "ename": "NameError",
     "evalue": "name 'major' is not defined",
     "output_type": "error",
     "traceback": [
      "\u001b[31m---------------------------------------------------------------------------\u001b[39m",
      "\u001b[31mNameError\u001b[39m                                 Traceback (most recent call last)",
      "\u001b[36mCell\u001b[39m\u001b[36m \u001b[39m\u001b[32mIn[461]\u001b[39m\u001b[32m, line 1\u001b[39m\n\u001b[32m----> \u001b[39m\u001b[32m1\u001b[39m \u001b[43ml\u001b[49m\u001b[43m.\u001b[49m\u001b[43mstatic_version\u001b[49m\u001b[43m(\u001b[49m\u001b[43m)\u001b[49m\n",
      "\u001b[36mCell\u001b[39m\u001b[36m \u001b[39m\u001b[32mIn[458]\u001b[39m\u001b[32m, line 19\u001b[39m, in \u001b[36mLanguage.static_version\u001b[39m\u001b[34m()\u001b[39m\n\u001b[32m     17\u001b[39m \u001b[38;5;129m@staticmethod\u001b[39m\n\u001b[32m     18\u001b[39m \u001b[38;5;28;01mdef\u001b[39;00m\u001b[38;5;250m \u001b[39m\u001b[34mstatic_version\u001b[39m():\n\u001b[32m---> \u001b[39m\u001b[32m19\u001b[39m     \u001b[38;5;28;01mreturn\u001b[39;00m \u001b[33mf\u001b[39m\u001b[33m'\u001b[39m\u001b[38;5;132;01m{\u001b[39;00m\u001b[43mmajor\u001b[49m\u001b[38;5;132;01m}\u001b[39;00m\u001b[33m.\u001b[39m\u001b[38;5;132;01m{\u001b[39;00mminor\u001b[38;5;132;01m}\u001b[39;00m\u001b[33m.\u001b[39m\u001b[38;5;132;01m{\u001b[39;00mrevision\u001b[38;5;132;01m}\u001b[39;00m\u001b[33m'\u001b[39m\n",
      "\u001b[31mNameError\u001b[39m: name 'major' is not defined"
     ]
    }
   ],
   "source": [
    "l.static_version()"
   ]
  },
  {
   "cell_type": "markdown",
   "id": "42b9f98f-719a-447f-98c0-dd7f24783943",
   "metadata": {},
   "source": [
    "# Python is looking for major outside the class scope"
   ]
  },
  {
   "cell_type": "code",
   "execution_count": 466,
   "id": "da39f063-eea4-421e-8541-711a06b0a90d",
   "metadata": {},
   "outputs": [],
   "source": [
    "class Language:\n",
    "    major = 3\n",
    "    minor = 2\n",
    "    revision = 7\n",
    "\n",
    "    @property\n",
    "    def version(self):\n",
    "        return f'{self.major}.{self.minor}.{self.revision}'\n",
    "\n",
    "\n",
    "    # This is bounded to class\n",
    "    @classmethod\n",
    "    def cls_version(cls):\n",
    "        return f'{cls.major}.{cls.minor}.{cls.revision}'\n",
    "\n",
    "    # This method is not bounded to ANYTHING\n",
    "    @staticmethod\n",
    "    def static_version(self):\n",
    "        return f'{self.major}.{self.minor}.{self.revision}'\n",
    "\n",
    "l = Language()"
   ]
  },
  {
   "cell_type": "code",
   "execution_count": 467,
   "id": "739a84e7-ee11-4cab-87d1-2abba5842066",
   "metadata": {},
   "outputs": [
    {
     "ename": "TypeError",
     "evalue": "Language.static_version() missing 1 required positional argument: 'self'",
     "output_type": "error",
     "traceback": [
      "\u001b[31m---------------------------------------------------------------------------\u001b[39m",
      "\u001b[31mTypeError\u001b[39m                                 Traceback (most recent call last)",
      "\u001b[36mCell\u001b[39m\u001b[36m \u001b[39m\u001b[32mIn[467]\u001b[39m\u001b[32m, line 1\u001b[39m\n\u001b[32m----> \u001b[39m\u001b[32m1\u001b[39m \u001b[43ml\u001b[49m\u001b[43m.\u001b[49m\u001b[43mstatic_version\u001b[49m\u001b[43m(\u001b[49m\u001b[43m)\u001b[49m\n",
      "\u001b[31mTypeError\u001b[39m: Language.static_version() missing 1 required positional argument: 'self'"
     ]
    }
   ],
   "source": [
    "l.static_version()"
   ]
  },
  {
   "cell_type": "code",
   "execution_count": 468,
   "id": "3d312eda-aa88-4950-aa71-59c7ce9c1984",
   "metadata": {},
   "outputs": [],
   "source": [
    "class Language:\n",
    "    major = 3\n",
    "    minor = 2\n",
    "    revision = 7\n",
    "\n",
    "    @property\n",
    "    def version(self):\n",
    "        return f'{self.major}.{self.minor}.{self.revision}'\n",
    "\n",
    "\n",
    "    # This is bounded to class\n",
    "    @classmethod\n",
    "    def cls_version(cls):\n",
    "        return f'{cls.major}.{cls.minor}.{cls.revision}'\n",
    "\n",
    "    # This method is not bounded to ANYTHING\n",
    "    @staticmethod\n",
    "    def static_version():\n",
    "        return f'{Language.major}.{Language.minor}.{Language.revision}'\n",
    "\n",
    "l = Language()"
   ]
  },
  {
   "cell_type": "code",
   "execution_count": 470,
   "id": "98845fc4-cf24-4d82-b502-8ef04a4ff7f0",
   "metadata": {},
   "outputs": [
    {
     "data": {
      "text/plain": [
       "'3.2.7'"
      ]
     },
     "execution_count": 470,
     "metadata": {},
     "output_type": "execute_result"
    }
   ],
   "source": [
    "Language.static_version()"
   ]
  },
  {
   "cell_type": "code",
   "execution_count": 472,
   "id": "b1bed12b-33f2-488c-b9ab-1f1995701c9e",
   "metadata": {},
   "outputs": [
    {
     "data": {
      "text/plain": [
       "'3.2.7'"
      ]
     },
     "execution_count": 472,
     "metadata": {},
     "output_type": "execute_result"
    }
   ],
   "source": [
    "l.static_version()"
   ]
  },
  {
   "cell_type": "code",
   "execution_count": 483,
   "id": "260603a9-ea32-4a36-a7ae-73aca466942b",
   "metadata": {},
   "outputs": [],
   "source": [
    "major = 100\n",
    "revision = 700\n",
    "minor = 300\n",
    "\n",
    "class Language:\n",
    "    major = 3\n",
    "    revision = 7\n",
    "    minor = 2\n",
    "    \n",
    "    @property\n",
    "    def version(self):\n",
    "        return f'{self.major}.{self.minor}.{self.revision}'\n",
    "\n",
    "\n",
    "    # This is bounded to class\n",
    "    @classmethod\n",
    "    def cls_version(cls):\n",
    "        return f'{cls.major}.{cls.minor}.{cls.revision}'\n",
    "\n",
    "    # This method is not bounded to ANYTHING\n",
    "    @staticmethod\n",
    "    def static_version():\n",
    "        return f'{Language.major}.{minor}.{revision}'\n",
    "\n",
    "l = Language()"
   ]
  },
  {
   "cell_type": "code",
   "execution_count": 484,
   "id": "5116fb11-ab07-4325-8024-a2dbb187e764",
   "metadata": {},
   "outputs": [
    {
     "data": {
      "text/plain": [
       "'3.300.700'"
      ]
     },
     "execution_count": 484,
     "metadata": {},
     "output_type": "execute_result"
    }
   ],
   "source": [
    "l.static_version()"
   ]
  },
  {
   "cell_type": "code",
   "execution_count": 485,
   "id": "c8017cd2-a4d7-4d03-bb26-f37b23781410",
   "metadata": {},
   "outputs": [
    {
     "data": {
      "text/plain": [
       "ClosureVars(nonlocals={}, globals={'revision': 700, 'minor': 300, 'Language': <class '__main__.Language'>}, builtins={}, unbound={'major'})"
      ]
     },
     "execution_count": 485,
     "metadata": {},
     "output_type": "execute_result"
    }
   ],
   "source": [
    "import inspect\n",
    "inspect.getclosurevars(Language.static_version)"
   ]
  },
  {
   "cell_type": "markdown",
   "id": "bf6cafc6-8f5c-450a-814b-764739f4fbaa",
   "metadata": {},
   "source": [
    "# Puzzle"
   ]
  },
  {
   "cell_type": "code",
   "execution_count": 493,
   "id": "287d43f1-53b5-464c-a1ea-575f0da97473",
   "metadata": {},
   "outputs": [],
   "source": [
    "name = 'Alex'\n",
    "\n",
    "class MyClass:\n",
    "    name = 'Ben'\n",
    "    list_1 = name * 3\n",
    "    list_2 = [name for i in range(3)]\n",
    "    list_3 = [MyClass.name for i in range(3)]\n"
   ]
  },
  {
   "cell_type": "code",
   "execution_count": 494,
   "id": "a24112f0-62f6-4556-a9be-4905fc5a18ec",
   "metadata": {},
   "outputs": [
    {
     "data": {
      "text/plain": [
       "'BenBenBen'"
      ]
     },
     "execution_count": 494,
     "metadata": {},
     "output_type": "execute_result"
    }
   ],
   "source": [
    "MyClass.list_1"
   ]
  },
  {
   "cell_type": "code",
   "execution_count": 495,
   "id": "4d2d4e91-3063-4030-a86e-02c86b0a149c",
   "metadata": {},
   "outputs": [
    {
     "data": {
      "text/plain": [
       "['Alex', 'Alex', 'Alex']"
      ]
     },
     "execution_count": 495,
     "metadata": {},
     "output_type": "execute_result"
    }
   ],
   "source": [
    "MyClass.list_2"
   ]
  },
  {
   "cell_type": "markdown",
   "id": "01ee8bcf-1b65-4276-b36d-fce31453c1f6",
   "metadata": {},
   "source": [
    "## list comprehension is just functions and these functions inside classes look at module scope defining the class to find variables. "
   ]
  },
  {
   "cell_type": "code",
   "execution_count": 496,
   "id": "963eadd4-8c1f-4907-abd2-98efb955f745",
   "metadata": {},
   "outputs": [
    {
     "data": {
      "text/plain": [
       "['Ben', 'Ben', 'Ben']"
      ]
     },
     "execution_count": 496,
     "metadata": {},
     "output_type": "execute_result"
    }
   ],
   "source": [
    "MyClass.list_3"
   ]
  },
  {
   "cell_type": "markdown",
   "id": "1af747c9-d8d4-49fc-8d91-c4f3ce950bf2",
   "metadata": {},
   "source": [
    "### Project\n",
    "We need to design an dimplement a class that will be used to represent bank accounts.\n",
    "\n",
    "We want the following functionality and characteristics:\n",
    "\n",
    "- accounts are uniquely identified by an account number (assume it will just be passed in the initializer)\n",
    "- account holders have a first and last name\n",
    "- accounts have an associated preferred time zone offset (e.g. -7 for MST)\n",
    "- balances need to be zero or higher, and should not be directly settable.\n",
    "- but, deposits and withdrawals can be made (given sufficient funds)\n",
    "    - if a withdrawal is attempted that would result in nagative funds, the transaction should be declined.\n",
    "- a monthly interest rate exists and is applicable to all accounts uniformly. There should be a method that can be called to calculate the interest on the current balance using the current interest rate, and add it to the balance.\n",
    "- each deposit and withdrawal must generate a confirmation number composed of:\n",
    "    - the transaction type: D for deposit, and W for withdrawal, I for interest deposit, and X for declined (in which case the balance remains unaffected)\n",
    "    - the account number\n",
    "    - the time the transaction was made, using UTC\n",
    "    - an incrementing number (that increments across all accounts and transactions)\n",
    "    - for (extreme!) simplicity assume that the transaction id starts at zero (or whatever number you choose) whenever the program starts\n",
    "the confirmation number should be returned from any of the transaction methods (deposit, withdraw, etc)\n",
    "- create a method that, given a confirmation number, returns:\n",
    "    - the account number, transaction code (D, W, etc), datetime (UTC format), date time (in whatever timezone is specified in te argument, but more human readable), the transaction ID\n",
    "    - make it so it is a nicely structured object (so can use dotted notation to access these three attributes)\n",
    "    - I purposefully made it so the desired timezone is passed as an argument. Can you figure out why? (hint: does this method require any information from any instance?)\n",
    "\n",
    "\n",
    "For example, we may have an account with:\n",
    "\n",
    "- account number 140568\n",
    "- preferred time zone offset of -7 (MST)\n",
    "- an existing balance of 100.00\n",
    "\n",
    "Suppose the last transaction ID in the system was 123, and a deposit is made for 50.00 on 2019-03-15T14:59:00 (UTC) on that account (or 2019-03-15T07:59:00 in account's preferred time zone offset)\n",
    "\n",
    "The new balance should reflect 150.00 and the confirmation number returned should look something like this:\n",
    "\n",
    "`D-140568-20190315145900-124`\n",
    "\n",
    "We also want a method that given the confirmation number returns an object with attributes:\n",
    "\n",
    "- result.account_number --> 140568\n",
    "- result.transaction_code --> D\n",
    "- result.transaction_id --> 124\n",
    "- result.time --> 2019-03-15 07:59:00 (MST)\n",
    "- result.time_utc --> 2019-03-15T14:59:00\n",
    "  \n",
    "Furthermore, if current interest rate is 0.5%, and the account's balance is 1000.00, then the result of calling the deposit_interest (or whatever name you choose) method, should result in a new transaction and a new balance of 1050.00. Calling this method should also return a confirmation number.\n",
    "\n",
    "For simplicty, just use floats, but be aware that for these types of situations you'll probably want to use Decimal objects instead of floats.\n",
    "\n",
    "There are going to be many ways to design something like this, especially since I have not nailed down all the specific requirements, so you'll have to fill the gaps yourself and decide what other things you may want to implement (like is the account number going to be a mutable property, or \"read-only\" and so on).\n",
    "\n",
    "See how many different ideas you can use from what we covered in the last section.\n",
    "\n",
    "My approach will end up creating two classes: a TimeZone class used to store the time zone name and offset definition (in hours and minutes), and a main class called Account that will have the following \"public\" interface:\n",
    "\n",
    "- initializer with account number, first name, last name, optional preferred time zone, starting balance (defaults to 0)\n",
    "- a first name property (read/write)\n",
    "- a last name property (read/write)\n",
    "- a full name property (computed, read-only)\n",
    "- a balance property (read-only)\n",
    "- an interest rate property (class level property)\n",
    "- deposit, withdraw, pay_interest methods\n",
    "- parse confirmation code\n",
    "\n",
    "Class will have additional state and methods, but those will be used for implementation.\n",
    "\n",
    "You should also remember to test your code! In the solutions I will introduce you to Python's unittest package. Even if you skip this project, at least review that video and/or notebook if you are unfamiliar with unittest.\n",
    "\n",
    " "
   ]
  },
  {
   "cell_type": "code",
   "execution_count": 588,
   "id": "98eb9f56-0adc-4cec-8a24-de2c74b01bdb",
   "metadata": {},
   "outputs": [],
   "source": [
    "import pytz\n",
    "from datetime import datetime, timezone"
   ]
  },
  {
   "cell_type": "code",
   "execution_count": 729,
   "id": "4a47da63-5bfe-4252-9727-55762e050f09",
   "metadata": {},
   "outputs": [],
   "source": [
    "class Account:\n",
    "    \n",
    "    INTEREST_RATE = 0.05 \n",
    "    \n",
    "    def __init__(self, accountNumber, firstName, lastName, prefferedTZ='UTC'):\n",
    "        self._accountNumber = accountNumber\n",
    "        self.firstName = firstName\n",
    "        self.lastName = lastName\n",
    "        self._prefferedTZ = prefferedTZ\n",
    "        self._balance = 0\n",
    "        self._fullName = None\n",
    "        self._tranid = 0\n",
    "\n",
    "    \n",
    "    @property\n",
    "    def firstName(self):\n",
    "        return f'{self._firstName}'\n",
    "\n",
    "    @firstName.setter\n",
    "    def firstName(self, firstName):\n",
    "        if not isinstance(firstName, str):\n",
    "            raise TypeError('first name must be a string.')\n",
    "        self._firstName = firstName.capitalize()\n",
    "        self._fullName = None\n",
    "\n",
    "    \n",
    "    @property\n",
    "    def lastName(self):\n",
    "        return f'{self._lastName}'\n",
    "\n",
    "    @lastName.setter\n",
    "    def lastName(self, lastName):\n",
    "        if not isinstance(lastName, str):\n",
    "            raise TypeError('last name must be a string.')\n",
    "        self._lastName = lastName.capitalize()\n",
    "        self._fullName = None\n",
    "\n",
    "    \n",
    "    @property\n",
    "    def balance(self):\n",
    "        return self._balance\n",
    "\n",
    "\n",
    "    @property\n",
    "    def fullName(self):\n",
    "        if not self._fullName:\n",
    "            self._fullName = f'{self.firstName} {self.lastName}'\n",
    "        return self._fullName\n",
    "\n",
    "    \n",
    "    def deposit(self, amount):\n",
    "        \n",
    "        # Get current time in UTC\n",
    "        utc_time = datetime.now(pytz.UTC)\n",
    "        \n",
    "        # Format the timestamp\n",
    "        formatted_utc_time = utc_time.strftime('%Y%m%d%H%M%S')\n",
    "\n",
    "        tran_id = self._tranid\n",
    "        self._tranid += 1\n",
    "        \n",
    "        self._balance += amount\n",
    "        \n",
    "        return f'D-{self._accountNumber}-{formatted_utc_time}-{tran_id}'\n",
    "\n",
    "\n",
    "    def withdraw(self, amount):\n",
    "        \n",
    "        # Get current time in UTC\n",
    "        utc_time = datetime.now(pytz.UTC)\n",
    "        # Format the timestamp\n",
    "        formatted_utc_time = utc_time.strftime('%Y%m%d%H%M%S')\n",
    "\n",
    "        tran_id = self._tranid\n",
    "        self._tranid += 1\n",
    "\n",
    "        if self._balance < amount:\n",
    "            return f'I-{self._accountNumber}-{formatted_utc_time}-{tran_id}'\n",
    "            \n",
    "        self._balance -= amount\n",
    "        return f'D-{self._accountNumber}-{formatted_utc_time}-{tran_id}'\n",
    "\n",
    "\n",
    "    def conf_id(self, conf_id):\n",
    "        code, acc_no, ts, tranid = conf_id.split('-')\n",
    "\n",
    "        # 1. Parse to a naive datetime object\n",
    "        dt_naive = datetime.strptime(ts, '%Y%m%d%H%M%S')\n",
    "        \n",
    "        # 2. Localize to UTC (tell Python it's in UTC)\n",
    "        utc = pytz.utc\n",
    "        dt_utc = utc.localize(dt_naive)\n",
    "        \n",
    "        # 3. Convert to user timezone\n",
    "        local_tz = pytz.timezone(self._prefferedTZ)\n",
    "        dt_local = dt_utc.astimezone(local_tz)\n",
    "        \n",
    "        return {'code': code,\n",
    "                'acc': int(acc_no),\n",
    "                'time': dt_local,\n",
    "                'id': int(tranid)\n",
    "               }\n",
    "\n",
    "        \n",
    "    def payInterest(self):\n",
    "        self._balance += self.INTEREST_RATE * self.balance\n",
    "        \n",
    "        tran_id = self._tranid\n",
    "        self._tranid += 1\n",
    "        \n",
    "        return f'D-{self._accountNumber}-{formatted_utc_time}-{tran_id}'\n",
    "    "
   ]
  },
  {
   "cell_type": "code",
   "execution_count": 730,
   "id": "24318d2d-39ee-4eb8-9d56-5c88bd4c0e1e",
   "metadata": {},
   "outputs": [],
   "source": [
    "acc1 = Account(123, 'bharath', 'reddy', 'Europe/London')"
   ]
  },
  {
   "cell_type": "code",
   "execution_count": 731,
   "id": "fd1c5f2f-5b1f-4bc0-83e0-d25da45c5e43",
   "metadata": {},
   "outputs": [
    {
     "data": {
      "text/plain": [
       "'D-123-20250628145107-0'"
      ]
     },
     "execution_count": 731,
     "metadata": {},
     "output_type": "execute_result"
    }
   ],
   "source": [
    "acc1.deposit(1000)"
   ]
  },
  {
   "cell_type": "code",
   "execution_count": 732,
   "id": "d99bf6bc-dba6-4b21-9850-3e7e4a4664ae",
   "metadata": {},
   "outputs": [
    {
     "data": {
      "text/plain": [
       "'D-123-20250628125906-1'"
      ]
     },
     "execution_count": 732,
     "metadata": {},
     "output_type": "execute_result"
    }
   ],
   "source": [
    "acc1.payInterest()"
   ]
  },
  {
   "cell_type": "code",
   "execution_count": 733,
   "id": "de1be7c7-7e69-40e6-8f73-550fceb3f8ef",
   "metadata": {},
   "outputs": [
    {
     "data": {
      "text/plain": [
       "1050.0"
      ]
     },
     "execution_count": 733,
     "metadata": {},
     "output_type": "execute_result"
    }
   ],
   "source": [
    "acc1.balance"
   ]
  },
  {
   "cell_type": "code",
   "execution_count": 734,
   "id": "5defca68-e85c-47f1-93c0-5be03ae62735",
   "metadata": {},
   "outputs": [],
   "source": [
    "d =acc1.conf_id('D-123-20250628145107-0')"
   ]
  },
  {
   "cell_type": "code",
   "execution_count": 735,
   "id": "1798bb00-8931-45ec-b43f-3696bf4826c7",
   "metadata": {},
   "outputs": [
    {
     "data": {
      "text/plain": [
       "{'code': 'D',\n",
       " 'acc': 123,\n",
       " 'time': datetime.datetime(2025, 6, 28, 15, 51, 7, tzinfo=<DstTzInfo 'Europe/London' BST+1:00:00 DST>),\n",
       " 'id': 0}"
      ]
     },
     "execution_count": 735,
     "metadata": {},
     "output_type": "execute_result"
    }
   ],
   "source": [
    "d"
   ]
  },
  {
   "cell_type": "markdown",
   "id": "9d3c80ef-568e-4ac9-a0ac-26340f0bdb28",
   "metadata": {},
   "source": [
    "# Arithmatic operations"
   ]
  },
  {
   "cell_type": "code",
   "execution_count": 911,
   "id": "df33507c-dd9a-41af-9e0c-c563f91fbc61",
   "metadata": {},
   "outputs": [],
   "source": [
    "from numbers import Real\n",
    "import functools"
   ]
  },
  {
   "cell_type": "code",
   "execution_count": 913,
   "id": "6cc13ee6-1738-45ba-8ea7-bf52373c6d6e",
   "metadata": {},
   "outputs": [],
   "source": [
    "@functools.total_ordering # for implementing all comparisions\n",
    "class Vector:\n",
    "    def __init__(self, *components):\n",
    "        if len(components)< 1:\n",
    "            raise ValueError(\"Cannot create an empty Vector.\")\n",
    "        for component in components:\n",
    "            if not isinstance(component, Real):\n",
    "                raise ValueError(f'Vector components must be Real numbers')\n",
    "        self._components = tuple(components)\n",
    "\n",
    "\n",
    "    def __len__(self):\n",
    "        return len(self._components)\n",
    "\n",
    "    @property\n",
    "    def components(self):\n",
    "        return self._components\n",
    "\n",
    "    def __repr__(self):\n",
    "        return f'Vector{self.components}'\n",
    "\n",
    "\n",
    "    def validation(self, other):\n",
    "        return isinstance(other, Vector) and len(self) == len(other)\n",
    "\n",
    "\n",
    "    def __eq__(self, other):\n",
    "        if not self.validation(other):\n",
    "            raise NotImplemented\n",
    "        return abs(self) == abs(other)\n",
    "\n",
    "    def __lt__(self, other):\n",
    "        if not self.validation(other):\n",
    "            raise NotImplemented\n",
    "        return abs(self)<abs(other)\n",
    "\n",
    "    def __add__(self, other):\n",
    "        if not self.validation(other):\n",
    "            raise NotImplemented\n",
    "        components = tuple(x+y for x,y in zip(self.components, other.components))\n",
    "        return Vector(*components)\n",
    "\n",
    "    def __sub__(self, other):\n",
    "        if not self.validation(other):\n",
    "            raise NotImplemented\n",
    "        components = tuple(x-y for x,y in zip(self.components, other.components))\n",
    "        return Vector(*components)\n",
    "\n",
    "\n",
    "    def __mul__(self, other):\n",
    "        if isinstance(other, Real):\n",
    "            # scalar product\n",
    "            components = (x * other for x in self.components)\n",
    "            return Vector(*components)\n",
    "            \n",
    "        if self.validation(other):\n",
    "            # dot product : returns a scalar\n",
    "            components = (x * y for x, y in zip(self.components, other.components))\n",
    "            return sum(components)\n",
    "\n",
    "        return NotImplemented\n",
    "                  \n",
    "        \n",
    "\n",
    "    ## above wont work for 10 * Vector(10, 20) \n",
    "    def __rmul__(self, other):\n",
    "        return self * other   # i can reuse above definition instead of duplicating code\n",
    "\n",
    "    def __neg__(self):\n",
    "        components = (-x for x in self.components)\n",
    "        return Vector(*components)\n",
    "\n",
    "    def __abs__(self):\n",
    "        return math.sqrt(sum(x**2 for x in self._components))\n",
    "    "
   ]
  },
  {
   "cell_type": "code",
   "execution_count": 914,
   "id": "4c3041fd-1c76-47ce-8455-6b2deb12fdb9",
   "metadata": {},
   "outputs": [],
   "source": [
    "v1 = Vector(10,20)\n",
    "v2 = Vector(10, 20, 30)\n",
    "v3 = Vector(50, 60)\n",
    "v4 = (10, 20)\n",
    "v5 = Vector(50, 60)"
   ]
  },
  {
   "cell_type": "code",
   "execution_count": 915,
   "id": "727cac5f-7820-476e-8d0d-b6df7e93efc8",
   "metadata": {},
   "outputs": [
    {
     "data": {
      "text/plain": [
       "(Vector(10, 20), Vector(10, 20, 30), Vector(50, 60), (10, 20))"
      ]
     },
     "execution_count": 915,
     "metadata": {},
     "output_type": "execute_result"
    }
   ],
   "source": [
    "v1, v2, v3, v4"
   ]
  },
  {
   "cell_type": "code",
   "execution_count": 925,
   "id": "1323bedd-2ba4-4866-9b99-746fcadd6b02",
   "metadata": {},
   "outputs": [
    {
     "data": {
      "text/plain": [
       "True"
      ]
     },
     "execution_count": 925,
     "metadata": {},
     "output_type": "execute_result"
    }
   ],
   "source": [
    "v1 >= Vector(20, 10)"
   ]
  },
  {
   "cell_type": "code",
   "execution_count": 891,
   "id": "0f6e2bfb-5075-46bf-9d25-018afb4075f1",
   "metadata": {},
   "outputs": [
    {
     "data": {
      "text/plain": [
       "1700"
      ]
     },
     "execution_count": 891,
     "metadata": {},
     "output_type": "execute_result"
    }
   ],
   "source": [
    "v1 * v3"
   ]
  },
  {
   "cell_type": "code",
   "execution_count": 843,
   "id": "d53e78cd-2b39-4b99-98c9-30c919afdc02",
   "metadata": {},
   "outputs": [
    {
     "data": {
      "text/plain": [
       "True"
      ]
     },
     "execution_count": 843,
     "metadata": {},
     "output_type": "execute_result"
    }
   ],
   "source": [
    "v1.validation(v3)"
   ]
  },
  {
   "cell_type": "markdown",
   "id": "00290fb8-b3bf-489c-a03f-3bfc6f407f78",
   "metadata": {},
   "source": [
    "# can we create a dictionary with keys as these vectors ? think of building a vector serach db"
   ]
  },
  {
   "cell_type": "code",
   "execution_count": 934,
   "id": "1200e962-693a-4cd2-b342-4be0983f6a5a",
   "metadata": {},
   "outputs": [
    {
     "ename": "TypeError",
     "evalue": "unhashable type: 'Vector'",
     "output_type": "error",
     "traceback": [
      "\u001b[31m---------------------------------------------------------------------------\u001b[39m",
      "\u001b[31mTypeError\u001b[39m                                 Traceback (most recent call last)",
      "\u001b[36mCell\u001b[39m\u001b[36m \u001b[39m\u001b[32mIn[934]\u001b[39m\u001b[32m, line 1\u001b[39m\n\u001b[32m----> \u001b[39m\u001b[32m1\u001b[39m {\n\u001b[32m      2\u001b[39m     v1: \u001b[33m\"\u001b[39m\u001b[33mvector for animals\u001b[39m\u001b[33m\"\u001b[39m,\n\u001b[32m      3\u001b[39m     v2: \u001b[33m\"\u001b[39m\u001b[33mvector for places\u001b[39m\u001b[33m\"\u001b[39m,\n\u001b[32m      4\u001b[39m }\n",
      "\u001b[31mTypeError\u001b[39m: unhashable type: 'Vector'"
     ]
    }
   ],
   "source": [
    "{\n",
    "    v1: \"vector for animals\",\n",
    "    v2: \"vector for places\",\n",
    "}"
   ]
  },
  {
   "cell_type": "markdown",
   "id": "5ae43f3c-3205-4ca5-9074-960ebf8e320d",
   "metadata": {},
   "source": [
    "1. as soon as `__eq__` method is added, python removes default `__hash__`\n",
    "2. this is because default `__eq__` compares `id` of the objects and if ids are same, it essentially means objects are same and creates a hash using memory address/id to create hash.\n",
    "3. but if `__eq__` method is implemented we would have to implement our own `__hash__` method."
   ]
  },
  {
   "cell_type": "code",
   "execution_count": 943,
   "id": "8ce5b923-c8c2-4699-809f-8854173eb5ac",
   "metadata": {},
   "outputs": [],
   "source": [
    "@functools.total_ordering # for implementing all comparisions\n",
    "class Vector:\n",
    "    def __init__(self, *components):\n",
    "        if len(components)< 1:\n",
    "            raise ValueError(\"Cannot create an empty Vector.\")\n",
    "        for component in components:\n",
    "            if not isinstance(component, Real):\n",
    "                raise ValueError(f'Vector components must be Real numbers')\n",
    "        self._components = tuple(components)\n",
    "\n",
    "\n",
    "    def __len__(self):\n",
    "        return len(self._components)\n",
    "\n",
    "    @property\n",
    "    def components(self):\n",
    "        return self._components\n",
    "\n",
    "    def __repr__(self):\n",
    "        return f'Vector{self.components}'\n",
    "\n",
    "\n",
    "    def validation(self, other):\n",
    "        return isinstance(other, Vector) and len(self) == len(other)\n",
    "\n",
    "\n",
    "    def __eq__(self, other):\n",
    "        if not self.validation(other):\n",
    "            raise NotImplemented\n",
    "        return abs(self) == abs(other)\n",
    "\n",
    "    def __hash__(self):\n",
    "        return hash(self.components)\n",
    "\n",
    "    def __lt__(self, other):\n",
    "        if not self.validation(other):\n",
    "            raise NotImplemented\n",
    "        return abs(self)<abs(other)\n",
    "\n",
    "    def __add__(self, other):\n",
    "        if not self.validation(other):\n",
    "            raise NotImplemented\n",
    "        components = tuple(x+y for x,y in zip(self.components, other.components))\n",
    "        return Vector(*components)\n",
    "\n",
    "    def __sub__(self, other):\n",
    "        if not self.validation(other):\n",
    "            raise NotImplemented\n",
    "        components = tuple(x-y for x,y in zip(self.components, other.components))\n",
    "        return Vector(*components)\n",
    "\n",
    "\n",
    "    def __mul__(self, other):\n",
    "        if isinstance(other, Real):\n",
    "            # scalar product\n",
    "            components = (x * other for x in self.components)\n",
    "            return Vector(*components)\n",
    "            \n",
    "        if self.validation(other):\n",
    "            # dot product : returns a scalar\n",
    "            components = (x * y for x, y in zip(self.components, other.components))\n",
    "            return sum(components)\n",
    "\n",
    "        return NotImplemented\n",
    "                  \n",
    "        \n",
    "\n",
    "    ## above wont work for 10 * Vector(10, 20) \n",
    "    def __rmul__(self, other):\n",
    "        return self * other   # i can reuse above definition instead of duplicating code\n",
    "\n",
    "    def __neg__(self):\n",
    "        components = (-x for x in self.components)\n",
    "        return Vector(*components)\n",
    "\n",
    "    def __abs__(self):\n",
    "        return math.sqrt(sum(x**2 for x in self._components))\n",
    "    "
   ]
  },
  {
   "cell_type": "code",
   "execution_count": 947,
   "id": "53311a56-3434-4bbc-b411-af6a256a1490",
   "metadata": {},
   "outputs": [
    {
     "data": {
      "text/plain": [
       "-4873088377451060145"
      ]
     },
     "execution_count": 947,
     "metadata": {},
     "output_type": "execute_result"
    }
   ],
   "source": [
    "v1 = Vector(10, 20)\n",
    "v2 = Vector(1, 5)\n",
    "hash(v1)"
   ]
  },
  {
   "cell_type": "code",
   "execution_count": 948,
   "id": "1b1871fc-5f41-43e5-a17d-07be1691613f",
   "metadata": {},
   "outputs": [
    {
     "data": {
      "text/plain": [
       "{Vector(10, 20): 'vector for animals', Vector(1, 5): 'vector for places'}"
      ]
     },
     "execution_count": 948,
     "metadata": {},
     "output_type": "execute_result"
    }
   ],
   "source": [
    "{\n",
    "    v1: \"vector for animals\",\n",
    "    v2: \"vector for places\",\n",
    "}"
   ]
  },
  {
   "cell_type": "markdown",
   "id": "75d6dd8d-9c41-481e-b769-c3f9656ebe19",
   "metadata": {},
   "source": [
    "# Boolean\n",
    "1. By default, any custom object has a truth value and can be overriden by `__bool__` method.\n",
    "2. if `__bool__` is not defined then python looks for `__len__` and 0 is `False` and anything else is `True`\n",
    "3. if neither is present then allways returns `True`"
   ]
  },
  {
   "cell_type": "code",
   "execution_count": 957,
   "id": "b4e45c2b-61a3-4baf-b67d-7003e9d1bed1",
   "metadata": {},
   "outputs": [],
   "source": [
    "class Vector:\n",
    "    def __init__(self, *components):\n",
    "        if len(components)< 1:\n",
    "            raise ValueError(\"Cannot create an empty Vector.\")\n",
    "        for component in components:\n",
    "            if not isinstance(component, Real):\n",
    "                raise ValueError(f'Vector components must be Real numbers')\n",
    "        self._components = tuple(components)\n",
    "\n",
    "    @property\n",
    "    def components(self):\n",
    "        return self._components\n",
    "\n",
    "\n",
    "    def __len__(self):\n",
    "        print(f'__len__ called')\n",
    "        return len(self._components)"
   ]
  },
  {
   "cell_type": "code",
   "execution_count": 958,
   "id": "37c2fe00-cf9a-4559-b215-1ba3e0333238",
   "metadata": {},
   "outputs": [
    {
     "name": "stdout",
     "output_type": "stream",
     "text": [
      "__len__ called\n"
     ]
    },
    {
     "data": {
      "text/plain": [
       "True"
      ]
     },
     "execution_count": 958,
     "metadata": {},
     "output_type": "execute_result"
    }
   ],
   "source": [
    "v1 = Vector(1, 3)\n",
    "bool(v1)"
   ]
  },
  {
   "cell_type": "code",
   "execution_count": 965,
   "id": "c875a7ef-e11f-44a6-99b9-c58ff87df783",
   "metadata": {},
   "outputs": [],
   "source": [
    "class Vector:\n",
    "    def __init__(self, *components):\n",
    "        if len(components)< 1:\n",
    "            raise ValueError(\"Cannot create an empty Vector.\")\n",
    "        for component in components:\n",
    "            if not isinstance(component, Real):\n",
    "                raise ValueError(f'Vector components must be Real numbers')\n",
    "        self._components = tuple(components)\n",
    "\n",
    "    @property\n",
    "    def components(self):\n",
    "        return self._components\n",
    "\n",
    "    def __len__(self):\n",
    "        print(f'__len__ called')\n",
    "        return len(self._components)\n",
    "\n",
    "    def __bool__(self):\n",
    "        print(f'__bool__ called')\n",
    "        return all(self.components)"
   ]
  },
  {
   "cell_type": "code",
   "execution_count": 967,
   "id": "ff0ef532-38c1-4eea-8b76-11042ad87696",
   "metadata": {},
   "outputs": [
    {
     "name": "stdout",
     "output_type": "stream",
     "text": [
      "__bool__ called\n",
      "__bool__ called\n"
     ]
    },
    {
     "data": {
      "text/plain": [
       "(True, False)"
      ]
     },
     "execution_count": 967,
     "metadata": {},
     "output_type": "execute_result"
    }
   ],
   "source": [
    "v1 = Vector(1, 3)\n",
    "v2 = Vector(0,0,0)\n",
    "bool(v1), bool(v2)"
   ]
  },
  {
   "cell_type": "markdown",
   "id": "74e40e04-7eae-4cf6-9736-ef6105f501d2",
   "metadata": {},
   "source": [
    "### Unit testing\n",
    "#### PYTEST"
   ]
  },
  {
   "cell_type": "code",
   "execution_count": 798,
   "id": "349f241c-b254-4092-aee2-71ec3abfac54",
   "metadata": {},
   "outputs": [],
   "source": [
    "import unittest"
   ]
  },
  {
   "cell_type": "code",
   "execution_count": 799,
   "id": "f4613eb3-4026-4751-838b-c0afa940701f",
   "metadata": {},
   "outputs": [],
   "source": [
    "def run_tests(test_class):\n",
    "    suite = unittest.TestLoader().loadTestsFromTestCase(test_class)\n",
    "    runner = unittest.TextTestRunner(verbosity=2)\n",
    "    runner.run(suite)"
   ]
  },
  {
   "cell_type": "code",
   "execution_count": 926,
   "id": "972f9cc2-fb95-455c-9f3e-2e7ac7872f57",
   "metadata": {},
   "outputs": [],
   "source": [
    "class TestVector(unittest.TestCase):\n",
    "    \n",
    "    def setUp(self):\n",
    "        self.v1 = Vector(10,20)\n",
    "        self.v2 = Vector(10, 20, 30)\n",
    "        self.v3 = Vector(50, 60)\n",
    "        self.v4 = (10, 20)\n",
    "        self.v5 = Vector(100, 600)\n",
    "\n",
    "    # all must start with word \"test\"\n",
    "    def test_createVector(self):\n",
    "        with self.assertRaises(ValueError):\n",
    "            v1 = Vector('bh','re')\n",
    "            v1 = Vector()\n",
    "            v1 = Vector('', 12)\n",
    "            v1 = Vector(12, '')\n",
    "            \n",
    "\n",
    "        self.assertEqual(self.v2.components, (10,20,30))\n",
    "        self.assertTrue(str(self.v1).startswith('Vector('))\n",
    "            \n",
    "    def test_add(self):\n",
    "        self.assertEqual(self.v1 + self.v3, Vector(60, 80))\n",
    "        self.assertNotEqual(self.v1 + self.v3, Vector(61, 80))\n",
    "\n",
    "    def test_sub(self):\n",
    "        self.assertNotEqual(self.v5 - self.v1, Vector(90, 590))\n",
    "        self.assertEqual(self.v5 - self.v1, Vector(90, 580))\n",
    "        "
   ]
  },
  {
   "cell_type": "code",
   "execution_count": 927,
   "id": "15b4d439-5ec0-4fbd-8199-88f86874cc84",
   "metadata": {},
   "outputs": [
    {
     "name": "stderr",
     "output_type": "stream",
     "text": [
      "test_add (__main__.TestVector.test_add) ... ok\n",
      "test_createVector (__main__.TestVector.test_createVector) ... ok\n",
      "test_sub (__main__.TestVector.test_sub) ... ok\n",
      "\n",
      "----------------------------------------------------------------------\n",
      "Ran 3 tests in 0.003s\n",
      "\n",
      "OK\n"
     ]
    }
   ],
   "source": [
    "run_tests(TestVector)"
   ]
  },
  {
   "cell_type": "markdown",
   "id": "abce9082-884e-4efc-bd5e-e9c4b1235f37",
   "metadata": {},
   "source": [
    "# callables\n",
    "### Lets say we want to implement cashing but we also want to see how many times a function with specific args has cash miss. lets see how to implement this first with function closures and then with class decorators"
   ]
  },
  {
   "cell_type": "code",
   "execution_count": 1015,
   "id": "b4605c97-1b7d-4c28-8287-8373c7b8c200",
   "metadata": {},
   "outputs": [],
   "source": [
    "def outer(fn):\n",
    "    missCounter = 0\n",
    "    cache = {}\n",
    "    def inner(*args):\n",
    "        nonlocal missCounter\n",
    "        nonlocal cache\n",
    "        if not args in cache:\n",
    "            print('cache miss...')\n",
    "            missCounter += 1\n",
    "            result = fn(*args)\n",
    "            cache[args] = result \n",
    "            \n",
    "        inner.counter = missCounter # update the counter attribute, each time inner is run. \n",
    "        return cache[args]\n",
    "        \n",
    "    inner.counter = missCounter # intialize an attribute for function (can be done immediately after function definintion)\n",
    "    return inner\n",
    "    "
   ]
  },
  {
   "cell_type": "code",
   "execution_count": 1016,
   "id": "b69c5dae-f309-449a-8ee5-cef184055e34",
   "metadata": {},
   "outputs": [],
   "source": [
    "@outer\n",
    "def myFunc(*args):\n",
    "    return sum(args)"
   ]
  },
  {
   "cell_type": "code",
   "execution_count": 1017,
   "id": "75d39308-2f30-41ad-a1fd-093efc56285c",
   "metadata": {},
   "outputs": [
    {
     "name": "stdout",
     "output_type": "stream",
     "text": [
      "cache miss...\n"
     ]
    },
    {
     "data": {
      "text/plain": [
       "3"
      ]
     },
     "execution_count": 1017,
     "metadata": {},
     "output_type": "execute_result"
    }
   ],
   "source": [
    "myFunc(1, 2)"
   ]
  },
  {
   "cell_type": "code",
   "execution_count": 1018,
   "id": "5ad24601-3b9a-4434-8e72-b9853d220e23",
   "metadata": {},
   "outputs": [
    {
     "name": "stdout",
     "output_type": "stream",
     "text": [
      "cache miss...\n"
     ]
    },
    {
     "data": {
      "text/plain": [
       "5"
      ]
     },
     "execution_count": 1018,
     "metadata": {},
     "output_type": "execute_result"
    }
   ],
   "source": [
    "myFunc(2,3)"
   ]
  },
  {
   "cell_type": "code",
   "execution_count": 1019,
   "id": "7ad250c4-0d9f-4dad-aa84-094211346b4c",
   "metadata": {},
   "outputs": [
    {
     "data": {
      "text/plain": [
       "3"
      ]
     },
     "execution_count": 1019,
     "metadata": {},
     "output_type": "execute_result"
    }
   ],
   "source": [
    "myFunc(1, 2)"
   ]
  },
  {
   "cell_type": "code",
   "execution_count": 1020,
   "id": "cf2cdc73-f667-47a4-8c99-d354fdbd3661",
   "metadata": {},
   "outputs": [
    {
     "data": {
      "text/plain": [
       "2"
      ]
     },
     "execution_count": 1020,
     "metadata": {},
     "output_type": "execute_result"
    }
   ],
   "source": [
    "myFunc.counter"
   ]
  },
  {
   "cell_type": "code",
   "execution_count": 1021,
   "id": "19d9ea82-d748-4e28-b335-43f97225e45b",
   "metadata": {},
   "outputs": [
    {
     "name": "stdout",
     "output_type": "stream",
     "text": [
      "cache miss...\n"
     ]
    },
    {
     "data": {
      "text/plain": [
       "9"
      ]
     },
     "execution_count": 1021,
     "metadata": {},
     "output_type": "execute_result"
    }
   ],
   "source": [
    "myFunc(2,3,4)"
   ]
  },
  {
   "cell_type": "code",
   "execution_count": 1022,
   "id": "2fc46791-db24-44b8-b60b-99a4f568ae41",
   "metadata": {},
   "outputs": [
    {
     "data": {
      "text/plain": [
       "3"
      ]
     },
     "execution_count": 1022,
     "metadata": {},
     "output_type": "execute_result"
    }
   ],
   "source": [
    "myFunc.counter"
   ]
  },
  {
   "cell_type": "code",
   "execution_count": 1035,
   "id": "81c08d4f-c22f-4112-bef8-b53a4ee55844",
   "metadata": {},
   "outputs": [],
   "source": [
    "class DecoratorClass():\n",
    "    def __init__(self, fn):  # 1:fn = DecoratorClass(fn) \n",
    "        self._fn = fn\n",
    "        self._cache = {}\n",
    "        self._missCounter = 0\n",
    "\n",
    "    @property\n",
    "    def missCounter(self):\n",
    "        return self._missCounter\n",
    "\n",
    "    # Makes a class callable so \n",
    "    def __call__(self, *args):     # 2: DecoratorClass(fn)(*args)\n",
    "        if args not in self._cache:\n",
    "            self._missCounter += 1\n",
    "            self._cache[args] = self._fn(*args)\n",
    "        return self._cache[args]\n",
    "    "
   ]
  },
  {
   "cell_type": "code",
   "execution_count": 1036,
   "id": "29409b47-990a-4545-9478-b5c70f40aa72",
   "metadata": {},
   "outputs": [],
   "source": [
    "@DecoratorClass\n",
    "def myFunc(*args):\n",
    "    return sum(args)"
   ]
  },
  {
   "cell_type": "code",
   "execution_count": 1039,
   "id": "7ae2db5c-8b18-40fb-aa2f-10fb37c798dd",
   "metadata": {},
   "outputs": [
    {
     "data": {
      "text/plain": [
       "9"
      ]
     },
     "execution_count": 1039,
     "metadata": {},
     "output_type": "execute_result"
    }
   ],
   "source": [
    "myFunc(1, 3, 5)"
   ]
  },
  {
   "cell_type": "code",
   "execution_count": 1040,
   "id": "7da9a051-fedc-4eb7-b761-770687c49c2c",
   "metadata": {},
   "outputs": [
    {
     "data": {
      "text/plain": [
       "2"
      ]
     },
     "execution_count": 1040,
     "metadata": {},
     "output_type": "execute_result"
    }
   ],
   "source": [
    "myFunc.missCounter"
   ]
  },
  {
   "cell_type": "code",
   "execution_count": 1042,
   "id": "c002923e-2d44-434e-b5ae-2a48c08958ba",
   "metadata": {},
   "outputs": [
    {
     "ename": "AttributeError",
     "evalue": "property 'missCounter' of 'DecoratorClass' object has no setter",
     "output_type": "error",
     "traceback": [
      "\u001b[31m---------------------------------------------------------------------------\u001b[39m",
      "\u001b[31mAttributeError\u001b[39m                            Traceback (most recent call last)",
      "\u001b[36mCell\u001b[39m\u001b[36m \u001b[39m\u001b[32mIn[1042]\u001b[39m\u001b[32m, line 2\u001b[39m\n\u001b[32m      1\u001b[39m \u001b[38;5;66;03m# Read only property\u001b[39;00m\n\u001b[32m----> \u001b[39m\u001b[32m2\u001b[39m \u001b[43mmyFunc\u001b[49m\u001b[43m.\u001b[49m\u001b[43mmissCounter\u001b[49m = \u001b[32m10\u001b[39m\n",
      "\u001b[31mAttributeError\u001b[39m: property 'missCounter' of 'DecoratorClass' object has no setter"
     ]
    }
   ],
   "source": [
    "# Read only property\n",
    "myFunc.missCounter = 10"
   ]
  },
  {
   "cell_type": "markdown",
   "id": "40644fb3-ae6d-451a-9ee0-022b7450b372",
   "metadata": {},
   "source": [
    "# Inheritance"
   ]
  },
  {
   "cell_type": "code",
   "execution_count": 1050,
   "id": "ea60ffe9-8ebd-496c-8226-cff91062ff8e",
   "metadata": {},
   "outputs": [],
   "source": [
    "class Account:\n",
    "    APR = 5\n",
    "\n",
    "    def __init__(self, accNo):\n",
    "        self.accNo = accNo\n",
    "        self.accType = 'CASH ACCOUNT'\n",
    "\n",
    "    def calcInt(self):\n",
    "        return f'calculating int on {self.accNo}: {self.accType} with APR {self.APR}'\n",
    "\n",
    "class SavingsAccount(Account):\n",
    "    APR = 7\n",
    "\n",
    "    def __init__(self, accNo):\n",
    "        self.accNo = accNo\n",
    "        self.accType = 'SAVINGS ACCOUNT'\n",
    "\n",
    "\n",
    "a = Account(123)\n",
    "s = SavingsAccount(123)"
   ]
  },
  {
   "cell_type": "code",
   "execution_count": 1051,
   "id": "f0f66fe9-f24e-4f38-aa3e-bd9f4a680b91",
   "metadata": {},
   "outputs": [
    {
     "data": {
      "text/plain": [
       "'calculating int on 123: CASH ACCOUNT with APR 5'"
      ]
     },
     "execution_count": 1051,
     "metadata": {},
     "output_type": "execute_result"
    }
   ],
   "source": [
    "a.calcInt()"
   ]
  },
  {
   "cell_type": "code",
   "execution_count": 1052,
   "id": "e11e4aea-9883-4b44-b1c2-0ca4466ba849",
   "metadata": {},
   "outputs": [
    {
     "data": {
      "text/plain": [
       "'calculating int on 123: SAVINGS ACCOUNT with APR 7'"
      ]
     },
     "execution_count": 1052,
     "metadata": {},
     "output_type": "execute_result"
    }
   ],
   "source": [
    "s.calcInt()"
   ]
  },
  {
   "cell_type": "markdown",
   "id": "10bdaa94-0eaa-4296-963a-e32715b63ba7",
   "metadata": {},
   "source": [
    "# but now i can change APR in each instance !! i want APR to be a class property not instance property"
   ]
  },
  {
   "cell_type": "code",
   "execution_count": 1053,
   "id": "0a8b121c-5d8d-42ac-9252-c5162f31f083",
   "metadata": {},
   "outputs": [],
   "source": [
    "s.APR = 10"
   ]
  },
  {
   "cell_type": "code",
   "execution_count": 1054,
   "id": "9de00ae0-8ee8-4668-8d85-776dfe9a6099",
   "metadata": {},
   "outputs": [
    {
     "data": {
      "text/plain": [
       "'calculating int on 123: SAVINGS ACCOUNT with APR 10'"
      ]
     },
     "execution_count": 1054,
     "metadata": {},
     "output_type": "execute_result"
    }
   ],
   "source": [
    "s.calcInt()"
   ]
  },
  {
   "cell_type": "code",
   "execution_count": 1055,
   "id": "19c828d9-21af-449e-8b53-6585844eabd6",
   "metadata": {},
   "outputs": [],
   "source": [
    "class Account:\n",
    "    APR = 5\n",
    "\n",
    "    def __init__(self, accNo):\n",
    "        self.accNo = accNo\n",
    "        self.accType = 'CASH ACCOUNT'\n",
    "\n",
    "    def calcInt(self):\n",
    "        return f'calculating int on {self.accNo}: {self.accType} with APR {self.__class__.APR}'\n",
    "\n",
    "class SavingsAccount(Account):\n",
    "    APR = 7\n",
    "\n",
    "    def __init__(self, accNo):\n",
    "        self.accNo = accNo\n",
    "        self.accType = 'SAVINGS ACCOUNT'\n",
    "\n",
    "\n",
    "a = Account(123)\n",
    "s = SavingsAccount(123)"
   ]
  },
  {
   "cell_type": "code",
   "execution_count": 1060,
   "id": "3da20395-ff3e-41fa-b40a-53f8a963d2d7",
   "metadata": {},
   "outputs": [
    {
     "data": {
      "text/plain": [
       "'calculating int on 123: CASH ACCOUNT with APR 5'"
      ]
     },
     "execution_count": 1060,
     "metadata": {},
     "output_type": "execute_result"
    }
   ],
   "source": [
    "a.calcInt()"
   ]
  },
  {
   "cell_type": "code",
   "execution_count": 1061,
   "id": "e0ef27cf-d720-44a4-9a8b-f8dc63295421",
   "metadata": {},
   "outputs": [
    {
     "data": {
      "text/plain": [
       "'calculating int on 123: SAVINGS ACCOUNT with APR 7'"
      ]
     },
     "execution_count": 1061,
     "metadata": {},
     "output_type": "execute_result"
    }
   ],
   "source": [
    "s.calcInt()"
   ]
  },
  {
   "cell_type": "code",
   "execution_count": 1063,
   "id": "03ffebb7-645d-4b56-a3ca-0bdae2d5ef85",
   "metadata": {},
   "outputs": [
    {
     "data": {
      "text/plain": [
       "'calculating int on 123: SAVINGS ACCOUNT with APR 7'"
      ]
     },
     "execution_count": 1063,
     "metadata": {},
     "output_type": "execute_result"
    }
   ],
   "source": [
    "# instance can change its APR but i want allways the class APR to be used. \n",
    "s.APR = 50\n",
    "s.calcInt()"
   ]
  },
  {
   "cell_type": "code",
   "execution_count": 1069,
   "id": "f892c7e0-0dcb-4d31-9a94-6effc0f5e14b",
   "metadata": {},
   "outputs": [],
   "source": [
    "class Person:\n",
    "    def work(self):\n",
    "        return 'Person works...'\n",
    "\n",
    "class Student(Person):\n",
    "    def work(self):\n",
    "        result = super().work() # if we use self.work() this will cause infinite recusion\n",
    "        return f'Student works and... {result}'\n",
    "\n",
    "    def study(self):\n",
    "        return 'tiered studying'\n",
    "\n",
    "class PythonStudent(Student):\n",
    "    def work(self):\n",
    "        result = super().work()\n",
    "        return f'pythonista codes and... {result}'\n",
    "\n",
    "    def code(self):\n",
    "        return self.study()\n",
    "        "
   ]
  },
  {
   "cell_type": "code",
   "execution_count": 1070,
   "id": "0966f363-6831-4ce0-9cff-384d54b49fea",
   "metadata": {},
   "outputs": [
    {
     "data": {
      "text/plain": [
       "'pythonista codes and... Student works and... Person works...'"
      ]
     },
     "execution_count": 1070,
     "metadata": {},
     "output_type": "execute_result"
    }
   ],
   "source": [
    "s = Student()\n",
    "ps = PythonStudent()\n",
    "ps.work()"
   ]
  },
  {
   "cell_type": "code",
   "execution_count": 1071,
   "id": "80c11a96-de2f-4134-ab0f-db52df03ea1f",
   "metadata": {},
   "outputs": [
    {
     "data": {
      "text/plain": [
       "'tiered studying'"
      ]
     },
     "execution_count": 1071,
     "metadata": {},
     "output_type": "execute_result"
    }
   ],
   "source": [
    "ps.code()"
   ]
  },
  {
   "cell_type": "code",
   "execution_count": 1076,
   "id": "f6f2c73c-3c5f-44d8-9cfd-995158084fa8",
   "metadata": {},
   "outputs": [],
   "source": [
    "class Person:\n",
    "    def __init__(self, name):\n",
    "        self.name = name\n",
    "\n",
    "class Student(Person):\n",
    "    def __init__(self, name, subject):\n",
    "        super().__init__(name) # doesnt not require self as super is invoked bound to instance object\n",
    "        self.subject = subject"
   ]
  },
  {
   "cell_type": "code",
   "execution_count": 1077,
   "id": "9562c963-9299-4d9b-99ca-3419f1df60ea",
   "metadata": {},
   "outputs": [
    {
     "data": {
      "text/plain": [
       "{'name': 'brk', 'subject': 'Ai'}"
      ]
     },
     "execution_count": 1077,
     "metadata": {},
     "output_type": "execute_result"
    }
   ],
   "source": [
    "s = Student('brk', 'Ai')\n",
    "s.__dict__"
   ]
  },
  {
   "cell_type": "code",
   "execution_count": 1079,
   "id": "80c8cfe0-a903-4967-b217-5e91660af756",
   "metadata": {},
   "outputs": [],
   "source": [
    "from numbers import Integral"
   ]
  },
  {
   "cell_type": "code",
   "execution_count": 1111,
   "id": "9ed31873-0879-4fd2-9bfa-2559fcf5119c",
   "metadata": {},
   "outputs": [],
   "source": [
    "class Circle:\n",
    "    def __init__(self, r):\n",
    "        self.radius = r\n",
    "        self._area = None\n",
    "        self._perimeter = None\n",
    "\n",
    "    @property\n",
    "    def radius(self):\n",
    "        return self._radius\n",
    "\n",
    "    @radius.setter\n",
    "    def radius(self, r):\n",
    "        if not isinstance(r, Integral) or r < 0:\n",
    "            raise ValueError(\"Radius of a circle must be a positive integer\")\n",
    "\n",
    "        self._radius = r\n",
    "        self._area = None\n",
    "        self._perimeter = None\n",
    "\n",
    "    @property\n",
    "    def area(self):\n",
    "        if not self._area:\n",
    "            self._area = math.pi *  (self.radius ** 2)\n",
    "        return self._area\n",
    "\n",
    "    @property\n",
    "    def perimeter(self):\n",
    "        if not self._perimeter:\n",
    "            self._perimeter = 2 * math.pi * self.radius\n",
    "        return self._perimeter\n",
    "    \n",
    "\n",
    "class UnitCircle(Circle):\n",
    "    def __init__(self):\n",
    "        super().__init__(1)\n",
    "        "
   ]
  },
  {
   "cell_type": "code",
   "execution_count": 1112,
   "id": "1aa054ec-999e-408c-8440-3902d7d93b58",
   "metadata": {},
   "outputs": [],
   "source": [
    "c = Circle(10)\n",
    "uc = UnitCircle()"
   ]
  },
  {
   "cell_type": "code",
   "execution_count": 1117,
   "id": "fb2677c0-41b3-4936-8ef3-42c8592d5fc5",
   "metadata": {},
   "outputs": [
    {
     "data": {
      "text/plain": [
       "(10, 1)"
      ]
     },
     "execution_count": 1117,
     "metadata": {},
     "output_type": "execute_result"
    }
   ],
   "source": [
    "c.radius, uc.radius"
   ]
  },
  {
   "cell_type": "code",
   "execution_count": 1118,
   "id": "f73c0a83-284a-4f4d-be87-eb425ab2afa8",
   "metadata": {},
   "outputs": [
    {
     "data": {
      "text/plain": [
       "(314.1592653589793, 3.141592653589793)"
      ]
     },
     "execution_count": 1118,
     "metadata": {},
     "output_type": "execute_result"
    }
   ],
   "source": [
    "c.area, uc.area"
   ]
  },
  {
   "cell_type": "code",
   "execution_count": 1120,
   "id": "1b10712f-b4ab-4485-a7c2-a0e3b45f9ec1",
   "metadata": {},
   "outputs": [
    {
     "data": {
      "text/plain": [
       "(62.83185307179586, 6.283185307179586)"
      ]
     },
     "execution_count": 1120,
     "metadata": {},
     "output_type": "execute_result"
    }
   ],
   "source": [
    "c.perimeter, uc.perimeter"
   ]
  },
  {
   "cell_type": "code",
   "execution_count": 1121,
   "id": "9817b13d-b8ac-4bdb-aada-1cbfa6289a97",
   "metadata": {},
   "outputs": [],
   "source": [
    "c.radius = 1"
   ]
  },
  {
   "cell_type": "code",
   "execution_count": 1122,
   "id": "c2a773c3-7840-4c70-9419-6d28f3ff09e0",
   "metadata": {},
   "outputs": [],
   "source": [
    "uc.radius = 10"
   ]
  },
  {
   "cell_type": "code",
   "execution_count": 1123,
   "id": "97089bc8-7d5b-4fdf-aa18-63922f6b456e",
   "metadata": {},
   "outputs": [
    {
     "data": {
      "text/plain": [
       "(1,\n",
       " 10,\n",
       " 3.141592653589793,\n",
       " 314.1592653589793,\n",
       " 6.283185307179586,\n",
       " 62.83185307179586)"
      ]
     },
     "execution_count": 1123,
     "metadata": {},
     "output_type": "execute_result"
    }
   ],
   "source": [
    "c.radius, uc.radius, c.area, uc.area, c.perimeter, uc.perimeter"
   ]
  },
  {
   "cell_type": "markdown",
   "id": "f2a07e8d-2ee2-4bac-b4af-d0c96ea7d196",
   "metadata": {},
   "source": [
    "### we dont want anyone to be able to change radius of a unit circle but we want to allow circle radius to be changed - *How can we do this?*"
   ]
  },
  {
   "cell_type": "code",
   "execution_count": 1148,
   "id": "71302bc7-a8f2-40e2-a527-85050db0eb9e",
   "metadata": {},
   "outputs": [],
   "source": [
    "class Circle:\n",
    "    def __init__(self, r):\n",
    "        self.radius = r\n",
    "        self._area = None\n",
    "        self._perimeter = None\n",
    "\n",
    "    @property\n",
    "    def radius(self):\n",
    "        return self._radius\n",
    "\n",
    "    @radius.setter\n",
    "    def radius(self, r):\n",
    "        if not isinstance(r, Integral) or r < 0:\n",
    "            raise ValueError(\"Radius of a circle must be a positive integer\")\n",
    "\n",
    "        self._radius = r\n",
    "        self._area = None\n",
    "        self._perimeter = None\n",
    "\n",
    "    @property\n",
    "    def area(self):\n",
    "        if not self._area:\n",
    "            self._area = math.pi *  (self.radius ** 2)\n",
    "        return self._area\n",
    "\n",
    "    @property\n",
    "    def perimeter(self):\n",
    "        if not self._perimeter:\n",
    "            self._perimeter = 2 * math.pi * self.radius\n",
    "        return self._perimeter\n",
    "    \n",
    "\n",
    "class UnitCircle(Circle):\n",
    "    def __init__(self):\n",
    "        super().__init__(1)\n",
    "\n",
    "    @property  # make this instance property read-only\n",
    "    def radius(self):\n",
    "        return self._radius      "
   ]
  },
  {
   "cell_type": "code",
   "execution_count": 1149,
   "id": "12925550-4b6f-4296-a100-a7d153edeee5",
   "metadata": {},
   "outputs": [
    {
     "ename": "AttributeError",
     "evalue": "property 'radius' of 'UnitCircle' object has no setter",
     "output_type": "error",
     "traceback": [
      "\u001b[31m---------------------------------------------------------------------------\u001b[39m",
      "\u001b[31mAttributeError\u001b[39m                            Traceback (most recent call last)",
      "\u001b[36mCell\u001b[39m\u001b[36m \u001b[39m\u001b[32mIn[1149]\u001b[39m\u001b[32m, line 2\u001b[39m\n\u001b[32m      1\u001b[39m c = Circle(\u001b[32m10\u001b[39m)\n\u001b[32m----> \u001b[39m\u001b[32m2\u001b[39m uc = \u001b[43mUnitCircle\u001b[49m\u001b[43m(\u001b[49m\u001b[43m)\u001b[49m\n",
      "\u001b[36mCell\u001b[39m\u001b[36m \u001b[39m\u001b[32mIn[1148]\u001b[39m\u001b[32m, line 35\u001b[39m, in \u001b[36mUnitCircle.__init__\u001b[39m\u001b[34m(self)\u001b[39m\n\u001b[32m     34\u001b[39m \u001b[38;5;28;01mdef\u001b[39;00m\u001b[38;5;250m \u001b[39m\u001b[34m__init__\u001b[39m(\u001b[38;5;28mself\u001b[39m):\n\u001b[32m---> \u001b[39m\u001b[32m35\u001b[39m     \u001b[38;5;28;43msuper\u001b[39;49m\u001b[43m(\u001b[49m\u001b[43m)\u001b[49m\u001b[43m.\u001b[49m\u001b[34;43m__init__\u001b[39;49m\u001b[43m(\u001b[49m\u001b[32;43m1\u001b[39;49m\u001b[43m)\u001b[49m\n",
      "\u001b[36mCell\u001b[39m\u001b[36m \u001b[39m\u001b[32mIn[1148]\u001b[39m\u001b[32m, line 3\u001b[39m, in \u001b[36mCircle.__init__\u001b[39m\u001b[34m(self, r)\u001b[39m\n\u001b[32m      2\u001b[39m \u001b[38;5;28;01mdef\u001b[39;00m\u001b[38;5;250m \u001b[39m\u001b[34m__init__\u001b[39m(\u001b[38;5;28mself\u001b[39m, r):\n\u001b[32m----> \u001b[39m\u001b[32m3\u001b[39m     \u001b[38;5;28;43mself\u001b[39;49m\u001b[43m.\u001b[49m\u001b[43mradius\u001b[49m = r\n\u001b[32m      4\u001b[39m     \u001b[38;5;28mself\u001b[39m._area = \u001b[38;5;28;01mNone\u001b[39;00m\n\u001b[32m      5\u001b[39m     \u001b[38;5;28mself\u001b[39m._perimeter = \u001b[38;5;28;01mNone\u001b[39;00m\n",
      "\u001b[31mAttributeError\u001b[39m: property 'radius' of 'UnitCircle' object has no setter"
     ]
    }
   ],
   "source": [
    "c = Circle(10)\n",
    "uc = UnitCircle()"
   ]
  },
  {
   "cell_type": "markdown",
   "id": "516b4491-2707-44b3-83e1-ad70060c944d",
   "metadata": {},
   "source": [
    "### the code blows up in circle init, it uses self.radius which is unitcircles radius now, and we have set this as readonly property"
   ]
  },
  {
   "cell_type": "code",
   "execution_count": 1150,
   "id": "703af404-4f15-4f2a-b0ab-085ffbe186d6",
   "metadata": {},
   "outputs": [],
   "source": [
    "class Circle:\n",
    "    def __init__(self, r):\n",
    "        self._set_radius(r)  # this also needs to class the function and not setter\n",
    "        self._area = None\n",
    "        self._perimeter = None\n",
    "\n",
    "    @property\n",
    "    def radius(self):\n",
    "        return self._radius\n",
    "\n",
    "    def _set_radius(self, r):\n",
    "        if not isinstance(r, Integral) or r < 0:\n",
    "            raise ValueError(\"Radius of a circle must be a positive integer\")\n",
    "\n",
    "        self._radius = r\n",
    "        self._area = None\n",
    "        self._perimeter = None\n",
    "\n",
    "        \n",
    "    @radius.setter\n",
    "    def radius(self, r):\n",
    "        self._set_radius(r)\n",
    "            \n",
    "\n",
    "    @property\n",
    "    def area(self):\n",
    "        if not self._area:\n",
    "            self._area = math.pi *  (self.radius ** 2)\n",
    "        return self._area\n",
    "\n",
    "    @property\n",
    "    def perimeter(self):\n",
    "        if not self._perimeter:\n",
    "            self._perimeter = 2 * math.pi * self.radius\n",
    "        return self._perimeter\n",
    "    \n",
    "\n",
    "class UnitCircle(Circle):\n",
    "    def __init__(self):\n",
    "        super().__init__(1)\n",
    "\n",
    "    @property  # make this instance property read-only\n",
    "    def radius(self):\n",
    "        return self._radius \n",
    "\n",
    "c = Circle(10)\n",
    "uc = UnitCircle()"
   ]
  },
  {
   "cell_type": "code",
   "execution_count": 1151,
   "id": "6b4fdf8e-7e9c-4f81-8d45-7267096c4c80",
   "metadata": {},
   "outputs": [],
   "source": [
    "c.radius = 20"
   ]
  },
  {
   "cell_type": "code",
   "execution_count": 1152,
   "id": "c23b86ee-ad41-4c99-8749-eb675c5ec1c2",
   "metadata": {},
   "outputs": [
    {
     "data": {
      "text/plain": [
       "1"
      ]
     },
     "execution_count": 1152,
     "metadata": {},
     "output_type": "execute_result"
    }
   ],
   "source": [
    "uc.radius"
   ]
  },
  {
   "cell_type": "code",
   "execution_count": 1153,
   "id": "470ff742-e1b9-48fe-8821-8cbe2dcf09cf",
   "metadata": {},
   "outputs": [
    {
     "ename": "AttributeError",
     "evalue": "property 'radius' of 'UnitCircle' object has no setter",
     "output_type": "error",
     "traceback": [
      "\u001b[31m---------------------------------------------------------------------------\u001b[39m",
      "\u001b[31mAttributeError\u001b[39m                            Traceback (most recent call last)",
      "\u001b[36mCell\u001b[39m\u001b[36m \u001b[39m\u001b[32mIn[1153]\u001b[39m\u001b[32m, line 1\u001b[39m\n\u001b[32m----> \u001b[39m\u001b[32m1\u001b[39m \u001b[43muc\u001b[49m\u001b[43m.\u001b[49m\u001b[43mradius\u001b[49m = \u001b[32m10\u001b[39m\n",
      "\u001b[31mAttributeError\u001b[39m: property 'radius' of 'UnitCircle' object has no setter"
     ]
    }
   ],
   "source": [
    "uc.radius = 10"
   ]
  },
  {
   "cell_type": "markdown",
   "id": "1c7f27ce-cbac-4ea3-91eb-e50329184ff7",
   "metadata": {},
   "source": [
    "# SLOTS"
   ]
  },
  {
   "cell_type": "code",
   "execution_count": 1154,
   "id": "b85846fe-03f8-4df7-bfba-ef317789c0b2",
   "metadata": {},
   "outputs": [],
   "source": [
    "class Location:\n",
    "    __slots__ = 'name', '_longitude', '_latitude'\n",
    "\n",
    "    def __init__(self, name, longitude, latitude):\n",
    "        self._longitude = longitude\n",
    "        self._latitude = latitude\n",
    "        self.name = name\n",
    "\n",
    "    @property\n",
    "    def longitude(self):\n",
    "        return self._longitude\n",
    "\n",
    "    @property\n",
    "    def latitude(self):\n",
    "        return self._latitude"
   ]
  },
  {
   "cell_type": "code",
   "execution_count": 1155,
   "id": "f229b6f0-c1fa-461d-b806-02a3e927c350",
   "metadata": {},
   "outputs": [
    {
     "data": {
      "text/plain": [
       "mappingproxy({'__module__': '__main__',\n",
       "              '__firstlineno__': 1,\n",
       "              '__slots__': ('name', '_longitude', '_latitude'),\n",
       "              '__init__': <function __main__.Location.__init__(self, name, longitude, latitude)>,\n",
       "              'longitude': <property at 0x11547f970>,\n",
       "              'latitude': <property at 0x11547ffb0>,\n",
       "              '__static_attributes__': ('_latitude', '_longitude', 'name'),\n",
       "              '_latitude': <member '_latitude' of 'Location' objects>,\n",
       "              '_longitude': <member '_longitude' of 'Location' objects>,\n",
       "              'name': <member 'name' of 'Location' objects>,\n",
       "              '__doc__': None})"
      ]
     },
     "execution_count": 1155,
     "metadata": {},
     "output_type": "execute_result"
    }
   ],
   "source": [
    "Location.__dict__"
   ]
  },
  {
   "cell_type": "code",
   "execution_count": 1156,
   "id": "8dbabcb2-9e39-4a7d-b883-6bc7f0e4599e",
   "metadata": {},
   "outputs": [],
   "source": [
    "Location.provider = 'Google Maps'"
   ]
  },
  {
   "cell_type": "code",
   "execution_count": 1157,
   "id": "aba80f76-152a-4d56-a4bd-c3db99076eb6",
   "metadata": {},
   "outputs": [
    {
     "data": {
      "text/plain": [
       "mappingproxy({'__module__': '__main__',\n",
       "              '__firstlineno__': 1,\n",
       "              '__slots__': ('name', '_longitude', '_latitude'),\n",
       "              '__init__': <function __main__.Location.__init__(self, name, longitude, latitude)>,\n",
       "              'longitude': <property at 0x11547f970>,\n",
       "              'latitude': <property at 0x11547ffb0>,\n",
       "              '__static_attributes__': ('_latitude', '_longitude', 'name'),\n",
       "              '_latitude': <member '_latitude' of 'Location' objects>,\n",
       "              '_longitude': <member '_longitude' of 'Location' objects>,\n",
       "              'name': <member 'name' of 'Location' objects>,\n",
       "              '__doc__': None,\n",
       "              'provider': 'Google Maps'})"
      ]
     },
     "execution_count": 1157,
     "metadata": {},
     "output_type": "execute_result"
    }
   ],
   "source": [
    "Location.__dict__"
   ]
  },
  {
   "cell_type": "markdown",
   "id": "a4eb796b-fa36-43c9-8e27-2cee826788b6",
   "metadata": {},
   "source": [
    "### Slots have nothing to do with class, only with instances of the class"
   ]
  },
  {
   "cell_type": "code",
   "execution_count": 1159,
   "id": "428d1587-07c0-43e1-a95b-af6a080c1f37",
   "metadata": {},
   "outputs": [],
   "source": [
    "l = Location('Mumbai', longitude=19.0760, latitude=72.8777)"
   ]
  },
  {
   "cell_type": "code",
   "execution_count": 1160,
   "id": "38d9173a-8b86-4a52-a363-acb06c48fae4",
   "metadata": {},
   "outputs": [
    {
     "ename": "AttributeError",
     "evalue": "'Location' object has no attribute '__dict__'",
     "output_type": "error",
     "traceback": [
      "\u001b[31m---------------------------------------------------------------------------\u001b[39m",
      "\u001b[31mAttributeError\u001b[39m                            Traceback (most recent call last)",
      "\u001b[36mCell\u001b[39m\u001b[36m \u001b[39m\u001b[32mIn[1160]\u001b[39m\u001b[32m, line 1\u001b[39m\n\u001b[32m----> \u001b[39m\u001b[32m1\u001b[39m \u001b[43ml\u001b[49m\u001b[43m.\u001b[49m\u001b[34;43m__dict__\u001b[39;49m\n",
      "\u001b[31mAttributeError\u001b[39m: 'Location' object has no attribute '__dict__'"
     ]
    }
   ],
   "source": [
    "l.__dict__"
   ]
  },
  {
   "cell_type": "code",
   "execution_count": 1161,
   "id": "e64020e1-78ac-410a-b258-266f3b3caea9",
   "metadata": {},
   "outputs": [
    {
     "data": {
      "text/plain": [
       "('Mumbai', 72.8777, 19.076)"
      ]
     },
     "execution_count": 1161,
     "metadata": {},
     "output_type": "execute_result"
    }
   ],
   "source": [
    "l.name, l.latitude, l.longitude"
   ]
  },
  {
   "cell_type": "code",
   "execution_count": 1162,
   "id": "99c22598-8e68-4eb7-893d-4c077b23e003",
   "metadata": {},
   "outputs": [
    {
     "data": {
      "text/plain": [
       "'Google Maps'"
      ]
     },
     "execution_count": 1162,
     "metadata": {},
     "output_type": "execute_result"
    }
   ],
   "source": [
    "l.provider"
   ]
  },
  {
   "cell_type": "code",
   "execution_count": 1165,
   "id": "635be837-6d68-4d48-bd05-e62b36dcb912",
   "metadata": {},
   "outputs": [
    {
     "ename": "AttributeError",
     "evalue": "'Location' object has no attribute 'monkey' and no __dict__ for setting new attributes",
     "output_type": "error",
     "traceback": [
      "\u001b[31m---------------------------------------------------------------------------\u001b[39m",
      "\u001b[31mAttributeError\u001b[39m                            Traceback (most recent call last)",
      "\u001b[36mCell\u001b[39m\u001b[36m \u001b[39m\u001b[32mIn[1165]\u001b[39m\u001b[32m, line 1\u001b[39m\n\u001b[32m----> \u001b[39m\u001b[32m1\u001b[39m \u001b[43ml\u001b[49m\u001b[43m.\u001b[49m\u001b[43mmonkey\u001b[49m = \u001b[33m'\u001b[39m\u001b[33mbharath\u001b[39m\u001b[33m'\u001b[39m\n",
      "\u001b[31mAttributeError\u001b[39m: 'Location' object has no attribute 'monkey' and no __dict__ for setting new attributes"
     ]
    }
   ],
   "source": [
    "l.monkey = 'bharath'"
   ]
  },
  {
   "cell_type": "code",
   "execution_count": 1166,
   "id": "fcddc6e1-4236-42c0-80be-55974d14a8e6",
   "metadata": {},
   "outputs": [],
   "source": [
    "del l.name"
   ]
  },
  {
   "cell_type": "code",
   "execution_count": 1167,
   "id": "fd5286e0-c681-4228-9515-baabda1fa652",
   "metadata": {},
   "outputs": [],
   "source": [
    "l.name = 'Bombay'"
   ]
  },
  {
   "cell_type": "markdown",
   "id": "43c2a5f1-1fee-471a-b744-bc0edfcfff4d",
   "metadata": {},
   "source": [
    "### do not use slots unless you are creating a lot of instances to warrent a performance impact. These can cause complexities when subclassed "
   ]
  },
  {
   "cell_type": "markdown",
   "id": "176b2514-3c2a-43c6-a539-ad6312af0ec7",
   "metadata": {},
   "source": [
    "# DESCRIPTORS"
   ]
  },
  {
   "cell_type": "code",
   "execution_count": 1168,
   "id": "b0f8502a-f00e-4a18-9da2-ff1178d5e5d0",
   "metadata": {},
   "outputs": [],
   "source": [
    "from datetime import datetime"
   ]
  },
  {
   "cell_type": "code",
   "execution_count": 1179,
   "id": "e1efe30a-afcf-44c6-8403-5c9d4a7a6621",
   "metadata": {},
   "outputs": [],
   "source": [
    "class TimeUTC:\n",
    "    def __get__(self, instance, owner_class):\n",
    "        return datetime.now(pytz.utc).isoformat()"
   ]
  },
  {
   "cell_type": "code",
   "execution_count": 1180,
   "id": "00493635-c761-46f9-bec8-54a9bb25543c",
   "metadata": {},
   "outputs": [],
   "source": [
    "class Logger:\n",
    "    current_time = TimeUTC()"
   ]
  },
  {
   "cell_type": "code",
   "execution_count": 1181,
   "id": "bea49f3f-4caf-4bc4-85ff-4a2f26ed325a",
   "metadata": {},
   "outputs": [
    {
     "data": {
      "text/plain": [
       "mappingproxy({'__module__': '__main__',\n",
       "              '__firstlineno__': 1,\n",
       "              'current_time': <__main__.TimeUTC at 0x114f3ecf0>,\n",
       "              '__static_attributes__': (),\n",
       "              '__dict__': <attribute '__dict__' of 'Logger' objects>,\n",
       "              '__weakref__': <attribute '__weakref__' of 'Logger' objects>,\n",
       "              '__doc__': None})"
      ]
     },
     "execution_count": 1181,
     "metadata": {},
     "output_type": "execute_result"
    }
   ],
   "source": [
    "Logger.__dict__"
   ]
  },
  {
   "cell_type": "code",
   "execution_count": 1182,
   "id": "7be9c394-92b7-4ab7-a2f4-48a01d3a595f",
   "metadata": {},
   "outputs": [
    {
     "data": {
      "text/plain": [
       "'2025-06-29T19:41:12.359614+00:00'"
      ]
     },
     "execution_count": 1182,
     "metadata": {},
     "output_type": "execute_result"
    }
   ],
   "source": [
    "Logger.current_time"
   ]
  },
  {
   "cell_type": "code",
   "execution_count": 1183,
   "id": "01a09982-b523-40df-9235-766fe0cfefff",
   "metadata": {},
   "outputs": [
    {
     "data": {
      "text/plain": [
       "'2025-06-29T19:41:25.967918+00:00'"
      ]
     },
     "execution_count": 1183,
     "metadata": {},
     "output_type": "execute_result"
    }
   ],
   "source": [
    "l = Logger()\n",
    "l.current_time"
   ]
  },
  {
   "cell_type": "code",
   "execution_count": 1184,
   "id": "b94058eb-43c6-499b-ad49-e4f5e3963612",
   "metadata": {},
   "outputs": [],
   "source": [
    "from random import choice, seed"
   ]
  },
  {
   "cell_type": "code",
   "execution_count": 1185,
   "id": "bd1ba165-30b0-4173-844d-e4decd0549b0",
   "metadata": {},
   "outputs": [],
   "source": [
    "class Deck:\n",
    "    @property\n",
    "    def suit(self):\n",
    "        return choice(('Space', 'Heart', 'Diamond', 'Club'))\n",
    "\n",
    "    @property\n",
    "    def card(self):\n",
    "        return choice(tuple('23456789JQKA') + ('10',))"
   ]
  },
  {
   "cell_type": "code",
   "execution_count": 1186,
   "id": "df668ed2-f81c-4faa-a8f5-2b7d0f530cce",
   "metadata": {},
   "outputs": [],
   "source": [
    "d = Deck()"
   ]
  },
  {
   "cell_type": "code",
   "execution_count": 1187,
   "id": "bb94c598-9634-4c79-896b-349e2c7bdfee",
   "metadata": {},
   "outputs": [
    {
     "name": "stdout",
     "output_type": "stream",
     "text": [
      "8 Club\n",
      "2 Diamond\n",
      "J Club\n",
      "8 Diamond\n",
      "9 Diamond\n",
      "Q Heart\n",
      "J Heart\n",
      "6 Heart\n",
      "10 Space\n",
      "Q Diamond\n"
     ]
    }
   ],
   "source": [
    "seed(0)\n",
    "\n",
    "for _ in range(10):\n",
    "    print(d.card, d.suit)\n"
   ]
  },
  {
   "cell_type": "code",
   "execution_count": 1203,
   "id": "7359eb18-9f92-481c-a09d-c31d6ba47b05",
   "metadata": {},
   "outputs": [],
   "source": [
    "class Choice:\n",
    "    def __init__(self, *choices):\n",
    "        self.choices = choices\n",
    "\n",
    "    def __get__(self, instance, owner_class):\n",
    "        return choice(self.choices)\n",
    "\n",
    "\n",
    "class Deck:\n",
    "    suit = Choice('Space', 'Heart', 'Diamond', 'Club')\n",
    "    card = Choice(*tuple('23456789JQKA')+ ('10',))"
   ]
  },
  {
   "cell_type": "code",
   "execution_count": 1206,
   "id": "e3ad38d2-4e5f-4f9d-a709-439bc8a0bf9e",
   "metadata": {},
   "outputs": [
    {
     "name": "stdout",
     "output_type": "stream",
     "text": [
      "8 Club\n",
      "2 Diamond\n",
      "J Club\n",
      "8 Diamond\n",
      "9 Diamond\n",
      "Q Heart\n",
      "J Heart\n",
      "6 Heart\n",
      "10 Space\n",
      "Q Diamond\n"
     ]
    }
   ],
   "source": [
    "seed(0)\n",
    "\n",
    "d = Deck()\n",
    "for _ in range(10):\n",
    "    print(d.card, d.suit)"
   ]
  },
  {
   "cell_type": "code",
   "execution_count": 1209,
   "id": "e984c112-bda8-42c8-9d51-4067cd4fcea5",
   "metadata": {},
   "outputs": [
    {
     "name": "stdout",
     "output_type": "stream",
     "text": [
      "3 :: 5 :: 6\n",
      "2 :: 5 :: 4\n",
      "4 :: 5 :: 3\n",
      "1 :: 5 :: 1\n",
      "1 :: 6 :: 4\n"
     ]
    }
   ],
   "source": [
    "class Dice:\n",
    "    die1 = Choice(1, 2, 3, 4, 5, 6)\n",
    "    die2 = Choice(1, 2, 3, 4, 5, 6)\n",
    "    die3 = Choice(1, 2, 3, 4, 5, 6)\n",
    "\n",
    "d = Dice()\n",
    "\n",
    "for _ in range(5):\n",
    "    print(f'{d.die1} :: {d.die2} :: {d.die3}')"
   ]
  },
  {
   "cell_type": "code",
   "execution_count": null,
   "id": "0313cf26-95b7-4854-a838-a29c626c957c",
   "metadata": {},
   "outputs": [],
   "source": []
  }
 ],
 "metadata": {
  "kernelspec": {
   "display_name": "Python 3 (ipykernel)",
   "language": "python",
   "name": "python3"
  },
  "language_info": {
   "codemirror_mode": {
    "name": "ipython",
    "version": 3
   },
   "file_extension": ".py",
   "mimetype": "text/x-python",
   "name": "python",
   "nbconvert_exporter": "python",
   "pygments_lexer": "ipython3",
   "version": "3.13.2"
  }
 },
 "nbformat": 4,
 "nbformat_minor": 5
}
