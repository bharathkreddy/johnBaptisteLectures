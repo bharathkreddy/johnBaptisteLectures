{
 "cells": [
  {
   "cell_type": "markdown",
   "id": "c1c9562d-3047-473d-bdb6-0f1f87a03266",
   "metadata": {},
   "source": [
    "# RANDOM"
   ]
  },
  {
   "cell_type": "code",
   "execution_count": 1,
   "id": "73dc682b-efdd-4880-8862-7e0ead4d7a55",
   "metadata": {},
   "outputs": [],
   "source": [
    "import random"
   ]
  },
  {
   "cell_type": "code",
   "execution_count": 5,
   "id": "ac3a2a13-04ad-4ded-bd71-73cfb0adcc7d",
   "metadata": {},
   "outputs": [
    {
     "name": "stdout",
     "output_type": "stream",
     "text": [
      "0.05621896454565878\n",
      "0.9881628437515066\n",
      "0.5111425891127467\n",
      "0.22204318288070268\n",
      "0.7800699737429563\n"
     ]
    }
   ],
   "source": [
    "for _ in range(5):\n",
    "    print(random.random())"
   ]
  },
  {
   "cell_type": "code",
   "execution_count": 6,
   "id": "87ea7ff9-cc85-4b35-8c2c-ddd60aa17294",
   "metadata": {},
   "outputs": [
    {
     "name": "stdout",
     "output_type": "stream",
     "text": [
      "0.8444218515250481\n",
      "0.7579544029403025\n",
      "0.420571580830845\n",
      "0.25891675029296335\n",
      "0.5112747213686085\n"
     ]
    }
   ],
   "source": [
    "random.seed(0)\n",
    "for _ in range(5):\n",
    "    print(random.random())"
   ]
  },
  {
   "cell_type": "code",
   "execution_count": 16,
   "id": "8b861ea7-d3a8-4142-ae77-ffec1825363b",
   "metadata": {},
   "outputs": [
    {
     "name": "stdout",
     "output_type": "stream",
     "text": [
      "0.8444218515250481\n",
      "0.7579544029403025\n",
      "0.420571580830845\n",
      "0.25891675029296335\n",
      "0.5112747213686085\n"
     ]
    }
   ],
   "source": [
    "random.seed(0)\n",
    "for _ in range(5):\n",
    "    print(random.random())"
   ]
  },
  {
   "cell_type": "code",
   "execution_count": 17,
   "id": "5ebaccdd-092c-4f87-a702-ab22e1040e0e",
   "metadata": {},
   "outputs": [
    {
     "name": "stdout",
     "output_type": "stream",
     "text": [
      "4\n",
      "3\n",
      "4\n",
      "3\n",
      "5\n"
     ]
    }
   ],
   "source": [
    "for _ in range(5):\n",
    "    print(random.randrange(1,6))"
   ]
  },
  {
   "cell_type": "code",
   "execution_count": 18,
   "id": "d80dc27f-c3a0-4b5f-9886-cd997861ef69",
   "metadata": {},
   "outputs": [
    {
     "name": "stdout",
     "output_type": "stream",
     "text": [
      "2\n",
      "5\n",
      "2\n",
      "3\n",
      "2\n"
     ]
    }
   ],
   "source": [
    "for _ in range(5):\n",
    "    print(random.randint(1,6))\n",
    "# includes the range"
   ]
  },
  {
   "cell_type": "code",
   "execution_count": 20,
   "id": "f65c2899-268f-497a-b570-7b897ce2dd8b",
   "metadata": {},
   "outputs": [
    {
     "name": "stdout",
     "output_type": "stream",
     "text": [
      "ab|************\n",
      "b|*******************************\n",
      "c|********************\n",
      "defh|************************************\n"
     ]
    }
   ],
   "source": [
    "data = [\n",
    "    ('ab',12.3),\n",
    "    ('b',30.7),\n",
    "    ('c',20.5),\n",
    "    ('defh',36.5),\n",
    "]\n",
    "\n",
    "for k,v in data:\n",
    "    print(f\"{k}|{'*' * round(v)}\")"
   ]
  },
  {
   "cell_type": "code",
   "execution_count": 22,
   "id": "a619c403-3fd3-4860-b657-e33d96bb284e",
   "metadata": {},
   "outputs": [
    {
     "data": {
      "text/plain": [
       "'-------abc'"
      ]
     },
     "execution_count": 22,
     "metadata": {},
     "output_type": "execute_result"
    }
   ],
   "source": [
    "s = 'abc'\n",
    "s.rjust(10,'-')"
   ]
  },
  {
   "cell_type": "code",
   "execution_count": 25,
   "id": "f661690b-1a5a-41ed-ac10-758e353f1f9f",
   "metadata": {},
   "outputs": [
    {
     "name": "stdout",
     "output_type": "stream",
     "text": [
      "  ab|************\n",
      "   b|*******************************\n",
      "   c|********************\n",
      "defh|************************************\n"
     ]
    }
   ],
   "source": [
    "for k,v in data:\n",
    "    print(f\"{k.rjust(4)}|{'*' * round(v)}\")"
   ]
  },
  {
   "cell_type": "markdown",
   "id": "75125bbc-54d3-49df-81fe-421489075181",
   "metadata": {},
   "source": [
    "# sampling and shuffling"
   ]
  },
  {
   "cell_type": "code",
   "execution_count": 26,
   "id": "c67e0e16-cd56-4b22-8d38-84c9fa73afd2",
   "metadata": {},
   "outputs": [],
   "source": [
    "l = [1,2,3,4,5]\n",
    "random.shuffle(l)"
   ]
  },
  {
   "cell_type": "code",
   "execution_count": 27,
   "id": "5c3d1a7c-f68a-45cb-b847-ec702e7fdf48",
   "metadata": {},
   "outputs": [
    {
     "data": {
      "text/plain": [
       "[2, 5, 4, 3, 1]"
      ]
     },
     "execution_count": 27,
     "metadata": {},
     "output_type": "execute_result"
    }
   ],
   "source": [
    "l"
   ]
  },
  {
   "cell_type": "code",
   "execution_count": 28,
   "id": "9a9eb0fd-1f87-4a73-9d38-27fb599f46f1",
   "metadata": {},
   "outputs": [
    {
     "name": "stdout",
     "output_type": "stream",
     "text": [
      "3\n",
      "1\n",
      "1\n",
      "3\n",
      "4\n"
     ]
    }
   ],
   "source": [
    "l = [1,2,3,4,5]\n",
    "for _ in range(5):\n",
    "    print(random.choice(l))"
   ]
  },
  {
   "cell_type": "code",
   "execution_count": 34,
   "id": "f61d6506-34a2-4e3d-9a79-88873eb733ba",
   "metadata": {},
   "outputs": [
    {
     "data": {
      "text/plain": [
       "['a', 'b', 'c', 'd', 'e', 'f']"
      ]
     },
     "execution_count": 34,
     "metadata": {},
     "output_type": "execute_result"
    }
   ],
   "source": [
    "s = list('abcdef')\n",
    "s"
   ]
  },
  {
   "cell_type": "code",
   "execution_count": 35,
   "id": "ea3551f5-1e1b-459a-8a71-974ccc8871ed",
   "metadata": {},
   "outputs": [
    {
     "name": "stdout",
     "output_type": "stream",
     "text": [
      "['f', 'd', 'a']\n",
      "['e', 'd', 'c']\n",
      "['b', 'c', 'a']\n",
      "['b', 'e', 'f']\n",
      "['b', 'f', 'd']\n"
     ]
    }
   ],
   "source": [
    "for _ in range(5):\n",
    "    print(random.sample(s, 3))\n",
    "\n",
    "# without repetition"
   ]
  },
  {
   "cell_type": "code",
   "execution_count": 37,
   "id": "81d9eef1-022e-4fad-9554-6be69a1e692e",
   "metadata": {},
   "outputs": [
    {
     "name": "stdout",
     "output_type": "stream",
     "text": [
      "['a', 'f', 'f']\n",
      "['f', 'c', 'b']\n",
      "['b', 'a', 'b']\n",
      "['f', 'b', 'e']\n",
      "['d', 'b', 'a']\n"
     ]
    }
   ],
   "source": [
    "# with repetition\n",
    "for _ in range(5):\n",
    "    print(random.choices(s, k=3))"
   ]
  },
  {
   "cell_type": "markdown",
   "id": "de94a5e0-6d0c-4e1d-b55f-b4dea502adac",
   "metadata": {},
   "source": []
  }
 ],
 "metadata": {
  "kernelspec": {
   "display_name": "Python 3 (ipykernel)",
   "language": "python",
   "name": "python3"
  },
  "language_info": {
   "codemirror_mode": {
    "name": "ipython",
    "version": 3
   },
   "file_extension": ".py",
   "mimetype": "text/x-python",
   "name": "python",
   "nbconvert_exporter": "python",
   "pygments_lexer": "ipython3",
   "version": "3.13.2"
  }
 },
 "nbformat": 4,
 "nbformat_minor": 5
}
