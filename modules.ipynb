{
 "cells": [
  {
   "cell_type": "code",
   "execution_count": 1,
   "id": "b56e8e95-4a88-4d87-9dd5-6478071cacde",
   "metadata": {
    "editable": true,
    "slideshow": {
     "slide_type": ""
    },
    "tags": []
   },
   "outputs": [],
   "source": [
    "import sys"
   ]
  },
  {
   "cell_type": "code",
   "execution_count": 2,
   "id": "9cfdf6e2-1f5b-49c9-997f-ac758635314e",
   "metadata": {},
   "outputs": [
    {
     "data": {
      "text/plain": [
       "'/Users/bharathreddy/.cache/uv/archive-v0/rPbLhlD0hsHnmcDrHlsH-'"
      ]
     },
     "execution_count": 2,
     "metadata": {},
     "output_type": "execute_result"
    }
   ],
   "source": [
    "# where is python installed\n",
    "sys.prefix"
   ]
  },
  {
   "cell_type": "code",
   "execution_count": 3,
   "id": "d1fec5f1-da6d-4cd6-b763-5d470dd089d2",
   "metadata": {},
   "outputs": [
    {
     "data": {
      "text/plain": [
       "'/Users/bharathreddy/.cache/uv/archive-v0/rPbLhlD0hsHnmcDrHlsH-'"
      ]
     },
     "execution_count": 3,
     "metadata": {},
     "output_type": "execute_result"
    }
   ],
   "source": [
    "# compiled C binaries.\n",
    "sys.exec_prefix"
   ]
  },
  {
   "cell_type": "code",
   "execution_count": 4,
   "id": "53803ad0-baaa-460e-8fd8-63ff6c645335",
   "metadata": {},
   "outputs": [
    {
     "data": {
      "text/plain": [
       "['/opt/homebrew/Cellar/python@3.13/3.13.2/Frameworks/Python.framework/Versions/3.13/lib/python313.zip',\n",
       " '/opt/homebrew/Cellar/python@3.13/3.13.2/Frameworks/Python.framework/Versions/3.13/lib/python3.13',\n",
       " '/opt/homebrew/Cellar/python@3.13/3.13.2/Frameworks/Python.framework/Versions/3.13/lib/python3.13/lib-dynload',\n",
       " '',\n",
       " '/Users/bharathreddy/.cache/uv/archive-v0/rPbLhlD0hsHnmcDrHlsH-/lib/python3.13/site-packages',\n",
       " '/Users/bharathreddy/PycharmProjects/baptiste/.venv/lib/python3.13/site-packages']"
      ]
     },
     "execution_count": 4,
     "metadata": {},
     "output_type": "execute_result"
    }
   ],
   "source": [
    "# python looks here for imports\n",
    "sys.path"
   ]
  },
  {
   "cell_type": "code",
   "execution_count": 5,
   "id": "459283f2-5bb1-4f9f-a46e-87ca68051bdd",
   "metadata": {},
   "outputs": [
    {
     "name": "stdout",
     "output_type": "stream",
     "text": [
      "hey\n"
     ]
    }
   ],
   "source": [
    "import module1"
   ]
  },
  {
   "cell_type": "code",
   "execution_count": 6,
   "id": "544690ab-ff02-4083-8153-80519a43b22e",
   "metadata": {
    "editable": true,
    "slideshow": {
     "slide_type": ""
    },
    "tags": []
   },
   "outputs": [
    {
     "data": {
      "text/plain": [
       "<module 'module1' from '/Users/bharathreddy/PycharmProjects/baptiste/module1.py'>"
      ]
     },
     "execution_count": 6,
     "metadata": {},
     "output_type": "execute_result"
    }
   ],
   "source": [
    "sys.modules['module1']"
   ]
  },
  {
   "cell_type": "code",
   "execution_count": 7,
   "id": "2dde4f94-d545-4deb-848a-727c80b68414",
   "metadata": {},
   "outputs": [],
   "source": [
    "import sys"
   ]
  },
  {
   "cell_type": "code",
   "execution_count": 8,
   "id": "782a082e-0d7c-433e-ae69-9251a620b7f8",
   "metadata": {},
   "outputs": [
    {
     "data": {
      "text/plain": [
       "<module 'sys' (built-in)>"
      ]
     },
     "execution_count": 8,
     "metadata": {},
     "output_type": "execute_result"
    }
   ],
   "source": [
    "sys"
   ]
  },
  {
   "cell_type": "code",
   "execution_count": 9,
   "id": "669e7b22-c254-4f67-980c-8f4ddd809d63",
   "metadata": {},
   "outputs": [
    {
     "data": {
      "text/plain": [
       "(False, True)"
      ]
     },
     "execution_count": 9,
     "metadata": {},
     "output_type": "execute_result"
    }
   ],
   "source": [
    "'collections' in globals(), 'collections' in sys.modules"
   ]
  },
  {
   "cell_type": "code",
   "execution_count": 10,
   "id": "23dc192d-9934-426e-a9b3-d6821d23121b",
   "metadata": {},
   "outputs": [],
   "source": [
    "import collections"
   ]
  },
  {
   "cell_type": "code",
   "execution_count": 11,
   "id": "2cbcd4d9-c943-4c4a-9921-deb12d8c73ec",
   "metadata": {},
   "outputs": [
    {
     "data": {
      "text/plain": [
       "<module 'collections' from '/opt/homebrew/Cellar/python@3.13/3.13.2/Frameworks/Python.framework/Versions/3.13/lib/python3.13/collections/__init__.py'>"
      ]
     },
     "execution_count": 11,
     "metadata": {},
     "output_type": "execute_result"
    }
   ],
   "source": [
    "collections"
   ]
  },
  {
   "cell_type": "code",
   "execution_count": 12,
   "id": "0bc202e1-d00a-4535-a681-f0acd97d6bd6",
   "metadata": {},
   "outputs": [
    {
     "data": {
      "text/plain": [
       "True"
      ]
     },
     "execution_count": 12,
     "metadata": {},
     "output_type": "execute_result"
    }
   ],
   "source": [
    "'collections' in sys.modules"
   ]
  },
  {
   "cell_type": "code",
   "execution_count": 13,
   "id": "d37b8be5-7b15-445e-8b84-3f2dde41e3b6",
   "metadata": {},
   "outputs": [
    {
     "data": {
      "text/plain": [
       "True"
      ]
     },
     "execution_count": 13,
     "metadata": {},
     "output_type": "execute_result"
    }
   ],
   "source": [
    "'collections' in globals()"
   ]
  },
  {
   "cell_type": "code",
   "execution_count": 15,
   "id": "6d835474-00b7-4312-acd5-fe622126cbd4",
   "metadata": {},
   "outputs": [
    {
     "data": {
      "text/plain": [
       "(True, False)"
      ]
     },
     "execution_count": 15,
     "metadata": {},
     "output_type": "execute_result"
    }
   ],
   "source": [
    "'math' in sys.modules, 'math' in globals()"
   ]
  },
  {
   "cell_type": "code",
   "execution_count": 16,
   "id": "8704f1c6-7ab8-48d3-acd0-882e4b98ead9",
   "metadata": {},
   "outputs": [
    {
     "data": {
      "text/plain": [
       "ModuleSpec(name='collections', loader=<_frozen_importlib_external.SourceFileLoader object at 0x104a82e40>, origin='/opt/homebrew/Cellar/python@3.13/3.13.2/Frameworks/Python.framework/Versions/3.13/lib/python3.13/collections/__init__.py', submodule_search_locations=['/opt/homebrew/Cellar/python@3.13/3.13.2/Frameworks/Python.framework/Versions/3.13/lib/python3.13/collections'])"
      ]
     },
     "execution_count": 16,
     "metadata": {},
     "output_type": "execute_result"
    }
   ],
   "source": [
    "collections.__spec__"
   ]
  },
  {
   "cell_type": "code",
   "execution_count": 17,
   "id": "c210ec8f-a3dd-467a-ab13-3d1c1324cee2",
   "metadata": {},
   "outputs": [],
   "source": [
    "from math import sqrt"
   ]
  },
  {
   "cell_type": "code",
   "execution_count": 18,
   "id": "6e5c19cf-d7ac-4630-aa40-52dc376c222e",
   "metadata": {},
   "outputs": [
    {
     "data": {
      "text/plain": [
       "(False, True)"
      ]
     },
     "execution_count": 18,
     "metadata": {},
     "output_type": "execute_result"
    }
   ],
   "source": [
    "'math' in globals() , 'sqrt' in globals()"
   ]
  },
  {
   "cell_type": "code",
   "execution_count": 19,
   "id": "84df9726-b367-4319-8489-b1070cf39f64",
   "metadata": {
    "editable": true,
    "slideshow": {
     "slide_type": ""
    },
    "tags": []
   },
   "outputs": [
    {
     "ename": "NameError",
     "evalue": "name 'math' is not defined",
     "output_type": "error",
     "traceback": [
      "\u001b[31m---------------------------------------------------------------------------\u001b[39m",
      "\u001b[31mNameError\u001b[39m                                 Traceback (most recent call last)",
      "\u001b[36mCell\u001b[39m\u001b[36m \u001b[39m\u001b[32mIn[19]\u001b[39m\u001b[32m, line 1\u001b[39m\n\u001b[32m----> \u001b[39m\u001b[32m1\u001b[39m \u001b[43mmath\u001b[49m.sin(\u001b[32m2\u001b[39m)\n",
      "\u001b[31mNameError\u001b[39m: name 'math' is not defined"
     ]
    }
   ],
   "source": []
  },
  {
   "cell_type": "code",
   "execution_count": null,
   "id": "a2973829-95c4-43b6-a16e-1dd723323db5",
   "metadata": {},
   "outputs": [],
   "source": []
  }
 ],
 "metadata": {
  "kernelspec": {
   "display_name": "Python 3 (ipykernel)",
   "language": "python",
   "name": "python3"
  },
  "language_info": {
   "codemirror_mode": {
    "name": "ipython",
    "version": 3
   },
   "file_extension": ".py",
   "mimetype": "text/x-python",
   "name": "python",
   "nbconvert_exporter": "python",
   "pygments_lexer": "ipython3",
   "version": "3.13.2"
  }
 },
 "nbformat": 4,
 "nbformat_minor": 5
}
