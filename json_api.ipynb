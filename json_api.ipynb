{
 "cells": [
  {
   "cell_type": "markdown",
   "id": "e5c3ba27-0e86-4473-8cee-2b36994ede56",
   "metadata": {},
   "source": [
    "# JSON"
   ]
  },
  {
   "cell_type": "code",
   "execution_count": 2,
   "id": "8acb6360-99df-41c1-87d9-350e7771e52d",
   "metadata": {},
   "outputs": [],
   "source": [
    "json_str = '''\n",
    "{\n",
    "    \"name\": \"Eric Smith\",\n",
    "    \"age\": 32,\n",
    "    \"phoneNumbers\": [\n",
    "        {\n",
    "            \"type\": \"home\",\n",
    "            \"number\": \"(212) 555-3276\"\n",
    "        },\n",
    "        {\n",
    "            \"type\": \"work\",\n",
    "            \"number\": \"(332) 555-1234\"\n",
    "        }\n",
    "    ],\n",
    "    \"spouse\": null,\n",
    "    \"children\": [],\n",
    "    \"employed\": true\n",
    "}\n",
    "'''"
   ]
  },
  {
   "cell_type": "code",
   "execution_count": 3,
   "id": "daabe025-4075-4fe2-a0ff-77db33e67565",
   "metadata": {},
   "outputs": [],
   "source": [
    "import json"
   ]
  },
  {
   "cell_type": "code",
   "execution_count": 8,
   "id": "01b8e38b-9386-44ee-bef4-cc8ba2ee4252",
   "metadata": {},
   "outputs": [
    {
     "data": {
      "text/plain": [
       "{'name': 'Eric Smith',\n",
       " 'age': 32,\n",
       " 'phoneNumbers': [{'type': 'home', 'number': '(212) 555-3276'},\n",
       "  {'type': 'work', 'number': '(332) 555-1234'}],\n",
       " 'spouse': None,\n",
       " 'children': [],\n",
       " 'employed': True}"
      ]
     },
     "execution_count": 8,
     "metadata": {},
     "output_type": "execute_result"
    }
   ],
   "source": [
    "serialised = json.loads(json_str)\n",
    "serialised\n",
    "# notice the 't' in true and null converted to NONE"
   ]
  },
  {
   "cell_type": "code",
   "execution_count": 9,
   "id": "415e6706-e12e-43ad-b9c2-d96dd5694242",
   "metadata": {},
   "outputs": [
    {
     "data": {
      "text/plain": [
       "'{\"name\": \"Eric Smith\", \"age\": 32, \"phoneNumbers\": [{\"type\": \"home\", \"number\": \"(212) 555-3276\"}, {\"type\": \"work\", \"number\": \"(332) 555-1234\"}], \"spouse\": null, \"children\": [], \"employed\": true}'"
      ]
     },
     "execution_count": 9,
     "metadata": {},
     "output_type": "execute_result"
    }
   ],
   "source": [
    "json.dumps(serialised)"
   ]
  },
  {
   "cell_type": "code",
   "execution_count": 11,
   "id": "a4664bfa-8e7c-49d4-9a12-88c22255ab1c",
   "metadata": {},
   "outputs": [
    {
     "name": "stdout",
     "output_type": "stream",
     "text": [
      "{\n",
      "  \"name\": \"Eric Smith\",\n",
      "  \"age\": 32,\n",
      "  \"phoneNumbers\": [\n",
      "    {\n",
      "      \"type\": \"home\",\n",
      "      \"number\": \"(212) 555-3276\"\n",
      "    },\n",
      "    {\n",
      "      \"type\": \"work\",\n",
      "      \"number\": \"(332) 555-1234\"\n",
      "    }\n",
      "  ],\n",
      "  \"spouse\": null,\n",
      "  \"children\": [],\n",
      "  \"employed\": true\n",
      "}\n"
     ]
    }
   ],
   "source": [
    "print(json.dumps(serialised, indent=2))"
   ]
  },
  {
   "cell_type": "code",
   "execution_count": 18,
   "id": "e32868c9-31ba-49ce-b8b8-a2020b1046c4",
   "metadata": {},
   "outputs": [],
   "source": [
    "import datetime\n",
    "\n",
    "data = {\n",
    "    \"name\": \"Albert\",\n",
    "    \"dob\": datetime.datetime(1940,1,1)\n",
    "}\n"
   ]
  },
  {
   "cell_type": "code",
   "execution_count": 19,
   "id": "44c1cb1c-0b7c-4543-a3dd-4445e3d6adf7",
   "metadata": {},
   "outputs": [
    {
     "ename": "TypeError",
     "evalue": "Object of type datetime is not JSON serializable",
     "output_type": "error",
     "traceback": [
      "\u001b[31m---------------------------------------------------------------------------\u001b[39m",
      "\u001b[31mTypeError\u001b[39m                                 Traceback (most recent call last)",
      "\u001b[36mCell\u001b[39m\u001b[36m \u001b[39m\u001b[32mIn[19]\u001b[39m\u001b[32m, line 1\u001b[39m\n\u001b[32m----> \u001b[39m\u001b[32m1\u001b[39m \u001b[43mjson\u001b[49m\u001b[43m.\u001b[49m\u001b[43mdumps\u001b[49m\u001b[43m(\u001b[49m\u001b[43mdata\u001b[49m\u001b[43m)\u001b[49m\n",
      "\u001b[36mFile \u001b[39m\u001b[32m/opt/homebrew/Cellar/python@3.13/3.13.2/Frameworks/Python.framework/Versions/3.13/lib/python3.13/json/__init__.py:231\u001b[39m, in \u001b[36mdumps\u001b[39m\u001b[34m(obj, skipkeys, ensure_ascii, check_circular, allow_nan, cls, indent, separators, default, sort_keys, **kw)\u001b[39m\n\u001b[32m    226\u001b[39m \u001b[38;5;66;03m# cached encoder\u001b[39;00m\n\u001b[32m    227\u001b[39m \u001b[38;5;28;01mif\u001b[39;00m (\u001b[38;5;129;01mnot\u001b[39;00m skipkeys \u001b[38;5;129;01mand\u001b[39;00m ensure_ascii \u001b[38;5;129;01mand\u001b[39;00m\n\u001b[32m    228\u001b[39m     check_circular \u001b[38;5;129;01mand\u001b[39;00m allow_nan \u001b[38;5;129;01mand\u001b[39;00m\n\u001b[32m    229\u001b[39m     \u001b[38;5;28mcls\u001b[39m \u001b[38;5;129;01mis\u001b[39;00m \u001b[38;5;28;01mNone\u001b[39;00m \u001b[38;5;129;01mand\u001b[39;00m indent \u001b[38;5;129;01mis\u001b[39;00m \u001b[38;5;28;01mNone\u001b[39;00m \u001b[38;5;129;01mand\u001b[39;00m separators \u001b[38;5;129;01mis\u001b[39;00m \u001b[38;5;28;01mNone\u001b[39;00m \u001b[38;5;129;01mand\u001b[39;00m\n\u001b[32m    230\u001b[39m     default \u001b[38;5;129;01mis\u001b[39;00m \u001b[38;5;28;01mNone\u001b[39;00m \u001b[38;5;129;01mand\u001b[39;00m \u001b[38;5;129;01mnot\u001b[39;00m sort_keys \u001b[38;5;129;01mand\u001b[39;00m \u001b[38;5;129;01mnot\u001b[39;00m kw):\n\u001b[32m--> \u001b[39m\u001b[32m231\u001b[39m     \u001b[38;5;28;01mreturn\u001b[39;00m \u001b[43m_default_encoder\u001b[49m\u001b[43m.\u001b[49m\u001b[43mencode\u001b[49m\u001b[43m(\u001b[49m\u001b[43mobj\u001b[49m\u001b[43m)\u001b[49m\n\u001b[32m    232\u001b[39m \u001b[38;5;28;01mif\u001b[39;00m \u001b[38;5;28mcls\u001b[39m \u001b[38;5;129;01mis\u001b[39;00m \u001b[38;5;28;01mNone\u001b[39;00m:\n\u001b[32m    233\u001b[39m     \u001b[38;5;28mcls\u001b[39m = JSONEncoder\n",
      "\u001b[36mFile \u001b[39m\u001b[32m/opt/homebrew/Cellar/python@3.13/3.13.2/Frameworks/Python.framework/Versions/3.13/lib/python3.13/json/encoder.py:200\u001b[39m, in \u001b[36mJSONEncoder.encode\u001b[39m\u001b[34m(self, o)\u001b[39m\n\u001b[32m    196\u001b[39m         \u001b[38;5;28;01mreturn\u001b[39;00m encode_basestring(o)\n\u001b[32m    197\u001b[39m \u001b[38;5;66;03m# This doesn't pass the iterator directly to ''.join() because the\u001b[39;00m\n\u001b[32m    198\u001b[39m \u001b[38;5;66;03m# exceptions aren't as detailed.  The list call should be roughly\u001b[39;00m\n\u001b[32m    199\u001b[39m \u001b[38;5;66;03m# equivalent to the PySequence_Fast that ''.join() would do.\u001b[39;00m\n\u001b[32m--> \u001b[39m\u001b[32m200\u001b[39m chunks = \u001b[38;5;28;43mself\u001b[39;49m\u001b[43m.\u001b[49m\u001b[43miterencode\u001b[49m\u001b[43m(\u001b[49m\u001b[43mo\u001b[49m\u001b[43m,\u001b[49m\u001b[43m \u001b[49m\u001b[43m_one_shot\u001b[49m\u001b[43m=\u001b[49m\u001b[38;5;28;43;01mTrue\u001b[39;49;00m\u001b[43m)\u001b[49m\n\u001b[32m    201\u001b[39m \u001b[38;5;28;01mif\u001b[39;00m \u001b[38;5;129;01mnot\u001b[39;00m \u001b[38;5;28misinstance\u001b[39m(chunks, (\u001b[38;5;28mlist\u001b[39m, \u001b[38;5;28mtuple\u001b[39m)):\n\u001b[32m    202\u001b[39m     chunks = \u001b[38;5;28mlist\u001b[39m(chunks)\n",
      "\u001b[36mFile \u001b[39m\u001b[32m/opt/homebrew/Cellar/python@3.13/3.13.2/Frameworks/Python.framework/Versions/3.13/lib/python3.13/json/encoder.py:261\u001b[39m, in \u001b[36mJSONEncoder.iterencode\u001b[39m\u001b[34m(self, o, _one_shot)\u001b[39m\n\u001b[32m    256\u001b[39m \u001b[38;5;28;01melse\u001b[39;00m:\n\u001b[32m    257\u001b[39m     _iterencode = _make_iterencode(\n\u001b[32m    258\u001b[39m         markers, \u001b[38;5;28mself\u001b[39m.default, _encoder, indent, floatstr,\n\u001b[32m    259\u001b[39m         \u001b[38;5;28mself\u001b[39m.key_separator, \u001b[38;5;28mself\u001b[39m.item_separator, \u001b[38;5;28mself\u001b[39m.sort_keys,\n\u001b[32m    260\u001b[39m         \u001b[38;5;28mself\u001b[39m.skipkeys, _one_shot)\n\u001b[32m--> \u001b[39m\u001b[32m261\u001b[39m \u001b[38;5;28;01mreturn\u001b[39;00m \u001b[43m_iterencode\u001b[49m\u001b[43m(\u001b[49m\u001b[43mo\u001b[49m\u001b[43m,\u001b[49m\u001b[43m \u001b[49m\u001b[32;43m0\u001b[39;49m\u001b[43m)\u001b[49m\n",
      "\u001b[36mFile \u001b[39m\u001b[32m/opt/homebrew/Cellar/python@3.13/3.13.2/Frameworks/Python.framework/Versions/3.13/lib/python3.13/json/encoder.py:180\u001b[39m, in \u001b[36mJSONEncoder.default\u001b[39m\u001b[34m(self, o)\u001b[39m\n\u001b[32m    161\u001b[39m \u001b[38;5;28;01mdef\u001b[39;00m\u001b[38;5;250m \u001b[39m\u001b[34mdefault\u001b[39m(\u001b[38;5;28mself\u001b[39m, o):\n\u001b[32m    162\u001b[39m \u001b[38;5;250m    \u001b[39m\u001b[33;03m\"\"\"Implement this method in a subclass such that it returns\u001b[39;00m\n\u001b[32m    163\u001b[39m \u001b[33;03m    a serializable object for ``o``, or calls the base implementation\u001b[39;00m\n\u001b[32m    164\u001b[39m \u001b[33;03m    (to raise a ``TypeError``).\u001b[39;00m\n\u001b[32m   (...)\u001b[39m\u001b[32m    178\u001b[39m \n\u001b[32m    179\u001b[39m \u001b[33;03m    \"\"\"\u001b[39;00m\n\u001b[32m--> \u001b[39m\u001b[32m180\u001b[39m     \u001b[38;5;28;01mraise\u001b[39;00m \u001b[38;5;167;01mTypeError\u001b[39;00m(\u001b[33mf\u001b[39m\u001b[33m'\u001b[39m\u001b[33mObject of type \u001b[39m\u001b[38;5;132;01m{\u001b[39;00mo.\u001b[34m__class__\u001b[39m.\u001b[34m__name__\u001b[39m\u001b[38;5;132;01m}\u001b[39;00m\u001b[33m \u001b[39m\u001b[33m'\u001b[39m\n\u001b[32m    181\u001b[39m                     \u001b[33mf\u001b[39m\u001b[33m'\u001b[39m\u001b[33mis not JSON serializable\u001b[39m\u001b[33m'\u001b[39m)\n",
      "\u001b[31mTypeError\u001b[39m: Object of type datetime is not JSON serializable"
     ]
    }
   ],
   "source": [
    "json.dumps(data)"
   ]
  },
  {
   "cell_type": "code",
   "execution_count": 25,
   "id": "a7acdb47-e97f-4f82-ab93-2e8f345c1138",
   "metadata": {},
   "outputs": [],
   "source": [
    "def my_encoder(obj):\n",
    "    print(f'my_encoder called...')\n",
    "    if isinstance(obj, datetime.datetime):\n",
    "        return obj.isoformat()\n",
    "    raise TypeError"
   ]
  },
  {
   "cell_type": "code",
   "execution_count": 26,
   "id": "02b37cc5-2ece-479e-8f08-eb60507262ff",
   "metadata": {},
   "outputs": [
    {
     "name": "stdout",
     "output_type": "stream",
     "text": [
      "my_encoder called...\n"
     ]
    },
    {
     "data": {
      "text/plain": [
       "'{\"name\": \"Albert\", \"dob\": \"1940-01-01T00:00:00\"}'"
      ]
     },
     "execution_count": 26,
     "metadata": {},
     "output_type": "execute_result"
    }
   ],
   "source": [
    "json.dumps(data, default=my_encoder)"
   ]
  },
  {
   "cell_type": "markdown",
   "id": "e476dc89-31af-4c29-b653-ba5834c44d50",
   "metadata": {},
   "source": [
    "# API"
   ]
  },
  {
   "cell_type": "code",
   "execution_count": 27,
   "id": "acb08725-70c0-4566-bc3d-38f22008c892",
   "metadata": {},
   "outputs": [],
   "source": [
    "import requests"
   ]
  },
  {
   "cell_type": "code",
   "execution_count": 28,
   "id": "a5b97982-5242-421e-88c5-8d910895d55a",
   "metadata": {},
   "outputs": [],
   "source": [
    "response = requests.get(\"https://jsonplaceholder.typicode.com/users\")"
   ]
  },
  {
   "cell_type": "code",
   "execution_count": 29,
   "id": "de6d13dd-2c97-4a31-a08d-a09f2c613f79",
   "metadata": {},
   "outputs": [
    {
     "data": {
      "text/plain": [
       "<Response [200]>"
      ]
     },
     "execution_count": 29,
     "metadata": {},
     "output_type": "execute_result"
    }
   ],
   "source": [
    "response"
   ]
  },
  {
   "cell_type": "code",
   "execution_count": 30,
   "id": "d37ca5fd-6bcc-4c77-aae9-4fa1a18a44b5",
   "metadata": {},
   "outputs": [
    {
     "data": {
      "text/plain": [
       "200"
      ]
     },
     "execution_count": 30,
     "metadata": {},
     "output_type": "execute_result"
    }
   ],
   "source": [
    "response.status_code"
   ]
  },
  {
   "cell_type": "code",
   "execution_count": 33,
   "id": "9387fd88-02c4-4f13-9d5c-34156f650eb7",
   "metadata": {
    "scrolled": true
   },
   "outputs": [
    {
     "data": {
      "text/plain": [
       "[{'id': 1,\n",
       "  'name': 'Leanne Graham',\n",
       "  'username': 'Bret',\n",
       "  'email': 'Sincere@april.biz',\n",
       "  'address': {'street': 'Kulas Light',\n",
       "   'suite': 'Apt. 556',\n",
       "   'city': 'Gwenborough',\n",
       "   'zipcode': '92998-3874',\n",
       "   'geo': {'lat': '-37.3159', 'lng': '81.1496'}},\n",
       "  'phone': '1-770-736-8031 x56442',\n",
       "  'website': 'hildegard.org',\n",
       "  'company': {'name': 'Romaguera-Crona',\n",
       "   'catchPhrase': 'Multi-layered client-server neural-net',\n",
       "   'bs': 'harness real-time e-markets'}},\n",
       " {'id': 2,\n",
       "  'name': 'Ervin Howell',\n",
       "  'username': 'Antonette',\n",
       "  'email': 'Shanna@melissa.tv',\n",
       "  'address': {'street': 'Victor Plains',\n",
       "   'suite': 'Suite 879',\n",
       "   'city': 'Wisokyburgh',\n",
       "   'zipcode': '90566-7771',\n",
       "   'geo': {'lat': '-43.9509', 'lng': '-34.4618'}},\n",
       "  'phone': '010-692-6593 x09125',\n",
       "  'website': 'anastasia.net',\n",
       "  'company': {'name': 'Deckow-Crist',\n",
       "   'catchPhrase': 'Proactive didactic contingency',\n",
       "   'bs': 'synergize scalable supply-chains'}},\n",
       " {'id': 3,\n",
       "  'name': 'Clementine Bauch',\n",
       "  'username': 'Samantha',\n",
       "  'email': 'Nathan@yesenia.net',\n",
       "  'address': {'street': 'Douglas Extension',\n",
       "   'suite': 'Suite 847',\n",
       "   'city': 'McKenziehaven',\n",
       "   'zipcode': '59590-4157',\n",
       "   'geo': {'lat': '-68.6102', 'lng': '-47.0653'}},\n",
       "  'phone': '1-463-123-4447',\n",
       "  'website': 'ramiro.info',\n",
       "  'company': {'name': 'Romaguera-Jacobson',\n",
       "   'catchPhrase': 'Face to face bifurcated interface',\n",
       "   'bs': 'e-enable strategic applications'}},\n",
       " {'id': 4,\n",
       "  'name': 'Patricia Lebsack',\n",
       "  'username': 'Karianne',\n",
       "  'email': 'Julianne.OConner@kory.org',\n",
       "  'address': {'street': 'Hoeger Mall',\n",
       "   'suite': 'Apt. 692',\n",
       "   'city': 'South Elvis',\n",
       "   'zipcode': '53919-4257',\n",
       "   'geo': {'lat': '29.4572', 'lng': '-164.2990'}},\n",
       "  'phone': '493-170-9623 x156',\n",
       "  'website': 'kale.biz',\n",
       "  'company': {'name': 'Robel-Corkery',\n",
       "   'catchPhrase': 'Multi-tiered zero tolerance productivity',\n",
       "   'bs': 'transition cutting-edge web services'}},\n",
       " {'id': 5,\n",
       "  'name': 'Chelsey Dietrich',\n",
       "  'username': 'Kamren',\n",
       "  'email': 'Lucio_Hettinger@annie.ca',\n",
       "  'address': {'street': 'Skiles Walks',\n",
       "   'suite': 'Suite 351',\n",
       "   'city': 'Roscoeview',\n",
       "   'zipcode': '33263',\n",
       "   'geo': {'lat': '-31.8129', 'lng': '62.5342'}},\n",
       "  'phone': '(254)954-1289',\n",
       "  'website': 'demarco.info',\n",
       "  'company': {'name': 'Keebler LLC',\n",
       "   'catchPhrase': 'User-centric fault-tolerant solution',\n",
       "   'bs': 'revolutionize end-to-end systems'}},\n",
       " {'id': 6,\n",
       "  'name': 'Mrs. Dennis Schulist',\n",
       "  'username': 'Leopoldo_Corkery',\n",
       "  'email': 'Karley_Dach@jasper.info',\n",
       "  'address': {'street': 'Norberto Crossing',\n",
       "   'suite': 'Apt. 950',\n",
       "   'city': 'South Christy',\n",
       "   'zipcode': '23505-1337',\n",
       "   'geo': {'lat': '-71.4197', 'lng': '71.7478'}},\n",
       "  'phone': '1-477-935-8478 x6430',\n",
       "  'website': 'ola.org',\n",
       "  'company': {'name': 'Considine-Lockman',\n",
       "   'catchPhrase': 'Synchronised bottom-line interface',\n",
       "   'bs': 'e-enable innovative applications'}},\n",
       " {'id': 7,\n",
       "  'name': 'Kurtis Weissnat',\n",
       "  'username': 'Elwyn.Skiles',\n",
       "  'email': 'Telly.Hoeger@billy.biz',\n",
       "  'address': {'street': 'Rex Trail',\n",
       "   'suite': 'Suite 280',\n",
       "   'city': 'Howemouth',\n",
       "   'zipcode': '58804-1099',\n",
       "   'geo': {'lat': '24.8918', 'lng': '21.8984'}},\n",
       "  'phone': '210.067.6132',\n",
       "  'website': 'elvis.io',\n",
       "  'company': {'name': 'Johns Group',\n",
       "   'catchPhrase': 'Configurable multimedia task-force',\n",
       "   'bs': 'generate enterprise e-tailers'}},\n",
       " {'id': 8,\n",
       "  'name': 'Nicholas Runolfsdottir V',\n",
       "  'username': 'Maxime_Nienow',\n",
       "  'email': 'Sherwood@rosamond.me',\n",
       "  'address': {'street': 'Ellsworth Summit',\n",
       "   'suite': 'Suite 729',\n",
       "   'city': 'Aliyaview',\n",
       "   'zipcode': '45169',\n",
       "   'geo': {'lat': '-14.3990', 'lng': '-120.7677'}},\n",
       "  'phone': '586.493.6943 x140',\n",
       "  'website': 'jacynthe.com',\n",
       "  'company': {'name': 'Abernathy Group',\n",
       "   'catchPhrase': 'Implemented secondary concept',\n",
       "   'bs': 'e-enable extensible e-tailers'}},\n",
       " {'id': 9,\n",
       "  'name': 'Glenna Reichert',\n",
       "  'username': 'Delphine',\n",
       "  'email': 'Chaim_McDermott@dana.io',\n",
       "  'address': {'street': 'Dayna Park',\n",
       "   'suite': 'Suite 449',\n",
       "   'city': 'Bartholomebury',\n",
       "   'zipcode': '76495-3109',\n",
       "   'geo': {'lat': '24.6463', 'lng': '-168.8889'}},\n",
       "  'phone': '(775)976-6794 x41206',\n",
       "  'website': 'conrad.com',\n",
       "  'company': {'name': 'Yost and Sons',\n",
       "   'catchPhrase': 'Switchable contextually-based project',\n",
       "   'bs': 'aggregate real-time technologies'}},\n",
       " {'id': 10,\n",
       "  'name': 'Clementina DuBuque',\n",
       "  'username': 'Moriah.Stanton',\n",
       "  'email': 'Rey.Padberg@karina.biz',\n",
       "  'address': {'street': 'Kattie Turnpike',\n",
       "   'suite': 'Suite 198',\n",
       "   'city': 'Lebsackbury',\n",
       "   'zipcode': '31428-2261',\n",
       "   'geo': {'lat': '-38.2386', 'lng': '57.2232'}},\n",
       "  'phone': '024-648-3804',\n",
       "  'website': 'ambrose.net',\n",
       "  'company': {'name': 'Hoeger LLC',\n",
       "   'catchPhrase': 'Centralized empowering task-force',\n",
       "   'bs': 'target end-to-end models'}}]"
      ]
     },
     "execution_count": 33,
     "metadata": {},
     "output_type": "execute_result"
    }
   ],
   "source": [
    "response.json()"
   ]
  },
  {
   "cell_type": "code",
   "execution_count": 37,
   "id": "ff7ce008-9712-48ee-96a8-1dcaf2a24c3a",
   "metadata": {},
   "outputs": [
    {
     "name": "stdout",
     "output_type": "stream",
     "text": [
      "Date: Sat, 14 Jun 2025 22:34:58 GMT\n",
      "Content-Type: application/json; charset=utf-8\n",
      "Transfer-Encoding: chunked\n",
      "Connection: keep-alive\n",
      "Server: cloudflare\n",
      "Report-To: {\"group\":\"heroku-nel\",\"max_age\":3600,\"endpoints\":[{\"url\":\"https://nel.heroku.com/reports?ts=1745352607&sid=e11707d5-02a7-43ef-b45e-2cf4d2036f7d&s=8ij%2BL62LklZpvYC%2BAj9Q1c0kUxwHgGcabTVlDQlfev0%3D\"}]}\n",
      "Reporting-Endpoints: heroku-nel=https://nel.heroku.com/reports?ts=1745352607&sid=e11707d5-02a7-43ef-b45e-2cf4d2036f7d&s=8ij%2BL62LklZpvYC%2BAj9Q1c0kUxwHgGcabTVlDQlfev0%3D\n",
      "Nel: {\"report_to\":\"heroku-nel\",\"max_age\":3600,\"success_fraction\":0.005,\"failure_fraction\":0.05,\"response_headers\":[\"Via\"]}\n",
      "X-Powered-By: Express\n",
      "X-Ratelimit-Limit: 1000\n",
      "X-Ratelimit-Remaining: 999\n",
      "X-Ratelimit-Reset: 1745352613\n",
      "Vary: Origin, Accept-Encoding\n",
      "Access-Control-Allow-Credentials: true\n",
      "Cache-Control: max-age=43200\n",
      "Pragma: no-cache\n",
      "Expires: -1\n",
      "X-Content-Type-Options: nosniff\n",
      "Etag: W/\"160d-1eMSsxeJRfnVLRBmYJSbCiJZ1qQ\"\n",
      "Content-Encoding: gzip\n",
      "Via: 1.1 vegur\n",
      "Age: 24769\n",
      "Cf-Cache-Status: HIT\n",
      "CF-RAY: 94fd4c55faefbdb2-LHR\n",
      "alt-svc: h3=\":443\"; ma=86400\n"
     ]
    }
   ],
   "source": [
    "for k,v in response.headers.items():\n",
    "    print(f'{k}: {v}')"
   ]
  },
  {
   "cell_type": "code",
   "execution_count": 38,
   "id": "9670a7f3-5fe7-437f-8f50-b81ae922d167",
   "metadata": {},
   "outputs": [],
   "source": [
    "query_params = {\n",
    "    'q': \"python http resquests\",\n",
    "    'num': 5\n",
    "}"
   ]
  },
  {
   "cell_type": "code",
   "execution_count": 39,
   "id": "910e3ac7-5b2c-45b4-9815-34539d8af0e0",
   "metadata": {},
   "outputs": [],
   "source": [
    "responce = requests.get('https://www.google.com', query_params)"
   ]
  },
  {
   "cell_type": "code",
   "execution_count": 42,
   "id": "9be54cf2-096c-4aff-8662-5601dc07722e",
   "metadata": {},
   "outputs": [
    {
     "name": "stdout",
     "output_type": "stream",
     "text": [
      "Date: Sat, 14 Jun 2025 22:34:58 GMT\n",
      "Content-Type: application/json; charset=utf-8\n",
      "Transfer-Encoding: chunked\n",
      "Connection: keep-alive\n",
      "Server: cloudflare\n",
      "Report-To: {\"group\":\"heroku-nel\",\"max_age\":3600,\"endpoints\":[{\"url\":\"https://nel.heroku.com/reports?ts=1745352607&sid=e11707d5-02a7-43ef-b45e-2cf4d2036f7d&s=8ij%2BL62LklZpvYC%2BAj9Q1c0kUxwHgGcabTVlDQlfev0%3D\"}]}\n",
      "Reporting-Endpoints: heroku-nel=https://nel.heroku.com/reports?ts=1745352607&sid=e11707d5-02a7-43ef-b45e-2cf4d2036f7d&s=8ij%2BL62LklZpvYC%2BAj9Q1c0kUxwHgGcabTVlDQlfev0%3D\n",
      "Nel: {\"report_to\":\"heroku-nel\",\"max_age\":3600,\"success_fraction\":0.005,\"failure_fraction\":0.05,\"response_headers\":[\"Via\"]}\n",
      "X-Powered-By: Express\n",
      "X-Ratelimit-Limit: 1000\n",
      "X-Ratelimit-Remaining: 999\n",
      "X-Ratelimit-Reset: 1745352613\n",
      "Vary: Origin, Accept-Encoding\n",
      "Access-Control-Allow-Credentials: true\n",
      "Cache-Control: max-age=43200\n",
      "Pragma: no-cache\n",
      "Expires: -1\n",
      "X-Content-Type-Options: nosniff\n",
      "Etag: W/\"160d-1eMSsxeJRfnVLRBmYJSbCiJZ1qQ\"\n",
      "Content-Encoding: gzip\n",
      "Via: 1.1 vegur\n",
      "Age: 24769\n",
      "Cf-Cache-Status: HIT\n",
      "CF-RAY: 94fd4c55faefbdb2-LHR\n",
      "alt-svc: h3=\":443\"; ma=86400\n"
     ]
    }
   ],
   "source": [
    "for k,v in response.headers.items():\n",
    "    print(f'{k}: {v}')"
   ]
  },
  {
   "cell_type": "code",
   "execution_count": 47,
   "id": "e014a6a9-f3dd-4e66-bf53-9dbfbd986f33",
   "metadata": {},
   "outputs": [
    {
     "data": {
      "text/plain": [
       "'<!doctype html><html itemscope=\"\" itemtype=\"http://schema.org/WebPage\" lang=\"en-GB\"><head><meta content=\"text/html; charset=UTF-8\" http-equiv=\"Content-Type\"><meta content=\"/images/branding/googleg/1x/googleg_standard_color_128dp.png\" itemprop=\"image\"><title>Google</title><script nonce=\"dJq01cjccViL0NdSVh4xhw\">(function(){var _g={kEI:\\'8_lNaJzQMezFkdUP1PKvsQo\\',kEXPI:\\'0,202792,62,2,610014,491128,2396268,683,435,538661,78813,6397,9708,344796,247319,23156,19569,5241682,5992077,30820565,25228681,51196,5,87067,14114,8940,13974,42252,6755,23879,9138,4600,328,6225,64165,15048,8210,1960,5462,30379,28334,42889,6015,5308,352,4100,14780,5870,3097,759,3858,5774,4309,10721,1271,11310,4719,11805,3261,2990,35,3420,2863,1,726,1765,2,8126,2820,9288,656,1705,3322,3604,11409,1738,4625,4565,6,7,4584,117,1018,8334,648,3700,526,3,3558,1253,376,559,3,984,486,3858,1753,1044,2573,4,198,394,626,1,752,2215,2,308,186,2,78,817,9,2,388,180,1024,19,537,4,640,19,463,7,487,891,365,236,874,158,1238,340,366,5021,2443,2,166,1759,1070,24,422,299,3,2,637,1027,411,206,743,644,230,1772,85,7,4,1,275,77,6,1163,628,2061,104,103,684,333,652,6,43,1322,48,936,7,155,84,1059,1742,1260,486,1185,669,772,471,130,352,965,3,2,2,2,132,1199,218,295,17,117,1337,497,175,345,1,1,4,615,688,468,1,137,4,111,340,7,9,1092,692,7,473,117,251,575,935,363,31,812,587,859,1314,1,2,985,107,398,277,259,495,45,363,7,172,719,137,2,1,2,3,1,3,2,2,2,2,2,2,1,2,3,1,3,1,3,1,3,2,1,2,3,1,3,2,1,3,2,1,3,1,3,1,2,3,2,2,1,3,1,3,2,2,1,3,2,1,2,2,3,2,2,1,3,2,1,3,2,2,1,2,2,3,1,3,2,2,2,1,3,2,1,3,1,3,1,2,2,3,1,3,2,1,2,2,2,2,3,1,3,1,2,3,2,1,3,1,3,1,2,2,3,1,2,2,3,2,1,2,2,2,3,2,2,2,2,2,2,1,2,3,1,3,1,3,2,2,1,2,2,3,1,2,3,2,1,2,3,2,2,1,3,2,2,1,3,1,2,3,2,2,2,1,2,3,1,2,2,3,2,2,2,1,2,2,3,1,2,3,2,1,3,1,3,1,3,1,3,1,2,2,3,2,1,3,1,2,3,2,791,320,92,28,1251,406,185,3,618,498,227,37,713,191,424,26,97,2,276,82,116,24,24,273,37,864,341,172,8,16,484,705,667,1131,15,194,1094,22,5,20,43,184,116,300,80,95,421,13,6,308,127,120,3,41,5,420,4,913,139,117,236,56,376,721,879,597,3,31,234,144,353,16,830,119,849,5,433,3,3,3,21213102,4,34202,3636,4,2397,5,2992,4,2960,3,1272,36,167,1369,1074,3,412,15,718,3425,2,1461,12,263,2993,74,61,864,3,3630593,4864736,138911,40950,9196,285883\\',kBL:\\'Ztg4\\',kOPI:89978449};(function(){var a;((a=window.google)==null?0:a.stvsc)?google.kEI=_g.kEI:window.google=_g;}).call(this);})();(function(){google.sn=\\'webhp\\';google.kHL=\\'en-GB\\';})();(function(){\\nvar g=this||self;function k(){return window.google&&window.google.kOPI||null};var l,m=[];function n(a){for(var b;a&&(!a.getAttribute||!(b=a.getAttribute(\"eid\")));)a=a.parentNode;return b||l}function p(a){for(var b=null;a&&(!a.getAttribute||!(b=a.getAttribute(\"leid\")));)a=a.parentNode;return b}function q(a){/^http:/i.test(a)&&window.location.protocol===\"https:\"&&(google.ml&&google.ml(Error(\"a\"),!1,{src:a,glmm:1}),a=\"\");return a}\\nfunction r(a,b,d,c,h){var e=\"\";b.search(\"&ei=\")===-1&&(e=\"&ei=\"+n(c),b.search(\"&lei=\")===-1&&(c=p(c))&&(e+=\"&lei=\"+c));var f=b.search(\"&cshid=\")===-1&&a!==\"slh\";c=\"&zx=\"+Date.now().toString();g._cshid&&f&&(c+=\"&cshid=\"+g._cshid);(d=d())&&(c+=\"&opi=\"+d);return\"/\"+(h||\"gen_204\")+\"?atyp=i&ct=\"+String(a)+\"&cad=\"+(b+e+c)};l=google.kEI;google.getEI=n;google.getLEI=p;google.ml=function(){return null};google.log=function(a,b,d,c,h,e){e=e===void 0?k:e;d||(d=r(a,b,e,c,h));if(d=q(d)){a=new Image;var f=m.length;m[f]=a;a.onerror=a.onload=a.onabort=function(){delete m[f]};a.src=d}};google.logUrl=function(a,b){b=b===void 0?k:b;return r(\"\",a,b)};}).call(this);(function(){google.y={};google.sy=[];var d;(d=google).x||(d.x=function(a,b){if(a)var c=a.id;else{do c=Math.random();while(google.y[c])}google.y[c]=[a,b];return!1});var e;(e=google).sx||(e.sx=function(a){google.sy.push(a)});google.lm=[];var f;(f=google).plm||(f.plm=function(a){google.lm.push.apply(google.lm,a)});google.lq=[];var g;(g=google).load||(g.load=function(a,b,c){google.lq.push([[a],b,c])});var h;(h=google).loadAll||(h.loadAll=function(a,b){google.lq.push([a,b])});google.bx=!1;var k;(k=google).lx||(k.lx=function(){});var l=[],m;(m=google).fce||(m.fce=function(a,b,c,n){l.push([a,b,c,n])});google.qce=l;}).call(this);google.f={};(function(){\\ndocument.documentElement.addEventListener(\"submit\",function(b){var a;if(a=b.target){var c=a.getAttribute(\"data-submitfalse\");a=c===\"1\"||c===\"q\"&&!a.elements.q.value?!0:!1}else a=!1;a&&(b.preventDefault(),b.stopPropagation())},!0);document.documentElement.addEventListener(\"click\",function(b){var a;a:{for(a=b.target;a&&a!==document.documentElement;a=a.parentElement)if(a.tagName===\"A\"){a=a.getAttribute(\"data-nohref\")===\"1\";break a}a=!1}a&&b.preventDefault()},!0);}).call(this);</script><style>#gbar,#guser{font-size:13px;padding-top:1px !important;}#gbar{height:22px}#guser{padding-bottom:7px !important;text-align:right}.gbh,.gbd{border-top:1px solid #c9d7f1;font-size:1px}.gbh{height:0;position:absolute;top:24px;width:100%}@media all{.gb1{height:22px;margin-right:.5em;vertical-align:top}#gbar{float:left}}a.gb1,a.gb4{text-decoration:underline !important}a.gb1,a.gb4{color:#00c !important}.gbi .gb4{color:#dd8e27 !important}.gbf .gb4{color:#900 !important}\\n</style><style>body,td,a,p,.h{font-family:sans-serif}body{margin:0;overflow-y:scroll}#gog{padding:3px 8px 0}td{line-height:.8em}.gac_m td{line-height:17px}form{margin-bottom:20px}.h{color:#1967d2}em{font-weight:bold;font-style:normal}.lst{height:25px;width:496px}.gsfi,.lst{font:18px sans-serif}.gsfs{font:17px sans-serif}.ds{display:inline-box;display:inline-block;margin:3px 0 4px;margin-left:4px}input{font-family:inherit}body{background:#fff;color:#000}a{color:#681da8;text-decoration:none}a:hover,a:active{text-decoration:underline}.fl a{color:#1967d2}a:visited{color:#681da8}.sblc{padding-top:5px}.sblc a{display:block;margin:2px 0;margin-left:13px;font-size:11px}.lsbb{background:#f8f9fa;border:solid 1px;border-color:#dadce0 #70757a #70757a #dadce0;height:30px}.lsbb{display:block}#WqQANb a{display:inline-block;margin:0 12px}.lsb{background:url(/images/nav_logo229.png) 0 -261px repeat-x;color:#000;border:none;cursor:pointer;height:30px;margin:0;outline:0;font:15px sans-serif;vertical-align:top}.lsb:active{background:#dadce0}.lst:focus{outline:none}</style><script nonce=\"dJq01cjccViL0NdSVh4xhw\">(function(){window.google.erd={jsr:1,bv:2236,de:true,dpf:\\'vIMJvzDJ-GhSJDEGXnipgFvszDXcf6GduDE86fMQrbM\\'};\\nvar g=this||self;var k,l=(k=g.mei)!=null?k:1,m,p=(m=g.diel)!=null?m:0,q,r=(q=g.sdo)!=null?q:!0,t=0,u,w=google.erd,x=w.jsr;google.ml=function(a,b,d,n,e){e=e===void 0?2:e;b&&(u=a&&a.message);d===void 0&&(d={});d.cad=\"ple_\"+google.ple+\".aple_\"+google.aple;if(google.dl)return google.dl(a,e,d,!0),null;b=d;if(x<0){window.console&&console.error(a,b);if(x===-2)throw a;b=!1}else b=!a||!a.message||a.message===\"Error loading script\"||t>=l&&!n?!1:!0;if(!b)return null;t++;d=d||{};b=encodeURIComponent;var c=\"/gen_204?atyp=i&ei=\"+b(google.kEI);google.kEXPI&&(c+=\"&jexpid=\"+b(google.kEXPI));c+=\"&srcpg=\"+b(google.sn)+\"&jsr=\"+b(w.jsr)+\\n\"&bver=\"+b(w.bv);w.dpf&&(c+=\"&dpf=\"+b(w.dpf));var f=a.lineNumber;f!==void 0&&(c+=\"&line=\"+f);var h=a.fileName;h&&(h.indexOf(\"-extension:/\")>0&&(e=3),c+=\"&script=\"+b(h),f&&h===window.location.href&&(f=document.documentElement.outerHTML.split(\"\\\\n\")[f],c+=\"&cad=\"+b(f?f.substring(0,300):\"No script found.\")));google.ple&&google.ple===1&&(e=2);c+=\"&jsel=\"+e;for(var v in d)c+=\"&\",c+=b(v),c+=\"=\",c+=b(d[v]);c=c+\"&emsg=\"+b(a.name+\": \"+a.message);c=c+\"&jsst=\"+b(a.stack||\"N/A\");c.length>=12288&&(c=c.substr(0,12288));a=c;n||google.log(0,\"\",a);return a};window.onerror=function(a,b,d,n,e){u!==a&&(a=e instanceof Error?e:Error(a),d===void 0||\"lineNumber\"in a||(a.lineNumber=d),b===void 0||\"fileName\"in a||(a.fileName=b),google.ml(a,!1,void 0,!1,a.name===\"SyntaxError\"||a.message.substring(0,11)===\"SyntaxError\"||a.message.indexOf(\"Script error\")!==-1?3:p));u=null;r&&t>=l&&(window.onerror=null)};})();</script></head><body bgcolor=\"#fff\"><script nonce=\"dJq01cjccViL0NdSVh4xhw\">(function(){var src=\\'/images/nav_logo229.png\\';var iesg=false;document.body.onload = function(){window.n && window.n();if (document.images){new Image().src=src;}\\nif (!iesg){document.f&&document.f.q.focus();document.gbqf&&document.gbqf.q.focus();}\\n}\\n})();</script><div id=\"mngb\"><div id=gbar><nobr><b class=gb1>Search</b> <a class=gb1 href=\"https://www.google.com/imghp?hl=en&tab=wi\">Images</a> <a class=gb1 href=\"https://maps.google.co.uk/maps?hl=en&tab=wl\">Maps</a> <a class=gb1 href=\"https://play.google.com/?hl=en&tab=w8\">Play</a> <a class=gb1 href=\"https://www.youtube.com/?tab=w1\">YouTube</a> <a class=gb1 href=\"https://news.google.com/?tab=wn\">News</a> <a class=gb1 href=\"https://mail.google.com/mail/?tab=wm\">Gmail</a> <a class=gb1 href=\"https://drive.google.com/?tab=wo\">Drive</a> <a class=gb1 style=\"text-decoration:none\" href=\"https://www.google.co.uk/intl/en/about/products?tab=wh\"><u>More</u> &raquo;</a></nobr></div><div id=guser width=100%><nobr><span id=gbn class=gbi></span><span id=gbf class=gbf></span><span id=gbe></span><a href=\"http://www.google.co.uk/history/optout?hl=en\" class=gb4>Web History</a> | <a  href=\"/preferences?hl=en\" class=gb4>Settings</a> | <a target=_top id=gb_70 href=\"https://accounts.google.com/ServiceLogin?hl=en&passive=true&continue=https://www.google.com/%3Fq%3Dpython%2Bhttp%2Bresquests%26num%3D5&ec=GAZAAQ\" class=gb4>Sign in</a></nobr></div><div class=gbh style=left:0></div><div class=gbh style=right:0></div></div><center><br clear=\"all\" id=\"lgpd\"><div id=\"XjhHGf\"><img alt=\"Google\" height=\"92\" src=\"/images/branding/googlelogo/1x/googlelogo_white_background_color_272x92dp.png\" style=\"padding:28px 0 14px\" width=\"272\" id=\"hplogo\"><br><br></div><form action=\"/search\" name=\"f\"><table cellpadding=\"0\" cellspacing=\"0\"><tr valign=\"top\"><td width=\"25%\">&nbsp;</td><td align=\"center\" nowrap=\"\"><input name=\"ie\" value=\"ISO-8859-1\" type=\"hidden\"><input value=\"en-GB\" name=\"hl\" type=\"hidden\"><input name=\"source\" type=\"hidden\" value=\"hp\"><input name=\"biw\" type=\"hidden\"><input name=\"bih\" type=\"hidden\"><div class=\"ds\" style=\"height:32px;margin:4px 0\"><input class=\"lst\" style=\"margin:0;padding:5px 8px 0 6px;vertical-align:top;color:#000\" autocomplete=\"off\" value=\"python http resquests\" title=\"Google Search\" maxlength=\"2048\" name=\"q\" size=\"57\"></div><br style=\"line-height:0\"><span class=\"ds\"><span class=\"lsbb\"><input class=\"lsb\" value=\"Google Search\" name=\"btnG\" type=\"submit\"></span></span><span class=\"ds\"><span class=\"lsbb\"><input class=\"lsb\" id=\"tsuid_8_lNaJzQMezFkdUP1PKvsQo_1\" value=\"I\\'m Feeling Lucky\" name=\"btnI\" type=\"submit\"><script nonce=\"dJq01cjccViL0NdSVh4xhw\">(function(){var id=\\'tsuid_8_lNaJzQMezFkdUP1PKvsQo_1\\';document.getElementById(id).onclick = function(){if (this.form.q.value){this.checked = 1;if (this.form.iflsig)this.form.iflsig.disabled = false;}\\nelse top.location=\\'/doodles/\\';};})();</script><input value=\"AOw8s4IAAAAAaE4IA8x7G4lNcjQIT9_do8n_8m6Zr4s-\" name=\"iflsig\" type=\"hidden\"></span></span></td><td class=\"fl sblc\" align=\"left\" nowrap=\"\" width=\"25%\"><a href=\"/advanced_search?hl=en-GB&amp;authuser=0\">Advanced search</a></td></tr></table><input id=\"gbv\" name=\"gbv\" type=\"hidden\" value=\"1\"><script nonce=\"dJq01cjccViL0NdSVh4xhw\">(function(){var a,b=\"1\";if(document&&document.getElementById)if(typeof XMLHttpRequest!=\"undefined\")b=\"2\";else if(typeof ActiveXObject!=\"undefined\"){var c,d,e=[\"MSXML2.XMLHTTP.6.0\",\"MSXML2.XMLHTTP.3.0\",\"MSXML2.XMLHTTP\",\"Microsoft.XMLHTTP\"];for(c=0;d=e[c++];)try{new ActiveXObject(d),b=\"2\"}catch(h){}}a=b;if(a==\"2\"&&location.search.indexOf(\"&gbv=2\")==-1){var f=google.gbvu,g=document.getElementById(\"gbv\");g&&(g.value=a);f&&window.setTimeout(function(){location.href=f},0)};}).call(this);</script></form><div style=\"font-size:83%;min-height:3.5em\"><br></div><span id=\"footer\"><div style=\"font-size:10pt\"><div style=\"margin:19px auto;text-align:center\" id=\"WqQANb\"><a href=\"/intl/en/ads/\">Advertising</a><a href=\"/services/\">Business Solutions</a><a href=\"/intl/en/about.html\">About Google</a><a href=\"https://www.google.com/setprefdomain?prefdom=GB&amp;prev=https://www.google.co.uk/&amp;sig=K_8oI_NRCZYan2OtT3RUMIEUL3v3g%3D\">Google.co.uk</a></div></div><p style=\"font-size:8pt;color:#636363\">&copy; 2025 - <a href=\"/intl/en/policies/privacy/\">Privacy</a> - <a href=\"/intl/en/policies/terms/\">Terms</a></p></span></center><script nonce=\"dJq01cjccViL0NdSVh4xhw\">(function(){window.google.cdo={height:757,width:1440};(function(){var a=window.innerWidth,b=window.innerHeight;if(!a||!b){var c=window.document,d=c.compatMode==\"CSS1Compat\"?c.documentElement:c.body;a=d.clientWidth;b=d.clientHeight}if(a&&b&&(a!=google.cdo.width||b!=google.cdo.height)){var e=google,f=e.log,g=\"/client_204?&atyp=i&biw=\"+a+\"&bih=\"+b+\"&ei=\"+google.kEI,h=\"\",k=window.google&&window.google.kOPI||null;k&&(h+=\"&opi=\"+k);f.call(e,\"\",\"\",g+h)};}).call(this);})();(function(){google.xjs={basecomb:\\'/xjs/_/js/k\\\\x3dxjs.hp.en.hyw7v_XIHns.es5.O/ck\\\\x3dxjs.hp.IWWEtFp9-Qc.L.X.O/am\\\\x3dAAAAAAAQAAAAAAAAAAAAAAAAAAAAAAAAAAAAACXAIEEAAAAAAAIAAAAAAAAAABEAIAIAIAAAAACUJADEgQAAAFoAACIQADlA6QEAgAAgAAAAAgAEAAAgBABAAAAAgAAAAAAMgPA4IAAAABAQCwACAAAAiEc/d\\\\x3d1/ed\\\\x3d1/dg\\\\x3d0/ujg\\\\x3d1/rs\\\\x3dACT90oGLpqaJgRnZmGuyTJGaU6cfEckc-A\\',basecss:\\'/xjs/_/ss/k\\\\x3dxjs.hp.IWWEtFp9-Qc.L.X.O/am\\\\x3dAAAAAAAQAAAAAAAAAAAAAAAAAAAAAAAAAAAAACXAIEAAAAAAAAAAAAAAAAAAABAAAAIAIAAAAACUBAAEAAAAAFoAACIQADlA6QEAgAAgAAAAAgAEAAAgBABAAAAAgAAAAAAAAAAAAAAAAAAQ/rs\\\\x3dACT90oFlDmY44HU_8WYtutowGI1r5K1IYw\\',basejs:\\'/xjs/_/js/k\\\\x3dxjs.hp.en.hyw7v_XIHns.es5.O/am\\\\x3dAAAAAAAAAAAAAAAAAAAAAAAAAAAAAAAAAAAAAAAAAAEAAAAAAAIAAAAAAAAAABEAIAIAAAAAAAAAIADAgQAAAFIAAAAAADgAAAAAAAAgAAAAAAAAAAAAAAAAAAAAAAAAAAAMgPA4IAAAABAQCwACAAAAiEc/dg\\\\x3d0/rs\\\\x3dACT90oFPCag2Jafb3JZ3loLkVx3J4FtR4A\\',excm:[]};})();(function(){var u=\\'/xjs/_/js/k\\\\x3dxjs.hp.en.hyw7v_XIHns.es5.O/am\\\\x3dAAAAAAAAAAAAAAAAAAAAAAAAAAAAAAAAAAAAAAAAAAEAAAAAAAIAAAAAAAAAABEAIAIAAAAAAAAAIADAgQAAAFIAAAAAADgAAAAAAAAgAAAAAAAAAAAAAAAAAAAAAAAAAAAMgPA4IAAAABAQCwACAAAAiEc/d\\\\x3d1/ed\\\\x3d1/dg\\\\x3d3/rs\\\\x3dACT90oFPCag2Jafb3JZ3loLkVx3J4FtR4A/m\\\\x3dsb_he,d\\';var st=1;var amd=1000;var mmd=0;var pod=true;var pop=true;var povp=false;var fp=\\'\\';\\nvar e=this||self;function f(){var b,a,d;if(a=b=(a=window.google)==null?void 0:(d=a.ia)==null?void 0:d.r.B2Jtyd)a=b.m,a=a===1||a===5;return a&&b.cbfd!=null&&b.cbvi!=null?b:void 0};function g(){var b=[u];if(!google.dp){for(var a=0;a<b.length;a++){var d=b[a],c=document.createElement(\"link\");c.as=\"script\";c.href=d;c.rel=\"preload\";document.body.appendChild(c)}google.dp=!0}};google.ps===void 0&&(google.ps=[]);function h(){var b=u,a=function(){};google.lx=google.stvsc?a:function(){k(b);google.lx=a};google.bx||google.lx()}function l(b,a){a&&(b.src=a);fp&&google.caft&&google.caft(function(){b.fetchPriority=fp});var d=b.onload;b.onload=function(c){d&&d(c);google.ps=google.ps.filter(function(G){return b!==G})};google.ps.push(b);document.body.appendChild(b)}google.as=l;function k(b){google.timers&&google.timers.load&&google.tick&&google.tick(\"load\",\"xjsls\");var a=document.createElement(\"script\");a.onerror=function(){google.ple=1};a.onload=function(){google.ple=0};google.xjsus=void 0;l(a,b);google.aple=-1;google.dp=!0};function m(b){var a=b.getAttribute(\"jscontroller\");return(a===\"UBXHI\"||a===\"R3fhkb\"||a===\"TSZEqd\")&&b.hasAttribute(\"data-src\")}function n(){for(var b=document.getElementsByTagName(\"img\"),a=0,d=b.length;a<d;a++){var c=b[a];if(c.hasAttribute(\"data-lzy_\")&&Number(c.getAttribute(\"data-atf\"))&1&&!m(c))return!0}return!1}for(var p=document.getElementsByTagName(\"img\"),q=0,r=p.length;q<r;++q){var t=p[q];Number(t.getAttribute(\"data-atf\"))&1&&m(t)&&(t.src=t.getAttribute(\"data-src\"))};var w,x,y,z,A,B,C,D,E,F;function H(){google.xjsu=u;e._F_jsUrl=u;A=function(){h()};w=!1;x=(st===1||st===3)&&!!google.caft&&!n();y=f();z=(st===2||st===3)&&!!y&&!n();B=pod;C=pop;D=povp;E=pop&&document.prerendering||povp&&document.hidden;F=D?\"visibilitychange\":\"prerenderingchange\"}function I(){w||x||z||E||(A(),w=!0)}\\nsetTimeout(function(){google&&google.tick&&google.timers&&google.timers.load&&google.tick(\"load\",\"xjspls\");H();if(x||z||E){if(x){var b=function(){x=!1;I()};google.caft(b);window.setTimeout(b,amd)}z&&(b=function(){z=!1;I()},y.cbvi.push(b),window.setTimeout(b,mmd));if(E){var a=function(){(D?document.hidden:document.prerendering)||(E=!1,I(),document.removeEventListener(F,a))};document.addEventListener(F,a,{passive:!0})}if(B||C||D)w||g()}else A()},0);})();window._ = window._ || {};window._DumpException = _._DumpException = function(e){throw e;};window._s = window._s || {};_s._DumpException = _._DumpException;window._qs = window._qs || {};_qs._DumpException = _._DumpException;(function(){var t=[0,16384,0,0,0,0,0,805912576,16672,134217729,8523776,0,536876288,714080264,3524,822086053,35201,167772536,59769090,31568,2164864,524288,64,268435720,20971520,2,252182720,2062,186126336,2048,75005952];window._F_toggles = window._xjs_toggles = t;})();window._F_installCss = window._F_installCss || function(css){};(function(){google.jl={bfl:0,dw:false,eli:false,ine:false,ubm:false,uwp:true,vs:false};})();(function(){var pmc=\\'{\\\\x22d\\\\x22:{},\\\\x22sb_he\\\\x22:{\\\\x22client\\\\x22:\\\\x22heirloom-hp\\\\x22,\\\\x22dh\\\\x22:true,\\\\x22ds\\\\x22:\\\\x22\\\\x22,\\\\x22host\\\\x22:\\\\x22google.com\\\\x22,\\\\x22jsonp\\\\x22:true,\\\\x22msgs\\\\x22:{\\\\x22cibl\\\\x22:\\\\x22Clear Search\\\\x22,\\\\x22dym\\\\x22:\\\\x22Did you mean:\\\\x22,\\\\x22lcky\\\\x22:\\\\x22I\\\\\\\\u0026#39;m Feeling Lucky\\\\x22,\\\\x22lml\\\\x22:\\\\x22Learn more\\\\x22,\\\\x22psrc\\\\x22:\\\\x22This search was removed from your \\\\\\\\u003Ca href\\\\x3d\\\\\\\\\\\\x22/history\\\\\\\\\\\\x22\\\\\\\\u003EWeb History\\\\\\\\u003C/a\\\\\\\\u003E\\\\x22,\\\\x22psrl\\\\x22:\\\\x22Remove\\\\x22,\\\\x22sbit\\\\x22:\\\\x22Search by image\\\\x22,\\\\x22srch\\\\x22:\\\\x22Google Search\\\\x22},\\\\x22ovr\\\\x22:{},\\\\x22pq\\\\x22:\\\\x22python http resquests\\\\x22,\\\\x22rfs\\\\x22:[],\\\\x22stok\\\\x22:\\\\x22FfkqP0RVLkA4LJ3viX-RGPaJf3c\\\\x22}}\\';google.pmc=JSON.parse(pmc);})();</script></body></html>'"
      ]
     },
     "execution_count": 47,
     "metadata": {},
     "output_type": "execute_result"
    }
   ],
   "source": [
    "responce.text"
   ]
  },
  {
   "cell_type": "code",
   "execution_count": 49,
   "id": "34c2cc2e-4397-4779-a90d-ddfee128bbcb",
   "metadata": {},
   "outputs": [
    {
     "name": "stdout",
     "output_type": "stream",
     "text": [
      "SOCS: CAAaBgiA97LCBg\n",
      "AEC: AVh_V2hSayH54lJtDdkG3HkXRnxaCPv4f11HGx0ss9l5JV6y6A0KvONAunQ\n",
      "__Secure-ENID: 28.SE=Esl0R_kIP0TwNdoTDLgHtNVbolGy6yd8HnqzJAveRZwgKRzvbjwKgnAIvq-iNqM0Ia8_YqXqU7hYuI7pweS1pCecrU0S0_rBXBIwVTsIJ5i-jzVB2SQIxPQ313NeWuCD1vc6YsBgrG0w2QVCeXS505CL_p0iWQGfsVebsF2-YWlbuWRa1r3JSQfdHJUZcclTQAg59zm_d3mxDAvKpNtRQ-HTag\n"
     ]
    }
   ],
   "source": [
    "for k,v in responce.cookies.items():\n",
    "    print(f'{k}: {v}')"
   ]
  },
  {
   "cell_type": "code",
   "execution_count": null,
   "id": "aba4b148-b6cd-4ac7-8bb7-9ea62ab80a73",
   "metadata": {},
   "outputs": [],
   "source": []
  }
 ],
 "metadata": {
  "kernelspec": {
   "display_name": "Python 3 (ipykernel)",
   "language": "python",
   "name": "python3"
  },
  "language_info": {
   "codemirror_mode": {
    "name": "ipython",
    "version": 3
   },
   "file_extension": ".py",
   "mimetype": "text/x-python",
   "name": "python",
   "nbconvert_exporter": "python",
   "pygments_lexer": "ipython3",
   "version": "3.13.2"
  }
 },
 "nbformat": 4,
 "nbformat_minor": 5
}
