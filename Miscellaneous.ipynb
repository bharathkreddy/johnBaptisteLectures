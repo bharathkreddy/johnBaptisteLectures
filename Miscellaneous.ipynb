{
 "cells": [
  {
   "cell_type": "markdown",
   "id": "c8ee229f-0bbe-4eca-9624-3a551f9cf0aa",
   "metadata": {},
   "source": [
    "# Switch statement but more powerful"
   ]
  },
  {
   "cell_type": "code",
   "execution_count": 2,
   "id": "4a54b5b1-47d7-418b-be95-7f517150d0ac",
   "metadata": {
    "editable": true,
    "slideshow": {
     "slide_type": ""
    },
    "tags": []
   },
   "outputs": [],
   "source": [
    "def respond(language):\n",
    "    match language:\n",
    "        case \"Java\":\n",
    "            return \"Coffee\"\n",
    "        case \"Python\":\n",
    "            return \"Snakes\"\n",
    "        case \"Rust\":\n",
    "            return \"water\"\n",
    "        case \"Go\":\n",
    "            return \"F* yourself\"\n",
    "        case _:\n",
    "            return \"DEFAULT\""
   ]
  },
  {
   "cell_type": "code",
   "execution_count": 5,
   "id": "61efa5eb-c078-4814-bf8c-7ddb12ed3482",
   "metadata": {},
   "outputs": [
    {
     "data": {
      "text/plain": [
       "('Snakes', 'F* yourself', 'DEFAULT')"
      ]
     },
     "execution_count": 5,
     "metadata": {},
     "output_type": "execute_result"
    }
   ],
   "source": [
    "respond('Python'), respond('Go'), respond('cobol')"
   ]
  },
  {
   "cell_type": "code",
   "execution_count": 7,
   "id": "1b964935-b8e0-4218-b376-52d3926c26b3",
   "metadata": {},
   "outputs": [],
   "source": [
    "def respond(language):\n",
    "    match language:\n",
    "        case \"Java\" | \"Javascript\":\n",
    "            return \"Coffee\"\n",
    "        case \"Python\":\n",
    "            return \"Snakes\"\n",
    "        case \"Rust\":\n",
    "            return \"water\"\n",
    "        case \"Go\":\n",
    "            return \"F* yourself\"\n",
    "        case _:\n",
    "            return \"DEFAULT\""
   ]
  },
  {
   "cell_type": "code",
   "execution_count": 8,
   "id": "d6be1b1e-8dd8-496b-b78a-8f6357fda794",
   "metadata": {},
   "outputs": [
    {
     "data": {
      "text/plain": [
       "'Coffee'"
      ]
     },
     "execution_count": 8,
     "metadata": {},
     "output_type": "execute_result"
    }
   ],
   "source": [
    "respond('Javascript')"
   ]
  },
  {
   "cell_type": "markdown",
   "id": "f847d676-786e-459e-adf0-48e53bebe407",
   "metadata": {},
   "source": [
    "# zip longest"
   ]
  },
  {
   "cell_type": "code",
   "execution_count": 9,
   "id": "0fc15479-3e0b-40dd-bf71-fd87e4a84807",
   "metadata": {},
   "outputs": [],
   "source": [
    "from itertools import zip_longest"
   ]
  },
  {
   "cell_type": "code",
   "execution_count": 11,
   "id": "78e0118c-0a72-44c5-87b8-f8c7f1168e19",
   "metadata": {},
   "outputs": [
    {
     "data": {
      "text/plain": [
       "[(1, 'a'), (2, 'b'), (3, '??'), (4, '??')]"
      ]
     },
     "execution_count": 11,
     "metadata": {},
     "output_type": "execute_result"
    }
   ],
   "source": [
    "l1 = [1, 2, 3, 4]\n",
    "l2 = ['a', 'b']\n",
    "\n",
    "list(zip_longest(l1, l2, fillvalue=\"??\"))"
   ]
  },
  {
   "cell_type": "code",
   "execution_count": 14,
   "id": "8194e0a3-1074-4953-a697-8991a3065463",
   "metadata": {},
   "outputs": [
    {
     "data": {
      "text/plain": [
       "[(1, 'a'), (2, 'b')]"
      ]
     },
     "execution_count": 14,
     "metadata": {},
     "output_type": "execute_result"
    }
   ],
   "source": [
    "# by default works on shortest iterable\n",
    "list(zip(l1, l2))"
   ]
  },
  {
   "cell_type": "code",
   "execution_count": 15,
   "id": "c14ed60a-f384-433c-8431-fed810fd1f59",
   "metadata": {},
   "outputs": [
    {
     "ename": "ValueError",
     "evalue": "zip() argument 2 is shorter than argument 1",
     "output_type": "error",
     "traceback": [
      "\u001b[31m---------------------------------------------------------------------------\u001b[39m",
      "\u001b[31mValueError\u001b[39m                                Traceback (most recent call last)",
      "\u001b[36mCell\u001b[39m\u001b[36m \u001b[39m\u001b[32mIn[15]\u001b[39m\u001b[32m, line 2\u001b[39m\n\u001b[32m      1\u001b[39m \u001b[38;5;66;03m# when it is important to know if both iterables are of same value\u001b[39;00m\n\u001b[32m----> \u001b[39m\u001b[32m2\u001b[39m \u001b[38;5;28;43mlist\u001b[39;49m\u001b[43m(\u001b[49m\u001b[38;5;28;43mzip\u001b[39;49m\u001b[43m(\u001b[49m\u001b[43ml1\u001b[49m\u001b[43m,\u001b[49m\u001b[43m \u001b[49m\u001b[43ml2\u001b[49m\u001b[43m,\u001b[49m\u001b[43m \u001b[49m\u001b[43mstrict\u001b[49m\u001b[43m=\u001b[49m\u001b[38;5;28;43;01mTrue\u001b[39;49;00m\u001b[43m)\u001b[49m\u001b[43m)\u001b[49m\n",
      "\u001b[31mValueError\u001b[39m: zip() argument 2 is shorter than argument 1"
     ]
    }
   ],
   "source": [
    "# when it is important to know if both iterables are of same value\n",
    "list(zip(l1, l2, strict=True))"
   ]
  },
  {
   "cell_type": "code",
   "execution_count": null,
   "id": "8d787bec-98fe-4181-b1b8-73f2641993e5",
   "metadata": {},
   "outputs": [],
   "source": []
  }
 ],
 "metadata": {
  "kernelspec": {
   "display_name": "Python 3 (ipykernel)",
   "language": "python",
   "name": "python3"
  },
  "language_info": {
   "codemirror_mode": {
    "name": "ipython",
    "version": 3
   },
   "file_extension": ".py",
   "mimetype": "text/x-python",
   "name": "python",
   "nbconvert_exporter": "python",
   "pygments_lexer": "ipython3",
   "version": "3.13.2"
  }
 },
 "nbformat": 4,
 "nbformat_minor": 5
}
