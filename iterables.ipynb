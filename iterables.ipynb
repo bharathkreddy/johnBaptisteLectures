{
 "cells": [
  {
   "cell_type": "markdown",
   "id": "9ee70f9f-0966-4160-9c68-cc0c78d0aadc",
   "metadata": {
    "editable": true,
    "slideshow": {
     "slide_type": ""
    },
    "tags": []
   },
   "source": [
    "# Sequence"
   ]
  },
  {
   "cell_type": "code",
   "execution_count": 1,
   "id": "b5375274-0bd0-4ae4-a6a0-41b6bf355072",
   "metadata": {},
   "outputs": [
    {
     "ename": "TypeError",
     "evalue": "can only concatenate str (not \"list\") to str",
     "output_type": "error",
     "traceback": [
      "\u001b[31m---------------------------------------------------------------------------\u001b[39m",
      "\u001b[31mTypeError\u001b[39m                                 Traceback (most recent call last)",
      "\u001b[36mCell\u001b[39m\u001b[36m \u001b[39m\u001b[32mIn[1]\u001b[39m\u001b[32m, line 1\u001b[39m\n\u001b[32m----> \u001b[39m\u001b[32m1\u001b[39m \u001b[33;43m'\u001b[39;49m\u001b[33;43mabc\u001b[39;49m\u001b[33;43m'\u001b[39;49m\u001b[43m \u001b[49m\u001b[43m+\u001b[49m\u001b[43m \u001b[49m\u001b[43m[\u001b[49m\u001b[33;43m'\u001b[39;49m\u001b[33;43md\u001b[39;49m\u001b[33;43m'\u001b[39;49m\u001b[43m,\u001b[49m\u001b[43m \u001b[49m\u001b[33;43m'\u001b[39;49m\u001b[33;43me\u001b[39;49m\u001b[33;43m'\u001b[39;49m\u001b[43m,\u001b[49m\u001b[43m \u001b[49m\u001b[33;43m'\u001b[39;49m\u001b[33;43mf\u001b[39;49m\u001b[33;43m'\u001b[39;49m\u001b[43m]\u001b[49m\n",
      "\u001b[31mTypeError\u001b[39m: can only concatenate str (not \"list\") to str"
     ]
    }
   ],
   "source": [
    "'abc' + ['d', 'e', 'f']"
   ]
  },
  {
   "cell_type": "code",
   "execution_count": null,
   "id": "b2a40f10-b8d9-448a-a99a-8b7072587c91",
   "metadata": {},
   "outputs": [],
   "source": [
    "\",\".join(list('abc')+['d', 'e', 'f'])"
   ]
  },
  {
   "cell_type": "code",
   "execution_count": null,
   "id": "80e99d6d-f995-47fb-b77b-db905e8f35fe",
   "metadata": {},
   "outputs": [],
   "source": [
    "\",\".join([*'abc',*['d', 'e', 'f']])"
   ]
  },
  {
   "cell_type": "code",
   "execution_count": null,
   "id": "1da7ef4a-32bc-4569-ab23-89cb433e9083",
   "metadata": {},
   "outputs": [],
   "source": [
    "s = enumerate('bharath')\n",
    "type(s)"
   ]
  },
  {
   "cell_type": "code",
   "execution_count": null,
   "id": "8d404041-059d-4a77-9b99-e3623b67b259",
   "metadata": {},
   "outputs": [],
   "source": [
    "next(s)"
   ]
  },
  {
   "cell_type": "code",
   "execution_count": null,
   "id": "190ce3f1-4992-4a51-970d-13c7110b0e1a",
   "metadata": {},
   "outputs": [],
   "source": [
    "list(s)"
   ]
  },
  {
   "cell_type": "markdown",
   "id": "2372aa48-786e-4539-b88c-15fd1e7b64b8",
   "metadata": {},
   "source": [
    "# Copying Sequences"
   ]
  },
  {
   "cell_type": "code",
   "execution_count": null,
   "id": "6ed0033b-7276-4daf-8c2c-9e66d88d168c",
   "metadata": {},
   "outputs": [],
   "source": [
    "l1 = [1, 2, 3, 4]\n",
    "hex(id(l1))"
   ]
  },
  {
   "cell_type": "code",
   "execution_count": null,
   "id": "00f81161-d64c-4cb0-893a-23ac22d1d571",
   "metadata": {},
   "outputs": [],
   "source": [
    "l1copy = l1.copy()\n",
    "hex(id(l1copy))"
   ]
  },
  {
   "cell_type": "code",
   "execution_count": null,
   "id": "2d2650e9-0671-4296-8ee1-2242842ef9d0",
   "metadata": {},
   "outputs": [],
   "source": [
    "l1copy = list(l1)\n",
    "hex(id(l1copy))"
   ]
  },
  {
   "cell_type": "code",
   "execution_count": null,
   "id": "ae1e3cd0-fd58-47b2-b9df-27c557eb303f",
   "metadata": {},
   "outputs": [],
   "source": [
    "l1copy = [*l1]\n",
    "hex(id(l1copy))"
   ]
  },
  {
   "cell_type": "code",
   "execution_count": null,
   "id": "26fee533-cf72-4dc9-9206-8b982fe38eb2",
   "metadata": {},
   "outputs": [],
   "source": [
    "l1copy = l1[:]\n",
    "hex(id(l1copy))"
   ]
  },
  {
   "cell_type": "markdown",
   "id": "4689f5cf-296e-4f2a-9ee5-52c82e97677c",
   "metadata": {},
   "source": [
    "# Deep Copy"
   ]
  },
  {
   "cell_type": "code",
   "execution_count": null,
   "id": "bed3bafb-e64c-4b70-bb8d-9231f0a6c837",
   "metadata": {},
   "outputs": [],
   "source": [
    "l1 = [1, 2, 3, 4]\n",
    "l2 = l1.copy()\n",
    "\n",
    "l1[0] = 100\n",
    "\n",
    "print(hex(id(l1)), l1)\n",
    "print(hex(id(l2)), l2)"
   ]
  },
  {
   "cell_type": "code",
   "execution_count": null,
   "id": "8035f1a5-b57c-4f6e-a229-17cf757e97c4",
   "metadata": {},
   "outputs": [],
   "source": [
    "l1 = [[0, 1], 2, 3, 4]\n",
    "l2 = l1.copy()\n",
    "\n",
    "l1[0][0] = 100\n",
    "\n",
    "print(hex(id(l1)), l1)\n",
    "print(hex(id(l2)), l2)"
   ]
  },
  {
   "cell_type": "code",
   "execution_count": null,
   "id": "fbf188df-e19c-4d91-837b-328c5ec3a97a",
   "metadata": {},
   "outputs": [],
   "source": [
    "import copy"
   ]
  },
  {
   "cell_type": "code",
   "execution_count": null,
   "id": "808b9226-8ca2-487b-8329-3bede1e9e212",
   "metadata": {},
   "outputs": [],
   "source": [
    "l1 = [[0, 1], 2, 3, 4]\n",
    "l2 = copy.deepcopy(l1)\n",
    "\n",
    "l1[0][0] = 100\n",
    "\n",
    "print(hex(id(l1)), l1)\n",
    "print(hex(id(l2)), l2)"
   ]
  },
  {
   "cell_type": "markdown",
   "id": "8b9f94cc-b437-4a0d-9ae9-78afc8b72729",
   "metadata": {},
   "source": [
    "# slicing"
   ]
  },
  {
   "cell_type": "code",
   "execution_count": null,
   "id": "1bf0bb14-f1fe-49fd-9e73-85c226efab41",
   "metadata": {},
   "outputs": [],
   "source": [
    "s = slice(0, 2)\n",
    "type(s)"
   ]
  },
  {
   "cell_type": "code",
   "execution_count": null,
   "id": "39a50d3c-087c-410b-8b6b-8a816fea886f",
   "metadata": {},
   "outputs": [],
   "source": [
    "s.start"
   ]
  },
  {
   "cell_type": "code",
   "execution_count": null,
   "id": "09e54c44-91a9-42de-a904-8e6b61e503d1",
   "metadata": {},
   "outputs": [],
   "source": [
    "s.stop"
   ]
  },
  {
   "cell_type": "code",
   "execution_count": null,
   "id": "0878e6a8-b560-430f-be17-12061a71390a",
   "metadata": {},
   "outputs": [],
   "source": [
    "s.indices(10)"
   ]
  },
  {
   "cell_type": "code",
   "execution_count": null,
   "id": "8e1d6008-36c6-4b7c-b1e7-362222d570fb",
   "metadata": {},
   "outputs": [],
   "source": [
    "l1 = [1, 2, 3, 4, 5]\n",
    "l1[s]"
   ]
  },
  {
   "cell_type": "markdown",
   "id": "12245201-5890-45de-91f3-90a5b1c121ca",
   "metadata": {},
   "source": [
    "# Custom Sequences"
   ]
  },
  {
   "cell_type": "code",
   "execution_count": null,
   "id": "acd959e3-34b0-4e14-bc40-348394b633de",
   "metadata": {},
   "outputs": [],
   "source": [
    "l1 = list('bharathreddy')\n",
    "l1"
   ]
  },
  {
   "cell_type": "code",
   "execution_count": null,
   "id": "ecdfad61-72c1-4e3d-a068-c23de7b72ed3",
   "metadata": {},
   "outputs": [],
   "source": [
    "l1.__getitem__(3)"
   ]
  },
  {
   "cell_type": "code",
   "execution_count": null,
   "id": "ef4d60e7-d958-4361-a8ec-e18a7762b106",
   "metadata": {},
   "outputs": [],
   "source": [
    "l1.__getitem__(slice(1,4,1))"
   ]
  },
  {
   "cell_type": "markdown",
   "id": "b6a62963-7eb6-4033-ad5e-25c1f422226b",
   "metadata": {},
   "source": [
    "### `__getitem__` implementation allows iterations over sequences"
   ]
  },
  {
   "cell_type": "code",
   "execution_count": null,
   "id": "539d52ea-e989-4375-9c89-b0ffe7f94cae",
   "metadata": {},
   "outputs": [],
   "source": [
    "class Silly:\n",
    "    def __init__(self, n):\n",
    "        self.n = n\n",
    "\n",
    "    def __len__(self):\n",
    "        print('called __len__')\n",
    "        return 'silly'\n",
    "\n",
    "    def __getitem(self, value):\n",
    "        print(f'requested item at {value}')\n",
    "        return 'Silly element'"
   ]
  },
  {
   "cell_type": "code",
   "execution_count": null,
   "id": "029baab3-af8b-47e5-ad9f-56d97f698807",
   "metadata": {},
   "outputs": [],
   "source": [
    "silly = Silly(10)"
   ]
  },
  {
   "cell_type": "code",
   "execution_count": null,
   "id": "0c4b3233-a60b-48f1-9512-9182da3c975e",
   "metadata": {},
   "outputs": [],
   "source": [
    "len(silly)"
   ]
  },
  {
   "cell_type": "code",
   "execution_count": null,
   "id": "7c9b8480-89a8-4502-852d-2952bc9a3506",
   "metadata": {},
   "outputs": [],
   "source": [
    "class Silly:\n",
    "    def __init__(self, n):\n",
    "        self.n = n\n",
    "\n",
    "    def __len__(self):\n",
    "        print('called __len__')\n",
    "        return self.n\n",
    "\n",
    "    def __getitem__(self, value):\n",
    "        print(f'requested item at {value}')\n",
    "        return 'Silly element'"
   ]
  },
  {
   "cell_type": "code",
   "execution_count": null,
   "id": "00a1c4f1-9685-47c6-9086-29cd6e72670f",
   "metadata": {},
   "outputs": [],
   "source": [
    "silly = Silly(10)"
   ]
  },
  {
   "cell_type": "code",
   "execution_count": null,
   "id": "f0b4637d-7a26-4345-a3f8-98351b928e99",
   "metadata": {},
   "outputs": [],
   "source": [
    "len(silly)"
   ]
  },
  {
   "cell_type": "code",
   "execution_count": null,
   "id": "a5dce3d7-7514-48a7-9be1-f8bc3b962430",
   "metadata": {},
   "outputs": [],
   "source": [
    "silly.__getitem__(100)"
   ]
  },
  {
   "cell_type": "code",
   "execution_count": null,
   "id": "5ef4177d-bd2f-4080-a97e-baf0ba52d7e1",
   "metadata": {},
   "outputs": [],
   "source": [
    "silly[10]"
   ]
  },
  {
   "cell_type": "markdown",
   "id": "57e6f8cb-885a-4b7d-a58b-15a2f7bca8e1",
   "metadata": {},
   "source": [
    "# but we cant iterate over it still as class cant tell when to stop the iteration"
   ]
  },
  {
   "cell_type": "code",
   "execution_count": null,
   "id": "f3c4a888-3e8f-48d5-913c-4fc700a69c63",
   "metadata": {},
   "outputs": [],
   "source": [
    "class Silly:\n",
    "    def __init__(self, n):\n",
    "        self.n = n\n",
    "\n",
    "    def __len__(self):\n",
    "        print('called __len__')\n",
    "        return self.n\n",
    "\n",
    "    def __getitem__(self, value):\n",
    "        # print(f'requested item at {value}')\n",
    "        if value < 0 or value > self.n:\n",
    "            raise IndexError\n",
    "        else:\n",
    "            return 'Silly element'"
   ]
  },
  {
   "cell_type": "code",
   "execution_count": null,
   "id": "f3b65b65-a01d-4a9c-bf5d-029f1a672345",
   "metadata": {},
   "outputs": [],
   "source": [
    "silly = Silly(10)"
   ]
  },
  {
   "cell_type": "code",
   "execution_count": null,
   "id": "74b1a04d-809e-4d9a-ae89-ebbb9766d2a0",
   "metadata": {},
   "outputs": [],
   "source": [
    "silly[11]"
   ]
  },
  {
   "cell_type": "code",
   "execution_count": null,
   "id": "f1445de7-845d-433e-8660-005705e53cd9",
   "metadata": {},
   "outputs": [],
   "source": [
    "silly[9]"
   ]
  },
  {
   "cell_type": "code",
   "execution_count": null,
   "id": "e76045d3-de9f-499a-b585-e88890849eb0",
   "metadata": {},
   "outputs": [],
   "source": [
    "for idx,i in enumerate(silly):\n",
    "    print(idx,i)"
   ]
  },
  {
   "cell_type": "code",
   "execution_count": null,
   "id": "d5295ac6-c012-4f7b-a2a5-2c855a44d5dd",
   "metadata": {},
   "outputs": [],
   "source": [
    "[x*2 for x in silly]"
   ]
  },
  {
   "cell_type": "code",
   "execution_count": null,
   "id": "35f9ab02-8450-41b9-a79c-566c0da4dbe7",
   "metadata": {},
   "outputs": [],
   "source": [
    "len(silly)"
   ]
  },
  {
   "cell_type": "code",
   "execution_count": null,
   "id": "13f8846b-016d-4ee7-8b61-e4df9f92ec9f",
   "metadata": {},
   "outputs": [],
   "source": [
    "from functools import lru_cache"
   ]
  },
  {
   "cell_type": "code",
   "execution_count": null,
   "id": "de6133d8-214c-4138-8603-24ecdaec0fb4",
   "metadata": {},
   "outputs": [],
   "source": [
    "class Fib:\n",
    "    def __init__(self, n):\n",
    "        self.n = n\n",
    "\n",
    "    def __len__(self):\n",
    "        return self.n\n",
    "\n",
    "    def __getitem__(self, idx):\n",
    "        if isinstance(idx, int):\n",
    "            # for negative indexing to work\n",
    "            if idx < 0:\n",
    "                idx = self.n + idx\n",
    "            # if even after negative indexing wrap idx is negative then index error    \n",
    "            if idx < 0 or idx > self.n:\n",
    "                raise IndexError\n",
    "            else:\n",
    "                return Fib._fib(idx)\n",
    "\n",
    "        else:\n",
    "            if isinstance(idx, slice):\n",
    "                # result = []\n",
    "                # for i in range(idx.start, idx.stop, idx.step):\n",
    "                #     result.append(Fib._fib(i))\n",
    "                # return result\n",
    "                \n",
    "                return [Fib._fib(i) for i in range(idx.start, idx.stop, idx.step)]\n",
    "                \n",
    "        \n",
    "\n",
    "    @staticmethod\n",
    "    @lru_cache\n",
    "    def _fib(n):\n",
    "        if n < 2:\n",
    "            return 1\n",
    "        else:\n",
    "            return Fib._fib(n-1) + Fib._fib(n-2)"
   ]
  },
  {
   "cell_type": "code",
   "execution_count": null,
   "id": "ae507b8f-1d12-478d-8b1a-2336cfcab0bd",
   "metadata": {},
   "outputs": [],
   "source": [
    "fib = Fib(10)"
   ]
  },
  {
   "cell_type": "code",
   "execution_count": null,
   "id": "9524f816-2e5c-43d0-a2c3-ff3092e62d0f",
   "metadata": {},
   "outputs": [],
   "source": [
    "fib[11]"
   ]
  },
  {
   "cell_type": "code",
   "execution_count": null,
   "id": "59414861-d766-486d-891e-a9c6446bf529",
   "metadata": {},
   "outputs": [],
   "source": [
    "fib[4]"
   ]
  },
  {
   "cell_type": "code",
   "execution_count": null,
   "id": "4d9b8542-b811-41bb-85bb-9975ac1c1b47",
   "metadata": {},
   "outputs": [],
   "source": [
    "for i in range(10):\n",
    "    print(fib[i])"
   ]
  },
  {
   "cell_type": "code",
   "execution_count": null,
   "id": "f8dfdab5-b84e-472c-bac0-7c458b7d7d73",
   "metadata": {},
   "outputs": [],
   "source": [
    "list(fib)"
   ]
  },
  {
   "cell_type": "code",
   "execution_count": null,
   "id": "e586e761-83a2-4572-ac2a-445e90c07d47",
   "metadata": {},
   "outputs": [],
   "source": [
    "fib[2:9:2]"
   ]
  },
  {
   "cell_type": "markdown",
   "id": "4eedd2b7-ce43-4a4f-b66f-15da9265314e",
   "metadata": {},
   "source": [
    "# Assigments in mutable sequences"
   ]
  },
  {
   "cell_type": "code",
   "execution_count": null,
   "id": "a5f0e22f-bbd5-4811-bdd4-45071fde34db",
   "metadata": {},
   "outputs": [],
   "source": [
    "l = [1, 2, 3, 4, 5]\n",
    "l, id(l)"
   ]
  },
  {
   "cell_type": "code",
   "execution_count": null,
   "id": "b3edbeb5-6e97-4477-a786-6439a6868ee0",
   "metadata": {},
   "outputs": [],
   "source": [
    "l[2:3] = ''\n",
    "l, id(l)"
   ]
  },
  {
   "cell_type": "code",
   "execution_count": null,
   "id": "b992f997-ce91-4e60-8261-3027f0d66924",
   "metadata": {},
   "outputs": [],
   "source": [
    "l[2:3] = 'bha'\n",
    "l, id(l)"
   ]
  },
  {
   "cell_type": "code",
   "execution_count": null,
   "id": "6b5f6711-d6c9-4dcc-aa28-19c4e25724cb",
   "metadata": {},
   "outputs": [],
   "source": [
    "l[1:1] = [100]\n",
    "l, id(l)"
   ]
  },
  {
   "cell_type": "code",
   "execution_count": null,
   "id": "14b0485b-9d53-414a-b61c-bc1ec03331f1",
   "metadata": {},
   "outputs": [],
   "source": [
    "l[1:2] = [100]\n",
    "l, id(l)"
   ]
  },
  {
   "cell_type": "markdown",
   "id": "58480dbb-47db-4dce-bb56-c4113ebb0969",
   "metadata": {},
   "source": [
    "# Iterating Collections"
   ]
  },
  {
   "cell_type": "markdown",
   "id": "99334e55-eff9-4cd9-94a1-ca56329076ba",
   "metadata": {},
   "source": [
    "### Lets create a collection of radom numbers\n",
    "1. It will contain a finite number of random numbers\n",
    "2. Once used up will get exhuasted"
   ]
  },
  {
   "cell_type": "code",
   "execution_count": 2,
   "id": "202c2264-7011-48da-b8da-51ffcabcfc0d",
   "metadata": {},
   "outputs": [],
   "source": [
    "import random"
   ]
  },
  {
   "cell_type": "code",
   "execution_count": 3,
   "id": "3fec1db9-1e5b-42ed-80cd-8f63ff8304f4",
   "metadata": {},
   "outputs": [],
   "source": [
    "class RandomBag:\n",
    "    def __init__(self, size, min=0, max=999):\n",
    "        if size < 0:\n",
    "            raise ValueError\n",
    "        self.size = size\n",
    "        self.min = min\n",
    "        self.max = max\n",
    "        self._count = 0\n",
    "\n",
    "    def __repr__(self):\n",
    "        return f'Collection of {self.size} random numbers between {self.min} and {self.max}'\n",
    "\n",
    "    def __next__(self):\n",
    "        if self._count == self.size:\n",
    "            raise StopIteration\n",
    "            \n",
    "        self._count += 1\n",
    "        return random.randint(self.min, self.max)\n",
    "        "
   ]
  },
  {
   "cell_type": "code",
   "execution_count": 15,
   "id": "6228934c-bcc6-4649-8cd0-59016235566b",
   "metadata": {},
   "outputs": [
    {
     "data": {
      "text/plain": [
       "Collection of 5 random numbers between 1 and 10"
      ]
     },
     "execution_count": 15,
     "metadata": {},
     "output_type": "execute_result"
    }
   ],
   "source": [
    "rbag = RandomBag(5, 1, 10)\n",
    "rbag"
   ]
  },
  {
   "cell_type": "code",
   "execution_count": 16,
   "id": "ce602b88-97b0-4a4e-a844-22b26ff4ff5a",
   "metadata": {},
   "outputs": [
    {
     "name": "stdout",
     "output_type": "stream",
     "text": [
      "1 3 5 2 9 "
     ]
    }
   ],
   "source": [
    "while True:\n",
    "    try:\n",
    "        print(next(rbag), end= ' ')\n",
    "    except StopIteration:\n",
    "        break"
   ]
  },
  {
   "cell_type": "code",
   "execution_count": 17,
   "id": "28857e19-8ac7-49d5-977c-1bc376c4ee42",
   "metadata": {},
   "outputs": [
    {
     "ename": "StopIteration",
     "evalue": "",
     "output_type": "error",
     "traceback": [
      "\u001b[31m---------------------------------------------------------------------------\u001b[39m",
      "\u001b[31mStopIteration\u001b[39m                             Traceback (most recent call last)",
      "\u001b[36mCell\u001b[39m\u001b[36m \u001b[39m\u001b[32mIn[17]\u001b[39m\u001b[32m, line 1\u001b[39m\n\u001b[32m----> \u001b[39m\u001b[32m1\u001b[39m \u001b[38;5;28;43mnext\u001b[39;49m\u001b[43m(\u001b[49m\u001b[43mrbag\u001b[49m\u001b[43m)\u001b[49m\n",
      "\u001b[36mCell\u001b[39m\u001b[36m \u001b[39m\u001b[32mIn[3]\u001b[39m\u001b[32m, line 15\u001b[39m, in \u001b[36mRandomBag.__next__\u001b[39m\u001b[34m(self)\u001b[39m\n\u001b[32m     13\u001b[39m \u001b[38;5;28;01mdef\u001b[39;00m\u001b[38;5;250m \u001b[39m\u001b[34m__next__\u001b[39m(\u001b[38;5;28mself\u001b[39m):\n\u001b[32m     14\u001b[39m     \u001b[38;5;28;01mif\u001b[39;00m \u001b[38;5;28mself\u001b[39m._count == \u001b[38;5;28mself\u001b[39m.size:\n\u001b[32m---> \u001b[39m\u001b[32m15\u001b[39m         \u001b[38;5;28;01mraise\u001b[39;00m \u001b[38;5;167;01mStopIteration\u001b[39;00m\n\u001b[32m     17\u001b[39m     \u001b[38;5;28mself\u001b[39m._count += \u001b[32m1\u001b[39m\n\u001b[32m     18\u001b[39m     \u001b[38;5;28;01mreturn\u001b[39;00m random.randint(\u001b[38;5;28mself\u001b[39m.min, \u001b[38;5;28mself\u001b[39m.max)\n",
      "\u001b[31mStopIteration\u001b[39m: "
     ]
    }
   ],
   "source": [
    "next(rbag)"
   ]
  },
  {
   "cell_type": "code",
   "execution_count": 18,
   "id": "c8089f5e-130e-495b-a834-e102efb07eb8",
   "metadata": {},
   "outputs": [
    {
     "ename": "TypeError",
     "evalue": "'RandomBag' object is not iterable",
     "output_type": "error",
     "traceback": [
      "\u001b[31m---------------------------------------------------------------------------\u001b[39m",
      "\u001b[31mTypeError\u001b[39m                                 Traceback (most recent call last)",
      "\u001b[36mCell\u001b[39m\u001b[36m \u001b[39m\u001b[32mIn[18]\u001b[39m\u001b[32m, line 2\u001b[39m\n\u001b[32m      1\u001b[39m rbag = RandomBag(\u001b[32m5\u001b[39m, \u001b[32m1\u001b[39m, \u001b[32m99\u001b[39m)\n\u001b[32m----> \u001b[39m\u001b[32m2\u001b[39m \u001b[38;5;28;43;01mfor\u001b[39;49;00m\u001b[43m \u001b[49m\u001b[43mi\u001b[49m\u001b[43m \u001b[49m\u001b[38;5;129;43;01min\u001b[39;49;00m\u001b[43m \u001b[49m\u001b[43mrbag\u001b[49m\u001b[43m:\u001b[49m\n\u001b[32m      3\u001b[39m \u001b[43m    \u001b[49m\u001b[38;5;28;43mprint\u001b[39;49m\u001b[43m(\u001b[49m\u001b[43mi\u001b[49m\u001b[43m)\u001b[49m\n",
      "\u001b[31mTypeError\u001b[39m: 'RandomBag' object is not iterable"
     ]
    }
   ],
   "source": [
    "rbag = RandomBag(5, 1, 99)\n",
    "for i in rbag:\n",
    "    print(i)"
   ]
  },
  {
   "cell_type": "markdown",
   "id": "78423f6b-a3d8-4a4a-a5bf-9e6dc96f97fa",
   "metadata": {},
   "source": [
    "# Iterable\n",
    "1. Is anything that implements `iteration protocol`.\n",
    "2. or to let python know that our class can be iterated over using `__next__`\n",
    "3. and that method raises `StopIteration` exception when all elements are handed out\n",
    "4. `__iter__` method returns object(class instance) itself. "
   ]
  },
  {
   "cell_type": "code",
   "execution_count": 19,
   "id": "49c00da5-36ea-48e1-87a1-d2a60479771b",
   "metadata": {},
   "outputs": [],
   "source": [
    "class RandomBag:\n",
    "    def __init__(self, size, min=0, max=999):\n",
    "        if size < 0:\n",
    "            raise ValueError\n",
    "        self.size = size\n",
    "        self.min = min\n",
    "        self.max = max\n",
    "        self._count = 0\n",
    "\n",
    "    def __repr__(self):\n",
    "        return f'Collection of {self.size} random numbers between {self.min} and {self.max}'\n",
    "\n",
    "    def __next__(self):\n",
    "        if self._count == self.size:\n",
    "            raise StopIteration\n",
    "            \n",
    "        self._count += 1\n",
    "        return random.randint(self.min, self.max)\n",
    "\n",
    "    def __iter__(self):\n",
    "        return self"
   ]
  },
  {
   "cell_type": "code",
   "execution_count": 20,
   "id": "6072217e-1429-4a53-9740-07acaa0ed67d",
   "metadata": {},
   "outputs": [
    {
     "name": "stdout",
     "output_type": "stream",
     "text": [
      "92\n",
      "78\n",
      "82\n",
      "12\n",
      "95\n"
     ]
    }
   ],
   "source": [
    "rbag = RandomBag(5, 1, 99)\n",
    "\n",
    "for i in rbag:\n",
    "    print(i)"
   ]
  },
  {
   "cell_type": "code",
   "execution_count": 21,
   "id": "ce3e02d2-4760-4f5c-bea5-b849b88c66c1",
   "metadata": {},
   "outputs": [],
   "source": [
    "for i in rbag:\n",
    "    print(i)"
   ]
  },
  {
   "cell_type": "code",
   "execution_count": 37,
   "id": "5f89f5e7-34e0-4987-b242-dc9de24017bf",
   "metadata": {},
   "outputs": [],
   "source": [
    "class Squares:\n",
    "    def __init__(self, length):\n",
    "        self.length = length\n",
    "        self._count = 0\n",
    "\n",
    "    def __repr__(self):\n",
    "        return f'Returns {self.length} squares.'\n",
    "\n",
    "    def __next__(self):\n",
    "        if self._count == self.length:\n",
    "            raise StopIteration\n",
    "            \n",
    "        self._count += 1\n",
    "        return self._count **2\n",
    "\n",
    "    def __iter__(self):\n",
    "        print(f'__iter__ called')\n",
    "        return self\n",
    "        "
   ]
  },
  {
   "cell_type": "code",
   "execution_count": 43,
   "id": "cfb5a94e-e17b-43d6-8129-5a0c1c3be9a6",
   "metadata": {},
   "outputs": [
    {
     "data": {
      "text/plain": [
       "Returns 10 squares."
      ]
     },
     "execution_count": 43,
     "metadata": {},
     "output_type": "execute_result"
    }
   ],
   "source": [
    "sq = Squares(10)\n",
    "sq"
   ]
  },
  {
   "cell_type": "code",
   "execution_count": 44,
   "id": "009b92d1-9fd7-49fe-ac0f-1138fa24f525",
   "metadata": {},
   "outputs": [
    {
     "name": "stdout",
     "output_type": "stream",
     "text": [
      "1 4 9 16 25 36 49 64 81 100 "
     ]
    }
   ],
   "source": [
    "while True:\n",
    "    try:\n",
    "        print(next(sq), end=' ')\n",
    "    except StopIteration:\n",
    "        break"
   ]
  },
  {
   "cell_type": "code",
   "execution_count": 45,
   "id": "e19cf2cd-fbcf-4776-b998-1c7307b0629e",
   "metadata": {},
   "outputs": [
    {
     "name": "stdout",
     "output_type": "stream",
     "text": [
      "__iter__ called\n",
      "1 4 9 16 25 36 49 64 81 100 "
     ]
    }
   ],
   "source": [
    "sq = Squares(10)\n",
    "\n",
    "for i in sq:\n",
    "    print(i, end=' ')"
   ]
  },
  {
   "cell_type": "code",
   "execution_count": 46,
   "id": "74bee439-381d-4794-962d-58b1265b4c21",
   "metadata": {},
   "outputs": [
    {
     "name": "stdout",
     "output_type": "stream",
     "text": [
      "__iter__ called\n",
      "__iter__ called\n"
     ]
    },
    {
     "data": {
      "text/plain": [
       "[1, 4, 9, 16, 25, 36, 49, 64, 81, 100]"
      ]
     },
     "execution_count": 46,
     "metadata": {},
     "output_type": "execute_result"
    }
   ],
   "source": [
    "sq = Squares(10)\n",
    "\n",
    "[x for x in sq]"
   ]
  },
  {
   "cell_type": "markdown",
   "id": "d41920bb-59f2-4c12-8062-64de7e2568c3",
   "metadata": {},
   "source": [
    "# few issues we have with this implementation\n",
    "1. Collection is `iterable`,\n",
    "2. but `iterator` is responsible for iterating over the collection.\n",
    "3. As of now collection is also the iterator and hence once exhausted we have to create it again.\n",
    "4. `iterable` is created once, but`iterator` is created every time we need to start a fresh iteration."
   ]
  },
  {
   "cell_type": "markdown",
   "id": "8142ea58-3e82-493f-b173-41021b4bfea6",
   "metadata": {},
   "source": [
    "## one possible implementation"
   ]
  },
  {
   "cell_type": "code",
   "execution_count": 49,
   "id": "75c0efd6-3f3f-4542-8618-786d4c688b5b",
   "metadata": {
    "editable": true,
    "slideshow": {
     "slide_type": ""
    },
    "tags": []
   },
   "outputs": [],
   "source": [
    "class RandomBag:\n",
    "    def __init__(self, size, min=0, max=999):\n",
    "        if size < 0:\n",
    "            raise ValueError\n",
    "        self.size = size\n",
    "        self.min = min\n",
    "        self.max = max\n",
    "        self._count = 0\n",
    "\n",
    "    def __repr__(self):\n",
    "        return f'Collection of {self.size} random numbers between {self.min} and {self.max}'\n",
    "\n",
    "    # def __next__(self):\n",
    "    #     if self._count == self.size:\n",
    "    #         raise StopIteration\n",
    "            \n",
    "    #     self._count += 1\n",
    "    #     return random.randint(self.min, self.max)\n",
    "\n",
    "    # def __iter__(self):\n",
    "    #     return self\n",
    "\n",
    "\n",
    "class RandomBagIterator:\n",
    "    def __init__(self, bag):\n",
    "        self._bag = bag\n",
    "\n",
    "    def __next__(self):\n",
    "        if self._bag._count == self._bag.size:\n",
    "            raise StopIteration\n",
    "            \n",
    "        self._bag._count += 1\n",
    "        return random.randint(self._bag.min, self._bag.max)\n",
    "\n",
    "    def __iter__(self):\n",
    "        return self\n",
    "\n",
    "        "
   ]
  },
  {
   "cell_type": "code",
   "execution_count": 50,
   "id": "007607ab-fa8e-48fc-bc84-e065815e00bd",
   "metadata": {},
   "outputs": [],
   "source": [
    "rbag = RandomBag(5, 1, 99)\n",
    "rbag_iterator = RandomBagIterator(rbag)"
   ]
  },
  {
   "cell_type": "code",
   "execution_count": 51,
   "id": "3214b8af-ea46-4766-848a-8194e2479f0d",
   "metadata": {},
   "outputs": [
    {
     "name": "stdout",
     "output_type": "stream",
     "text": [
      "27\n",
      "2\n",
      "68\n",
      "61\n",
      "96\n"
     ]
    }
   ],
   "source": [
    "for randNumber in rbag_iterator:\n",
    "    print(randNumber)"
   ]
  },
  {
   "cell_type": "code",
   "execution_count": 52,
   "id": "a8e89663-2daf-4314-9cbc-2cb2606036aa",
   "metadata": {},
   "outputs": [
    {
     "ename": "StopIteration",
     "evalue": "",
     "output_type": "error",
     "traceback": [
      "\u001b[31m---------------------------------------------------------------------------\u001b[39m",
      "\u001b[31mStopIteration\u001b[39m                             Traceback (most recent call last)",
      "\u001b[36mCell\u001b[39m\u001b[36m \u001b[39m\u001b[32mIn[52]\u001b[39m\u001b[32m, line 1\u001b[39m\n\u001b[32m----> \u001b[39m\u001b[32m1\u001b[39m \u001b[38;5;28;43mnext\u001b[39;49m\u001b[43m(\u001b[49m\u001b[43mrbag_iterator\u001b[49m\u001b[43m)\u001b[49m\n",
      "\u001b[36mCell\u001b[39m\u001b[36m \u001b[39m\u001b[32mIn[49]\u001b[39m\u001b[32m, line 29\u001b[39m, in \u001b[36mRandomBagIterator.__next__\u001b[39m\u001b[34m(self)\u001b[39m\n\u001b[32m     27\u001b[39m \u001b[38;5;28;01mdef\u001b[39;00m\u001b[38;5;250m \u001b[39m\u001b[34m__next__\u001b[39m(\u001b[38;5;28mself\u001b[39m):\n\u001b[32m     28\u001b[39m     \u001b[38;5;28;01mif\u001b[39;00m \u001b[38;5;28mself\u001b[39m._bag._count == \u001b[38;5;28mself\u001b[39m._bag.size:\n\u001b[32m---> \u001b[39m\u001b[32m29\u001b[39m         \u001b[38;5;28;01mraise\u001b[39;00m \u001b[38;5;167;01mStopIteration\u001b[39;00m\n\u001b[32m     31\u001b[39m     \u001b[38;5;28mself\u001b[39m._bag._count += \u001b[32m1\u001b[39m\n\u001b[32m     32\u001b[39m     \u001b[38;5;28;01mreturn\u001b[39;00m random.randint(\u001b[38;5;28mself\u001b[39m._bag.min, \u001b[38;5;28mself\u001b[39m._bag.max)\n",
      "\u001b[31mStopIteration\u001b[39m: "
     ]
    }
   ],
   "source": [
    "next(rbag_iterator)"
   ]
  },
  {
   "cell_type": "code",
   "execution_count": 57,
   "id": "f003af1a-92f6-4646-a374-8e8f56d050ff",
   "metadata": {},
   "outputs": [],
   "source": [
    "rbag_iterator = RandomBagIterator(rbag)"
   ]
  },
  {
   "cell_type": "code",
   "execution_count": 58,
   "id": "58a3f40f-d8d1-41a3-8ea7-cacbd98e8e62",
   "metadata": {},
   "outputs": [
    {
     "data": {
      "text/plain": [
       "5"
      ]
     },
     "execution_count": 58,
     "metadata": {},
     "output_type": "execute_result"
    }
   ],
   "source": [
    "rbag._count"
   ]
  },
  {
   "cell_type": "markdown",
   "id": "a831d0eb-d1ea-4512-b2c0-970d5ff056a4",
   "metadata": {},
   "source": [
    "# iterable vs iterator\n",
    "\n",
    "### An `iterable` is an object that implements\n",
    "- `__iter__` -> returns an `iterator`\n",
    "- In general, a **new** instance\n",
    "\n",
    "### An `iterator` is an object that implements\n",
    "- `__iter__` -> returns itself `an iterator`\n",
    "- **NOT** a new instance\n",
    "- `__next__` -> returns the next element\n",
    "\n",
    "### so iterators are themselves iterables, but they are itrables which become exhausted. Iterables on the other hand never become exhausted"
   ]
  },
  {
   "cell_type": "markdown",
   "id": "2bd2f3fc-20c3-4c68-a0ae-0eea2c8d86c9",
   "metadata": {},
   "source": [
    "# how to check if something is itrator or iterable"
   ]
  },
  {
   "cell_type": "code",
   "execution_count": 205,
   "id": "5133392b-350a-4aa2-9814-d94c46ed6d3c",
   "metadata": {},
   "outputs": [
    {
     "name": "stdout",
     "output_type": "stream",
     "text": [
      "True\n",
      "False\n"
     ]
    }
   ],
   "source": [
    "l = [1,2,3]\n",
    "print('__iter__' in dir(l))\n",
    "print('__next__' in dir(l))"
   ]
  },
  {
   "cell_type": "code",
   "execution_count": 206,
   "id": "a3d4ae14-473a-4b07-8d3c-32daaf61d4fe",
   "metadata": {},
   "outputs": [
    {
     "data": {
      "text/plain": [
       "[1, 2, 3]"
      ]
     },
     "execution_count": 206,
     "metadata": {},
     "output_type": "execute_result"
    }
   ],
   "source": [
    "# list is iterable and hence cannot be exhausted\n",
    "[i for i in l]"
   ]
  },
  {
   "cell_type": "code",
   "execution_count": 207,
   "id": "a5fe619e-3a62-4ebd-9d0f-f7b481988874",
   "metadata": {},
   "outputs": [
    {
     "name": "stdout",
     "output_type": "stream",
     "text": [
      "1\n",
      "2\n",
      "3\n"
     ]
    }
   ],
   "source": [
    "for i in l:\n",
    "    print(i)"
   ]
  },
  {
   "cell_type": "code",
   "execution_count": 214,
   "id": "bd4db3bb-b068-4bd1-9e24-6941e86450a0",
   "metadata": {},
   "outputs": [
    {
     "ename": "TypeError",
     "evalue": "'list' object is not an iterator",
     "output_type": "error",
     "traceback": [
      "\u001b[31m---------------------------------------------------------------------------\u001b[39m",
      "\u001b[31mTypeError\u001b[39m                                 Traceback (most recent call last)",
      "\u001b[36mCell\u001b[39m\u001b[36m \u001b[39m\u001b[32mIn[214]\u001b[39m\u001b[32m, line 1\u001b[39m\n\u001b[32m----> \u001b[39m\u001b[32m1\u001b[39m \u001b[38;5;28;43mnext\u001b[39;49m\u001b[43m(\u001b[49m\u001b[43ml\u001b[49m\u001b[43m)\u001b[49m\n",
      "\u001b[31mTypeError\u001b[39m: 'list' object is not an iterator"
     ]
    }
   ],
   "source": [
    "next(l)"
   ]
  },
  {
   "cell_type": "code",
   "execution_count": 219,
   "id": "02dbcf25-2bad-4fe0-9feb-eee6c4da6f3f",
   "metadata": {},
   "outputs": [
    {
     "data": {
      "text/plain": [
       "False"
      ]
     },
     "execution_count": 219,
     "metadata": {},
     "output_type": "execute_result"
    }
   ],
   "source": [
    "# ITERABLE RETURNS ITERATOR (__iter__ returns iterator NOT self)\n",
    "iter(l) is l"
   ]
  },
  {
   "cell_type": "code",
   "execution_count": 220,
   "id": "70347407-fa72-4c2a-91d4-21828808983e",
   "metadata": {},
   "outputs": [
    {
     "name": "stdout",
     "output_type": "stream",
     "text": [
      "True\n",
      "True\n"
     ]
    }
   ],
   "source": [
    "z = zip(['a', 'b', 'c'],[1, 2, 3])\n",
    "print('__iter__' in dir(z))\n",
    "print('__next__' in dir(z))"
   ]
  },
  {
   "cell_type": "code",
   "execution_count": 221,
   "id": "3afb83d4-3310-4a73-bb51-005e0758a396",
   "metadata": {},
   "outputs": [
    {
     "data": {
      "text/plain": [
       "True"
      ]
     },
     "execution_count": 221,
     "metadata": {},
     "output_type": "execute_result"
    }
   ],
   "source": [
    "# ITERATOR RETURNS ITSELF (__iter__ returns self)\n",
    "iter(z) is z"
   ]
  },
  {
   "cell_type": "code",
   "execution_count": 222,
   "id": "8a969a7b-d673-4f1f-8128-68dd071c04c3",
   "metadata": {},
   "outputs": [
    {
     "data": {
      "text/plain": [
       "[('a', 1), ('b', 2), ('c', 3)]"
      ]
     },
     "execution_count": 222,
     "metadata": {},
     "output_type": "execute_result"
    }
   ],
   "source": [
    "# zip is iterator and would be exhausted\n",
    "[i for i in z]"
   ]
  },
  {
   "cell_type": "code",
   "execution_count": 223,
   "id": "1ec77b81-3350-4ef9-af00-497529851782",
   "metadata": {},
   "outputs": [
    {
     "ename": "StopIteration",
     "evalue": "",
     "output_type": "error",
     "traceback": [
      "\u001b[31m---------------------------------------------------------------------------\u001b[39m",
      "\u001b[31mStopIteration\u001b[39m                             Traceback (most recent call last)",
      "\u001b[36mCell\u001b[39m\u001b[36m \u001b[39m\u001b[32mIn[223]\u001b[39m\u001b[32m, line 1\u001b[39m\n\u001b[32m----> \u001b[39m\u001b[32m1\u001b[39m \u001b[38;5;28;43mnext\u001b[39;49m\u001b[43m(\u001b[49m\u001b[43mz\u001b[49m\u001b[43m)\u001b[49m\n",
      "\u001b[31mStopIteration\u001b[39m: "
     ]
    }
   ],
   "source": [
    "next(z)"
   ]
  },
  {
   "cell_type": "code",
   "execution_count": 224,
   "id": "e369ffc7-a71b-47b5-81fd-5464a0a9e4ba",
   "metadata": {},
   "outputs": [],
   "source": [
    "class Cyclebag:\n",
    "\n",
    "    def __init__(self, items=[], size=10):\n",
    "        print(f'__init__ called')\n",
    "        self.size = size\n",
    "        self.items = items\n",
    "        self._count = 0\n",
    "\n",
    "    def __next__(self):\n",
    "        print(f'__next__ called')\n",
    "        if self._count == self.size:\n",
    "            raise StopIteration\n",
    "\n",
    "        result = self.items[self._count % len(self.items)]\n",
    "        \n",
    "        self._count += 1\n",
    "        \n",
    "        return result\n",
    "\n",
    "    def __iter__(self):\n",
    "        print(f'__iter__ called')\n",
    "        return self\n",
    "\n",
    "    def __getitem__(self,n):\n",
    "        print(f'__getitem__ called')\n",
    "        return self.items[n % len(self.items)]\n",
    "    "
   ]
  },
  {
   "cell_type": "code",
   "execution_count": 149,
   "id": "b76c371d-e456-4f85-be38-3a3c2262c58b",
   "metadata": {},
   "outputs": [
    {
     "name": "stdout",
     "output_type": "stream",
     "text": [
      "__init__ called\n"
     ]
    }
   ],
   "source": [
    "bag = Cyclebag(['N','E','W','S'])"
   ]
  },
  {
   "cell_type": "code",
   "execution_count": 150,
   "id": "d63cdebb-c5f6-4c9e-a352-fb037f23f269",
   "metadata": {},
   "outputs": [
    {
     "name": "stdout",
     "output_type": "stream",
     "text": [
      "__iter__ called\n",
      "__next__ called\n",
      "N\n",
      "__next__ called\n",
      "E\n",
      "__next__ called\n",
      "W\n",
      "__next__ called\n",
      "S\n",
      "__next__ called\n",
      "N\n",
      "__next__ called\n",
      "E\n",
      "__next__ called\n",
      "W\n",
      "__next__ called\n",
      "S\n",
      "__next__ called\n",
      "N\n",
      "__next__ called\n",
      "E\n",
      "__next__ called\n"
     ]
    }
   ],
   "source": [
    "for i in bag:\n",
    "    print(i)"
   ]
  },
  {
   "cell_type": "code",
   "execution_count": 138,
   "id": "73f92fff-80fa-43f0-82de-614099b7252b",
   "metadata": {},
   "outputs": [
    {
     "name": "stdout",
     "output_type": "stream",
     "text": [
      "__next__ called\n"
     ]
    },
    {
     "ename": "StopIteration",
     "evalue": "",
     "output_type": "error",
     "traceback": [
      "\u001b[31m---------------------------------------------------------------------------\u001b[39m",
      "\u001b[31mStopIteration\u001b[39m                             Traceback (most recent call last)",
      "\u001b[36mCell\u001b[39m\u001b[36m \u001b[39m\u001b[32mIn[138]\u001b[39m\u001b[32m, line 1\u001b[39m\n\u001b[32m----> \u001b[39m\u001b[32m1\u001b[39m \u001b[38;5;28;43mnext\u001b[39;49m\u001b[43m(\u001b[49m\u001b[43mbag\u001b[49m\u001b[43m)\u001b[49m\n",
      "\u001b[36mCell\u001b[39m\u001b[36m \u001b[39m\u001b[32mIn[135]\u001b[39m\u001b[32m, line 12\u001b[39m, in \u001b[36mCyclebag.__next__\u001b[39m\u001b[34m(self)\u001b[39m\n\u001b[32m     10\u001b[39m \u001b[38;5;28mprint\u001b[39m(\u001b[33mf\u001b[39m\u001b[33m'\u001b[39m\u001b[33m__next__ called\u001b[39m\u001b[33m'\u001b[39m)\n\u001b[32m     11\u001b[39m \u001b[38;5;28;01mif\u001b[39;00m \u001b[38;5;28mself\u001b[39m._count == \u001b[38;5;28mself\u001b[39m.size:\n\u001b[32m---> \u001b[39m\u001b[32m12\u001b[39m     \u001b[38;5;28;01mraise\u001b[39;00m \u001b[38;5;167;01mStopIteration\u001b[39;00m\n\u001b[32m     14\u001b[39m result = \u001b[38;5;28mself\u001b[39m.items[\u001b[38;5;28mself\u001b[39m._count % \u001b[38;5;28mlen\u001b[39m(\u001b[38;5;28mself\u001b[39m.items)]\n\u001b[32m     16\u001b[39m \u001b[38;5;28mself\u001b[39m._count += \u001b[32m1\u001b[39m\n",
      "\u001b[31mStopIteration\u001b[39m: "
     ]
    }
   ],
   "source": [
    "next(bag)"
   ]
  },
  {
   "cell_type": "code",
   "execution_count": 145,
   "id": "2f7a9f3e-301f-40d6-903b-05203ffb9fab",
   "metadata": {},
   "outputs": [
    {
     "name": "stdout",
     "output_type": "stream",
     "text": [
      "__getitem__ called\n"
     ]
    },
    {
     "data": {
      "text/plain": [
       "'E'"
      ]
     },
     "execution_count": 145,
     "metadata": {},
     "output_type": "execute_result"
    }
   ],
   "source": [
    "bag[5]"
   ]
  },
  {
   "cell_type": "markdown",
   "id": "a06490f7-3f2f-4fe2-abc6-9f6be8b68207",
   "metadata": {},
   "source": [
    "# Better way "
   ]
  },
  {
   "cell_type": "code",
   "execution_count": 151,
   "id": "365a84e4-c291-4d86-afa1-964957fe1b8e",
   "metadata": {},
   "outputs": [],
   "source": [
    "import itertools"
   ]
  },
  {
   "cell_type": "code",
   "execution_count": 152,
   "id": "7f63b890-62c2-4630-a323-9e0dc6aa1f10",
   "metadata": {},
   "outputs": [],
   "source": [
    "cycle = itertools.cycle('NSEW')"
   ]
  },
  {
   "cell_type": "code",
   "execution_count": 155,
   "id": "cd52c342-46a5-4c39-8b2c-72c2af9a63d9",
   "metadata": {},
   "outputs": [
    {
     "name": "stdout",
     "output_type": "stream",
     "text": [
      "S E W N S E W N S E W "
     ]
    }
   ],
   "source": [
    "for i in range(1,12):\n",
    "    print(next(cycle), end=' ')"
   ]
  },
  {
   "cell_type": "markdown",
   "id": "53fc89ca-8787-4f6e-8ddd-50ebd264cd57",
   "metadata": {},
   "source": [
    "# lazy iterable"
   ]
  },
  {
   "cell_type": "code",
   "execution_count": 168,
   "id": "d48c61e1-74e6-4011-be3b-8d4143da9f4b",
   "metadata": {},
   "outputs": [],
   "source": [
    "import math"
   ]
  },
  {
   "cell_type": "code",
   "execution_count": 186,
   "id": "7c070750-5d94-4a63-919b-ae16759ea7aa",
   "metadata": {},
   "outputs": [],
   "source": [
    "class Circle:\n",
    "    def __init__(self, radius):\n",
    "        self.radius = radius\n",
    "\n",
    "    @property\n",
    "    def radius(self):\n",
    "        return self._radius\n",
    "\n",
    "    @radius.setter\n",
    "    def radius(self, radius):\n",
    "        self._radius = radius\n",
    "\n",
    "    @property\n",
    "    def area(self):\n",
    "        print(f'calculating area')\n",
    "        return math.pi * (self.radius ** 2)      "
   ]
  },
  {
   "cell_type": "code",
   "execution_count": 187,
   "id": "d79ea888-e8e0-4ccb-9e30-c05bf81fbe2a",
   "metadata": {},
   "outputs": [],
   "source": [
    "c = Circle(2)"
   ]
  },
  {
   "cell_type": "code",
   "execution_count": 188,
   "id": "36063ced-d097-40e1-94e2-9ea5447580cc",
   "metadata": {},
   "outputs": [
    {
     "data": {
      "text/plain": [
       "2"
      ]
     },
     "execution_count": 188,
     "metadata": {},
     "output_type": "execute_result"
    }
   ],
   "source": [
    "c.radius"
   ]
  },
  {
   "cell_type": "code",
   "execution_count": 189,
   "id": "6ad8a552-a9ff-40cd-8c4f-4082ef1901c7",
   "metadata": {},
   "outputs": [
    {
     "name": "stdout",
     "output_type": "stream",
     "text": [
      "calculating area\n"
     ]
    },
    {
     "data": {
      "text/plain": [
       "12.566370614359172"
      ]
     },
     "execution_count": 189,
     "metadata": {},
     "output_type": "execute_result"
    }
   ],
   "source": [
    "c.area"
   ]
  },
  {
   "cell_type": "code",
   "execution_count": 190,
   "id": "e73cc13e-9435-4c79-b059-a9ab8916a75b",
   "metadata": {},
   "outputs": [
    {
     "name": "stdout",
     "output_type": "stream",
     "text": [
      "calculating area\n"
     ]
    },
    {
     "data": {
      "text/plain": [
       "12.566370614359172"
      ]
     },
     "execution_count": 190,
     "metadata": {},
     "output_type": "execute_result"
    }
   ],
   "source": [
    "# area calculates everytime its called. can we do better ?\n",
    "c.area"
   ]
  },
  {
   "cell_type": "code",
   "execution_count": 191,
   "id": "cb7917eb-ff72-4440-b4f7-7f45aa35b6d0",
   "metadata": {},
   "outputs": [],
   "source": [
    "class Circle:\n",
    "    def __init__(self, radius):\n",
    "        self.radius = radius\n",
    "        self._area = None  # initially set to None\n",
    "\n",
    "    @property\n",
    "    def radius(self):\n",
    "        return self._radius\n",
    "\n",
    "    @radius.setter\n",
    "    def radius(self, radius):\n",
    "        self._radius = radius\n",
    "\n",
    "    @property\n",
    "    def area(self):\n",
    "        if self._area:\n",
    "            return self._area\n",
    "        print(f'calculating area')\n",
    "        self._area = math.pi * (self.radius ** 2)\n",
    "        return self._area"
   ]
  },
  {
   "cell_type": "code",
   "execution_count": 192,
   "id": "e2d4da5e-46ba-407a-a137-e031dc4ad822",
   "metadata": {},
   "outputs": [],
   "source": [
    "c = Circle(1)"
   ]
  },
  {
   "cell_type": "code",
   "execution_count": 193,
   "id": "29b0d6c9-547d-4f41-a2bc-0769071a31b3",
   "metadata": {},
   "outputs": [
    {
     "data": {
      "text/plain": [
       "1"
      ]
     },
     "execution_count": 193,
     "metadata": {},
     "output_type": "execute_result"
    }
   ],
   "source": [
    "c.radius"
   ]
  },
  {
   "cell_type": "code",
   "execution_count": 194,
   "id": "da873b5a-afb1-42f7-b7f5-d0cfd010e209",
   "metadata": {},
   "outputs": [
    {
     "name": "stdout",
     "output_type": "stream",
     "text": [
      "calculating area\n"
     ]
    },
    {
     "data": {
      "text/plain": [
       "3.141592653589793"
      ]
     },
     "execution_count": 194,
     "metadata": {},
     "output_type": "execute_result"
    }
   ],
   "source": [
    "c.area"
   ]
  },
  {
   "cell_type": "code",
   "execution_count": 195,
   "id": "c9241d53-77c3-466e-906c-a7e5871de251",
   "metadata": {},
   "outputs": [
    {
     "data": {
      "text/plain": [
       "3.141592653589793"
      ]
     },
     "execution_count": 195,
     "metadata": {},
     "output_type": "execute_result"
    }
   ],
   "source": [
    "c.area"
   ]
  },
  {
   "cell_type": "code",
   "execution_count": 196,
   "id": "09a93848-af48-401a-b8e2-590e630062cc",
   "metadata": {},
   "outputs": [
    {
     "data": {
      "text/plain": [
       "3.141592653589793"
      ]
     },
     "execution_count": 196,
     "metadata": {},
     "output_type": "execute_result"
    }
   ],
   "source": [
    "c.area"
   ]
  },
  {
   "cell_type": "code",
   "execution_count": 197,
   "id": "8e88ee1c-d32f-4444-8fc7-b599bc513849",
   "metadata": {},
   "outputs": [
    {
     "data": {
      "text/plain": [
       "3.141592653589793"
      ]
     },
     "execution_count": 197,
     "metadata": {},
     "output_type": "execute_result"
    }
   ],
   "source": [
    "# BUT NOW : if we change radius of this circle the area doesnt change !!\n",
    "\n",
    "c.radius = 2\n",
    "c.area"
   ]
  },
  {
   "cell_type": "code",
   "execution_count": 198,
   "id": "4d6a2e9e-8a40-4574-a1e1-73a6e6ae7ad1",
   "metadata": {},
   "outputs": [],
   "source": [
    "class Circle:\n",
    "    def __init__(self, radius):\n",
    "        self.radius = radius\n",
    "        self._area = None  # initially set to None\n",
    "\n",
    "    @property\n",
    "    def radius(self):\n",
    "        return self._radius\n",
    "\n",
    "    @radius.setter\n",
    "    def radius(self, radius):\n",
    "        self._radius = radius\n",
    "        self._area = None # invalidate area each time radius changes\n",
    "\n",
    "    @property\n",
    "    def area(self):\n",
    "        if self._area:\n",
    "            return self._area\n",
    "        print(f'calculating area')\n",
    "        self._area = math.pi * (self.radius ** 2)\n",
    "        return self._area"
   ]
  },
  {
   "cell_type": "code",
   "execution_count": 199,
   "id": "f48e955f-9db1-4909-b102-d569af407a05",
   "metadata": {},
   "outputs": [
    {
     "data": {
      "text/plain": [
       "1"
      ]
     },
     "execution_count": 199,
     "metadata": {},
     "output_type": "execute_result"
    }
   ],
   "source": [
    "c = Circle(1)\n",
    "c.radius"
   ]
  },
  {
   "cell_type": "code",
   "execution_count": 200,
   "id": "f5fefc6a-51c9-469e-99d0-7992f8c095bc",
   "metadata": {},
   "outputs": [
    {
     "name": "stdout",
     "output_type": "stream",
     "text": [
      "calculating area\n"
     ]
    },
    {
     "data": {
      "text/plain": [
       "3.141592653589793"
      ]
     },
     "execution_count": 200,
     "metadata": {},
     "output_type": "execute_result"
    }
   ],
   "source": [
    "c.area"
   ]
  },
  {
   "cell_type": "code",
   "execution_count": 201,
   "id": "94689499-a8f5-4f03-a98c-8f75f5a57ba7",
   "metadata": {},
   "outputs": [
    {
     "data": {
      "text/plain": [
       "3.141592653589793"
      ]
     },
     "execution_count": 201,
     "metadata": {},
     "output_type": "execute_result"
    }
   ],
   "source": [
    "c.area"
   ]
  },
  {
   "cell_type": "code",
   "execution_count": 202,
   "id": "22b46b85-267d-462a-aab8-bee02dba119e",
   "metadata": {},
   "outputs": [
    {
     "name": "stdout",
     "output_type": "stream",
     "text": [
      "calculating area\n"
     ]
    },
    {
     "data": {
      "text/plain": [
       "314.1592653589793"
      ]
     },
     "execution_count": 202,
     "metadata": {},
     "output_type": "execute_result"
    }
   ],
   "source": [
    "c.radius = 10\n",
    "c.area"
   ]
  },
  {
   "cell_type": "code",
   "execution_count": 203,
   "id": "a4ee2708-9345-4f5c-b3f7-55e1f7545444",
   "metadata": {},
   "outputs": [
    {
     "data": {
      "text/plain": [
       "314.1592653589793"
      ]
     },
     "execution_count": 203,
     "metadata": {},
     "output_type": "execute_result"
    }
   ],
   "source": [
    "c.area"
   ]
  },
  {
   "cell_type": "markdown",
   "id": "0ed23ddc-8cde-4c83-a700-31476737c0dc",
   "metadata": {},
   "source": [
    "# Reversed iteration"
   ]
  },
  {
   "cell_type": "markdown",
   "id": "3201ff99-a1b7-4c8b-940c-5c0b9fc92a5a",
   "metadata": {},
   "source": [
    "### build an iterable containing deck of sorted cards from 2S to AC"
   ]
  },
  {
   "cell_type": "code",
   "execution_count": 273,
   "id": "cfad7b97-b58a-4f78-b3b9-bca2b9513765",
   "metadata": {},
   "outputs": [],
   "source": [
    "_SUITS = ('Sapdes', 'Hearts', 'Diamonds', 'Clubs')\n",
    "_RANKS = tuple(range(2,11)) + tuple('JQKA')"
   ]
  },
  {
   "cell_type": "code",
   "execution_count": 274,
   "id": "0fb874c9-6fcd-467c-91c6-4daa7da89850",
   "metadata": {},
   "outputs": [
    {
     "data": {
      "text/plain": [
       "(2, 3, 4, 5, 6, 7, 8, 9, 10, 'J', 'Q', 'K', 'A')"
      ]
     },
     "execution_count": 274,
     "metadata": {},
     "output_type": "execute_result"
    }
   ],
   "source": [
    "_RANKS"
   ]
  },
  {
   "cell_type": "code",
   "execution_count": 275,
   "id": "b95d6d1c-9144-4486-866b-a41037dd84af",
   "metadata": {},
   "outputs": [],
   "source": [
    "from collections import namedtuple"
   ]
  },
  {
   "cell_type": "code",
   "execution_count": 276,
   "id": "70716169-4584-4c3e-8ea4-26f94a08ba0d",
   "metadata": {},
   "outputs": [],
   "source": [
    "Card = namedtuple('Card', 'rank suit')"
   ]
  },
  {
   "cell_type": "code",
   "execution_count": 288,
   "id": "1a85a820-d351-492f-a243-515f59622fb3",
   "metadata": {},
   "outputs": [],
   "source": [
    "# Each card in deck has positional index -i, between 0 to len(deck)-1 i.e. 0 - 51\n",
    "# suit index = i // len(ranks) - 0-12 ->0 (spades) next 13 would give ->1(Hearts)\n",
    "# rank index = i % len(ranks) - 4%13 -> 4, 15%13 -> 2\n",
    "\n",
    "\n",
    "class CardDeck:\n",
    "    def __init__(self):\n",
    "        self.length = len(_SUITS) * len(_RANKS)\n",
    "\n",
    "    def __len__(self):\n",
    "        return self.length\n",
    "\n",
    "    def __iter__(self):\n",
    "        return self.CardDeckIterator(self.length)\n",
    "\n",
    "    class CardDeckIterator:\n",
    "        def __init__(self, length):\n",
    "            self.length = length\n",
    "            self.i = 0\n",
    "\n",
    "        def __iter__(self):\n",
    "            return self\n",
    "\n",
    "        def __next__(self):\n",
    "            if  self.i >= self.length:\n",
    "                raise StopIteration\n",
    "            else:\n",
    "                suit = _SUITS[self.i // len(_RANKS)]\n",
    "                rank = _RANKS[self.i % len(_RANKS)]\n",
    "                self.i += 1\n",
    "                return Card(rank, suit)\n",
    "\n",
    "    "
   ]
  },
  {
   "cell_type": "code",
   "execution_count": 289,
   "id": "80b5c5c9-d041-457c-bb4a-6a65cbbe137f",
   "metadata": {},
   "outputs": [],
   "source": [
    "deck = CardDeck()"
   ]
  },
  {
   "cell_type": "code",
   "execution_count": 290,
   "id": "6e58b33f-d03b-48b2-ac8b-d16c80d31a21",
   "metadata": {},
   "outputs": [
    {
     "name": "stdout",
     "output_type": "stream",
     "text": [
      "Card(rank=2, suit='Sapdes')\n",
      "Card(rank=3, suit='Sapdes')\n",
      "Card(rank=4, suit='Sapdes')\n",
      "Card(rank=5, suit='Sapdes')\n",
      "Card(rank=6, suit='Sapdes')\n",
      "Card(rank=7, suit='Sapdes')\n",
      "Card(rank=8, suit='Sapdes')\n",
      "Card(rank=9, suit='Sapdes')\n",
      "Card(rank=10, suit='Sapdes')\n",
      "Card(rank='J', suit='Sapdes')\n",
      "Card(rank='Q', suit='Sapdes')\n",
      "Card(rank='K', suit='Sapdes')\n",
      "Card(rank='A', suit='Sapdes')\n",
      "Card(rank=2, suit='Hearts')\n",
      "Card(rank=3, suit='Hearts')\n",
      "Card(rank=4, suit='Hearts')\n",
      "Card(rank=5, suit='Hearts')\n",
      "Card(rank=6, suit='Hearts')\n",
      "Card(rank=7, suit='Hearts')\n",
      "Card(rank=8, suit='Hearts')\n",
      "Card(rank=9, suit='Hearts')\n",
      "Card(rank=10, suit='Hearts')\n",
      "Card(rank='J', suit='Hearts')\n",
      "Card(rank='Q', suit='Hearts')\n",
      "Card(rank='K', suit='Hearts')\n",
      "Card(rank='A', suit='Hearts')\n",
      "Card(rank=2, suit='Diamonds')\n",
      "Card(rank=3, suit='Diamonds')\n",
      "Card(rank=4, suit='Diamonds')\n",
      "Card(rank=5, suit='Diamonds')\n",
      "Card(rank=6, suit='Diamonds')\n",
      "Card(rank=7, suit='Diamonds')\n",
      "Card(rank=8, suit='Diamonds')\n",
      "Card(rank=9, suit='Diamonds')\n",
      "Card(rank=10, suit='Diamonds')\n",
      "Card(rank='J', suit='Diamonds')\n",
      "Card(rank='Q', suit='Diamonds')\n",
      "Card(rank='K', suit='Diamonds')\n",
      "Card(rank='A', suit='Diamonds')\n",
      "Card(rank=2, suit='Clubs')\n",
      "Card(rank=3, suit='Clubs')\n",
      "Card(rank=4, suit='Clubs')\n",
      "Card(rank=5, suit='Clubs')\n",
      "Card(rank=6, suit='Clubs')\n",
      "Card(rank=7, suit='Clubs')\n",
      "Card(rank=8, suit='Clubs')\n",
      "Card(rank=9, suit='Clubs')\n",
      "Card(rank=10, suit='Clubs')\n",
      "Card(rank='J', suit='Clubs')\n",
      "Card(rank='Q', suit='Clubs')\n",
      "Card(rank='K', suit='Clubs')\n",
      "Card(rank='A', suit='Clubs')\n"
     ]
    }
   ],
   "source": [
    "for card in deck:\n",
    "    print(card)"
   ]
  },
  {
   "cell_type": "markdown",
   "id": "2fca1b94-e449-44d5-8ad3-779fbfe04657",
   "metadata": {},
   "source": [
    "### if we want last 4 cards from deck ? \n",
    "### i dont want to persist everything by saving this as list - i need a lazy iterator but to iterate in reverse"
   ]
  },
  {
   "cell_type": "code",
   "execution_count": 291,
   "id": "daafbeae-a395-443f-9c46-8b1c634ce603",
   "metadata": {},
   "outputs": [
    {
     "data": {
      "text/plain": [
       "<list_reverseiterator at 0x120f71300>"
      ]
     },
     "execution_count": 291,
     "metadata": {},
     "output_type": "execute_result"
    }
   ],
   "source": [
    "l = [1, 2, 3, 4]\n",
    "r = reversed(l)\n",
    "r"
   ]
  },
  {
   "cell_type": "code",
   "execution_count": 292,
   "id": "4e069169-2a0a-4da0-a0b8-8d3dc21c3c17",
   "metadata": {},
   "outputs": [
    {
     "data": {
      "text/plain": [
       "list_reverseiterator"
      ]
     },
     "execution_count": 292,
     "metadata": {},
     "output_type": "execute_result"
    }
   ],
   "source": [
    "type(r)"
   ]
  },
  {
   "cell_type": "code",
   "execution_count": 293,
   "id": "b06a7322-8b5d-494d-b6ad-bdeef42f4a19",
   "metadata": {},
   "outputs": [
    {
     "data": {
      "text/plain": [
       "[4, 3, 2, 1]"
      ]
     },
     "execution_count": 293,
     "metadata": {},
     "output_type": "execute_result"
    }
   ],
   "source": [
    "list(r)"
   ]
  },
  {
   "cell_type": "code",
   "execution_count": 294,
   "id": "5e989dd7-7282-4706-8fcc-a22d8d69cc80",
   "metadata": {},
   "outputs": [
    {
     "ename": "TypeError",
     "evalue": "'CardDeck' object is not reversible",
     "output_type": "error",
     "traceback": [
      "\u001b[31m---------------------------------------------------------------------------\u001b[39m",
      "\u001b[31mTypeError\u001b[39m                                 Traceback (most recent call last)",
      "\u001b[36mCell\u001b[39m\u001b[36m \u001b[39m\u001b[32mIn[294]\u001b[39m\u001b[32m, line 1\u001b[39m\n\u001b[32m----> \u001b[39m\u001b[32m1\u001b[39m reversed_deck = \u001b[38;5;28;43mreversed\u001b[39;49m\u001b[43m(\u001b[49m\u001b[43mdeck\u001b[49m\u001b[43m)\u001b[49m\n\u001b[32m      2\u001b[39m reversed_deck\n",
      "\u001b[31mTypeError\u001b[39m: 'CardDeck' object is not reversible"
     ]
    }
   ],
   "source": [
    "reversed_deck = reversed(deck)\n",
    "reversed_deck"
   ]
  },
  {
   "cell_type": "code",
   "execution_count": 296,
   "id": "c0ae6f77-f5e0-4ddb-bc5d-84f41937bf8d",
   "metadata": {},
   "outputs": [],
   "source": [
    "class CardDeck:\n",
    "    def __init__(self):\n",
    "        self.length = len(_SUITS) * len(_RANKS)\n",
    "\n",
    "    def __len__(self):\n",
    "        return self.length\n",
    "\n",
    "    def __iter__(self):\n",
    "        return self.CardDeckIterator(self.length)\n",
    "\n",
    "    def __reversed__(self):\n",
    "        print(f'__reversed__ called')\n",
    "        return self.CardDeckIterator(self.length)\n",
    "\n",
    "    class CardDeckIterator:\n",
    "        def __init__(self, length):\n",
    "            self.length = length\n",
    "            self.i = 0\n",
    "\n",
    "        def __iter__(self):\n",
    "            return self\n",
    "\n",
    "        def __next__(self):\n",
    "            if  self.i >= self.length:\n",
    "                raise StopIteration\n",
    "            else:\n",
    "                suit = _SUITS[self.i // len(_RANKS)]\n",
    "                rank = _RANKS[self.i % len(_RANKS)]\n",
    "                self.i += 1\n",
    "                return Card(rank, suit)"
   ]
  },
  {
   "cell_type": "code",
   "execution_count": 297,
   "id": "19fd466e-932f-4a4a-83c7-21cf383b6f75",
   "metadata": {},
   "outputs": [],
   "source": [
    "deck = CardDeck()"
   ]
  },
  {
   "cell_type": "code",
   "execution_count": 298,
   "id": "2a0f815f-6675-43ae-a79f-6b45cdc19ce6",
   "metadata": {},
   "outputs": [
    {
     "name": "stdout",
     "output_type": "stream",
     "text": [
      "__reversed__ called\n"
     ]
    }
   ],
   "source": [
    "reversed_deck = reversed(deck)"
   ]
  },
  {
   "cell_type": "code",
   "execution_count": 300,
   "id": "565a3dbb-95ed-469e-ad96-d87cf9dbb095",
   "metadata": {},
   "outputs": [
    {
     "name": "stdout",
     "output_type": "stream",
     "text": [
      "Card(rank=2, suit='Sapdes')\n",
      "Card(rank=3, suit='Sapdes')\n",
      "Card(rank=4, suit='Sapdes')\n",
      "Card(rank=5, suit='Sapdes')\n",
      "Card(rank=6, suit='Sapdes')\n",
      "Card(rank=7, suit='Sapdes')\n",
      "Card(rank=8, suit='Sapdes')\n",
      "Card(rank=9, suit='Sapdes')\n",
      "Card(rank=10, suit='Sapdes')\n",
      "Card(rank='J', suit='Sapdes')\n",
      "Card(rank='Q', suit='Sapdes')\n",
      "Card(rank='K', suit='Sapdes')\n",
      "Card(rank='A', suit='Sapdes')\n",
      "Card(rank=2, suit='Hearts')\n",
      "Card(rank=3, suit='Hearts')\n",
      "Card(rank=4, suit='Hearts')\n",
      "Card(rank=5, suit='Hearts')\n",
      "Card(rank=6, suit='Hearts')\n",
      "Card(rank=7, suit='Hearts')\n",
      "Card(rank=8, suit='Hearts')\n",
      "Card(rank=9, suit='Hearts')\n",
      "Card(rank=10, suit='Hearts')\n",
      "Card(rank='J', suit='Hearts')\n",
      "Card(rank='Q', suit='Hearts')\n",
      "Card(rank='K', suit='Hearts')\n",
      "Card(rank='A', suit='Hearts')\n",
      "Card(rank=2, suit='Diamonds')\n",
      "Card(rank=3, suit='Diamonds')\n",
      "Card(rank=4, suit='Diamonds')\n",
      "Card(rank=5, suit='Diamonds')\n",
      "Card(rank=6, suit='Diamonds')\n",
      "Card(rank=7, suit='Diamonds')\n",
      "Card(rank=8, suit='Diamonds')\n",
      "Card(rank=9, suit='Diamonds')\n",
      "Card(rank=10, suit='Diamonds')\n",
      "Card(rank='J', suit='Diamonds')\n",
      "Card(rank='Q', suit='Diamonds')\n",
      "Card(rank='K', suit='Diamonds')\n",
      "Card(rank='A', suit='Diamonds')\n",
      "Card(rank=2, suit='Clubs')\n",
      "Card(rank=3, suit='Clubs')\n",
      "Card(rank=4, suit='Clubs')\n",
      "Card(rank=5, suit='Clubs')\n",
      "Card(rank=6, suit='Clubs')\n",
      "Card(rank=7, suit='Clubs')\n",
      "Card(rank=8, suit='Clubs')\n",
      "Card(rank=9, suit='Clubs')\n",
      "Card(rank=10, suit='Clubs')\n",
      "Card(rank='J', suit='Clubs')\n",
      "Card(rank='Q', suit='Clubs')\n",
      "Card(rank='K', suit='Clubs')\n",
      "Card(rank='A', suit='Clubs')\n"
     ]
    }
   ],
   "source": [
    "for card in reversed_deck:\n",
    "    print(card)"
   ]
  },
  {
   "cell_type": "markdown",
   "id": "8f92f2b4-6484-4011-bbfd-cb4bd0330700",
   "metadata": {},
   "source": [
    "### we still get same order but at least we can reverse now."
   ]
  },
  {
   "cell_type": "code",
   "execution_count": 301,
   "id": "3c38de48-f6bd-4c9f-aab8-1af87710b289",
   "metadata": {},
   "outputs": [],
   "source": [
    "class CardDeck:\n",
    "    def __init__(self):\n",
    "        self.length = len(_SUITS) * len(_RANKS)\n",
    "\n",
    "    def __len__(self):\n",
    "        return self.length\n",
    "\n",
    "    def __iter__(self):\n",
    "        return self.CardDeckIterator(self.length)\n",
    "\n",
    "    def __reversed__(self):\n",
    "        print(f'__reversed__ called')\n",
    "        return self.CardDeckIterator(self.length, reverse=True)\n",
    "\n",
    "    class CardDeckIterator:\n",
    "        def __init__(self, length, reverse=False):\n",
    "            self.length = length\n",
    "            self.reverse = reverse\n",
    "            self.i = 0\n",
    "\n",
    "        def __iter__(self):\n",
    "            return self\n",
    "\n",
    "        def __next__(self):\n",
    "            if  self.i >= self.length:\n",
    "                raise StopIteration\n",
    "            else:\n",
    "                if self.reverse:\n",
    "                    index = self.length - 1 - self.i\n",
    "                else:\n",
    "                    index = self.i\n",
    "                \n",
    "                suit = _SUITS[index // len(_RANKS)]\n",
    "                rank = _RANKS[index % len(_RANKS)]\n",
    "                self.i += 1\n",
    "                return Card(rank, suit)"
   ]
  },
  {
   "cell_type": "code",
   "execution_count": 302,
   "id": "21e9e8f0-a7eb-4e8c-86b3-135396def73e",
   "metadata": {},
   "outputs": [
    {
     "name": "stdout",
     "output_type": "stream",
     "text": [
      "__reversed__ called\n",
      "Card(rank='A', suit='Clubs')\n",
      "Card(rank='K', suit='Clubs')\n",
      "Card(rank='Q', suit='Clubs')\n",
      "Card(rank='J', suit='Clubs')\n",
      "Card(rank=10, suit='Clubs')\n",
      "Card(rank=9, suit='Clubs')\n",
      "Card(rank=8, suit='Clubs')\n",
      "Card(rank=7, suit='Clubs')\n",
      "Card(rank=6, suit='Clubs')\n",
      "Card(rank=5, suit='Clubs')\n",
      "Card(rank=4, suit='Clubs')\n",
      "Card(rank=3, suit='Clubs')\n",
      "Card(rank=2, suit='Clubs')\n",
      "Card(rank='A', suit='Diamonds')\n",
      "Card(rank='K', suit='Diamonds')\n",
      "Card(rank='Q', suit='Diamonds')\n",
      "Card(rank='J', suit='Diamonds')\n",
      "Card(rank=10, suit='Diamonds')\n",
      "Card(rank=9, suit='Diamonds')\n",
      "Card(rank=8, suit='Diamonds')\n",
      "Card(rank=7, suit='Diamonds')\n",
      "Card(rank=6, suit='Diamonds')\n",
      "Card(rank=5, suit='Diamonds')\n",
      "Card(rank=4, suit='Diamonds')\n",
      "Card(rank=3, suit='Diamonds')\n",
      "Card(rank=2, suit='Diamonds')\n",
      "Card(rank='A', suit='Hearts')\n",
      "Card(rank='K', suit='Hearts')\n",
      "Card(rank='Q', suit='Hearts')\n",
      "Card(rank='J', suit='Hearts')\n",
      "Card(rank=10, suit='Hearts')\n",
      "Card(rank=9, suit='Hearts')\n",
      "Card(rank=8, suit='Hearts')\n",
      "Card(rank=7, suit='Hearts')\n",
      "Card(rank=6, suit='Hearts')\n",
      "Card(rank=5, suit='Hearts')\n",
      "Card(rank=4, suit='Hearts')\n",
      "Card(rank=3, suit='Hearts')\n",
      "Card(rank=2, suit='Hearts')\n",
      "Card(rank='A', suit='Sapdes')\n",
      "Card(rank='K', suit='Sapdes')\n",
      "Card(rank='Q', suit='Sapdes')\n",
      "Card(rank='J', suit='Sapdes')\n",
      "Card(rank=10, suit='Sapdes')\n",
      "Card(rank=9, suit='Sapdes')\n",
      "Card(rank=8, suit='Sapdes')\n",
      "Card(rank=7, suit='Sapdes')\n",
      "Card(rank=6, suit='Sapdes')\n",
      "Card(rank=5, suit='Sapdes')\n",
      "Card(rank=4, suit='Sapdes')\n",
      "Card(rank=3, suit='Sapdes')\n",
      "Card(rank=2, suit='Sapdes')\n"
     ]
    }
   ],
   "source": [
    "deck = CardDeck()\n",
    "reversed_dec = reversed(deck)\n",
    "\n",
    "for card in reversed_dec:\n",
    "    print(card)"
   ]
  },
  {
   "cell_type": "markdown",
   "id": "6bf90062-2cfe-4cf8-8d92-4bbbf8670a47",
   "metadata": {},
   "source": [
    "# LEARNING : convex polygon\n",
    "1. apothem - distance from center to mid of an edge\n",
    "2. circumradius R - distance from center to a vertice\n",
    "3. interior angle: (n-2) * (180/n) : n edges/vertices\n",
    "4. edge length: s = 2 R sin(pi/n)\n",
    "5. apthem: a = R cos(pi/n)\n",
    "6. area = 1/2 * n * s * a\n",
    "7. perimeter = n * s\n",
    "\n",
    "### Create a polygon class (edges, circumradius)\n",
    "##### calculated properties\n",
    "1. edges\n",
    "2. vertices\n",
    "3. interior angle\n",
    "4. edge length\n",
    "5. apothem\n",
    "6. area\n",
    "7. permieter\n",
    "\n",
    "##### Methods\n",
    "1. representation\n",
    "2. implement equality based on vertices and circumradius\n",
    "3. implement > based on vertices\n",
    "\n",
    "### implement a ploygons sequence types\n",
    "1. number of vertices for largest polygon in sequence\n",
    "2. common circum radius for all polygons.\n",
    "3. properties -> returns polygon with highest area\n"
   ]
  },
  {
   "cell_type": "code",
   "execution_count": 430,
   "id": "42635369-0024-477b-9ecb-67474899f42b",
   "metadata": {},
   "outputs": [],
   "source": [
    "import functools"
   ]
  },
  {
   "cell_type": "code",
   "execution_count": 484,
   "id": "f1000417-28e7-4538-8362-46a2489f3e01",
   "metadata": {},
   "outputs": [],
   "source": [
    "# @functools.total_ordering\n",
    "class Polygon:\n",
    "    def __init__(self, edges, circumradius):\n",
    "        self.edges = edges\n",
    "        self.circumradius = circumradius\n",
    "        self._edgelen = None\n",
    "        self._interiorAngle = None\n",
    "        self._sideLength = None\n",
    "        self._apothem = None\n",
    "        self._area = None\n",
    "        self._perimeter = None\n",
    "\n",
    "    def __repr__(self):\n",
    "        return f'Polygon with {self.edges} sides, and {self.circumradius} circumradius'\n",
    "\n",
    "    @property\n",
    "    def edges(self):\n",
    "        return self._edges\n",
    "\n",
    "    @edges.setter\n",
    "    def edges(self, edges):\n",
    "        self._edges = edges\n",
    "        self._edgelen = None\n",
    "        self._interiorAngle = None\n",
    "        self._sideLength = None\n",
    "        self._apothem = None\n",
    "        self._area = None\n",
    "        self._perimeter = None\n",
    "\n",
    "    @property\n",
    "    def circumradius(self):\n",
    "        return self._circumradius\n",
    "\n",
    "    @circumradius.setter\n",
    "    def circumradius(self, circumradius):\n",
    "        self._circumradius = circumradius\n",
    "        self._edgelen = None\n",
    "        self._sideLength = None\n",
    "        self._apothem = None\n",
    "    \n",
    "    def edgelen(self):\n",
    "        if self._edgelen:\n",
    "            return self._edgelen\n",
    "        else:\n",
    "            self._edgelen = 2 * self.circumradius * math.sin(math.pi/self.edges)\n",
    "        return self._edgelen\n",
    "\n",
    "    def vertices(self):\n",
    "        return self.edges\n",
    "\n",
    "    def interiorAngle(self):\n",
    "        if self._interiorAngle:\n",
    "            return self._interiorAngle\n",
    "        else:\n",
    "            self._interiorAngle = (self.edges - 2) * (180/self.edges) \n",
    "        return self._interiorAngle\n",
    "\n",
    "    def sideLength(self):\n",
    "        if self._sideLength:\n",
    "            return self._sideLength\n",
    "        else:\n",
    "            self._sideLength = 2 * self.circumradius * math.sin(math.pi/self.edges)\n",
    "        return self._sideLength\n",
    "\n",
    "    def apothem(self):\n",
    "        if self._apothem:\n",
    "            return self._apothem\n",
    "        else:\n",
    "            self._apothem = self.circumradius * math.cos(math.pi/self.edges)\n",
    "        return self._apothem\n",
    "\n",
    "    def area(self):\n",
    "        if self._area:\n",
    "            return self._area\n",
    "        else:\n",
    "            self._area = 1/2 * self.edges * self.edgelen() * self.apothem()\n",
    "        return self._area\n",
    "\n",
    "    def perimeter(self):\n",
    "        if self._perimeter:\n",
    "            return self._perimeter\n",
    "        else:\n",
    "            self._perimeter = self.edges() * self.edgelen()\n",
    "        return self._perimeter\n",
    "\n",
    "    def __eq__(self, other):\n",
    "        if not isinstance(other, Polygon):\n",
    "            raise TypeError(f'{object} not comparable to {self.__class__.__name__}')\n",
    "\n",
    "        return self.edges == other.edges and self.circumradius == other.circumradius\n",
    "\n",
    "    def __gt__(self, other):\n",
    "        if not isinstance(other, Polygon):\n",
    "            raise TypeError(f'{object} not comparable to {self.__class__.__name__}')\n",
    "\n",
    "        return self.edges > other.edges"
   ]
  },
  {
   "cell_type": "code",
   "execution_count": 496,
   "id": "311e160c-85a5-4810-b4ba-350192e2fde9",
   "metadata": {},
   "outputs": [],
   "source": [
    "def mytests():\n",
    "    p1 = Polygon(10, 100)\n",
    "    p2 = Polygon(2, 200)\n",
    "    \n",
    "    assert p1.edges == 10\n",
    "    assert p1.circumradius == 100\n",
    "    assert round(p1.area,1) == 29389.3, (f'{p1.area()}')\n",
    "    assert p1 > p2, ('Incorrect equality implemented')\n",
    "    "
   ]
  },
  {
   "cell_type": "code",
   "execution_count": 497,
   "id": "1d2b7ad6-4450-4ba0-85c6-8458cd8aefb8",
   "metadata": {},
   "outputs": [
    {
     "ename": "TypeError",
     "evalue": "type method doesn't define __round__ method",
     "output_type": "error",
     "traceback": [
      "\u001b[31m---------------------------------------------------------------------------\u001b[39m",
      "\u001b[31mTypeError\u001b[39m                                 Traceback (most recent call last)",
      "\u001b[36mCell\u001b[39m\u001b[36m \u001b[39m\u001b[32mIn[497]\u001b[39m\u001b[32m, line 1\u001b[39m\n\u001b[32m----> \u001b[39m\u001b[32m1\u001b[39m \u001b[43mmytests\u001b[49m\u001b[43m(\u001b[49m\u001b[43m)\u001b[49m\n",
      "\u001b[36mCell\u001b[39m\u001b[36m \u001b[39m\u001b[32mIn[496]\u001b[39m\u001b[32m, line 7\u001b[39m, in \u001b[36mmytests\u001b[39m\u001b[34m()\u001b[39m\n\u001b[32m      5\u001b[39m \u001b[38;5;28;01massert\u001b[39;00m p1.edges == \u001b[32m10\u001b[39m\n\u001b[32m      6\u001b[39m \u001b[38;5;28;01massert\u001b[39;00m p1.circumradius == \u001b[32m100\u001b[39m\n\u001b[32m----> \u001b[39m\u001b[32m7\u001b[39m \u001b[38;5;28;01massert\u001b[39;00m \u001b[38;5;28;43mround\u001b[39;49m\u001b[43m(\u001b[49m\u001b[43mp1\u001b[49m\u001b[43m.\u001b[49m\u001b[43marea\u001b[49m\u001b[43m,\u001b[49m\u001b[32;43m1\u001b[39;49m\u001b[43m)\u001b[49m == \u001b[32m29389.3\u001b[39m, (\u001b[33mf\u001b[39m\u001b[33m'\u001b[39m\u001b[38;5;132;01m{\u001b[39;00mp1.area()\u001b[38;5;132;01m}\u001b[39;00m\u001b[33m'\u001b[39m)\n\u001b[32m      8\u001b[39m \u001b[38;5;28;01massert\u001b[39;00m p1 > p2, (\u001b[33m'\u001b[39m\u001b[33mIncorrect equality implemented\u001b[39m\u001b[33m'\u001b[39m)\n",
      "\u001b[31mTypeError\u001b[39m: type method doesn't define __round__ method"
     ]
    }
   ],
   "source": [
    "mytests()"
   ]
  },
  {
   "cell_type": "code",
   "execution_count": 476,
   "id": "401b4a62-ada1-437c-8f14-62f1c692df92",
   "metadata": {},
   "outputs": [],
   "source": [
    "p1 = Polygon(1, 100)"
   ]
  },
  {
   "cell_type": "code",
   "execution_count": 477,
   "id": "ac14e3ee-d5ed-489a-a553-bfa105e610b6",
   "metadata": {},
   "outputs": [
    {
     "ename": "TypeError",
     "evalue": "unsupported operand type(s) for *: 'float' and 'method'",
     "output_type": "error",
     "traceback": [
      "\u001b[31m---------------------------------------------------------------------------\u001b[39m",
      "\u001b[31mTypeError\u001b[39m                                 Traceback (most recent call last)",
      "\u001b[36mCell\u001b[39m\u001b[36m \u001b[39m\u001b[32mIn[477]\u001b[39m\u001b[32m, line 1\u001b[39m\n\u001b[32m----> \u001b[39m\u001b[32m1\u001b[39m \u001b[43mp1\u001b[49m\u001b[43m.\u001b[49m\u001b[43marea\u001b[49m\u001b[43m(\u001b[49m\u001b[43m)\u001b[49m\n",
      "\u001b[36mCell\u001b[39m\u001b[36m \u001b[39m\u001b[32mIn[452]\u001b[39m\u001b[32m, line 76\u001b[39m, in \u001b[36mPolygon.area\u001b[39m\u001b[34m(self)\u001b[39m\n\u001b[32m     74\u001b[39m     \u001b[38;5;28;01mreturn\u001b[39;00m \u001b[38;5;28mself\u001b[39m._area\n\u001b[32m     75\u001b[39m \u001b[38;5;28;01melse\u001b[39;00m:\n\u001b[32m---> \u001b[39m\u001b[32m76\u001b[39m     \u001b[38;5;28mself\u001b[39m._area = \u001b[32;43m1\u001b[39;49m\u001b[43m/\u001b[49m\u001b[32;43m2\u001b[39;49m\u001b[43m \u001b[49m\u001b[43m*\u001b[49m\u001b[43m \u001b[49m\u001b[38;5;28;43mself\u001b[39;49m\u001b[43m.\u001b[49m\u001b[43medges\u001b[49m\u001b[43m \u001b[49m\u001b[43m*\u001b[49m\u001b[43m \u001b[49m\u001b[38;5;28;43mself\u001b[39;49m\u001b[43m.\u001b[49m\u001b[43medgelen\u001b[49m * \u001b[38;5;28mself\u001b[39m.apothem\n\u001b[32m     77\u001b[39m \u001b[38;5;28;01mreturn\u001b[39;00m \u001b[38;5;28mself\u001b[39m._area\n",
      "\u001b[31mTypeError\u001b[39m: unsupported operand type(s) for *: 'float' and 'method'"
     ]
    }
   ],
   "source": [
    "p1.area()"
   ]
  },
  {
   "cell_type": "markdown",
   "id": "6f5382de-f474-4c03-bf20-139d50911c3f",
   "metadata": {},
   "source": [
    "# GENERATORS"
   ]
  },
  {
   "cell_type": "code",
   "execution_count": 498,
   "id": "4d1c685a-1605-45f0-b9da-76055d32f003",
   "metadata": {},
   "outputs": [],
   "source": [
    "def song():\n",
    "    print(f'print one')\n",
    "    yield('yield one')\n",
    "    print('print two')\n",
    "    yield('yield two')"
   ]
  },
  {
   "cell_type": "code",
   "execution_count": 502,
   "id": "5a080cb6-be8f-4b66-ac86-ab9cc8fb95c7",
   "metadata": {},
   "outputs": [
    {
     "data": {
      "text/plain": [
       "(<generator object song at 0x12109d540>, generator)"
      ]
     },
     "execution_count": 502,
     "metadata": {},
     "output_type": "execute_result"
    }
   ],
   "source": [
    "g = song()\n",
    "g, type(g)"
   ]
  },
  {
   "cell_type": "code",
   "execution_count": 504,
   "id": "52959c9b-2adc-4523-b9da-53a004673c2c",
   "metadata": {},
   "outputs": [
    {
     "name": "stdout",
     "output_type": "stream",
     "text": [
      "print one\n"
     ]
    },
    {
     "data": {
      "text/plain": [
       "'yield one'"
      ]
     },
     "execution_count": 504,
     "metadata": {},
     "output_type": "execute_result"
    }
   ],
   "source": [
    "next(g)"
   ]
  },
  {
   "cell_type": "code",
   "execution_count": 505,
   "id": "59eda9f7-d685-4e5e-8699-96cc74c074f6",
   "metadata": {},
   "outputs": [
    {
     "name": "stdout",
     "output_type": "stream",
     "text": [
      "print two\n"
     ]
    },
    {
     "data": {
      "text/plain": [
       "'yield two'"
      ]
     },
     "execution_count": 505,
     "metadata": {},
     "output_type": "execute_result"
    }
   ],
   "source": [
    "next(g)"
   ]
  },
  {
   "cell_type": "code",
   "execution_count": 506,
   "id": "d2e11317-053a-4775-affc-ca811641b622",
   "metadata": {},
   "outputs": [
    {
     "ename": "StopIteration",
     "evalue": "",
     "output_type": "error",
     "traceback": [
      "\u001b[31m---------------------------------------------------------------------------\u001b[39m",
      "\u001b[31mStopIteration\u001b[39m                             Traceback (most recent call last)",
      "\u001b[36mCell\u001b[39m\u001b[36m \u001b[39m\u001b[32mIn[506]\u001b[39m\u001b[32m, line 1\u001b[39m\n\u001b[32m----> \u001b[39m\u001b[32m1\u001b[39m \u001b[38;5;28;43mnext\u001b[39;49m\u001b[43m(\u001b[49m\u001b[43mg\u001b[49m\u001b[43m)\u001b[49m\n",
      "\u001b[31mStopIteration\u001b[39m: "
     ]
    }
   ],
   "source": [
    "next(g)"
   ]
  },
  {
   "cell_type": "code",
   "execution_count": 507,
   "id": "23a1293e-20ba-4d8a-a46b-acc3b5e77b83",
   "metadata": {},
   "outputs": [],
   "source": [
    "def myFunc():\n",
    "    yield 1\n",
    "    yield 2\n",
    "    yield 3\n",
    "\n",
    "gen = myFunc() # gen is a generator"
   ]
  },
  {
   "cell_type": "code",
   "execution_count": 508,
   "id": "7e4e06a7-2731-4da7-92cd-870619106fbf",
   "metadata": {},
   "outputs": [
    {
     "data": {
      "text/plain": [
       "1"
      ]
     },
     "execution_count": 508,
     "metadata": {},
     "output_type": "execute_result"
    }
   ],
   "source": [
    "next(gen)"
   ]
  },
  {
   "cell_type": "code",
   "execution_count": 509,
   "id": "aa0ebc5a-a296-4c78-a023-402b3e5c5e60",
   "metadata": {},
   "outputs": [
    {
     "data": {
      "text/plain": [
       "2"
      ]
     },
     "execution_count": 509,
     "metadata": {},
     "output_type": "execute_result"
    }
   ],
   "source": [
    "next(gen)"
   ]
  },
  {
   "cell_type": "code",
   "execution_count": 510,
   "id": "49b8a293-9e8d-48c6-8521-3f78077f0d43",
   "metadata": {},
   "outputs": [
    {
     "name": "stdout",
     "output_type": "stream",
     "text": [
      "do something else, myFunc has stopped after yield 1\n"
     ]
    }
   ],
   "source": [
    "print('do something else, myFunc has stopped after yield 1')"
   ]
  },
  {
   "cell_type": "code",
   "execution_count": 511,
   "id": "afe7f84b-7b2e-44a3-8b4e-0f6d88bcf2cf",
   "metadata": {},
   "outputs": [
    {
     "data": {
      "text/plain": [
       "3"
      ]
     },
     "execution_count": 511,
     "metadata": {},
     "output_type": "execute_result"
    }
   ],
   "source": [
    "next(gen)"
   ]
  },
  {
   "cell_type": "code",
   "execution_count": 512,
   "id": "e454d527-353b-4e09-87f9-2d8164917db2",
   "metadata": {},
   "outputs": [
    {
     "ename": "StopIteration",
     "evalue": "",
     "output_type": "error",
     "traceback": [
      "\u001b[31m---------------------------------------------------------------------------\u001b[39m",
      "\u001b[31mStopIteration\u001b[39m                             Traceback (most recent call last)",
      "\u001b[36mCell\u001b[39m\u001b[36m \u001b[39m\u001b[32mIn[512]\u001b[39m\u001b[32m, line 1\u001b[39m\n\u001b[32m----> \u001b[39m\u001b[32m1\u001b[39m \u001b[38;5;28;43mnext\u001b[39;49m\u001b[43m(\u001b[49m\u001b[43mgen\u001b[49m\u001b[43m)\u001b[49m\n",
      "\u001b[31mStopIteration\u001b[39m: "
     ]
    }
   ],
   "source": [
    "next(gen)"
   ]
  },
  {
   "cell_type": "code",
   "execution_count": 516,
   "id": "d0c011af-b84f-4134-884c-703eb5ac7f6d",
   "metadata": {},
   "outputs": [],
   "source": [
    "class Factiter:\n",
    "    def __init__(self, n):\n",
    "        self.n = n\n",
    "        self._i = 0\n",
    "        \n",
    "    def __iter__(self):\n",
    "        return self\n",
    "\n",
    "    def __next__(self):\n",
    "        if self._i == self.n:\n",
    "            raise StopIteration\n",
    "        result = math.factorial(self._i)\n",
    "        self._i += 1\n",
    "        return result\n",
    "        "
   ]
  },
  {
   "cell_type": "code",
   "execution_count": 522,
   "id": "ca069cd6-f444-401f-875a-85f1784a6314",
   "metadata": {},
   "outputs": [],
   "source": [
    "fact = Factiter(5)"
   ]
  },
  {
   "cell_type": "code",
   "execution_count": 523,
   "id": "a5ef39e1-ffaf-465c-9c01-a41f452d0ab1",
   "metadata": {},
   "outputs": [
    {
     "data": {
      "text/plain": [
       "[1, 1, 2, 6, 24]"
      ]
     },
     "execution_count": 523,
     "metadata": {},
     "output_type": "execute_result"
    }
   ],
   "source": [
    "list(fact)"
   ]
  },
  {
   "cell_type": "code",
   "execution_count": 524,
   "id": "f825987d-9277-433c-8503-73e9250e862b",
   "metadata": {},
   "outputs": [
    {
     "ename": "StopIteration",
     "evalue": "",
     "output_type": "error",
     "traceback": [
      "\u001b[31m---------------------------------------------------------------------------\u001b[39m",
      "\u001b[31mStopIteration\u001b[39m                             Traceback (most recent call last)",
      "\u001b[36mCell\u001b[39m\u001b[36m \u001b[39m\u001b[32mIn[524]\u001b[39m\u001b[32m, line 1\u001b[39m\n\u001b[32m----> \u001b[39m\u001b[32m1\u001b[39m \u001b[38;5;28;43mnext\u001b[39;49m\u001b[43m(\u001b[49m\u001b[43mfact\u001b[49m\u001b[43m)\u001b[49m\n",
      "\u001b[36mCell\u001b[39m\u001b[36m \u001b[39m\u001b[32mIn[516]\u001b[39m\u001b[32m, line 11\u001b[39m, in \u001b[36mFactiter.__next__\u001b[39m\u001b[34m(self)\u001b[39m\n\u001b[32m      9\u001b[39m \u001b[38;5;28;01mdef\u001b[39;00m\u001b[38;5;250m \u001b[39m\u001b[34m__next__\u001b[39m(\u001b[38;5;28mself\u001b[39m):\n\u001b[32m     10\u001b[39m     \u001b[38;5;28;01mif\u001b[39;00m \u001b[38;5;28mself\u001b[39m._i == \u001b[38;5;28mself\u001b[39m.n:\n\u001b[32m---> \u001b[39m\u001b[32m11\u001b[39m         \u001b[38;5;28;01mraise\u001b[39;00m \u001b[38;5;167;01mStopIteration\u001b[39;00m\n\u001b[32m     12\u001b[39m     result = math.factorial(\u001b[38;5;28mself\u001b[39m._i)\n\u001b[32m     13\u001b[39m     \u001b[38;5;28mself\u001b[39m._i += \u001b[32m1\u001b[39m\n",
      "\u001b[31mStopIteration\u001b[39m: "
     ]
    }
   ],
   "source": [
    "next(fact)"
   ]
  },
  {
   "cell_type": "markdown",
   "id": "9b9ab5f7-8f87-4480-aaaf-25c6f48b36f2",
   "metadata": {},
   "source": [
    "# implementation using closure"
   ]
  },
  {
   "cell_type": "code",
   "execution_count": 552,
   "id": "d129d1c0-3c30-4f7a-9cb1-9830243cd0c1",
   "metadata": {},
   "outputs": [],
   "source": [
    "def myfact():\n",
    "    i = 0\n",
    "    def inner():\n",
    "        nonlocal i\n",
    "        result = math.factorial(i)\n",
    "        i+=1 #python sees this assigment and thinks i is local so i have to declare it nonlocal\n",
    "        return result\n",
    "    return inner"
   ]
  },
  {
   "cell_type": "code",
   "execution_count": 554,
   "id": "e4725fa1-0340-4c26-b5e4-3686b5d55bde",
   "metadata": {},
   "outputs": [],
   "source": [
    "f = myfact()"
   ]
  },
  {
   "cell_type": "code",
   "execution_count": 555,
   "id": "3449f398-87fb-4854-a105-0609a0f94568",
   "metadata": {},
   "outputs": [
    {
     "data": {
      "text/plain": [
       "1"
      ]
     },
     "execution_count": 555,
     "metadata": {},
     "output_type": "execute_result"
    }
   ],
   "source": [
    "f()"
   ]
  },
  {
   "cell_type": "code",
   "execution_count": 557,
   "id": "24690125-59ff-4732-b9e0-2e1e1183d404",
   "metadata": {},
   "outputs": [
    {
     "data": {
      "text/plain": [
       "1"
      ]
     },
     "execution_count": 557,
     "metadata": {},
     "output_type": "execute_result"
    }
   ],
   "source": [
    "f()"
   ]
  },
  {
   "cell_type": "code",
   "execution_count": 558,
   "id": "0821aef6-9f47-435a-8e98-49e48086a48b",
   "metadata": {},
   "outputs": [
    {
     "data": {
      "text/plain": [
       "2"
      ]
     },
     "execution_count": 558,
     "metadata": {},
     "output_type": "execute_result"
    }
   ],
   "source": [
    "f()"
   ]
  },
  {
   "cell_type": "code",
   "execution_count": 562,
   "id": "430cbae7-7daa-40cb-af1a-eb7738bb7fae",
   "metadata": {},
   "outputs": [],
   "source": [
    "fact_iter = iter(myfact(), 120) #120 is sentinal value for iter object"
   ]
  },
  {
   "cell_type": "code",
   "execution_count": 563,
   "id": "0de719f7-47d7-4a84-aa10-cc16f5ed84ec",
   "metadata": {},
   "outputs": [
    {
     "data": {
      "text/plain": [
       "<callable_iterator at 0x120bcb100>"
      ]
     },
     "execution_count": 563,
     "metadata": {},
     "output_type": "execute_result"
    }
   ],
   "source": [
    "fact_iter"
   ]
  },
  {
   "cell_type": "code",
   "execution_count": 564,
   "id": "76609327-3926-4484-94e6-50c7f5978be0",
   "metadata": {},
   "outputs": [
    {
     "data": {
      "text/plain": [
       "[1, 1, 2, 6, 24]"
      ]
     },
     "execution_count": 564,
     "metadata": {},
     "output_type": "execute_result"
    }
   ],
   "source": [
    "list(fact_iter)"
   ]
  },
  {
   "cell_type": "markdown",
   "id": "0cd0b731-5546-45f9-b588-0b82b123c81f",
   "metadata": {},
   "source": [
    "# implementation using generator pattern"
   ]
  },
  {
   "cell_type": "code",
   "execution_count": 590,
   "id": "dcdc8e6f-7ebd-4bd0-a7ad-87e42c58b99e",
   "metadata": {},
   "outputs": [],
   "source": [
    "def myfact(n):\n",
    "    for i in range(n):\n",
    "        yield math.factorial(i)    "
   ]
  },
  {
   "cell_type": "code",
   "execution_count": 599,
   "id": "3ccf269f-bc52-42ea-8d26-30c253ef8b48",
   "metadata": {},
   "outputs": [],
   "source": [
    "f = myfact(5)"
   ]
  },
  {
   "cell_type": "code",
   "execution_count": 592,
   "id": "bd52ad07-026c-47f3-b3cb-73438be1eb36",
   "metadata": {},
   "outputs": [
    {
     "data": {
      "text/plain": [
       "<generator object myfact at 0x121513c60>"
      ]
     },
     "execution_count": 592,
     "metadata": {},
     "output_type": "execute_result"
    }
   ],
   "source": [
    "f"
   ]
  },
  {
   "cell_type": "code",
   "execution_count": 600,
   "id": "903ac64e-e851-4491-aef2-de115b687642",
   "metadata": {},
   "outputs": [
    {
     "data": {
      "text/plain": [
       "[1, 1, 2, 6, 24]"
      ]
     },
     "execution_count": 600,
     "metadata": {},
     "output_type": "execute_result"
    }
   ],
   "source": [
    "list(f)"
   ]
  },
  {
   "cell_type": "code",
   "execution_count": 603,
   "id": "732bcf54-52b7-4369-96f6-305997e5c79e",
   "metadata": {},
   "outputs": [
    {
     "ename": "StopIteration",
     "evalue": "",
     "output_type": "error",
     "traceback": [
      "\u001b[31m---------------------------------------------------------------------------\u001b[39m",
      "\u001b[31mStopIteration\u001b[39m                             Traceback (most recent call last)",
      "\u001b[36mCell\u001b[39m\u001b[36m \u001b[39m\u001b[32mIn[603]\u001b[39m\u001b[32m, line 1\u001b[39m\n\u001b[32m----> \u001b[39m\u001b[32m1\u001b[39m \u001b[38;5;28;43mnext\u001b[39;49m\u001b[43m(\u001b[49m\u001b[43mf\u001b[49m\u001b[43m)\u001b[49m\n",
      "\u001b[31mStopIteration\u001b[39m: "
     ]
    }
   ],
   "source": [
    "next(f)"
   ]
  },
  {
   "cell_type": "markdown",
   "id": "ee978160-6ff7-46ac-b1db-647f6edd5171",
   "metadata": {},
   "source": [
    "# Fibonacci Sequence (fib(n) = fib(n-1) + fib(n-2)"
   ]
  },
  {
   "cell_type": "code",
   "execution_count": 612,
   "id": "0df3ccca-b248-4353-928f-54a263f26597",
   "metadata": {},
   "outputs": [],
   "source": [
    "def fib(n):\n",
    "    if n <=1:\n",
    "        return 1\n",
    "    else:\n",
    "        return fib(n-1) + fib(n-2)"
   ]
  },
  {
   "cell_type": "code",
   "execution_count": 613,
   "id": "9cdcdde6-2674-4a19-a8fc-c18cd3ecef99",
   "metadata": {},
   "outputs": [
    {
     "data": {
      "text/plain": [
       "[1, 1, 2, 3, 5, 8, 13]"
      ]
     },
     "execution_count": 613,
     "metadata": {},
     "output_type": "execute_result"
    }
   ],
   "source": [
    "[fib(i) for i in range(7)]"
   ]
  },
  {
   "cell_type": "code",
   "execution_count": 614,
   "id": "72b9b9c4-1459-4d7d-a298-5fed9a38771f",
   "metadata": {},
   "outputs": [],
   "source": [
    "from timeit import timeit"
   ]
  },
  {
   "cell_type": "code",
   "execution_count": 615,
   "id": "81347041-61f0-441f-8e3a-46a0046d7d0c",
   "metadata": {},
   "outputs": [
    {
     "data": {
      "text/plain": [
       "0.0001724159810692072"
      ]
     },
     "execution_count": 615,
     "metadata": {},
     "output_type": "execute_result"
    }
   ],
   "source": [
    "timeit('fib(10)', globals=globals(), number=10)"
   ]
  },
  {
   "cell_type": "code",
   "execution_count": 616,
   "id": "08982166-9c9c-4081-8606-0924dbf73dca",
   "metadata": {},
   "outputs": [
    {
     "data": {
      "text/plain": [
       "1.757582209073007"
      ]
     },
     "execution_count": 616,
     "metadata": {},
     "output_type": "execute_result"
    }
   ],
   "source": [
    "timeit('fib(30)', globals=globals(), number=10)"
   ]
  },
  {
   "cell_type": "code",
   "execution_count": 619,
   "id": "f0f207cb-070b-479a-a4cf-58aaa0ff4fee",
   "metadata": {},
   "outputs": [
    {
     "data": {
      "text/plain": [
       "61.65621604199987"
      ]
     },
     "execution_count": 619,
     "metadata": {},
     "output_type": "execute_result"
    }
   ],
   "source": [
    "# impossible to use this if its so SLOW!!\n",
    "timeit('fib(40)', globals=globals(), number=3)"
   ]
  },
  {
   "cell_type": "code",
   "execution_count": 620,
   "id": "57cc0cc4-a155-499d-8d05-7eda9a2775f9",
   "metadata": {},
   "outputs": [],
   "source": [
    "@functools.lru_cache()\n",
    "def fib(n):\n",
    "    if n <=1:\n",
    "        return 1\n",
    "    else:\n",
    "        return fib(n-1) + fib(n-2)"
   ]
  },
  {
   "cell_type": "code",
   "execution_count": 621,
   "id": "dbdabc0f-437a-4b55-9c87-98351afd5257",
   "metadata": {},
   "outputs": [
    {
     "data": {
      "text/plain": [
       "2.4082954041659832e-05"
      ]
     },
     "execution_count": 621,
     "metadata": {},
     "output_type": "execute_result"
    }
   ],
   "source": [
    "timeit('fib(30)', globals=globals(), number=10)"
   ]
  },
  {
   "cell_type": "code",
   "execution_count": 622,
   "id": "ce74f3f4-8008-48fb-90fe-5804080a9ebb",
   "metadata": {},
   "outputs": [
    {
     "data": {
      "text/plain": [
       "0.0002443329431116581"
      ]
     },
     "execution_count": 622,
     "metadata": {},
     "output_type": "execute_result"
    }
   ],
   "source": [
    "timeit('fib(300)', globals=globals(), number=10)"
   ]
  },
  {
   "cell_type": "code",
   "execution_count": 625,
   "id": "11645b03-4c4f-4ed3-97fe-c82cc63ab07c",
   "metadata": {},
   "outputs": [
    {
     "ename": "RecursionError",
     "evalue": "maximum recursion depth exceeded",
     "output_type": "error",
     "traceback": [
      "\u001b[31m---------------------------------------------------------------------------\u001b[39m",
      "\u001b[31mRecursionError\u001b[39m                            Traceback (most recent call last)",
      "\u001b[36mCell\u001b[39m\u001b[36m \u001b[39m\u001b[32mIn[625]\u001b[39m\u001b[32m, line 2\u001b[39m\n\u001b[32m      1\u001b[39m \u001b[38;5;66;03m# hits recursion error\u001b[39;00m\n\u001b[32m----> \u001b[39m\u001b[32m2\u001b[39m \u001b[43mtimeit\u001b[49m\u001b[43m(\u001b[49m\u001b[33;43m'\u001b[39;49m\u001b[33;43mfib(30000)\u001b[39;49m\u001b[33;43m'\u001b[39;49m\u001b[43m,\u001b[49m\u001b[43m \u001b[49m\u001b[38;5;28;43mglobals\u001b[39;49m\u001b[43m=\u001b[49m\u001b[38;5;28;43mglobals\u001b[39;49m\u001b[43m(\u001b[49m\u001b[43m)\u001b[49m\u001b[43m,\u001b[49m\u001b[43m \u001b[49m\u001b[43mnumber\u001b[49m\u001b[43m=\u001b[49m\u001b[32;43m10\u001b[39;49m\u001b[43m)\u001b[49m\n",
      "\u001b[36mFile \u001b[39m\u001b[32m/opt/homebrew/Cellar/python@3.13/3.13.2/Frameworks/Python.framework/Versions/3.13/lib/python3.13/timeit.py:237\u001b[39m, in \u001b[36mtimeit\u001b[39m\u001b[34m(stmt, setup, timer, number, globals)\u001b[39m\n\u001b[32m    234\u001b[39m \u001b[38;5;28;01mdef\u001b[39;00m\u001b[38;5;250m \u001b[39m\u001b[34mtimeit\u001b[39m(stmt=\u001b[33m\"\u001b[39m\u001b[33mpass\u001b[39m\u001b[33m\"\u001b[39m, setup=\u001b[33m\"\u001b[39m\u001b[33mpass\u001b[39m\u001b[33m\"\u001b[39m, timer=default_timer,\n\u001b[32m    235\u001b[39m            number=default_number, \u001b[38;5;28mglobals\u001b[39m=\u001b[38;5;28;01mNone\u001b[39;00m):\n\u001b[32m    236\u001b[39m \u001b[38;5;250m    \u001b[39m\u001b[33;03m\"\"\"Convenience function to create Timer object and call timeit method.\"\"\"\u001b[39;00m\n\u001b[32m--> \u001b[39m\u001b[32m237\u001b[39m     \u001b[38;5;28;01mreturn\u001b[39;00m \u001b[43mTimer\u001b[49m\u001b[43m(\u001b[49m\u001b[43mstmt\u001b[49m\u001b[43m,\u001b[49m\u001b[43m \u001b[49m\u001b[43msetup\u001b[49m\u001b[43m,\u001b[49m\u001b[43m \u001b[49m\u001b[43mtimer\u001b[49m\u001b[43m,\u001b[49m\u001b[43m \u001b[49m\u001b[38;5;28;43mglobals\u001b[39;49m\u001b[43m)\u001b[49m\u001b[43m.\u001b[49m\u001b[43mtimeit\u001b[49m\u001b[43m(\u001b[49m\u001b[43mnumber\u001b[49m\u001b[43m)\u001b[49m\n",
      "\u001b[36mFile \u001b[39m\u001b[32m/opt/homebrew/Cellar/python@3.13/3.13.2/Frameworks/Python.framework/Versions/3.13/lib/python3.13/timeit.py:180\u001b[39m, in \u001b[36mTimer.timeit\u001b[39m\u001b[34m(self, number)\u001b[39m\n\u001b[32m    178\u001b[39m gc.disable()\n\u001b[32m    179\u001b[39m \u001b[38;5;28;01mtry\u001b[39;00m:\n\u001b[32m--> \u001b[39m\u001b[32m180\u001b[39m     timing = \u001b[38;5;28;43mself\u001b[39;49m\u001b[43m.\u001b[49m\u001b[43minner\u001b[49m\u001b[43m(\u001b[49m\u001b[43mit\u001b[49m\u001b[43m,\u001b[49m\u001b[43m \u001b[49m\u001b[38;5;28;43mself\u001b[39;49m\u001b[43m.\u001b[49m\u001b[43mtimer\u001b[49m\u001b[43m)\u001b[49m\n\u001b[32m    181\u001b[39m \u001b[38;5;28;01mfinally\u001b[39;00m:\n\u001b[32m    182\u001b[39m     \u001b[38;5;28;01mif\u001b[39;00m gcold:\n",
      "\u001b[36mFile \u001b[39m\u001b[32m<timeit-src>:6\u001b[39m, in \u001b[36minner\u001b[39m\u001b[34m(_it, _timer)\u001b[39m\n",
      "\u001b[36mCell\u001b[39m\u001b[36m \u001b[39m\u001b[32mIn[620]\u001b[39m\u001b[32m, line 6\u001b[39m, in \u001b[36mfib\u001b[39m\u001b[34m(n)\u001b[39m\n\u001b[32m      4\u001b[39m     \u001b[38;5;28;01mreturn\u001b[39;00m \u001b[32m1\u001b[39m\n\u001b[32m      5\u001b[39m \u001b[38;5;28;01melse\u001b[39;00m:\n\u001b[32m----> \u001b[39m\u001b[32m6\u001b[39m     \u001b[38;5;28;01mreturn\u001b[39;00m \u001b[43mfib\u001b[49m\u001b[43m(\u001b[49m\u001b[43mn\u001b[49m\u001b[43m-\u001b[49m\u001b[32;43m1\u001b[39;49m\u001b[43m)\u001b[49m + fib(n-\u001b[32m2\u001b[39m)\n",
      "\u001b[36mCell\u001b[39m\u001b[36m \u001b[39m\u001b[32mIn[620]\u001b[39m\u001b[32m, line 6\u001b[39m, in \u001b[36mfib\u001b[39m\u001b[34m(n)\u001b[39m\n\u001b[32m      4\u001b[39m     \u001b[38;5;28;01mreturn\u001b[39;00m \u001b[32m1\u001b[39m\n\u001b[32m      5\u001b[39m \u001b[38;5;28;01melse\u001b[39;00m:\n\u001b[32m----> \u001b[39m\u001b[32m6\u001b[39m     \u001b[38;5;28;01mreturn\u001b[39;00m \u001b[43mfib\u001b[49m\u001b[43m(\u001b[49m\u001b[43mn\u001b[49m\u001b[43m-\u001b[49m\u001b[32;43m1\u001b[39;49m\u001b[43m)\u001b[49m + fib(n-\u001b[32m2\u001b[39m)\n",
      "    \u001b[31m[... skipping similar frames: fib at line 6 (2971 times)]\u001b[39m\n",
      "\u001b[36mCell\u001b[39m\u001b[36m \u001b[39m\u001b[32mIn[620]\u001b[39m\u001b[32m, line 6\u001b[39m, in \u001b[36mfib\u001b[39m\u001b[34m(n)\u001b[39m\n\u001b[32m      4\u001b[39m     \u001b[38;5;28;01mreturn\u001b[39;00m \u001b[32m1\u001b[39m\n\u001b[32m      5\u001b[39m \u001b[38;5;28;01melse\u001b[39;00m:\n\u001b[32m----> \u001b[39m\u001b[32m6\u001b[39m     \u001b[38;5;28;01mreturn\u001b[39;00m \u001b[43mfib\u001b[49m\u001b[43m(\u001b[49m\u001b[43mn\u001b[49m\u001b[43m-\u001b[49m\u001b[32;43m1\u001b[39;49m\u001b[43m)\u001b[49m + fib(n-\u001b[32m2\u001b[39m)\n",
      "\u001b[31mRecursionError\u001b[39m: maximum recursion depth exceeded"
     ]
    }
   ],
   "source": [
    "# hits recursion error\n",
    "timeit('fib(30000)', globals=globals(), number=10)"
   ]
  },
  {
   "cell_type": "code",
   "execution_count": 630,
   "id": "2fbb963f-e777-4b17-ad28-8f600a7df465",
   "metadata": {},
   "outputs": [],
   "source": [
    "def fib(n):\n",
    "    fib_0 = 1\n",
    "    fib_1 = 1\n",
    "    for i in range(n-1):\n",
    "        fib_0, fib_1 = fib_1, fib_0 + fib_1 \n",
    "    return fib_1"
   ]
  },
  {
   "cell_type": "code",
   "execution_count": 631,
   "id": "80cd2fd5-7141-48ed-a074-0f6d3239fe23",
   "metadata": {},
   "outputs": [
    {
     "data": {
      "text/plain": [
       "[1, 1, 2, 3, 5, 8, 13]"
      ]
     },
     "execution_count": 631,
     "metadata": {},
     "output_type": "execute_result"
    }
   ],
   "source": [
    "[fib(i) for i in range(7)]"
   ]
  },
  {
   "cell_type": "code",
   "execution_count": 636,
   "id": "0013f514-1e29-4b0e-9aec-2149eeff1c7a",
   "metadata": {},
   "outputs": [
    {
     "data": {
      "text/plain": [
       "0.20569383294787258"
      ]
     },
     "execution_count": 636,
     "metadata": {},
     "output_type": "execute_result"
    }
   ],
   "source": [
    "# very fast as we use no recursion\n",
    "timeit('fib(30000)', globals=globals(), number=10)"
   ]
  },
  {
   "cell_type": "markdown",
   "id": "c249903a-f844-456a-b43c-b6dc5a3e7ee8",
   "metadata": {},
   "source": [
    "# using generators"
   ]
  },
  {
   "cell_type": "code",
   "execution_count": 642,
   "id": "3a9746d9-79b8-4fce-826e-134e85e52a80",
   "metadata": {},
   "outputs": [],
   "source": [
    "def fib(n):\n",
    "    fib_0 = 1\n",
    "    fib_1 = 1\n",
    "    for i in range(n-1):\n",
    "        fib_0, fib_1 = fib_1, fib_0 + fib_1 \n",
    "        yield fib_1"
   ]
  },
  {
   "cell_type": "code",
   "execution_count": 647,
   "id": "d056dc7a-1587-4d92-92d2-55d18c1a925d",
   "metadata": {},
   "outputs": [],
   "source": [
    "f = fib(30)"
   ]
  },
  {
   "cell_type": "code",
   "execution_count": 648,
   "id": "22ab2d81-3046-4bd5-bfad-1e8bbcc922b2",
   "metadata": {},
   "outputs": [
    {
     "data": {
      "text/plain": [
       "[2,\n",
       " 3,\n",
       " 5,\n",
       " 8,\n",
       " 13,\n",
       " 21,\n",
       " 34,\n",
       " 55,\n",
       " 89,\n",
       " 144,\n",
       " 233,\n",
       " 377,\n",
       " 610,\n",
       " 987,\n",
       " 1597,\n",
       " 2584,\n",
       " 4181,\n",
       " 6765,\n",
       " 10946,\n",
       " 17711,\n",
       " 28657,\n",
       " 46368,\n",
       " 75025,\n",
       " 121393,\n",
       " 196418,\n",
       " 317811,\n",
       " 514229,\n",
       " 832040,\n",
       " 1346269]"
      ]
     },
     "execution_count": 648,
     "metadata": {},
     "output_type": "execute_result"
    }
   ],
   "source": [
    "list(f)"
   ]
  },
  {
   "cell_type": "code",
   "execution_count": 653,
   "id": "209f663f-48b7-46a3-9fab-90cea9e57df3",
   "metadata": {},
   "outputs": [],
   "source": [
    "def fib(n):\n",
    "    fib_0 = 1\n",
    "    yield fib_0\n",
    "    fib_1 = 1\n",
    "    yield fib_1\n",
    "    for i in range(n-1):\n",
    "        fib_0, fib_1 = fib_1, fib_0 + fib_1 \n",
    "        yield fib_1"
   ]
  },
  {
   "cell_type": "code",
   "execution_count": 650,
   "id": "c29633af-4fae-4315-8334-b84f139b3509",
   "metadata": {},
   "outputs": [
    {
     "data": {
      "text/plain": [
       "[1, 1, 2, 3, 5, 8, 13, 21]"
      ]
     },
     "execution_count": 650,
     "metadata": {},
     "output_type": "execute_result"
    }
   ],
   "source": [
    "list(fib(7))"
   ]
  },
  {
   "cell_type": "code",
   "execution_count": 654,
   "id": "2de790f7-b360-49d7-bce7-86b7c106283f",
   "metadata": {},
   "outputs": [
    {
     "data": {
      "text/plain": [
       "4.207948222756386e-06"
      ]
     },
     "execution_count": 654,
     "metadata": {},
     "output_type": "execute_result"
    }
   ],
   "source": [
    "timeit('fib(30000)', globals=globals(), number=10)"
   ]
  },
  {
   "cell_type": "markdown",
   "id": "5940db42-5bf2-4562-89b7-646a599dde95",
   "metadata": {},
   "source": [
    "# creating iterable from a generator (as generator gives back an iterator!)"
   ]
  },
  {
   "cell_type": "code",
   "execution_count": 665,
   "id": "f02bf9e2-a484-460f-8c20-cd0e1e82351c",
   "metadata": {},
   "outputs": [],
   "source": [
    "def squares_gen(n):\n",
    "    for i in range(n):\n",
    "        yield(i**2)"
   ]
  },
  {
   "cell_type": "code",
   "execution_count": 666,
   "id": "c4d916d3-6a5e-4bb4-b085-ece470ab8df5",
   "metadata": {},
   "outputs": [
    {
     "data": {
      "text/plain": [
       "generator"
      ]
     },
     "execution_count": 666,
     "metadata": {},
     "output_type": "execute_result"
    }
   ],
   "source": [
    "sq = squares_gen(5)\n",
    "type(sq)"
   ]
  },
  {
   "cell_type": "code",
   "execution_count": 667,
   "id": "b8c34b1e-a961-4ce3-932b-0ed2fe023145",
   "metadata": {},
   "outputs": [
    {
     "data": {
      "text/plain": [
       "(True, True)"
      ]
     },
     "execution_count": 667,
     "metadata": {},
     "output_type": "execute_result"
    }
   ],
   "source": [
    "'__iter__' in dir(sq), '__next__' in dir(sq)"
   ]
  },
  {
   "cell_type": "code",
   "execution_count": 670,
   "id": "45d9bb6e-45bf-4cc1-b226-b89bebbfba8f",
   "metadata": {},
   "outputs": [
    {
     "data": {
      "text/plain": [
       "True"
      ]
     },
     "execution_count": 670,
     "metadata": {},
     "output_type": "execute_result"
    }
   ],
   "source": [
    "iter(sq) == sq"
   ]
  },
  {
   "cell_type": "code",
   "execution_count": 671,
   "id": "6c25c872-6000-4d3f-b520-957b29c56cc9",
   "metadata": {},
   "outputs": [
    {
     "name": "stdout",
     "output_type": "stream",
     "text": [
      "0\n",
      "1\n",
      "4\n",
      "9\n",
      "16\n"
     ]
    }
   ],
   "source": [
    "for num in sq:\n",
    "    print(num)"
   ]
  },
  {
   "cell_type": "code",
   "execution_count": 672,
   "id": "5991089f-2798-4665-ad6a-e317e030997f",
   "metadata": {},
   "outputs": [
    {
     "data": {
      "text/plain": [
       "[]"
      ]
     },
     "execution_count": 672,
     "metadata": {},
     "output_type": "execute_result"
    }
   ],
   "source": [
    "list(sq) #exhausted, if we want to iterate again we need to create another iterator!"
   ]
  },
  {
   "cell_type": "code",
   "execution_count": 680,
   "id": "26f52768-3e29-4018-bb95-aae63539523a",
   "metadata": {},
   "outputs": [],
   "source": [
    "class Squares():\n",
    "    def __init__(self, n):\n",
    "        self.n = n\n",
    "    def __iter__(self):\n",
    "        print(f'iter called')\n",
    "        return squares_gen(self.n)"
   ]
  },
  {
   "cell_type": "code",
   "execution_count": 681,
   "id": "aac7ce07-0cfa-4f6c-bb0e-681e37d0736e",
   "metadata": {},
   "outputs": [],
   "source": [
    "sq = Squares(5)"
   ]
  },
  {
   "cell_type": "code",
   "execution_count": 682,
   "id": "896ae620-3ba2-4abd-83df-41e5147ccd96",
   "metadata": {},
   "outputs": [
    {
     "name": "stdout",
     "output_type": "stream",
     "text": [
      "iter called\n"
     ]
    },
    {
     "data": {
      "text/plain": [
       "False"
      ]
     },
     "execution_count": 682,
     "metadata": {},
     "output_type": "execute_result"
    }
   ],
   "source": [
    "iter(sq) == sq"
   ]
  },
  {
   "cell_type": "code",
   "execution_count": 683,
   "id": "1727fd34-7f24-49ba-bc36-0f4fb559ca6f",
   "metadata": {},
   "outputs": [
    {
     "data": {
      "text/plain": [
       "(True, False)"
      ]
     },
     "execution_count": 683,
     "metadata": {},
     "output_type": "execute_result"
    }
   ],
   "source": [
    "'__iter__' in dir(sq), '__next__' in dir(sq)"
   ]
  },
  {
   "cell_type": "code",
   "execution_count": 684,
   "id": "f2a9567c-f124-4d7c-8da2-2ca9e69265de",
   "metadata": {},
   "outputs": [
    {
     "data": {
      "text/plain": [
       "(__main__.Squares, <__main__.Squares at 0x116c612b0>)"
      ]
     },
     "execution_count": 684,
     "metadata": {},
     "output_type": "execute_result"
    }
   ],
   "source": [
    "type(sq), sq"
   ]
  },
  {
   "cell_type": "code",
   "execution_count": 685,
   "id": "396130d9-3095-4ba3-b88d-570c53bc4ca5",
   "metadata": {},
   "outputs": [
    {
     "name": "stdout",
     "output_type": "stream",
     "text": [
      "iter called\n",
      "0\n",
      "1\n",
      "4\n",
      "9\n",
      "16\n"
     ]
    }
   ],
   "source": [
    "for num in sq:\n",
    "    print(num)"
   ]
  },
  {
   "cell_type": "code",
   "execution_count": null,
   "id": "32a08410-83cb-4b37-8715-801a9cebd150",
   "metadata": {},
   "outputs": [],
   "source": []
  }
 ],
 "metadata": {
  "kernelspec": {
   "display_name": "Python 3 (ipykernel)",
   "language": "python",
   "name": "python3"
  },
  "language_info": {
   "codemirror_mode": {
    "name": "ipython",
    "version": 3
   },
   "file_extension": ".py",
   "mimetype": "text/x-python",
   "name": "python",
   "nbconvert_exporter": "python",
   "pygments_lexer": "ipython3",
   "version": "3.13.2"
  }
 },
 "nbformat": 4,
 "nbformat_minor": 5
}
