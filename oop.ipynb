{
 "cells": [
  {
   "cell_type": "code",
   "execution_count": 9,
   "id": "ef473610-2304-4a2a-95b6-35796ec57b4d",
   "metadata": {},
   "outputs": [],
   "source": [
    "import math"
   ]
  },
  {
   "cell_type": "code",
   "execution_count": 84,
   "id": "b0259f2b-d6d5-4d54-9835-7eada95c15b0",
   "metadata": {
    "editable": true,
    "slideshow": {
     "slide_type": ""
    },
    "tags": []
   },
   "outputs": [],
   "source": [
    "class Circle:\n",
    "    def __init__(self, x, y, radius):\n",
    "        self.x = x\n",
    "        self.y = y\n",
    "        self.radius = radius\n",
    "\n",
    "    def area(self):\n",
    "        return math.pi * (self.radius ** 2)\n",
    "\n",
    "    def perimeter(self):\n",
    "        return 2 * math.pi * self.radius\n",
    "\n",
    "    def __str__(self):\n",
    "        print('__str__ method called')\n",
    "        return f'Circle at {self.x, self.y} with radius of {self.radius}'\n",
    "\n",
    "    def __repr__(self):\n",
    "        print('__repr__ method called')\n",
    "        return f'Circle with coords: x = {self.x}, y = {self.y}, and a radius of {self.radius}'\n",
    "\n",
    "    def __eq__(self, other):\n",
    "        # & does not short circut 'and' does\n",
    "        if (not isinstance(other, Circle)):\n",
    "            print(f'{other} is not of type Circle & hence not comparable')\n",
    "            return False\n",
    "        return self.radius == other.radius\n",
    "\n",
    "        # above is more pythonic way than below\n",
    "        \n",
    "        # if (self.radius == other.radius):\n",
    "        #     return True\n",
    "        # else:\n",
    "        #     return False\n",
    "        \n",
    "        "
   ]
  },
  {
   "cell_type": "code",
   "execution_count": 85,
   "id": "be291100-5d74-419e-97c1-b476f530f3d4",
   "metadata": {},
   "outputs": [],
   "source": [
    "c1 = Circle(0, 0 , 5)"
   ]
  },
  {
   "cell_type": "code",
   "execution_count": 70,
   "id": "a4f6e332-1ad1-458c-8289-650e54b6852d",
   "metadata": {},
   "outputs": [
    {
     "name": "stdout",
     "output_type": "stream",
     "text": [
      "__repr__ method called\n"
     ]
    },
    {
     "data": {
      "text/plain": [
       "Circle with coords: x = 0, y = 0, and a radius of 5"
      ]
     },
     "execution_count": 70,
     "metadata": {},
     "output_type": "execute_result"
    }
   ],
   "source": [
    "c1"
   ]
  },
  {
   "cell_type": "code",
   "execution_count": 71,
   "id": "d1c7db37-40fc-4af6-882c-1506e0e58098",
   "metadata": {},
   "outputs": [
    {
     "name": "stdout",
     "output_type": "stream",
     "text": [
      "__repr__ method called\n"
     ]
    },
    {
     "data": {
      "text/plain": [
       "'Circle with coords: x = 0, y = 0, and a radius of 5'"
      ]
     },
     "execution_count": 71,
     "metadata": {},
     "output_type": "execute_result"
    }
   ],
   "source": [
    "repr(c1)"
   ]
  },
  {
   "cell_type": "code",
   "execution_count": 72,
   "id": "970c1905-c872-4be9-9eca-2ef1a1cdd354",
   "metadata": {},
   "outputs": [
    {
     "name": "stdout",
     "output_type": "stream",
     "text": [
      "__str__ method called\n",
      "Circle at (0, 0) with radius of 5\n"
     ]
    }
   ],
   "source": [
    "print(c1)"
   ]
  },
  {
   "cell_type": "code",
   "execution_count": 73,
   "id": "a720aea2-804a-4fbb-8ed1-6aca805cb0a8",
   "metadata": {},
   "outputs": [
    {
     "name": "stdout",
     "output_type": "stream",
     "text": [
      "__str__ method called\n"
     ]
    },
    {
     "data": {
      "text/plain": [
       "'Circle at (0, 0) with radius of 5'"
      ]
     },
     "execution_count": 73,
     "metadata": {},
     "output_type": "execute_result"
    }
   ],
   "source": [
    "str(c1)"
   ]
  },
  {
   "cell_type": "code",
   "execution_count": 74,
   "id": "0d32a956-9ee2-45f3-b5d3-16b4d5bfd801",
   "metadata": {},
   "outputs": [
    {
     "data": {
      "text/plain": [
       "'0x10829dbe0'"
      ]
     },
     "execution_count": 74,
     "metadata": {},
     "output_type": "execute_result"
    }
   ],
   "source": [
    "hex(id(c1))"
   ]
  },
  {
   "cell_type": "code",
   "execution_count": 75,
   "id": "96466cf3-fc31-43c0-a808-cd2e47dbf224",
   "metadata": {},
   "outputs": [
    {
     "data": {
      "text/plain": [
       "(0, 78.53981633974483, 31.41592653589793)"
      ]
     },
     "execution_count": 75,
     "metadata": {},
     "output_type": "execute_result"
    }
   ],
   "source": [
    "c1.x, c1.area(), c1.perimeter()"
   ]
  },
  {
   "cell_type": "code",
   "execution_count": 89,
   "id": "8d66a3ac-ada8-43f7-8f14-6028d4951fae",
   "metadata": {},
   "outputs": [],
   "source": [
    "c2 = Circle(5, 5, 5)"
   ]
  },
  {
   "cell_type": "code",
   "execution_count": 86,
   "id": "ea870ec2-c6b1-4d0e-9a15-8d75b468fbb8",
   "metadata": {},
   "outputs": [
    {
     "name": "stdout",
     "output_type": "stream",
     "text": [
      "5 is not of type Circle & hence not comparable\n",
      "False\n"
     ]
    }
   ],
   "source": [
    "print(c1 == 5)"
   ]
  },
  {
   "cell_type": "code",
   "execution_count": 90,
   "id": "3c4cd76d-9ac6-4c6c-aa19-e073fcfcc2ee",
   "metadata": {},
   "outputs": [
    {
     "data": {
      "text/plain": [
       "True"
      ]
     },
     "execution_count": 90,
     "metadata": {},
     "output_type": "execute_result"
    }
   ],
   "source": [
    "c1==c2"
   ]
  },
  {
   "cell_type": "code",
   "execution_count": null,
   "id": "1aa2d748-4e39-48a8-b353-dd6a731620ca",
   "metadata": {},
   "outputs": [],
   "source": []
  }
 ],
 "metadata": {
  "kernelspec": {
   "display_name": "Python 3 (ipykernel)",
   "language": "python",
   "name": "python3"
  },
  "language_info": {
   "codemirror_mode": {
    "name": "ipython",
    "version": 3
   },
   "file_extension": ".py",
   "mimetype": "text/x-python",
   "name": "python",
   "nbconvert_exporter": "python",
   "pygments_lexer": "ipython3",
   "version": "3.13.2"
  }
 },
 "nbformat": 4,
 "nbformat_minor": 5
}
