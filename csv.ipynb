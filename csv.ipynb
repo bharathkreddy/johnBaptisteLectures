{
 "cells": [
  {
   "cell_type": "code",
   "execution_count": 3,
   "id": "6d7f9db5-d503-44b9-ac9d-cabaaac53478",
   "metadata": {},
   "outputs": [
    {
     "name": "stdout",
     "output_type": "stream",
     "text": [
      "First Name,Last Name,DOB,Sketches\n",
      "\n",
      "John,Cleese,10/27/39,\"The Cheese Shop, Ministry of Silly Walks, It's the Arts\"\n",
      "\n",
      "Eric,Idle,3/29/43,\"The Cheese Shop, Nudge Nudge, \"\"Spam\"\"\"\n",
      "\n",
      "Peter,O'Toole,8/2/32,Lawrence of Arabia\n"
     ]
    }
   ],
   "source": [
    "with open('data/actors.csv','r') as f:\n",
    "    for row in f:\n",
    "        print(row)"
   ]
  },
  {
   "cell_type": "code",
   "execution_count": 5,
   "id": "36851904-6d3c-4978-a533-89f3b8269b37",
   "metadata": {},
   "outputs": [
    {
     "name": "stdout",
     "output_type": "stream",
     "text": [
      "['First Name', 'Last Name', 'DOB', 'Sketches']\n",
      "['John', 'Cleese', '10/27/39', '\"The Cheese Shop', ' Ministry of Silly Walks', ' It\\'s the Arts\"']\n",
      "['Eric', 'Idle', '3/29/43', '\"The Cheese Shop', ' Nudge Nudge', ' \"\"Spam\"\"\"']\n",
      "['Peter', \"O'Toole\", '8/2/32', 'Lawrence of Arabia']\n"
     ]
    }
   ],
   "source": [
    "with open('data/actors.csv','r') as f:\n",
    "    for row in f:\n",
    "        row = row.strip()\n",
    "        fields = row.split(',')\n",
    "        print(fields)"
   ]
  },
  {
   "cell_type": "markdown",
   "id": "58e104c6-cc92-4ba2-8faa-3a2713257f62",
   "metadata": {},
   "source": [
    "### this looks like a lot of work "
   ]
  },
  {
   "cell_type": "code",
   "execution_count": 6,
   "id": "5bcddbfb-d4d2-4661-9723-46bee76fba7b",
   "metadata": {},
   "outputs": [],
   "source": [
    "import csv"
   ]
  },
  {
   "cell_type": "code",
   "execution_count": 7,
   "id": "1d2cdd45-e332-4df2-bb8b-5395d148fd15",
   "metadata": {},
   "outputs": [
    {
     "name": "stdout",
     "output_type": "stream",
     "text": [
      "['First Name', 'Last Name', 'DOB', 'Sketches']\n",
      "['John', 'Cleese', '10/27/39', \"The Cheese Shop, Ministry of Silly Walks, It's the Arts\"]\n",
      "['Eric', 'Idle', '3/29/43', 'The Cheese Shop, Nudge Nudge, \"Spam\"']\n",
      "['Peter', \"O'Toole\", '8/2/32', 'Lawrence of Arabia']\n"
     ]
    }
   ],
   "source": [
    "with open('data/actors.csv') as f:\n",
    "    reader = csv.reader(f, delimiter=',', quotechar='\"')\n",
    "    for row in reader:\n",
    "        print(row)"
   ]
  },
  {
   "cell_type": "markdown",
   "id": "c70bee98-1f27-4ba1-bf73-6691b04ae7b0",
   "metadata": {},
   "source": [
    "# dialects"
   ]
  },
  {
   "cell_type": "code",
   "execution_count": 9,
   "id": "f1693f3e-8f17-4e8f-b565-478f270827c7",
   "metadata": {},
   "outputs": [
    {
     "data": {
      "text/plain": [
       "['excel', 'excel-tab', 'unix']"
      ]
     },
     "execution_count": 9,
     "metadata": {},
     "output_type": "execute_result"
    }
   ],
   "source": [
    "csv.list_dialects()"
   ]
  },
  {
   "cell_type": "code",
   "execution_count": 12,
   "id": "feebc02a-ef52-445c-8ecf-fc53efe26c75",
   "metadata": {},
   "outputs": [
    {
     "name": "stdout",
     "output_type": "stream",
     "text": [
      "FIRST_NAME| LAST_NAME| DOB| SKETCHES\n",
      "John|Cleese| 10/27/39| 'The Cheese Shop, Ministry of Silly Walks, It\\'s the Arts'\n",
      "Eric| Idle| 3/29/43| 'The Cheese Shop, Nudge Nudge, \"Spam\"'\n",
      "Peter| 'O\\'Toole'| 8/2/32| Lawrence of Arabia\n"
     ]
    }
   ],
   "source": [
    "with open('data/actors.pdv') as f:\n",
    "    for row in f:\n",
    "        print(row.strip())"
   ]
  },
  {
   "cell_type": "code",
   "execution_count": 11,
   "id": "3bea8ff1-2ba5-438c-82ba-a79dbbe0f4e4",
   "metadata": {},
   "outputs": [
    {
     "name": "stdout",
     "output_type": "stream",
     "text": [
      "['FIRST_NAME', ' LAST_NAME', ' DOB', ' SKETCHES']\n",
      "['John', 'Cleese', ' 10/27/39', \" 'The Cheese Shop, Ministry of Silly Walks, It\\\\'s the Arts'\"]\n",
      "['Eric', ' Idle', ' 3/29/43', ' \\'The Cheese Shop, Nudge Nudge, \"Spam\"\\'']\n",
      "['Peter', \" 'O\\\\'Toole'\", ' 8/2/32', ' Lawrence of Arabia']\n"
     ]
    }
   ],
   "source": [
    "with open('data/actors.pdv') as f:\n",
    "    reader = csv.reader(f, delimiter='|', quotechar='\"')\n",
    "    for row in reader:\n",
    "        print(row)"
   ]
  },
  {
   "cell_type": "code",
   "execution_count": 14,
   "id": "5e7c9340-85f0-4b53-a8c1-0ef362489758",
   "metadata": {},
   "outputs": [
    {
     "name": "stdout",
     "output_type": "stream",
     "text": [
      "['FIRST_NAME', 'LAST_NAME', 'DOB', 'SKETCHES']\n",
      "['John', 'Cleese', '10/27/39', \"The Cheese Shop, Ministry of Silly Walks, It's the Arts\"]\n",
      "['Eric', 'Idle', '3/29/43', 'The Cheese Shop, Nudge Nudge, \"Spam\"']\n",
      "['Peter', \"O'Toole\", '8/2/32', 'Lawrence of Arabia']\n"
     ]
    }
   ],
   "source": [
    "with open('data/actors.pdv') as f:\n",
    "    reader = csv.reader(\n",
    "        f, \n",
    "        delimiter='|', \n",
    "        quotechar=\"'\",\n",
    "        escapechar=\"\\\\\",\n",
    "        skipinitialspace=True\n",
    "    )\n",
    "    for row in reader:\n",
    "        print(row)"
   ]
  },
  {
   "cell_type": "code",
   "execution_count": 15,
   "id": "ecfe33f2-a6e8-4e30-9838-9c1f27865b7a",
   "metadata": {},
   "outputs": [],
   "source": [
    "# if we want to repeat this for many files -> create a dialect\n",
    "\n",
    "csv.register_dialect(\n",
    "    'pdv_dialect',\n",
    "    delimiter='|', \n",
    "    quotechar=\"'\",\n",
    "    escapechar=\"\\\\\",\n",
    "    skipinitialspace=True\n",
    ")"
   ]
  },
  {
   "cell_type": "code",
   "execution_count": 17,
   "id": "851bf064-42cf-42e7-a9ea-3de477415b94",
   "metadata": {},
   "outputs": [
    {
     "data": {
      "text/plain": [
       "['excel', 'excel-tab', 'unix', 'pdv_dialect']"
      ]
     },
     "execution_count": 17,
     "metadata": {},
     "output_type": "execute_result"
    }
   ],
   "source": [
    "csv.list_dialects()"
   ]
  },
  {
   "cell_type": "code",
   "execution_count": 19,
   "id": "a2244724-704c-4bef-b743-4597d0c1510a",
   "metadata": {},
   "outputs": [
    {
     "name": "stdout",
     "output_type": "stream",
     "text": [
      "['FIRST_NAME', 'LAST_NAME', 'DOB', 'SKETCHES']\n",
      "['John', 'Cleese', '10/27/39', \"The Cheese Shop, Ministry of Silly Walks, It's the Arts\"]\n",
      "['Eric', 'Idle', '3/29/43', 'The Cheese Shop, Nudge Nudge, \"Spam\"']\n",
      "['Peter', \"O'Toole\", '8/2/32', 'Lawrence of Arabia']\n"
     ]
    }
   ],
   "source": [
    "with open('data/actors.pdv') as f:\n",
    "    reader = csv.reader(f, dialect='pdv_dialect')\n",
    "    for row in reader:\n",
    "        print(row)"
   ]
  },
  {
   "cell_type": "markdown",
   "id": "4e8f87ae-a5ca-493a-a45e-f1c9fd3dbf18",
   "metadata": {},
   "source": [
    "# writing csv files"
   ]
  },
  {
   "cell_type": "code",
   "execution_count": 21,
   "id": "1094856d-53a2-4c9d-9d30-1c9f36defbf2",
   "metadata": {},
   "outputs": [],
   "source": [
    "data = [\n",
    "    ['FIRST_NAME', 'LAST_NAME', 'DOB', 'SKETCHES'],\n",
    "    ['John', 'Cleese', '10/27/39', \"The Cheese Shop, Ministry of Silly Walks, It's the Arts\"],\n",
    "    ['Eric', 'Idle', '3/29/43', 'The Cheese Shop, Nudge Nudge, \"Spam\"'],\n",
    "    ['Peter', \"O'Toole\", '8/2/32', 'Lawrence of Arabia']\n",
    "]"
   ]
  },
  {
   "cell_type": "code",
   "execution_count": 22,
   "id": "cb1cfd65-0638-46e6-a1ab-d4f156c60d3b",
   "metadata": {},
   "outputs": [],
   "source": [
    "with open('data/test.csv','w') as f:\n",
    "    writer = csv.writer(f, dialect='excel')\n",
    "    for row in data:\n",
    "        writer.writerow(row)"
   ]
  },
  {
   "cell_type": "code",
   "execution_count": 24,
   "id": "f4843f6e-3483-4542-a7da-193893f0e720",
   "metadata": {},
   "outputs": [
    {
     "name": "stdout",
     "output_type": "stream",
     "text": [
      "['FIRST_NAME', 'LAST_NAME', 'DOB', 'SKETCHES']\n",
      "['John', 'Cleese', '10/27/39', \"The Cheese Shop, Ministry of Silly Walks, It's the Arts\"]\n",
      "['Eric', 'Idle', '3/29/43', 'The Cheese Shop, Nudge Nudge, \"Spam\"']\n",
      "['Peter', \"O'Toole\", '8/2/32', 'Lawrence of Arabia']\n"
     ]
    }
   ],
   "source": [
    "with open('data/test.csv') as f:\n",
    "    reader = csv.reader(f)\n",
    "    for row in reader:\n",
    "        print(row)"
   ]
  },
  {
   "cell_type": "code",
   "execution_count": null,
   "id": "9a73e39e-bbb8-4782-b2a0-34080483cce6",
   "metadata": {},
   "outputs": [],
   "source": []
  }
 ],
 "metadata": {
  "kernelspec": {
   "display_name": "Python 3 (ipykernel)",
   "language": "python",
   "name": "python3"
  },
  "language_info": {
   "codemirror_mode": {
    "name": "ipython",
    "version": 3
   },
   "file_extension": ".py",
   "mimetype": "text/x-python",
   "name": "python",
   "nbconvert_exporter": "python",
   "pygments_lexer": "ipython3",
   "version": "3.13.2"
  }
 },
 "nbformat": 4,
 "nbformat_minor": 5
}
