{
 "cells": [
  {
   "cell_type": "code",
   "execution_count": 30,
   "id": "9f0d036f-093e-46bf-9ec9-c55d33508fdd",
   "metadata": {
    "editable": true,
    "slideshow": {
     "slide_type": ""
    },
    "tags": []
   },
   "outputs": [],
   "source": [
    "import sys"
   ]
  },
  {
   "cell_type": "code",
   "execution_count": 31,
   "id": "0edb49a0-487f-491a-9020-49d687a94f09",
   "metadata": {
    "editable": true,
    "slideshow": {
     "slide_type": ""
    },
    "tags": []
   },
   "outputs": [],
   "source": [
    "a = [1, 2, 3]"
   ]
  },
  {
   "cell_type": "code",
   "execution_count": 32,
   "id": "2690e5d8-cd9e-40a5-9d34-ceb116d8773d",
   "metadata": {},
   "outputs": [
    {
     "data": {
      "text/plain": [
       "4651604800"
      ]
     },
     "execution_count": 32,
     "metadata": {},
     "output_type": "execute_result"
    }
   ],
   "source": [
    "id(a)"
   ]
  },
  {
   "cell_type": "code",
   "execution_count": 33,
   "id": "d81cee6a-acca-4a91-b759-ce8ffd36d81c",
   "metadata": {},
   "outputs": [
    {
     "data": {
      "text/plain": [
       "2"
      ]
     },
     "execution_count": 33,
     "metadata": {},
     "output_type": "execute_result"
    }
   ],
   "source": [
    "sys.getrefcount(a)\n",
    "# since a is passed to the function - it generates a additional ref hence 2"
   ]
  },
  {
   "cell_type": "code",
   "execution_count": 34,
   "id": "1d68525e-d915-43ec-b539-df8db7c4ab11",
   "metadata": {},
   "outputs": [],
   "source": [
    "import ctypes"
   ]
  },
  {
   "cell_type": "code",
   "execution_count": 35,
   "id": "fb7d28fe-0501-48cb-b6d9-dcee865d4b41",
   "metadata": {},
   "outputs": [],
   "source": [
    "def ref_count(address:int):\n",
    "    return ctypes.c_long.from_address(address).value"
   ]
  },
  {
   "cell_type": "code",
   "execution_count": 36,
   "id": "8d3f5ec8-ad61-4748-96ba-dc313d0338e3",
   "metadata": {},
   "outputs": [
    {
     "data": {
      "text/plain": [
       "1"
      ]
     },
     "execution_count": 36,
     "metadata": {},
     "output_type": "execute_result"
    }
   ],
   "source": [
    "ref_count(id(a))"
   ]
  },
  {
   "cell_type": "code",
   "execution_count": 37,
   "id": "80b96cf1-44ae-45a7-8803-72c6e4398ca4",
   "metadata": {},
   "outputs": [],
   "source": [
    "b = a \n",
    "c = a"
   ]
  },
  {
   "cell_type": "code",
   "execution_count": 38,
   "id": "6111a056-0847-4526-9a82-ddd1285429c5",
   "metadata": {},
   "outputs": [
    {
     "data": {
      "text/plain": [
       "(4651604800, 4651604800, 4651604800)"
      ]
     },
     "execution_count": 38,
     "metadata": {},
     "output_type": "execute_result"
    }
   ],
   "source": [
    "id(b), id(a), id(c)"
   ]
  },
  {
   "cell_type": "code",
   "execution_count": 39,
   "id": "93fb87bb-bcca-46ab-acdb-2b84d84c5f56",
   "metadata": {},
   "outputs": [
    {
     "data": {
      "text/plain": [
       "(3, 3)"
      ]
     },
     "execution_count": 39,
     "metadata": {},
     "output_type": "execute_result"
    }
   ],
   "source": [
    "ref_count(id(a)), ref_count(id(b))"
   ]
  },
  {
   "cell_type": "code",
   "execution_count": 40,
   "id": "76087405-0e1d-4450-b1d0-0fdbfcfd3c3d",
   "metadata": {},
   "outputs": [],
   "source": [
    "b = None"
   ]
  },
  {
   "cell_type": "code",
   "execution_count": 41,
   "id": "f13589d8-f6ed-48fd-ba20-4b7f704fd682",
   "metadata": {},
   "outputs": [
    {
     "data": {
      "text/plain": [
       "4383187768"
      ]
     },
     "execution_count": 41,
     "metadata": {},
     "output_type": "execute_result"
    }
   ],
   "source": [
    "id(b)"
   ]
  },
  {
   "cell_type": "code",
   "execution_count": 44,
   "id": "5eaac324-a281-4f06-bfea-7ee2f02a28b8",
   "metadata": {},
   "outputs": [
    {
     "data": {
      "text/plain": [
       "(2, 4294967295, 2)"
      ]
     },
     "execution_count": 44,
     "metadata": {},
     "output_type": "execute_result"
    }
   ],
   "source": [
    "ref_count(id(a)), ref_count(id(b)), ref_count(id(c))\n",
    "# the memory address of b is released and can be pointing to anything as of now"
   ]
  },
  {
   "cell_type": "code",
   "execution_count": 45,
   "id": "fcff5c96-2441-49f2-bee6-84b0b69f0eae",
   "metadata": {},
   "outputs": [],
   "source": [
    "c = 'Bharath'"
   ]
  },
  {
   "cell_type": "code",
   "execution_count": 47,
   "id": "b29c23d1-c684-4c2f-a2c5-add2253269ca",
   "metadata": {},
   "outputs": [
    {
     "data": {
      "text/plain": [
       "(1, 4294967295, 1)"
      ]
     },
     "execution_count": 47,
     "metadata": {},
     "output_type": "execute_result"
    }
   ],
   "source": [
    "ref_count(id(a)), ref_count(id(b)), ref_count(id(c))"
   ]
  },
  {
   "cell_type": "code",
   "execution_count": 87,
   "id": "f9c1a324-2e78-4132-92a6-5d408f8d9ccd",
   "metadata": {},
   "outputs": [],
   "source": [
    "import gc\n",
    "# garbage collector"
   ]
  },
  {
   "cell_type": "code",
   "execution_count": 88,
   "id": "32a1f5b0-9edc-46d4-9eeb-c631eb3f3bee",
   "metadata": {},
   "outputs": [],
   "source": [
    "def ref_count(address:int):\n",
    "    return ctypes.c_long.from_address(address).value"
   ]
  },
  {
   "cell_type": "code",
   "execution_count": 89,
   "id": "a0091811-3202-4c1a-9ab0-5fe5dbed3f1e",
   "metadata": {},
   "outputs": [],
   "source": [
    "def object_by_id(object_id):\n",
    "    for obj in gc.get_objects():\n",
    "        if id(obj) == object_id:\n",
    "            return \"object exists\"\n",
    "        return \"Not Found\""
   ]
  },
  {
   "cell_type": "code",
   "execution_count": 90,
   "id": "79a15812-da02-48c5-982a-cd59bf488da3",
   "metadata": {},
   "outputs": [],
   "source": [
    "# creating a circular reference\n",
    "\n",
    "class A:\n",
    "    def __init__(self):\n",
    "        self.b = B(self)\n",
    "        print(f'A: self: {hex(id(self))}, b: {hex(id(self.b))}')\n",
    "\n",
    "class B:\n",
    "    def __init__(self, a):\n",
    "        self.a = a\n",
    "        print(f'B: self: {hex(id(self))}, a: {hex(id(self.a))}')"
   ]
  },
  {
   "cell_type": "code",
   "execution_count": 91,
   "id": "360cf93b-c1e6-4934-8305-8d845406b25e",
   "metadata": {},
   "outputs": [],
   "source": [
    "gc.disable()"
   ]
  },
  {
   "cell_type": "code",
   "execution_count": 92,
   "id": "0aefee48-446c-4d44-9f65-98ede2fc282b",
   "metadata": {},
   "outputs": [
    {
     "name": "stdout",
     "output_type": "stream",
     "text": [
      "B: self: 0x11544f770, a: 0x11544f620\n",
      "A: self: 0x11544f620, b: 0x11544f770\n"
     ]
    }
   ],
   "source": [
    "my_var = A()"
   ]
  },
  {
   "cell_type": "code",
   "execution_count": 93,
   "id": "ef76d28e-b075-4e7e-afe2-5f41ea26151b",
   "metadata": {},
   "outputs": [],
   "source": [
    "a_id = id(my_var)\n",
    "b_id = id(my_var.b)"
   ]
  },
  {
   "cell_type": "code",
   "execution_count": 94,
   "id": "a8d8aac4-44d9-44df-a048-c00a79dcf7ab",
   "metadata": {},
   "outputs": [
    {
     "data": {
      "text/plain": [
       "'Not Found'"
      ]
     },
     "execution_count": 94,
     "metadata": {},
     "output_type": "execute_result"
    }
   ],
   "source": [
    "object_by_id(a_id)"
   ]
  },
  {
   "cell_type": "code",
   "execution_count": 95,
   "id": "2fa90b23-3d7f-4e01-b505-15321a508582",
   "metadata": {},
   "outputs": [
    {
     "data": {
      "text/plain": [
       "'Not Found'"
      ]
     },
     "execution_count": 95,
     "metadata": {},
     "output_type": "execute_result"
    }
   ],
   "source": [
    "object_by_id(b_id)"
   ]
  },
  {
   "cell_type": "code",
   "execution_count": 96,
   "id": "ee40f4df-1f5c-4e2d-8698-6f73a5a9893b",
   "metadata": {},
   "outputs": [
    {
     "data": {
      "text/plain": [
       "1"
      ]
     },
     "execution_count": 96,
     "metadata": {},
     "output_type": "execute_result"
    }
   ],
   "source": [
    "my_var = None\n",
    "ref_count(a_id)"
   ]
  },
  {
   "cell_type": "code",
   "execution_count": 97,
   "id": "a4944acb-57ac-4a15-ba12-46645d54fdb4",
   "metadata": {},
   "outputs": [
    {
     "data": {
      "text/plain": [
       "1"
      ]
     },
     "execution_count": 97,
     "metadata": {},
     "output_type": "execute_result"
    }
   ],
   "source": [
    "ref_count(b_id)"
   ]
  },
  {
   "cell_type": "code",
   "execution_count": 98,
   "id": "3d79c3b7-b566-435f-a551-591937ef5523",
   "metadata": {},
   "outputs": [
    {
     "data": {
      "text/plain": [
       "'Not Found'"
      ]
     },
     "execution_count": 98,
     "metadata": {},
     "output_type": "execute_result"
    }
   ],
   "source": [
    "object_by_id(a_id)"
   ]
  },
  {
   "cell_type": "code",
   "execution_count": 99,
   "id": "1625ddbe-5232-48fb-8120-92b4e4df39e9",
   "metadata": {},
   "outputs": [
    {
     "data": {
      "text/plain": [
       "'Not Found'"
      ]
     },
     "execution_count": 99,
     "metadata": {},
     "output_type": "execute_result"
    }
   ],
   "source": [
    "object_by_id(b_id)"
   ]
  },
  {
   "cell_type": "code",
   "execution_count": 100,
   "id": "748c22b8-1c8b-4c6d-8cc9-9a795c61e568",
   "metadata": {},
   "outputs": [
    {
     "data": {
      "text/plain": [
       "30"
      ]
     },
     "execution_count": 100,
     "metadata": {},
     "output_type": "execute_result"
    }
   ],
   "source": [
    "gc.collect()"
   ]
  },
  {
   "cell_type": "code",
   "execution_count": 101,
   "id": "f58c2922-9504-4a46-bfe1-ca07febf7462",
   "metadata": {},
   "outputs": [
    {
     "data": {
      "text/plain": [
       "'Not Found'"
      ]
     },
     "execution_count": 101,
     "metadata": {},
     "output_type": "execute_result"
    }
   ],
   "source": [
    "object_by_id(a_id)"
   ]
  },
  {
   "cell_type": "code",
   "execution_count": 102,
   "id": "7616cd67-a7bf-4ea1-aebc-3128fd897ade",
   "metadata": {},
   "outputs": [
    {
     "data": {
      "text/plain": [
       "(0, 0)"
      ]
     },
     "execution_count": 102,
     "metadata": {},
     "output_type": "execute_result"
    }
   ],
   "source": [
    "ref_count(a_id), ref_count(b_id)"
   ]
  },
  {
   "cell_type": "code",
   "execution_count": 103,
   "id": "abbe6b25-a1d9-4df9-be24-a8d122cbcbe7",
   "metadata": {},
   "outputs": [
    {
     "data": {
      "text/plain": [
       "(0, 0)"
      ]
     },
     "execution_count": 103,
     "metadata": {},
     "output_type": "execute_result"
    }
   ],
   "source": [
    "ref_count(a_id), ref_count(b_id)"
   ]
  },
  {
   "cell_type": "code",
   "execution_count": 104,
   "id": "9612a95e-fe2f-4a25-ada7-5cbb14f116ff",
   "metadata": {},
   "outputs": [
    {
     "data": {
      "text/plain": [
       "('0x115701d80', '0x1054461e0', '0x105446320', '0x105446460')"
      ]
     },
     "execution_count": 104,
     "metadata": {},
     "output_type": "execute_result"
    }
   ],
   "source": [
    "a = [10, 20, 30]\n",
    "hex(id(a)), hex(id(a[0])), hex(id(a[1])), hex(id(a[2]))"
   ]
  },
  {
   "cell_type": "code",
   "execution_count": 105,
   "id": "e6dca95d-c3bc-4278-a3ac-24cbcb89dddb",
   "metadata": {},
   "outputs": [
    {
     "data": {
      "text/plain": [
       "('0x115701d80', '0x105446d00', '0x105446320', '0x105446460')"
      ]
     },
     "execution_count": 105,
     "metadata": {},
     "output_type": "execute_result"
    }
   ],
   "source": [
    "a[0] = 99\n",
    "hex(id(a)), hex(id(a[0])), hex(id(a[1])), hex(id(a[2]))"
   ]
  },
  {
   "cell_type": "markdown",
   "id": "2d850d12-4888-459d-916b-1a6b85906cc9",
   "metadata": {},
   "source": [
    "# Interning\n",
    "\n",
    "## intergers (-5, 127 ) are interned"
   ]
  },
  {
   "cell_type": "code",
   "execution_count": 106,
   "id": "d37ab401-95a8-4fb1-9d8b-aca33ada7da6",
   "metadata": {},
   "outputs": [],
   "source": [
    "a = 5\n",
    "b = 5"
   ]
  },
  {
   "cell_type": "code",
   "execution_count": 107,
   "id": "9e859fff-8ece-4feb-80a6-a07c843035e3",
   "metadata": {},
   "outputs": [
    {
     "data": {
      "text/plain": [
       "(True, True)"
      ]
     },
     "execution_count": 107,
     "metadata": {},
     "output_type": "execute_result"
    }
   ],
   "source": [
    "a is b, a == b"
   ]
  },
  {
   "cell_type": "code",
   "execution_count": 112,
   "id": "95d0faab-8273-41f6-b9bb-458fa1f7c386",
   "metadata": {},
   "outputs": [
    {
     "data": {
      "text/plain": [
       "(False, True)"
      ]
     },
     "execution_count": 112,
     "metadata": {},
     "output_type": "execute_result"
    }
   ],
   "source": [
    "a = 1000\n",
    "b = 1000 \n",
    "a is b, a == b"
   ]
  },
  {
   "cell_type": "code",
   "execution_count": 113,
   "id": "e9d985a2-d9e5-4dee-82ce-58723f5febf3",
   "metadata": {},
   "outputs": [
    {
     "data": {
      "text/plain": [
       "(True, True)"
      ]
     },
     "execution_count": 113,
     "metadata": {},
     "output_type": "execute_result"
    }
   ],
   "source": [
    "a = 'brk'\n",
    "b = 'brk'\n",
    "\n",
    "a is b, a == b"
   ]
  },
  {
   "cell_type": "code",
   "execution_count": 114,
   "id": "fd2d30a6-0df9-40f9-aeec-de58affb0a3d",
   "metadata": {},
   "outputs": [
    {
     "data": {
      "text/plain": [
       "(False, True)"
      ]
     },
     "execution_count": 114,
     "metadata": {},
     "output_type": "execute_result"
    }
   ],
   "source": [
    "a = 'hello brk'\n",
    "b = 'hello brk'\n",
    "\n",
    "a is b , a==b"
   ]
  },
  {
   "cell_type": "code",
   "execution_count": 115,
   "id": "c9708b51-928e-41ec-ade6-fceebf6bcee6",
   "metadata": {},
   "outputs": [
    {
     "data": {
      "text/plain": [
       "('0x11577f9b0', '0x11577f730')"
      ]
     },
     "execution_count": 115,
     "metadata": {},
     "output_type": "execute_result"
    }
   ],
   "source": [
    "hex(id(a)), hex(id(b))"
   ]
  },
  {
   "cell_type": "markdown",
   "id": "5a380569-cd31-46c6-a3f3-bccd236c2d0f",
   "metadata": {},
   "source": [
    "# as long as a string looks like an identifier they are interned"
   ]
  },
  {
   "cell_type": "code",
   "execution_count": 117,
   "id": "7d6c3219-1d55-4684-a649-561fc2d18380",
   "metadata": {},
   "outputs": [
    {
     "data": {
      "text/plain": [
       "(True, True)"
      ]
     },
     "execution_count": 117,
     "metadata": {},
     "output_type": "execute_result"
    }
   ],
   "source": [
    "a = \"hello_brk\"\n",
    "b = \"hello_brk\"\n",
    "\n",
    "a is b , a==b"
   ]
  },
  {
   "cell_type": "code",
   "execution_count": 118,
   "id": "393c16a5-3c08-4231-9911-933fb86003ff",
   "metadata": {},
   "outputs": [],
   "source": [
    "import sys"
   ]
  },
  {
   "cell_type": "code",
   "execution_count": 119,
   "id": "6bade66b-b1ec-4c2b-b31d-cad97e500120",
   "metadata": {},
   "outputs": [
    {
     "name": "stdout",
     "output_type": "stream",
     "text": [
      "0x1156ebeb0 0x1156ebeb0 0x1156e9870\n"
     ]
    }
   ],
   "source": [
    "a = sys.intern('hello brk')\n",
    "b = sys.intern('hello brk')\n",
    "c = 'hello brk'\n",
    "\n",
    "print(hex(id(a)), hex(id(b)), hex(id(c)))"
   ]
  },
  {
   "cell_type": "code",
   "execution_count": 124,
   "id": "dd4ac6cb-ae63-494c-a77e-ee7a7c138d40",
   "metadata": {},
   "outputs": [
    {
     "data": {
      "text/plain": [
       "(True, False, False, True)"
      ]
     },
     "execution_count": 124,
     "metadata": {},
     "output_type": "execute_result"
    }
   ],
   "source": [
    "a is b, a is c, b is c, a == c"
   ]
  },
  {
   "cell_type": "code",
   "execution_count": 125,
   "id": "a2f8cb82-2b3a-478e-b125-edd300375167",
   "metadata": {},
   "outputs": [],
   "source": [
    "def compare_using_equals(n):\n",
    "    a = 'a long string that is not interned' * 200\n",
    "    b = 'a long string that is not interned' * 200\n",
    "    for i in range(n):\n",
    "        if a == b:\n",
    "            pass"
   ]
  },
  {
   "cell_type": "code",
   "execution_count": 126,
   "id": "78edf2bf-c12e-4deb-acea-8e9018e060c9",
   "metadata": {},
   "outputs": [],
   "source": [
    "def compare_using_interning(n):\n",
    "    a = sys.intern('a long string that is not interned' * 200)\n",
    "    b = sys.intern('a long string that is not interned' * 200)\n",
    "    for i in range(n):\n",
    "        if a is b:\n",
    "            pass"
   ]
  },
  {
   "cell_type": "markdown",
   "id": "57fdc9fb-c8e0-4135-baee-a9dacd43f337",
   "metadata": {},
   "source": [
    "# `is` is much faster than `==`"
   ]
  },
  {
   "cell_type": "code",
   "execution_count": 127,
   "id": "7b702560-92ab-4c33-87ed-c748a0fddffb",
   "metadata": {},
   "outputs": [],
   "source": [
    "import time"
   ]
  },
  {
   "cell_type": "code",
   "execution_count": 132,
   "id": "8f43843f-de0e-492d-a619-b11c607bf14e",
   "metadata": {},
   "outputs": [
    {
     "name": "stdout",
     "output_type": "stream",
     "text": [
      "Equal: 3.6977038340410218\n"
     ]
    }
   ],
   "source": [
    "start = time.perf_counter()\n",
    "compare_using_equals(10_000_000)\n",
    "end = time.perf_counter()\n",
    "print(f'Equal: {end - start}')"
   ]
  },
  {
   "cell_type": "code",
   "execution_count": 133,
   "id": "a32c8499-8e8f-411d-b74d-ca9beddf0b27",
   "metadata": {},
   "outputs": [
    {
     "name": "stdout",
     "output_type": "stream",
     "text": [
      "Equal: 0.29071904090233147\n"
     ]
    }
   ],
   "source": [
    "start = time.perf_counter()\n",
    "compare_using_interning(10_000_000)\n",
    "end = time.perf_counter()\n",
    "print(f'Equal: {end - start}')"
   ]
  },
  {
   "cell_type": "markdown",
   "id": "9c3372a0-1708-4c17-ba69-6d6ef98adadd",
   "metadata": {},
   "source": [
    "# Number types"
   ]
  },
  {
   "cell_type": "code",
   "execution_count": 134,
   "id": "70c19098-3692-4637-9bed-7bcd6103b91c",
   "metadata": {},
   "outputs": [
    {
     "data": {
      "text/plain": [
       "28"
      ]
     },
     "execution_count": 134,
     "metadata": {},
     "output_type": "execute_result"
    }
   ],
   "source": [
    "sys.getsizeof(0)"
   ]
  },
  {
   "cell_type": "code",
   "execution_count": 135,
   "id": "2c5e928b-8257-4e7a-ae47-edb7bf776495",
   "metadata": {},
   "outputs": [
    {
     "data": {
      "text/plain": [
       "160"
      ]
     },
     "execution_count": 135,
     "metadata": {},
     "output_type": "execute_result"
    }
   ],
   "source": [
    "sys.getsizeof(2**1000)"
   ]
  },
  {
   "cell_type": "code",
   "execution_count": null,
   "id": "8ef770f9-1474-4a80-bde4-0108bfcae7b3",
   "metadata": {},
   "outputs": [],
   "source": []
  }
 ],
 "metadata": {
  "kernelspec": {
   "display_name": "Python 3 (ipykernel)",
   "language": "python",
   "name": "python3"
  },
  "language_info": {
   "codemirror_mode": {
    "name": "ipython",
    "version": 3
   },
   "file_extension": ".py",
   "mimetype": "text/x-python",
   "name": "python",
   "nbconvert_exporter": "python",
   "pygments_lexer": "ipython3",
   "version": "3.13.2"
  }
 },
 "nbformat": 4,
 "nbformat_minor": 5
}
