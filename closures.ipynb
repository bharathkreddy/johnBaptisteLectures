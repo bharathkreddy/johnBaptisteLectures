{
 "cells": [
  {
   "cell_type": "markdown",
   "id": "f3eea6e0-a4f0-421e-8fbd-500435b16978",
   "metadata": {
    "editable": true,
    "slideshow": {
     "slide_type": ""
    },
    "tags": []
   },
   "source": [
    "# Global and Local Scoping\n",
    "\n",
    "### When python encounters a function definition at compile-time\n",
    "1. It will `scan` for any labels that have values `assigned` to them (anywhere in the function). If the balen has not been specified as `global`, then it will be local.\n",
    "2. Variables that are referenced but `not assigned` a value anywhere in the function will `not be local` and python will, at `run-time`, look for them in `enclosing` scopes."
   ]
  },
  {
   "cell_type": "code",
   "execution_count": 8,
   "id": "bdc5f89b-b530-4a20-945b-1cd200d3880d",
   "metadata": {},
   "outputs": [
    {
     "name": "stdout",
     "output_type": "stream",
     "text": [
      "10\n",
      "10\n"
     ]
    }
   ],
   "source": [
    "a = 10\n",
    "\n",
    "def my_func():\n",
    "    print(a)\n",
    "    \n",
    "my_func()\n",
    "\n",
    "print(a)"
   ]
  },
  {
   "cell_type": "code",
   "execution_count": 9,
   "id": "b618f0db-0998-445e-aa91-1dda2972a581",
   "metadata": {},
   "outputs": [
    {
     "name": "stdout",
     "output_type": "stream",
     "text": [
      "hello\n",
      "10\n"
     ]
    }
   ],
   "source": [
    "a = 10\n",
    "\n",
    "def my_func():\n",
    "    a = 'hello'\n",
    "    print(a)\n",
    "\n",
    "my_func()\n",
    "print(a)"
   ]
  },
  {
   "cell_type": "code",
   "execution_count": 10,
   "id": "12fec4ad-a103-431b-857c-580750d75d06",
   "metadata": {},
   "outputs": [
    {
     "name": "stdout",
     "output_type": "stream",
     "text": [
      "hello\n",
      "hello\n"
     ]
    }
   ],
   "source": [
    "a = 10\n",
    "\n",
    "def my_func():\n",
    "    global a\n",
    "    a = 'hello'\n",
    "    print(a)\n",
    "\n",
    "my_func()\n",
    "print(a)"
   ]
  },
  {
   "cell_type": "code",
   "execution_count": 13,
   "id": "caf148bc-d89c-42f3-9ca3-410f26c1f04b",
   "metadata": {},
   "outputs": [
    {
     "ename": "UnboundLocalError",
     "evalue": "cannot access local variable 'a' where it is not associated with a value",
     "output_type": "error",
     "traceback": [
      "\u001b[31m---------------------------------------------------------------------------\u001b[39m",
      "\u001b[31mUnboundLocalError\u001b[39m                         Traceback (most recent call last)",
      "\u001b[36mCell\u001b[39m\u001b[36m \u001b[39m\u001b[32mIn[13]\u001b[39m\u001b[32m, line 11\u001b[39m\n\u001b[32m      8\u001b[39m     a = \u001b[33m'\u001b[39m\u001b[33mhello\u001b[39m\u001b[33m'\u001b[39m\n\u001b[32m      9\u001b[39m     \u001b[38;5;28mprint\u001b[39m(a)\n\u001b[32m---> \u001b[39m\u001b[32m11\u001b[39m \u001b[43mmy_func\u001b[49m\u001b[43m(\u001b[49m\u001b[43m)\u001b[49m\n\u001b[32m     12\u001b[39m \u001b[38;5;28mprint\u001b[39m(a)\n",
      "\u001b[36mCell\u001b[39m\u001b[36m \u001b[39m\u001b[32mIn[13]\u001b[39m\u001b[32m, line 7\u001b[39m, in \u001b[36mmy_func\u001b[39m\u001b[34m()\u001b[39m\n\u001b[32m      6\u001b[39m \u001b[38;5;28;01mdef\u001b[39;00m\u001b[38;5;250m \u001b[39m\u001b[34mmy_func\u001b[39m():\n\u001b[32m----> \u001b[39m\u001b[32m7\u001b[39m     \u001b[38;5;28mprint\u001b[39m(\u001b[33mf\u001b[39m\u001b[33m'\u001b[39m\u001b[33mglobal a: \u001b[39m\u001b[38;5;132;01m{\u001b[39;00m\u001b[43ma\u001b[49m\u001b[38;5;132;01m}\u001b[39;00m\u001b[33m'\u001b[39m)\n\u001b[32m      8\u001b[39m     a = \u001b[33m'\u001b[39m\u001b[33mhello\u001b[39m\u001b[33m'\u001b[39m\n\u001b[32m      9\u001b[39m     \u001b[38;5;28mprint\u001b[39m(a)\n",
      "\u001b[31mUnboundLocalError\u001b[39m: cannot access local variable 'a' where it is not associated with a value"
     ]
    }
   ],
   "source": [
    "# at compile-time python determined a to be local, \n",
    "# at run-time python looks for a local a which has not been defined.\n",
    "\n",
    "a = 10\n",
    "\n",
    "def my_func():\n",
    "    print(f'global a: {a}')\n",
    "    a = 'hello'\n",
    "    print(a)\n",
    "\n",
    "my_func()\n",
    "print(a)"
   ]
  },
  {
   "cell_type": "code",
   "execution_count": 14,
   "id": "62182431-8cfd-4727-a7b8-cc7caba65c6f",
   "metadata": {},
   "outputs": [
    {
     "ename": "NameError",
     "evalue": "name 'x' is not defined",
     "output_type": "error",
     "traceback": [
      "\u001b[31m---------------------------------------------------------------------------\u001b[39m",
      "\u001b[31mNameError\u001b[39m                                 Traceback (most recent call last)",
      "\u001b[36mCell\u001b[39m\u001b[36m \u001b[39m\u001b[32mIn[14]\u001b[39m\u001b[32m, line 1\u001b[39m\n\u001b[32m----> \u001b[39m\u001b[32m1\u001b[39m \u001b[38;5;28mprint\u001b[39m(\u001b[43mx\u001b[49m)\n",
      "\u001b[31mNameError\u001b[39m: name 'x' is not defined"
     ]
    }
   ],
   "source": [
    "print(x)"
   ]
  },
  {
   "cell_type": "code",
   "execution_count": 15,
   "id": "c8ec010d-ee66-4e35-a46f-581970b898b7",
   "metadata": {},
   "outputs": [],
   "source": [
    "for i in range(10):\n",
    "    x = i ** 2"
   ]
  },
  {
   "cell_type": "code",
   "execution_count": 19,
   "id": "d1cbd690-774a-4fcb-a7b1-70290c65aca8",
   "metadata": {},
   "outputs": [
    {
     "data": {
      "text/plain": [
       "(9, 81)"
      ]
     },
     "execution_count": 19,
     "metadata": {},
     "output_type": "execute_result"
    }
   ],
   "source": [
    "# variables in python are not block scoped\n",
    "i, x"
   ]
  },
  {
   "cell_type": "markdown",
   "id": "5213aec0-a3e0-46c5-b742-936901344c74",
   "metadata": {},
   "source": [
    "# Nonlocal Scopes"
   ]
  },
  {
   "cell_type": "code",
   "execution_count": 20,
   "id": "5a49a488-55eb-4150-bc98-3bbf6a834805",
   "metadata": {},
   "outputs": [],
   "source": [
    "def outer_func():\n",
    "    x = 'hello'  # enclosing scope\n",
    "    def inner_func():\n",
    "        print(x)\n",
    "    inner_func()"
   ]
  },
  {
   "cell_type": "code",
   "execution_count": 21,
   "id": "6c506802-1bc1-4e49-8876-a5b1754bcbba",
   "metadata": {},
   "outputs": [
    {
     "name": "stdout",
     "output_type": "stream",
     "text": [
      "hello\n"
     ]
    }
   ],
   "source": [
    "outer_func()"
   ]
  },
  {
   "cell_type": "code",
   "execution_count": 23,
   "id": "ef265c06-7cb3-4662-a6ba-d3e9a280101b",
   "metadata": {},
   "outputs": [
    {
     "name": "stdout",
     "output_type": "stream",
     "text": [
      "hello\n"
     ]
    }
   ],
   "source": [
    "def outer_func():\n",
    "    x = 'hello'\n",
    "    def inner1():\n",
    "        def inner2():\n",
    "            print(x)\n",
    "        inner2()\n",
    "    inner1()\n",
    "\n",
    "outer_func()"
   ]
  },
  {
   "cell_type": "code",
   "execution_count": 26,
   "id": "dbeba512-e1aa-4dc1-b66f-4f0ae3859c82",
   "metadata": {},
   "outputs": [
    {
     "name": "stdout",
     "output_type": "stream",
     "text": [
      "inner x: python\n",
      "outer x: hello\n"
     ]
    }
   ],
   "source": [
    "def outer_func():\n",
    "    x = 'hello'\n",
    "    def inner():\n",
    "        x = 'python'\n",
    "        print(f'inner x: {x}')\n",
    "    inner()\n",
    "    print(f'outer x: {x}')\n",
    "\n",
    "outer_func()"
   ]
  },
  {
   "cell_type": "code",
   "execution_count": 31,
   "id": "f4e4c690-4382-48bf-8062-6123eb46d9db",
   "metadata": {},
   "outputs": [
    {
     "name": "stdout",
     "output_type": "stream",
     "text": [
      "outer(before) x: hello\n",
      "inner x: python\n",
      "outer(after) x: python\n"
     ]
    }
   ],
   "source": [
    "def outer_func():\n",
    "    x = 'hello'\n",
    "    def inner():\n",
    "        nonlocal x\n",
    "        x = 'python'\n",
    "        print(f'inner x: {x}')\n",
    "    print(f'outer(before) x: {x}')\n",
    "    inner()\n",
    "    print(f'outer(after) x: {x}')\n",
    "\n",
    "outer_func()"
   ]
  },
  {
   "cell_type": "markdown",
   "id": "80627ef7-4a40-4f47-843c-947b8594fccb",
   "metadata": {},
   "source": [
    "# Closures"
   ]
  },
  {
   "cell_type": "code",
   "execution_count": 44,
   "id": "f15d36bd-0fd4-4cf1-b46c-f377fafcff72",
   "metadata": {},
   "outputs": [
    {
     "name": "stdout",
     "output_type": "stream",
     "text": [
      "python\n"
     ]
    }
   ],
   "source": [
    "def outer():\n",
    "    x = 'python'\n",
    "\n",
    "    def inner():\n",
    "        print(f'{x}')\n",
    "    \n",
    "    inner()\n",
    "\n",
    "outer()"
   ]
  },
  {
   "cell_type": "code",
   "execution_count": 35,
   "id": "71f73dad-4105-4d3b-aa36-1446b829699d",
   "metadata": {},
   "outputs": [],
   "source": [
    "def outer():\n",
    "    x = 'python'\n",
    "\n",
    "    def inner():\n",
    "        print(f'{x}')\n",
    "    \n",
    "    return inner\n",
    "\n",
    "fn = outer()"
   ]
  },
  {
   "cell_type": "code",
   "execution_count": 37,
   "id": "4a3519e8-d812-4795-8af4-b774728413fa",
   "metadata": {},
   "outputs": [
    {
     "data": {
      "text/plain": [
       "function"
      ]
     },
     "execution_count": 37,
     "metadata": {},
     "output_type": "execute_result"
    }
   ],
   "source": [
    "type(fn)"
   ]
  },
  {
   "cell_type": "markdown",
   "id": "fca73553-2e84-47f2-b1f6-ea6ff06f7705",
   "metadata": {},
   "source": [
    "# Python creates a cell. outer x points and inner x both point to the cell which points to the string 'python'"
   ]
  },
  {
   "cell_type": "code",
   "execution_count": 48,
   "id": "1e6bf722-3ef3-4d02-9665-c674572c15c6",
   "metadata": {},
   "outputs": [
    {
     "data": {
      "text/plain": [
       "('x',)"
      ]
     },
     "execution_count": 48,
     "metadata": {},
     "output_type": "execute_result"
    }
   ],
   "source": [
    "fn.__code__.co_freevars\n",
    "# gives free variables"
   ]
  },
  {
   "cell_type": "code",
   "execution_count": 49,
   "id": "1d81a1fd-69b6-4616-94e3-ab2c5fcf51fb",
   "metadata": {},
   "outputs": [
    {
     "data": {
      "text/plain": [
       "(<cell at 0x108025ba0: str object at 0x100b72400>,)"
      ]
     },
     "execution_count": 49,
     "metadata": {},
     "output_type": "execute_result"
    }
   ],
   "source": [
    "fn.__closure__"
   ]
  },
  {
   "cell_type": "code",
   "execution_count": 50,
   "id": "b4b035f8-61e4-432c-9a50-77a2e3fa5ad5",
   "metadata": {},
   "outputs": [
    {
     "data": {
      "text/plain": [
       "'0x100b72400'"
      ]
     },
     "execution_count": 50,
     "metadata": {},
     "output_type": "execute_result"
    }
   ],
   "source": [
    "hex(id(x))"
   ]
  },
  {
   "cell_type": "code",
   "execution_count": 46,
   "id": "87fd4d80-97e3-4445-8ed4-1f18ba385b5b",
   "metadata": {},
   "outputs": [
    {
     "ename": "AttributeError",
     "evalue": "readonly attribute",
     "output_type": "error",
     "traceback": [
      "\u001b[31m---------------------------------------------------------------------------\u001b[39m",
      "\u001b[31mAttributeError\u001b[39m                            Traceback (most recent call last)",
      "\u001b[36mCell\u001b[39m\u001b[36m \u001b[39m\u001b[32mIn[46]\u001b[39m\u001b[32m, line 1\u001b[39m\n\u001b[32m----> \u001b[39m\u001b[32m1\u001b[39m \u001b[43mfn\u001b[49m\u001b[43m.\u001b[49m\u001b[34;43m__closure__\u001b[39;49m = \u001b[33m'\u001b[39m\u001b[33mbrk\u001b[39m\u001b[33m'\u001b[39m\n",
      "\u001b[31mAttributeError\u001b[39m: readonly attribute"
     ]
    }
   ],
   "source": [
    "fn.__closure__ = 'brk'"
   ]
  },
  {
   "cell_type": "markdown",
   "id": "f49c7b6d-6dc5-4bd0-9903-ac208f73a014",
   "metadata": {},
   "source": [
    "# closure applications"
   ]
  },
  {
   "cell_type": "code",
   "execution_count": 54,
   "id": "fe0c9b1a-2fe3-42ca-8031-47091322f032",
   "metadata": {},
   "outputs": [],
   "source": [
    "class Averager:\n",
    "    def __init__(self):\n",
    "        self.numbers = []\n",
    "\n",
    "    def add(self, number):\n",
    "        self.numbers.append(number)\n",
    "        return sum(self.numbers)/len(self.numbers)"
   ]
  },
  {
   "cell_type": "code",
   "execution_count": 56,
   "id": "6721e14e-4cf1-4f66-b492-ce598a637ee4",
   "metadata": {},
   "outputs": [
    {
     "name": "stdout",
     "output_type": "stream",
     "text": [
      "10.0\n",
      "15.0\n",
      "20.0\n"
     ]
    }
   ],
   "source": [
    "a = Averager()\n",
    "print(a.add(10))\n",
    "print(a.add(20))\n",
    "print(a.add(30))"
   ]
  },
  {
   "cell_type": "code",
   "execution_count": 57,
   "id": "c4206e8b-c84c-41e6-b05e-86f1a6131262",
   "metadata": {},
   "outputs": [
    {
     "name": "stdout",
     "output_type": "stream",
     "text": [
      "10.0\n",
      "15.0\n",
      "20.0\n"
     ]
    }
   ],
   "source": [
    "b = Averager()\n",
    "print(b.add(10))\n",
    "print(b.add(20))\n",
    "print(b.add(30))"
   ]
  },
  {
   "cell_type": "code",
   "execution_count": 58,
   "id": "fa90c064-d981-453d-b93e-dc3ff3f2feba",
   "metadata": {},
   "outputs": [],
   "source": [
    "def averager():\n",
    "    l = []\n",
    "    def inner(number):\n",
    "        l.append(number)\n",
    "        return sum(l)/len(l)\n",
    "    return inner\n",
    "        "
   ]
  },
  {
   "cell_type": "code",
   "execution_count": 62,
   "id": "1f1d97bd-cdfc-401a-aa52-ad459d3dc255",
   "metadata": {},
   "outputs": [
    {
     "name": "stdout",
     "output_type": "stream",
     "text": [
      "10.0\n",
      "15.0\n",
      "20.0\n"
     ]
    }
   ],
   "source": [
    "a = averager()\n",
    "print(a(10))\n",
    "print(a(20))\n",
    "print(a(30))"
   ]
  },
  {
   "cell_type": "code",
   "execution_count": 63,
   "id": "96307ecb-4c4c-40a5-bdab-aacf6fc6034c",
   "metadata": {},
   "outputs": [
    {
     "name": "stdout",
     "output_type": "stream",
     "text": [
      "10.0\n",
      "15.0\n",
      "20.0\n"
     ]
    }
   ],
   "source": [
    "b = averager()\n",
    "print(b(10))\n",
    "print(b(20))\n",
    "print(b(30))"
   ]
  },
  {
   "cell_type": "markdown",
   "id": "a6610b1f-9f77-4130-9d91-082b290750eb",
   "metadata": {},
   "source": [
    "## a and b have cells pointing to different instance of list `l`"
   ]
  },
  {
   "cell_type": "code",
   "execution_count": 66,
   "id": "5e51bc9b-979a-4717-ba0f-8ce3742169c9",
   "metadata": {},
   "outputs": [
    {
     "data": {
      "text/plain": [
       "(('l',), (<cell at 0x1080ae890: list object at 0x10846d640>,))"
      ]
     },
     "execution_count": 66,
     "metadata": {},
     "output_type": "execute_result"
    }
   ],
   "source": [
    "a.__code__.co_freevars, a.__closure__"
   ]
  },
  {
   "cell_type": "code",
   "execution_count": 67,
   "id": "ad572df1-9e39-4400-8d7d-4ab4feb3cc87",
   "metadata": {},
   "outputs": [
    {
     "data": {
      "text/plain": [
       "(('l',), (<cell at 0x1080aea40: list object at 0x108425200>,))"
      ]
     },
     "execution_count": 67,
     "metadata": {},
     "output_type": "execute_result"
    }
   ],
   "source": [
    "b.__code__.co_freevars, b.__closure__"
   ]
  },
  {
   "cell_type": "code",
   "execution_count": 77,
   "id": "7223344f-b982-4b6e-bd2f-9cd586834436",
   "metadata": {},
   "outputs": [],
   "source": [
    "# a better way - lesser time complexity by avoiding 2 iterations\n",
    "\n",
    "def averager():\n",
    "    total = 0\n",
    "    count = 0 \n",
    "    def inner(number):\n",
    "        total += number\n",
    "        count += 1\n",
    "        return total / count\n",
    "    return inner"
   ]
  },
  {
   "cell_type": "code",
   "execution_count": 78,
   "id": "b13f3f3b-a5dc-4292-b9b6-6a2275ca8df4",
   "metadata": {},
   "outputs": [
    {
     "ename": "UnboundLocalError",
     "evalue": "cannot access local variable 'total' where it is not associated with a value",
     "output_type": "error",
     "traceback": [
      "\u001b[31m---------------------------------------------------------------------------\u001b[39m",
      "\u001b[31mUnboundLocalError\u001b[39m                         Traceback (most recent call last)",
      "\u001b[36mCell\u001b[39m\u001b[36m \u001b[39m\u001b[32mIn[78]\u001b[39m\u001b[32m, line 5\u001b[39m\n\u001b[32m      1\u001b[39m \u001b[38;5;66;03m# total variable has been assigned so python thinks of it as local variable\u001b[39;00m\n\u001b[32m      2\u001b[39m \u001b[38;5;66;03m# and evaluates total to right of = sign and finds no local var!\u001b[39;00m\n\u001b[32m      4\u001b[39m a = averager()\n\u001b[32m----> \u001b[39m\u001b[32m5\u001b[39m \u001b[38;5;28mprint\u001b[39m(\u001b[43ma\u001b[49m\u001b[43m(\u001b[49m\u001b[32;43m10\u001b[39;49m\u001b[43m)\u001b[49m)\n\u001b[32m      6\u001b[39m \u001b[38;5;28mprint\u001b[39m(a(\u001b[32m20\u001b[39m))\n\u001b[32m      7\u001b[39m \u001b[38;5;28mprint\u001b[39m(a(\u001b[32m30\u001b[39m))\n",
      "\u001b[36mCell\u001b[39m\u001b[36m \u001b[39m\u001b[32mIn[77]\u001b[39m\u001b[32m, line 7\u001b[39m, in \u001b[36maverager.<locals>.inner\u001b[39m\u001b[34m(number)\u001b[39m\n\u001b[32m      6\u001b[39m \u001b[38;5;28;01mdef\u001b[39;00m\u001b[38;5;250m \u001b[39m\u001b[34minner\u001b[39m(number):\n\u001b[32m----> \u001b[39m\u001b[32m7\u001b[39m     \u001b[43mtotal\u001b[49m += number\n\u001b[32m      8\u001b[39m     count += \u001b[32m1\u001b[39m\n\u001b[32m      9\u001b[39m     \u001b[38;5;28;01mreturn\u001b[39;00m total / count\n",
      "\u001b[31mUnboundLocalError\u001b[39m: cannot access local variable 'total' where it is not associated with a value"
     ]
    }
   ],
   "source": [
    "# total variable has been assigned so python thinks of it as local variable\n",
    "# and evaluates total to right of = sign and finds no local var!\n",
    "\n",
    "a = averager()\n",
    "print(a(10))\n",
    "print(a(20))\n",
    "print(a(30))"
   ]
  },
  {
   "cell_type": "code",
   "execution_count": 79,
   "id": "28a2adcc-6e0f-459f-aa01-7185be191451",
   "metadata": {},
   "outputs": [],
   "source": [
    "def averager():\n",
    "    total = 0\n",
    "    count = 0 \n",
    "    def inner(number):\n",
    "        nonlocal total\n",
    "        nonlocal count\n",
    "        total += number\n",
    "        count += 1\n",
    "        return total / count\n",
    "    return inner"
   ]
  },
  {
   "cell_type": "code",
   "execution_count": 80,
   "id": "f80899f6-2869-4a71-a772-27263c2576b1",
   "metadata": {},
   "outputs": [
    {
     "name": "stdout",
     "output_type": "stream",
     "text": [
      "10.0\n",
      "15.0\n",
      "20.0\n"
     ]
    }
   ],
   "source": [
    "a = averager()\n",
    "print(a(10))\n",
    "print(a(20))\n",
    "print(a(30))"
   ]
  },
  {
   "cell_type": "code",
   "execution_count": 82,
   "id": "7eed6144-edb8-4a6e-8785-0c79008b9ebe",
   "metadata": {},
   "outputs": [
    {
     "data": {
      "text/plain": [
       "('count', 'total')"
      ]
     },
     "execution_count": 82,
     "metadata": {},
     "output_type": "execute_result"
    }
   ],
   "source": [
    "a.__code__.co_freevars"
   ]
  },
  {
   "cell_type": "code",
   "execution_count": 83,
   "id": "8b6c7f0a-aa00-4763-a779-3be3848d4897",
   "metadata": {},
   "outputs": [
    {
     "data": {
      "text/plain": [
       "(<cell at 0x1080b8eb0: int object at 0x1013a6100>,\n",
       " <cell at 0x1080b9780: int object at 0x1013a6820>)"
      ]
     },
     "execution_count": 83,
     "metadata": {},
     "output_type": "execute_result"
    }
   ],
   "source": [
    "a.__closure__"
   ]
  },
  {
   "cell_type": "code",
   "execution_count": null,
   "id": "8cffa278-7ed2-46ad-9c3b-e180b320668c",
   "metadata": {},
   "outputs": [],
   "source": []
  }
 ],
 "metadata": {
  "kernelspec": {
   "display_name": "Python 3 (ipykernel)",
   "language": "python",
   "name": "python3"
  },
  "language_info": {
   "codemirror_mode": {
    "name": "ipython",
    "version": 3
   },
   "file_extension": ".py",
   "mimetype": "text/x-python",
   "name": "python",
   "nbconvert_exporter": "python",
   "pygments_lexer": "ipython3",
   "version": "3.13.2"
  }
 },
 "nbformat": 4,
 "nbformat_minor": 5
}
