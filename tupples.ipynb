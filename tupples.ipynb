{
 "cells": [
  {
   "cell_type": "markdown",
   "id": "931927b3-9761-4c80-a04e-25394be8911e",
   "metadata": {
    "editable": true,
    "slideshow": {
     "slide_type": ""
    },
    "tags": []
   },
   "source": [
    "# Tuples\n",
    "- containers\n",
    "- ordered\n",
    "- Heterogeneous\n",
    "- indexable\n",
    "- iterable\n",
    "- immutable \n",
    "    - fixed length\n",
    "    - fixed order\n",
    "        - cannot do in-place sorts or reversals\n",
    " - Works well for representing data structures"
   ]
  },
  {
   "cell_type": "markdown",
   "id": "12a64d99-d4b3-40a9-a75c-5e570d753a66",
   "metadata": {},
   "source": [
    "# Tuples as Data Strcutures"
   ]
  },
  {
   "cell_type": "code",
   "execution_count": 1,
   "id": "f4c939d3-1116-4152-ba35-c3a9ef544803",
   "metadata": {},
   "outputs": [
    {
     "data": {
      "text/plain": [
       "tuple"
      ]
     },
     "execution_count": 1,
     "metadata": {},
     "output_type": "execute_result"
    }
   ],
   "source": [
    "record = 'GOOG', 100.01, 102.5, 56000, 'redmund,US'\n",
    "type(record)"
   ]
  },
  {
   "cell_type": "code",
   "execution_count": 3,
   "id": "49d59949-cc64-46ea-89c8-0bff98fa8947",
   "metadata": {},
   "outputs": [
    {
     "data": {
      "text/plain": [
       "('GOOG', 56000)"
      ]
     },
     "execution_count": 3,
     "metadata": {},
     "output_type": "execute_result"
    }
   ],
   "source": [
    "ticker,*_, emp_Count, _ = record\n",
    "ticker, emp_Count"
   ]
  },
  {
   "cell_type": "markdown",
   "id": "12251577-91ec-4f8e-97f9-7bbca699a0d2",
   "metadata": {},
   "source": [
    "# Named Tuples\n",
    "- They subclass `tuple`, and add a layer to assign `property names` to the `positional` elements\n",
    "- Located in `collections` standard library module\n",
    "- `from collections import namedtuple`\n",
    "- namedtuple is a `function` which generates a new class i.e. `class factory`. This new class `inherits` from tuple."
   ]
  },
  {
   "cell_type": "code",
   "execution_count": 4,
   "id": "2f1ac3f6-bb05-4ebd-a71b-109cdff9872a",
   "metadata": {},
   "outputs": [],
   "source": [
    "class Point3D:\n",
    "    def __init__(self, x, y, z):\n",
    "        self.x = x\n",
    "        self.y = y\n",
    "        self.z = z"
   ]
  },
  {
   "cell_type": "markdown",
   "id": "afb015d7-ca2b-4dd9-83c5-a2ba36022ac8",
   "metadata": {},
   "source": [
    "Much better way would be to use a named tupled to create immutable records or data structures."
   ]
  },
  {
   "cell_type": "code",
   "execution_count": 5,
   "id": "0a30dce0-340d-42e5-8fd3-d4400b3f8c6f",
   "metadata": {},
   "outputs": [],
   "source": [
    "from collections import namedtuple"
   ]
  },
  {
   "cell_type": "code",
   "execution_count": 6,
   "id": "73531dc2-973f-4eba-b3df-d15f509d1e25",
   "metadata": {},
   "outputs": [],
   "source": [
    "Point2D = namedtuple('Point2D', ['x', 'y'])"
   ]
  },
  {
   "cell_type": "code",
   "execution_count": 9,
   "id": "7ed0f1c7-68fe-4497-a687-ea998ce60e04",
   "metadata": {},
   "outputs": [
    {
     "data": {
      "text/plain": [
       "Point2D(x=10, y=20)"
      ]
     },
     "execution_count": 9,
     "metadata": {},
     "output_type": "execute_result"
    }
   ],
   "source": [
    "p1 = Point2D(10, 20)\n",
    "p1"
   ]
  },
  {
   "cell_type": "code",
   "execution_count": 12,
   "id": "1660c953-2a80-4db8-b831-f277454354c6",
   "metadata": {},
   "outputs": [
    {
     "data": {
      "text/plain": [
       "(10, 20)"
      ]
     },
     "execution_count": 12,
     "metadata": {},
     "output_type": "execute_result"
    }
   ],
   "source": [
    "p1.x, p1.y"
   ]
  },
  {
   "cell_type": "code",
   "execution_count": 14,
   "id": "ba110cff-f69c-488e-b916-cddc12bdcd93",
   "metadata": {},
   "outputs": [
    {
     "ename": "AttributeError",
     "evalue": "'Point2D' object has no attribute 'z' and no __dict__ for setting new attributes",
     "output_type": "error",
     "traceback": [
      "\u001b[31m---------------------------------------------------------------------------\u001b[39m",
      "\u001b[31mAttributeError\u001b[39m                            Traceback (most recent call last)",
      "\u001b[36mCell\u001b[39m\u001b[36m \u001b[39m\u001b[32mIn[14]\u001b[39m\u001b[32m, line 2\u001b[39m\n\u001b[32m      1\u001b[39m \u001b[38;5;66;03m# Immutable datastructures\u001b[39;00m\n\u001b[32m----> \u001b[39m\u001b[32m2\u001b[39m \u001b[43mp1\u001b[49m\u001b[43m.\u001b[49m\u001b[43mz\u001b[49m = \u001b[32m100\u001b[39m\n",
      "\u001b[31mAttributeError\u001b[39m: 'Point2D' object has no attribute 'z' and no __dict__ for setting new attributes"
     ]
    }
   ],
   "source": [
    "# Immutable datastructures\n",
    "p1.z = 100"
   ]
  },
  {
   "cell_type": "code",
   "execution_count": 17,
   "id": "43671603-9f4b-4458-86b4-79d93c7ff1e1",
   "metadata": {},
   "outputs": [
    {
     "data": {
      "text/plain": [
       "True"
      ]
     },
     "execution_count": 17,
     "metadata": {},
     "output_type": "execute_result"
    }
   ],
   "source": [
    "isinstance(p1, tuple)"
   ]
  },
  {
   "cell_type": "markdown",
   "id": "bc65b6a9-585b-4f87-a174-325eaec354fd",
   "metadata": {},
   "source": [
    "# named tuples are tuples"
   ]
  },
  {
   "cell_type": "code",
   "execution_count": 28,
   "id": "b74b84bd-6f67-4e8b-8001-cca4e8b3a97d",
   "metadata": {},
   "outputs": [
    {
     "data": {
      "text/plain": [
       "(10, 20, (20,))"
      ]
     },
     "execution_count": 28,
     "metadata": {},
     "output_type": "execute_result"
    }
   ],
   "source": [
    "p1[0], p1[-1], p1[1:]"
   ]
  },
  {
   "cell_type": "code",
   "execution_count": 19,
   "id": "3b65b8c8-faf5-485a-8db2-9cc0465e528f",
   "metadata": {},
   "outputs": [
    {
     "data": {
      "text/plain": [
       "[100, 400]"
      ]
     },
     "execution_count": 19,
     "metadata": {},
     "output_type": "execute_result"
    }
   ],
   "source": [
    "[x**2 for x in p1]"
   ]
  },
  {
   "cell_type": "code",
   "execution_count": 23,
   "id": "baa2b9b8-2e9d-4ac9-82ff-24e7efc473f8",
   "metadata": {},
   "outputs": [],
   "source": [
    "p1 = Point2D(10, 20)\n",
    "p2 = Point2D(5, 5)"
   ]
  },
  {
   "cell_type": "code",
   "execution_count": 24,
   "id": "4d6421c7-4e7a-443d-9376-4a65963267c5",
   "metadata": {},
   "outputs": [],
   "source": [
    "def dot_product(a, b):\n",
    "    return a.x * b.x + a.y * b.y"
   ]
  },
  {
   "cell_type": "code",
   "execution_count": 25,
   "id": "9f478361-a2ab-47a3-a2c4-92be653e6df9",
   "metadata": {},
   "outputs": [
    {
     "data": {
      "text/plain": [
       "150"
      ]
     },
     "execution_count": 25,
     "metadata": {},
     "output_type": "execute_result"
    }
   ],
   "source": [
    "dot_product(p1, p2)"
   ]
  },
  {
   "cell_type": "code",
   "execution_count": 32,
   "id": "5647887a-b15d-444c-8145-885d3d598007",
   "metadata": {},
   "outputs": [
    {
     "data": {
      "text/plain": [
       "(10, [20])"
      ]
     },
     "execution_count": 32,
     "metadata": {},
     "output_type": "execute_result"
    }
   ],
   "source": [
    "# unpacking the tuple\n",
    "cord1, *_ = p1\n",
    "cord1, _"
   ]
  },
  {
   "cell_type": "code",
   "execution_count": 33,
   "id": "6717d674-b7cc-4b5d-a3bf-4301b767efbd",
   "metadata": {},
   "outputs": [
    {
     "data": {
      "text/plain": [
       "('x', 'y')"
      ]
     },
     "execution_count": 33,
     "metadata": {},
     "output_type": "execute_result"
    }
   ],
   "source": [
    "Point2D._fields"
   ]
  },
  {
   "cell_type": "code",
   "execution_count": 36,
   "id": "5348ff38-b82e-40f1-b0d9-7161493b6648",
   "metadata": {},
   "outputs": [
    {
     "data": {
      "text/plain": [
       "{'x': 10, 'y': 20}"
      ]
     },
     "execution_count": 36,
     "metadata": {},
     "output_type": "execute_result"
    }
   ],
   "source": [
    "p1._asdict()"
   ]
  },
  {
   "cell_type": "markdown",
   "id": "f637e25e-eb93-46d5-a617-3faacdfed4fb",
   "metadata": {},
   "source": [
    "## changing a tupple"
   ]
  },
  {
   "cell_type": "code",
   "execution_count": 38,
   "id": "d68a1913-411b-41ae-8749-9c3824157fa1",
   "metadata": {},
   "outputs": [
    {
     "data": {
      "text/plain": [
       "'0x10a428440'"
      ]
     },
     "execution_count": 38,
     "metadata": {},
     "output_type": "execute_result"
    }
   ],
   "source": [
    "hex(id(p1))"
   ]
  },
  {
   "cell_type": "code",
   "execution_count": 39,
   "id": "2fe8fc7b-d229-4122-a763-b096a41b19a1",
   "metadata": {},
   "outputs": [],
   "source": [
    "p1 = Point2D(100, p1.y)"
   ]
  },
  {
   "cell_type": "code",
   "execution_count": 40,
   "id": "f4d979df-6bf3-44af-b834-6e39f97d18dc",
   "metadata": {},
   "outputs": [
    {
     "data": {
      "text/plain": [
       "'0x10ae83e40'"
      ]
     },
     "execution_count": 40,
     "metadata": {},
     "output_type": "execute_result"
    }
   ],
   "source": [
    "hex(id(p1))"
   ]
  },
  {
   "cell_type": "code",
   "execution_count": 41,
   "id": "6db1f91b-c9aa-4d20-b918-3b30bf97445b",
   "metadata": {},
   "outputs": [
    {
     "data": {
      "text/plain": [
       "Point2D(x=100, y=20)"
      ]
     },
     "execution_count": 41,
     "metadata": {},
     "output_type": "execute_result"
    }
   ],
   "source": [
    "p1"
   ]
  },
  {
   "cell_type": "code",
   "execution_count": 44,
   "id": "bf832548-519e-4671-b859-3f3b9679851b",
   "metadata": {},
   "outputs": [
    {
     "data": {
      "text/plain": [
       "STOCK(ticker='GOOG', open=100.01, high=102.5, volume=56000, address='redmund,US')"
      ]
     },
     "execution_count": 44,
     "metadata": {},
     "output_type": "execute_result"
    }
   ],
   "source": [
    "stock = namedtuple('STOCK', ['ticker', 'open', 'high', 'volume', 'address'])\n",
    "\n",
    "google = stock('GOOG', 100.01, 102.5, 56000, 'redmund,US')\n",
    "google"
   ]
  },
  {
   "cell_type": "markdown",
   "id": "2599632c-f32b-4a8b-a0cf-cd17c6f3ffdf",
   "metadata": {},
   "source": [
    "### if we want to change address"
   ]
  },
  {
   "cell_type": "code",
   "execution_count": 52,
   "id": "c8d7dfdf-9121-40d2-aeee-9d61bd1eaab7",
   "metadata": {},
   "outputs": [
    {
     "data": {
      "text/plain": [
       "STOCK(ticker='GOOG', open=100.01, high=102.5, volume=56000, address='newaddress')"
      ]
     },
     "execution_count": 52,
     "metadata": {},
     "output_type": "execute_result"
    }
   ],
   "source": [
    "*args, address = google\n",
    "\n",
    "args, address\n",
    "\n",
    "google  = stock(*args, 'newaddress')\n",
    "google"
   ]
  },
  {
   "cell_type": "markdown",
   "id": "7310b968-c167-42f8-a077-37b4466741ce",
   "metadata": {},
   "source": [
    "### if we want to change both open and volume ?"
   ]
  },
  {
   "cell_type": "code",
   "execution_count": 63,
   "id": "1ea4dac4-6e5a-40ee-81d3-b1f75335a5a8",
   "metadata": {},
   "outputs": [
    {
     "data": {
      "text/plain": [
       "(('GOOG',), (102.5,), ('newaddress',))"
      ]
     },
     "execution_count": 63,
     "metadata": {},
     "output_type": "execute_result"
    }
   ],
   "source": [
    "pre,high,add = google[0:1],google[2:3], google[-1:]\n",
    "pre,high,add"
   ]
  },
  {
   "cell_type": "code",
   "execution_count": 64,
   "id": "dbf4ed6c-1d3f-4c81-aa9d-2ec49cf7d8b2",
   "metadata": {},
   "outputs": [
    {
     "ename": "TypeError",
     "evalue": "can only concatenate tuple (not \"int\") to tuple",
     "output_type": "error",
     "traceback": [
      "\u001b[31m---------------------------------------------------------------------------\u001b[39m",
      "\u001b[31mTypeError\u001b[39m                                 Traceback (most recent call last)",
      "\u001b[36mCell\u001b[39m\u001b[36m \u001b[39m\u001b[32mIn[64]\u001b[39m\u001b[32m, line 1\u001b[39m\n\u001b[32m----> \u001b[39m\u001b[32m1\u001b[39m google = stock._make(\u001b[43mpre\u001b[49m\u001b[43m \u001b[49m\u001b[43m+\u001b[49m\u001b[43m \u001b[49m\u001b[32;43m99\u001b[39;49m + high[\u001b[32m0\u001b[39m] + \u001b[32m50_000\u001b[39m + add)\n",
      "\u001b[31mTypeError\u001b[39m: can only concatenate tuple (not \"int\") to tuple"
     ]
    }
   ],
   "source": [
    "google = stock._make(pre + 99 + high[0] + 50_000 + add)"
   ]
  },
  {
   "cell_type": "markdown",
   "id": "3e09f0b0-5986-43e5-869e-fe0e33701410",
   "metadata": {},
   "source": [
    "#### We have to make a new iterable and hence cant directly pass 99"
   ]
  },
  {
   "cell_type": "code",
   "execution_count": 67,
   "id": "64c84ff4-8bdd-4527-9593-65ae666935a8",
   "metadata": {},
   "outputs": [
    {
     "data": {
      "text/plain": [
       "('GOOG', 99, 102.5, 50000, 'newaddress')"
      ]
     },
     "execution_count": 67,
     "metadata": {},
     "output_type": "execute_result"
    }
   ],
   "source": [
    "new_values = pre + (99,) + high + (50_000,) + add\n",
    "new_values"
   ]
  },
  {
   "cell_type": "code",
   "execution_count": 70,
   "id": "7daac461-5577-4c16-a531-4ef18155ee05",
   "metadata": {},
   "outputs": [
    {
     "data": {
      "text/plain": [
       "STOCK(ticker='GOOG', open=99, high=102.5, volume=50000, address='newaddress')"
      ]
     },
     "execution_count": 70,
     "metadata": {},
     "output_type": "execute_result"
    }
   ],
   "source": [
    "google = stock(*new_values)\n",
    "google"
   ]
  },
  {
   "cell_type": "markdown",
   "id": "439131f3-c503-4d6a-8ff5-1947324dd805",
   "metadata": {},
   "source": [
    "## this is very ugly"
   ]
  },
  {
   "cell_type": "code",
   "execution_count": 71,
   "id": "6a3c6dfa-4f37-49f7-9b3f-a1fe672ef1c0",
   "metadata": {},
   "outputs": [
    {
     "data": {
      "text/plain": [
       "STOCK(ticker='GOOG', open=99, high=102.5, volume=50000, address='newaddress')"
      ]
     },
     "execution_count": 71,
     "metadata": {},
     "output_type": "execute_result"
    }
   ],
   "source": [
    "google"
   ]
  },
  {
   "cell_type": "code",
   "execution_count": 72,
   "id": "bd2a7ef7-054b-4f9d-bc12-1a49eb05f248",
   "metadata": {},
   "outputs": [
    {
     "data": {
      "text/plain": [
       "STOCK(ticker='GOOG', open=100, high=102.5, volume=50000, address='replaced')"
      ]
     },
     "execution_count": 72,
     "metadata": {},
     "output_type": "execute_result"
    }
   ],
   "source": [
    "google = google._replace(open=100, address='replaced')\n",
    "google"
   ]
  },
  {
   "cell_type": "markdown",
   "id": "13b04354-bdda-4c80-8f22-f269a5ccf95d",
   "metadata": {},
   "source": [
    "# extending a named tuple\n",
    "### ex: if we want to add `prev_open` to the stock named tuple"
   ]
  },
  {
   "cell_type": "code",
   "execution_count": 73,
   "id": "0c4afe79-496e-4ee6-9907-4d83cd7df950",
   "metadata": {},
   "outputs": [],
   "source": [
    "Stock = namedtuple('Stock', ['ticker', 'open', 'high', 'volume', 'address'])"
   ]
  },
  {
   "cell_type": "code",
   "execution_count": 75,
   "id": "b0db2ef9-eba5-4bb6-9b07-4c1afdd8dc9a",
   "metadata": {},
   "outputs": [
    {
     "data": {
      "text/plain": [
       "('ticker', 'open', 'high', 'volume', 'address')"
      ]
     },
     "execution_count": 75,
     "metadata": {},
     "output_type": "execute_result"
    }
   ],
   "source": [
    "Stock._fields"
   ]
  },
  {
   "cell_type": "code",
   "execution_count": 76,
   "id": "aaa3082b-a6ae-4d7d-8909-9bba957312e5",
   "metadata": {},
   "outputs": [],
   "source": [
    "new_fields = Stock._fields + ('prev_open',)\n",
    "StockExt = namedtuple('StockExt', new_fields)"
   ]
  },
  {
   "cell_type": "code",
   "execution_count": 77,
   "id": "cb640899-f0bf-4244-ac65-954ef85e74bc",
   "metadata": {},
   "outputs": [
    {
     "data": {
      "text/plain": [
       "('ticker', 'open', 'high', 'volume', 'address', 'prev_open')"
      ]
     },
     "execution_count": 77,
     "metadata": {},
     "output_type": "execute_result"
    }
   ],
   "source": [
    "StockExt._fields"
   ]
  },
  {
   "cell_type": "code",
   "execution_count": 79,
   "id": "ab3dbabe-47ec-446c-9d03-8157f1948d57",
   "metadata": {},
   "outputs": [
    {
     "data": {
      "text/plain": [
       "Stock(ticker='GOOG', open=100, high=120, volume=50000, address='redmond')"
      ]
     },
     "execution_count": 79,
     "metadata": {},
     "output_type": "execute_result"
    }
   ],
   "source": [
    "google = Stock('GOOG', 100, 120, 50_000, 'redmond')\n",
    "google"
   ]
  },
  {
   "cell_type": "code",
   "execution_count": 80,
   "id": "20453cac-e981-4468-b022-64117a8b2661",
   "metadata": {},
   "outputs": [
    {
     "data": {
      "text/plain": [
       "StockExt(ticker='GOOG', open=100, high=120, volume=50000, address='redmond', prev_open=99)"
      ]
     },
     "execution_count": 80,
     "metadata": {},
     "output_type": "execute_result"
    }
   ],
   "source": [
    "google = StockExt(*google, 99)\n",
    "google"
   ]
  },
  {
   "cell_type": "code",
   "execution_count": 86,
   "id": "4febb518-f081-43bd-afcf-0d57e0f1134b",
   "metadata": {},
   "outputs": [
    {
     "data": {
      "text/plain": [
       "('GOOG', 100, 120, 50000, 'redmond', 99)"
      ]
     },
     "execution_count": 86,
     "metadata": {},
     "output_type": "execute_result"
    }
   ],
   "source": [
    "(*google,)"
   ]
  },
  {
   "cell_type": "markdown",
   "id": "de64ecbf-d51b-4e02-90f1-49d8e87160af",
   "metadata": {},
   "source": [
    "# Default values in named tuples"
   ]
  },
  {
   "cell_type": "code",
   "execution_count": 106,
   "id": "ab40f3df-9b9f-4410-b022-880f6b1aea75",
   "metadata": {},
   "outputs": [
    {
     "data": {
      "text/plain": [
       "Point2d(x=10, y=15)"
      ]
     },
     "execution_count": 106,
     "metadata": {},
     "output_type": "execute_result"
    }
   ],
   "source": [
    "Point2d = namedtuple('Point2d', ['x', 'y'])\n",
    "p1 = Point2d(10, 15)\n",
    "p1"
   ]
  },
  {
   "cell_type": "code",
   "execution_count": 93,
   "id": "753b8ee9-c63e-41ff-976b-f647d43d40de",
   "metadata": {},
   "outputs": [
    {
     "data": {
      "text/plain": [
       "'Point2d(x, y)'"
      ]
     },
     "execution_count": 93,
     "metadata": {},
     "output_type": "execute_result"
    }
   ],
   "source": [
    "p1.__doc__"
   ]
  },
  {
   "cell_type": "code",
   "execution_count": 91,
   "id": "9cd6e622-6a32-4467-846e-cf0e9795d3ee",
   "metadata": {},
   "outputs": [
    {
     "data": {
      "text/plain": [
       "'Point2d(x=10, y=15)'"
      ]
     },
     "execution_count": 91,
     "metadata": {},
     "output_type": "execute_result"
    }
   ],
   "source": [
    "p1.__repr__()"
   ]
  },
  {
   "cell_type": "code",
   "execution_count": 101,
   "id": "88bcccf7-cc31-4fef-8bfd-0024b8e5d77d",
   "metadata": {},
   "outputs": [
    {
     "data": {
      "text/plain": [
       "'Alias for field number 0'"
      ]
     },
     "execution_count": 101,
     "metadata": {},
     "output_type": "execute_result"
    }
   ],
   "source": [
    "Point2D.x.__doc__"
   ]
  },
  {
   "cell_type": "code",
   "execution_count": 102,
   "id": "3b4e35de-2897-447f-858f-25526b2a3920",
   "metadata": {},
   "outputs": [
    {
     "data": {
      "text/plain": [
       "'Alias for field number 1'"
      ]
     },
     "execution_count": 102,
     "metadata": {},
     "output_type": "execute_result"
    }
   ],
   "source": [
    "Point2D.y.__doc__"
   ]
  },
  {
   "cell_type": "code",
   "execution_count": 108,
   "id": "327a9cc1-2e69-4cba-abf7-2dd2f67a66aa",
   "metadata": {},
   "outputs": [
    {
     "data": {
      "text/plain": [
       "'x coordinate'"
      ]
     },
     "execution_count": 108,
     "metadata": {},
     "output_type": "execute_result"
    }
   ],
   "source": [
    "Point2d.x.__doc__ = 'x coordinate'\n",
    "\n",
    "Point2d.x.__doc__"
   ]
  },
  {
   "cell_type": "markdown",
   "id": "f64fcef1-6705-46ff-859a-4327a20f4d3f",
   "metadata": {},
   "source": [
    "# providing default values by creating a prototye"
   ]
  },
  {
   "cell_type": "code",
   "execution_count": 110,
   "id": "cd75897c-a904-4050-9f29-b10faabceef2",
   "metadata": {},
   "outputs": [],
   "source": [
    "Point3d = namedtuple('Point3d', ['x', 'y', 'z'])"
   ]
  },
  {
   "cell_type": "code",
   "execution_count": 111,
   "id": "631f24bc-e2ef-404d-bdcd-f5fec4287866",
   "metadata": {},
   "outputs": [],
   "source": [
    "point_Prototype = Point3d(0, 0, 0)"
   ]
  },
  {
   "cell_type": "code",
   "execution_count": 115,
   "id": "1a7089d2-6667-4bfe-96a4-f90c8aaf9a7f",
   "metadata": {},
   "outputs": [
    {
     "data": {
      "text/plain": [
       "(Point3d(x=1, y=2, z=3), Point3d(x=0, y=0, z=5))"
      ]
     },
     "execution_count": 115,
     "metadata": {},
     "output_type": "execute_result"
    }
   ],
   "source": [
    "p1 = point_Prototype._replace(x=1, y=2, z=3)\n",
    "p2 = point_Prototype._replace(z=5)\n",
    "p1, p2"
   ]
  },
  {
   "cell_type": "markdown",
   "id": "657dd8e0-6d36-43ad-9f96-0671cfd26a83",
   "metadata": {},
   "source": [
    "# using `__defaults__`"
   ]
  },
  {
   "cell_type": "code",
   "execution_count": 122,
   "id": "264ca061-8bd9-4a04-8fb8-19e1fee1655e",
   "metadata": {},
   "outputs": [],
   "source": [
    "def func(a, b=10, c=20):\n",
    "    print(a, b, c)"
   ]
  },
  {
   "cell_type": "code",
   "execution_count": 123,
   "id": "e2774000-8a19-411b-943d-bedc65850970",
   "metadata": {},
   "outputs": [
    {
     "data": {
      "text/plain": [
       "(10, 20)"
      ]
     },
     "execution_count": 123,
     "metadata": {},
     "output_type": "execute_result"
    }
   ],
   "source": [
    "func.__defaults__"
   ]
  },
  {
   "cell_type": "markdown",
   "id": "de213a7d-339d-4015-86ca-6a8631dcab96",
   "metadata": {},
   "source": [
    "#### defaults are right alligned"
   ]
  },
  {
   "cell_type": "code",
   "execution_count": 124,
   "id": "7f01007c-cf1f-4f44-88f0-023d133a5fff",
   "metadata": {},
   "outputs": [],
   "source": [
    "func.__defaults__ = (100,)"
   ]
  },
  {
   "cell_type": "code",
   "execution_count": 127,
   "id": "4e0d3494-92d6-412b-8efd-659442267acb",
   "metadata": {},
   "outputs": [
    {
     "name": "stdout",
     "output_type": "stream",
     "text": [
      "1 3 100\n"
     ]
    }
   ],
   "source": [
    "func(1, 3)"
   ]
  },
  {
   "cell_type": "markdown",
   "id": "99d27b68-2603-4e7d-ba06-4fc08aeb03d0",
   "metadata": {},
   "source": [
    "#### we need to provide defaults to the `constructor` of our named tuples class i.e. `__new__`"
   ]
  },
  {
   "cell_type": "code",
   "execution_count": 128,
   "id": "5e9c6620-c248-4ee1-b6c1-cf192e3c3ee4",
   "metadata": {},
   "outputs": [],
   "source": [
    "Point3d = namedtuple('Point3d', ['x', 'y', 'z'])\n",
    "Point3d.__new__.__defaults__ = (0, 0)"
   ]
  },
  {
   "cell_type": "code",
   "execution_count": 129,
   "id": "f254ca73-4f46-4b44-99e4-98f93efe4ee9",
   "metadata": {},
   "outputs": [
    {
     "data": {
      "text/plain": [
       "Point3d(x=10, y=0, z=0)"
      ]
     },
     "execution_count": 129,
     "metadata": {},
     "output_type": "execute_result"
    }
   ],
   "source": [
    "p1 = Point3d(10)\n",
    "p1"
   ]
  },
  {
   "cell_type": "code",
   "execution_count": null,
   "id": "8bbc88d2-2663-4722-a165-a5383cdb1b85",
   "metadata": {},
   "outputs": [],
   "source": []
  }
 ],
 "metadata": {
  "kernelspec": {
   "display_name": "Python 3 (ipykernel)",
   "language": "python",
   "name": "python3"
  },
  "language_info": {
   "codemirror_mode": {
    "name": "ipython",
    "version": 3
   },
   "file_extension": ".py",
   "mimetype": "text/x-python",
   "name": "python",
   "nbconvert_exporter": "python",
   "pygments_lexer": "ipython3",
   "version": "3.13.2"
  }
 },
 "nbformat": 4,
 "nbformat_minor": 5
}
