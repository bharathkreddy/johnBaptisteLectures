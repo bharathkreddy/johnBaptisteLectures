{
 "cells": [
  {
   "cell_type": "markdown",
   "id": "3684c3f5-3be4-4865-aa9e-fb9b895a1b27",
   "metadata": {},
   "source": [
    "# NUMPY\n",
    "\n",
    "- dtypes -> predetermined type and homogeneous\n",
    "- Vectorization -> operations which python can push to C directly and avoid overheads associated with python i.e typechecking, if a cant multiply b then python checks if b can multiply a etc. -> these functions are called ufuncs"
   ]
  },
  {
   "cell_type": "code",
   "execution_count": 1,
   "id": "c2dcfb8d-9bd1-48eb-b18b-e5e18327c018",
   "metadata": {},
   "outputs": [],
   "source": [
    "import numpy as np"
   ]
  },
  {
   "cell_type": "code",
   "execution_count": 3,
   "id": "9a50459e-35e8-4c01-8dd4-aebc9e01ea45",
   "metadata": {},
   "outputs": [],
   "source": [
    "a = np.array([1,2,3])"
   ]
  },
  {
   "cell_type": "code",
   "execution_count": 4,
   "id": "68067914-fda8-4295-9231-3b9236ba2a43",
   "metadata": {},
   "outputs": [
    {
     "data": {
      "text/plain": [
       "(numpy.ndarray, dtype('int64'))"
      ]
     },
     "execution_count": 4,
     "metadata": {},
     "output_type": "execute_result"
    }
   ],
   "source": [
    "type(a), a.dtype"
   ]
  },
  {
   "cell_type": "code",
   "execution_count": 7,
   "id": "7000dd06-e6c8-45c4-bcb7-04ff452907c7",
   "metadata": {},
   "outputs": [
    {
     "data": {
      "text/plain": [
       "dtype('uint8')"
      ]
     },
     "execution_count": 7,
     "metadata": {},
     "output_type": "execute_result"
    }
   ],
   "source": [
    "a = np.array([1,2,3], dtype=np.uint8)\n",
    "a.dtype"
   ]
  },
  {
   "cell_type": "code",
   "execution_count": 10,
   "id": "2c7443bf-359e-4417-8f13-d390eddac5af",
   "metadata": {},
   "outputs": [
    {
     "ename": "OverflowError",
     "evalue": "Python integer 9999 out of bounds for uint8",
     "output_type": "error",
     "traceback": [
      "\u001b[31m---------------------------------------------------------------------------\u001b[39m",
      "\u001b[31mOverflowError\u001b[39m                             Traceback (most recent call last)",
      "\u001b[36mCell\u001b[39m\u001b[36m \u001b[39m\u001b[32mIn[10]\u001b[39m\u001b[32m, line 1\u001b[39m\n\u001b[32m----> \u001b[39m\u001b[32m1\u001b[39m a = \u001b[43mnp\u001b[49m\u001b[43m.\u001b[49m\u001b[43marray\u001b[49m\u001b[43m(\u001b[49m\u001b[43m[\u001b[49m\u001b[32;43m1\u001b[39;49m\u001b[43m,\u001b[49m\u001b[32;43m2\u001b[39;49m\u001b[43m,\u001b[49m\u001b[32;43m3\u001b[39;49m\u001b[43m,\u001b[49m\u001b[32;43m9_999\u001b[39;49m\u001b[43m]\u001b[49m\u001b[43m,\u001b[49m\u001b[43m \u001b[49m\u001b[43mdtype\u001b[49m\u001b[43m=\u001b[49m\u001b[43mnp\u001b[49m\u001b[43m.\u001b[49m\u001b[43muint8\u001b[49m\u001b[43m)\u001b[49m\n",
      "\u001b[31mOverflowError\u001b[39m: Python integer 9999 out of bounds for uint8"
     ]
    }
   ],
   "source": [
    "a = np.array([1,2,3,9_999], dtype=np.uint8)"
   ]
  },
  {
   "cell_type": "code",
   "execution_count": 29,
   "id": "e2abf250-2cc0-4ded-a0d9-04f009ddb431",
   "metadata": {},
   "outputs": [
    {
     "data": {
      "text/plain": [
       "array([[1, 0, 0],\n",
       "       [0, 2, 1],\n",
       "       [0, 0, 1]], dtype=uint8)"
      ]
     },
     "execution_count": 29,
     "metadata": {},
     "output_type": "execute_result"
    }
   ],
   "source": [
    "l = [\n",
    "    [1,0,0],\n",
    "    [0,2.5,1],\n",
    "    [0,0,1]\n",
    "]\n",
    "\n",
    "a = np.array(l, dtype=np.uint8)\n",
    "a"
   ]
  },
  {
   "cell_type": "code",
   "execution_count": 30,
   "id": "2259faf6-3ab7-46c1-bb9a-1e01cd1e208f",
   "metadata": {},
   "outputs": [
    {
     "data": {
      "text/plain": [
       "(3, 3)"
      ]
     },
     "execution_count": 30,
     "metadata": {},
     "output_type": "execute_result"
    }
   ],
   "source": [
    "a.shape"
   ]
  },
  {
   "cell_type": "code",
   "execution_count": 31,
   "id": "ad37d330-85fc-4bd1-908f-edbc96be9eda",
   "metadata": {},
   "outputs": [
    {
     "data": {
      "text/plain": [
       "9"
      ]
     },
     "execution_count": 31,
     "metadata": {},
     "output_type": "execute_result"
    }
   ],
   "source": [
    "a.size"
   ]
  },
  {
   "cell_type": "code",
   "execution_count": 32,
   "id": "0ebf8f4f-da1d-49aa-ba35-35dbf245fede",
   "metadata": {},
   "outputs": [
    {
     "data": {
      "text/plain": [
       "(array([1, 0, 0], dtype=uint8), array([0, 0, 1], dtype=uint8))"
      ]
     },
     "execution_count": 32,
     "metadata": {},
     "output_type": "execute_result"
    }
   ],
   "source": [
    "a[0], a[2]"
   ]
  },
  {
   "cell_type": "code",
   "execution_count": 33,
   "id": "181e3b5d-fd27-4496-84ad-426e1701acef",
   "metadata": {},
   "outputs": [
    {
     "data": {
      "text/plain": [
       "3"
      ]
     },
     "execution_count": 33,
     "metadata": {},
     "output_type": "execute_result"
    }
   ],
   "source": [
    "len(a)"
   ]
  },
  {
   "cell_type": "markdown",
   "id": "fa1b7dc3-8557-4d59-9f58-e3aded32e6ff",
   "metadata": {},
   "source": [
    "### creating numpy arrays directly (not from python lists or tupples"
   ]
  },
  {
   "cell_type": "code",
   "execution_count": 34,
   "id": "49e28e55-d785-44a3-9408-e7fb449ccc4e",
   "metadata": {},
   "outputs": [
    {
     "data": {
      "text/plain": [
       "array([[0, 0, 0, 0],\n",
       "       [0, 0, 0, 0],\n",
       "       [0, 0, 0, 0]], dtype=uint16)"
      ]
     },
     "execution_count": 34,
     "metadata": {},
     "output_type": "execute_result"
    }
   ],
   "source": [
    "np.zeros((3,4), dtype=np.uint16)"
   ]
  },
  {
   "cell_type": "code",
   "execution_count": 35,
   "id": "c73fa912-bd38-4cef-b26b-40317c19e522",
   "metadata": {},
   "outputs": [
    {
     "data": {
      "text/plain": [
       "array([1, 1, 1, 1, 1], dtype=int16)"
      ]
     },
     "execution_count": 35,
     "metadata": {},
     "output_type": "execute_result"
    }
   ],
   "source": [
    "np.ones(5, dtype=np.int16)"
   ]
  },
  {
   "cell_type": "code",
   "execution_count": 51,
   "id": "b06b5552-8ac3-4a6e-88d3-ed80a5d74ec0",
   "metadata": {},
   "outputs": [
    {
     "data": {
      "text/plain": [
       "array([3.14, 3.14, 3.14], dtype=float32)"
      ]
     },
     "execution_count": 51,
     "metadata": {},
     "output_type": "execute_result"
    }
   ],
   "source": [
    "np.full(3,3.14, dtype=np.float32)"
   ]
  },
  {
   "cell_type": "code",
   "execution_count": 53,
   "id": "cd55f18d-718f-4df0-8f68-30bdd240d013",
   "metadata": {},
   "outputs": [
    {
     "data": {
      "text/plain": [
       "array([[1, 0, 0],\n",
       "       [0, 1, 0],\n",
       "       [0, 0, 1]], dtype=uint8)"
      ]
     },
     "execution_count": 53,
     "metadata": {},
     "output_type": "execute_result"
    }
   ],
   "source": [
    "np.eye(3, dtype=np.uint8)"
   ]
  },
  {
   "cell_type": "code",
   "execution_count": 54,
   "id": "237aec67-6ead-468f-9d46-78081cf045eb",
   "metadata": {},
   "outputs": [
    {
     "data": {
      "text/plain": [
       "array([[1, 0, 0],\n",
       "       [0, 1, 0],\n",
       "       [0, 0, 1],\n",
       "       [0, 0, 0],\n",
       "       [0, 0, 0]], dtype=uint32)"
      ]
     },
     "execution_count": 54,
     "metadata": {},
     "output_type": "execute_result"
    }
   ],
   "source": [
    "np.eye(5,3, dtype=np.uint32)"
   ]
  },
  {
   "cell_type": "code",
   "execution_count": 55,
   "id": "8b68c772-3371-4655-b4a3-94900bef9627",
   "metadata": {},
   "outputs": [
    {
     "data": {
      "text/plain": [
       "array([ 2,  4,  6,  8, 10, 12, 14, 16, 18, 20], dtype=uint8)"
      ]
     },
     "execution_count": 55,
     "metadata": {},
     "output_type": "execute_result"
    }
   ],
   "source": [
    "np.arange(2,21,2,dtype=np.uint8)"
   ]
  },
  {
   "cell_type": "code",
   "execution_count": 57,
   "id": "ffa51594-1bf4-4c51-a663-c4d29dda0621",
   "metadata": {},
   "outputs": [
    {
     "data": {
      "text/plain": [
       "array([  1.  ,   9.25,  17.5 ,  25.75,  34.  ,  42.25,  50.5 ,  58.75,\n",
       "        67.  ,  75.25,  83.5 ,  91.75, 100.  ], dtype=float32)"
      ]
     },
     "execution_count": 57,
     "metadata": {},
     "output_type": "execute_result"
    }
   ],
   "source": [
    "np.linspace(1,100,num=13, dtype=np.float32)\n",
    "# returns num evenly spaced points between start and stop"
   ]
  },
  {
   "cell_type": "code",
   "execution_count": 58,
   "id": "fd32a9d2-792d-4b2c-87b2-312f40537dfe",
   "metadata": {},
   "outputs": [
    {
     "data": {
      "text/plain": [
       "array([-6.28318531, -6.02672876, -5.77027222, -5.51381568, -5.25735913,\n",
       "       -5.00090259, -4.74444605, -4.48798951, -4.23153296, -3.97507642,\n",
       "       -3.71861988, -3.46216333, -3.20570679, -2.94925025, -2.6927937 ,\n",
       "       -2.43633716, -2.17988062, -1.92342407, -1.66696753, -1.41051099,\n",
       "       -1.15405444, -0.8975979 , -0.64114136, -0.38468481, -0.12822827,\n",
       "        0.12822827,  0.38468481,  0.64114136,  0.8975979 ,  1.15405444,\n",
       "        1.41051099,  1.66696753,  1.92342407,  2.17988062,  2.43633716,\n",
       "        2.6927937 ,  2.94925025,  3.20570679,  3.46216333,  3.71861988,\n",
       "        3.97507642,  4.23153296,  4.48798951,  4.74444605,  5.00090259,\n",
       "        5.25735913,  5.51381568,  5.77027222,  6.02672876,  6.28318531])"
      ]
     },
     "execution_count": 58,
     "metadata": {},
     "output_type": "execute_result"
    }
   ],
   "source": [
    "import math\n",
    "x_coords = np.linspace(-2 * math.pi, 2 * math.pi, num=50)\n",
    "x_coords"
   ]
  },
  {
   "cell_type": "code",
   "execution_count": 59,
   "id": "931d81b2-6915-4a07-a511-d06673cbd51a",
   "metadata": {},
   "outputs": [
    {
     "data": {
      "text/plain": [
       "array([ 2.44929360e-16,  2.53654584e-01,  4.90717552e-01,  6.95682551e-01,\n",
       "        8.55142763e-01,  9.58667853e-01,  9.99486216e-01,  9.74927912e-01,\n",
       "        8.86599306e-01,  7.40277997e-01,  5.45534901e-01,  3.15108218e-01,\n",
       "        6.40702200e-02, -1.91158629e-01, -4.33883739e-01, -6.48228395e-01,\n",
       "       -8.20172255e-01, -9.38468422e-01, -9.95379113e-01, -9.87181783e-01,\n",
       "       -9.14412623e-01, -7.81831482e-01, -5.98110530e-01, -3.75267005e-01,\n",
       "       -1.27877162e-01,  1.27877162e-01,  3.75267005e-01,  5.98110530e-01,\n",
       "        7.81831482e-01,  9.14412623e-01,  9.87181783e-01,  9.95379113e-01,\n",
       "        9.38468422e-01,  8.20172255e-01,  6.48228395e-01,  4.33883739e-01,\n",
       "        1.91158629e-01, -6.40702200e-02, -3.15108218e-01, -5.45534901e-01,\n",
       "       -7.40277997e-01, -8.86599306e-01, -9.74927912e-01, -9.99486216e-01,\n",
       "       -9.58667853e-01, -8.55142763e-01, -6.95682551e-01, -4.90717552e-01,\n",
       "       -2.53654584e-01, -2.44929360e-16])"
      ]
     },
     "execution_count": 59,
     "metadata": {},
     "output_type": "execute_result"
    }
   ],
   "source": [
    "y_values = np.array([math.sin(x) for x in x_coords])\n",
    "y_values"
   ]
  },
  {
   "cell_type": "code",
   "execution_count": 63,
   "id": "95ffbc7c-1216-40e7-bd60-7f7212c8ebb0",
   "metadata": {},
   "outputs": [
    {
     "data": {
      "text/plain": [
       "array([[0.37454012, 0.95071431, 0.73199394],\n",
       "       [0.59865848, 0.15601864, 0.15599452],\n",
       "       [0.05808361, 0.86617615, 0.60111501],\n",
       "       [0.70807258, 0.02058449, 0.96990985],\n",
       "       [0.83244264, 0.21233911, 0.18182497]])"
      ]
     },
     "execution_count": 63,
     "metadata": {},
     "output_type": "execute_result"
    }
   ],
   "source": [
    "# there is a random module in numpy package, this is NOT the random package\n",
    "np.random.seed(42)\n",
    "\n",
    "np.random.random((5,3))"
   ]
  },
  {
   "cell_type": "code",
   "execution_count": 65,
   "id": "f976f36a-b7f6-4d2a-ae01-3347e35e43ca",
   "metadata": {},
   "outputs": [
    {
     "data": {
      "text/plain": [
       "array([3, 7, 4, 9, 3, 5, 3, 7, 5, 9, 7, 2, 4, 9, 2, 9, 5, 2, 4, 7, 8, 3,\n",
       "       1, 4, 2, 8, 4, 2, 6, 6, 4, 6, 2, 2, 4, 8, 7, 9, 8, 5, 2, 5, 8, 9,\n",
       "       9, 1, 9, 7, 9, 8])"
      ]
     },
     "execution_count": 65,
     "metadata": {},
     "output_type": "execute_result"
    }
   ],
   "source": [
    "np.random.randint(1,10,50)"
   ]
  },
  {
   "cell_type": "code",
   "execution_count": 66,
   "id": "5a601047-36f0-4243-9118-ac4c55379d68",
   "metadata": {},
   "outputs": [
    {
     "data": {
      "text/plain": [
       "array([1, 4, 3, 3, 1, 3, 3, 1, 3, 5])"
      ]
     },
     "execution_count": 66,
     "metadata": {},
     "output_type": "execute_result"
    }
   ],
   "source": [
    "# simulate a die roll\n",
    "np.random.randint(1, 6+1, 10)"
   ]
  },
  {
   "cell_type": "code",
   "execution_count": 67,
   "id": "53876d3b-5f8f-4dbe-9092-aa16cca52050",
   "metadata": {},
   "outputs": [
    {
     "data": {
      "text/plain": [
       "array([[2, 2],\n",
       "       [1, 4],\n",
       "       [1, 4],\n",
       "       [2, 1],\n",
       "       [6, 5],\n",
       "       [3, 4],\n",
       "       [6, 3],\n",
       "       [3, 1],\n",
       "       [3, 5],\n",
       "       [6, 3]])"
      ]
     },
     "execution_count": 67,
     "metadata": {},
     "output_type": "execute_result"
    }
   ],
   "source": [
    "# simulate two die roll\n",
    "\n",
    "np.random.randint(1, 6+1, (10,2))"
   ]
  },
  {
   "cell_type": "markdown",
   "id": "20e707f8-ca9e-474c-b10e-4776de17a596",
   "metadata": {},
   "source": [
    "# Reshaping"
   ]
  },
  {
   "cell_type": "code",
   "execution_count": 110,
   "id": "6866803a-33bf-4c4f-a090-ba8e2e345035",
   "metadata": {},
   "outputs": [
    {
     "data": {
      "text/plain": [
       "array([1, 2, 3, 4, 5, 6], dtype=uint8)"
      ]
     },
     "execution_count": 110,
     "metadata": {},
     "output_type": "execute_result"
    }
   ],
   "source": [
    "arr = np.arange(1, 7, step=1, dtype=np.uint8)\n",
    "arr"
   ]
  },
  {
   "cell_type": "code",
   "execution_count": 111,
   "id": "23c62384-8c07-4e60-8f17-3f9a2d44787a",
   "metadata": {},
   "outputs": [
    {
     "data": {
      "text/plain": [
       "(6,)"
      ]
     },
     "execution_count": 111,
     "metadata": {},
     "output_type": "execute_result"
    }
   ],
   "source": [
    "arr.shape"
   ]
  },
  {
   "cell_type": "code",
   "execution_count": 112,
   "id": "c8eda545-5287-4f01-a29f-71f05b9d775a",
   "metadata": {},
   "outputs": [
    {
     "data": {
      "text/plain": [
       "array([[1, 2, 3],\n",
       "       [4, 5, 6]], dtype=uint8)"
      ]
     },
     "execution_count": 112,
     "metadata": {},
     "output_type": "execute_result"
    }
   ],
   "source": [
    "arr.reshape(2,3)"
   ]
  },
  {
   "cell_type": "code",
   "execution_count": 113,
   "id": "86b26e20-6446-482c-9eab-a9c4f62e2f0f",
   "metadata": {},
   "outputs": [
    {
     "data": {
      "text/plain": [
       "array([[1, 2, 3, 4, 5, 6]], dtype=uint8)"
      ]
     },
     "execution_count": 113,
     "metadata": {},
     "output_type": "execute_result"
    }
   ],
   "source": [
    "arr.reshape(1,6)"
   ]
  },
  {
   "cell_type": "code",
   "execution_count": 114,
   "id": "27d824e8-a794-4b2b-ad8a-f1bd8a709505",
   "metadata": {},
   "outputs": [
    {
     "data": {
      "text/plain": [
       "array([[1],\n",
       "       [2],\n",
       "       [3],\n",
       "       [4],\n",
       "       [5],\n",
       "       [6]], dtype=uint8)"
      ]
     },
     "execution_count": 114,
     "metadata": {},
     "output_type": "execute_result"
    }
   ],
   "source": [
    "arr.reshape(6,1)"
   ]
  },
  {
   "cell_type": "code",
   "execution_count": 115,
   "id": "aa413129-fa22-4806-a4c6-95019a9c0853",
   "metadata": {},
   "outputs": [
    {
     "data": {
      "text/plain": [
       "array([1, 2, 3, 4, 5, 6], dtype=uint8)"
      ]
     },
     "execution_count": 115,
     "metadata": {},
     "output_type": "execute_result"
    }
   ],
   "source": [
    "# original array is not modified, just reslotted, elements are still same\n",
    "arr"
   ]
  },
  {
   "cell_type": "code",
   "execution_count": 116,
   "id": "f1a78600-7298-4105-b613-9867b657f218",
   "metadata": {},
   "outputs": [
    {
     "data": {
      "text/plain": [
       "array([[1, 2],\n",
       "       [3, 4],\n",
       "       [5, 6]], dtype=uint8)"
      ]
     },
     "execution_count": 116,
     "metadata": {},
     "output_type": "execute_result"
    }
   ],
   "source": [
    "arr_modified = arr.reshape(3,2)\n",
    "arr_modified"
   ]
  },
  {
   "cell_type": "code",
   "execution_count": 117,
   "id": "ed9d5b00-ce76-42fa-96d2-f15676326739",
   "metadata": {},
   "outputs": [
    {
     "data": {
      "text/plain": [
       "array([100, 100,   3,   4,   5,   6], dtype=uint8)"
      ]
     },
     "execution_count": 117,
     "metadata": {},
     "output_type": "execute_result"
    }
   ],
   "source": [
    "arr_modified[0] = 100\n",
    "arr"
   ]
  },
  {
   "cell_type": "code",
   "execution_count": 118,
   "id": "50677477-3b90-4aa8-9a68-4be37877e489",
   "metadata": {},
   "outputs": [
    {
     "data": {
      "text/plain": [
       "array([[100, 100],\n",
       "       [  3,   4],\n",
       "       [  5,   6]], dtype=uint8)"
      ]
     },
     "execution_count": 118,
     "metadata": {},
     "output_type": "execute_result"
    }
   ],
   "source": [
    "arr_modified"
   ]
  },
  {
   "cell_type": "code",
   "execution_count": 119,
   "id": "3dfc60dd-2d76-48fa-9ba7-cd6230c2ff8b",
   "metadata": {},
   "outputs": [
    {
     "data": {
      "text/plain": [
       "True"
      ]
     },
     "execution_count": 119,
     "metadata": {},
     "output_type": "execute_result"
    }
   ],
   "source": [
    "np.shares_memory(arr, arr_modified)"
   ]
  },
  {
   "cell_type": "code",
   "execution_count": 125,
   "id": "2e81ffed-a88f-4a82-ac3f-aa2d5f5b02e0",
   "metadata": {},
   "outputs": [
    {
     "name": "stdout",
     "output_type": "stream",
     "text": [
      "[1 2 3 4 5 6] \n",
      "\n",
      " [[100 100]\n",
      " [  3   4]\n",
      " [  5   6]]\n"
     ]
    }
   ],
   "source": [
    "arr = np.arange(1, 7, step=1, dtype=np.uint8)\n",
    "arr_modified = arr.reshape(3,2).copy()\n",
    "arr_modified[0] = 100\n",
    "print(arr, '\\n\\n',arr_modified)"
   ]
  },
  {
   "cell_type": "code",
   "execution_count": 126,
   "id": "7bd0ea91-4dd0-4b61-bb32-2a670ee6a3d6",
   "metadata": {},
   "outputs": [
    {
     "data": {
      "text/plain": [
       "False"
      ]
     },
     "execution_count": 126,
     "metadata": {},
     "output_type": "execute_result"
    }
   ],
   "source": [
    "np.shares_memory(arr, arr_modified)"
   ]
  },
  {
   "cell_type": "markdown",
   "id": "590fbcb2-8810-4046-8426-256da5e7442c",
   "metadata": {},
   "source": [
    "# strides = view logic, not data\n",
    "\n",
    "Strides allow:\n",
    "1. `Reshaping`: Reinterpreting memory layout with a different shape.\n",
    "2. `Transposing`: Swapping axes (by changing strides, not data).\n",
    "3. `Slicing`: Like `arr[:, ::-1]` (reverse columns) — changes strides to negative!"
   ]
  },
  {
   "cell_type": "code",
   "execution_count": 147,
   "id": "ab0659f5-c56a-4624-a161-886efaee5805",
   "metadata": {},
   "outputs": [
    {
     "name": "stdout",
     "output_type": "stream",
     "text": [
      "(12, 4) (2, 3)\n"
     ]
    }
   ],
   "source": [
    "arr = np.array([\n",
    "    [1, 2, 3],\n",
    "    [4, 5, 6]\n",
    "], dtype=np.int32)  # 4 bytes per int32\n",
    "\n",
    "print(arr.strides, arr.shape)  # Output: (12, 4)\n",
    "\n",
    "# First stride 12 = move 12 bytes to jump to the next row (3 × 4 bytes)\n",
    "# Second stride 4 = move 4 bites to jump to the next column (1 int32)"
   ]
  },
  {
   "cell_type": "code",
   "execution_count": 148,
   "id": "8f0d8d94-65ba-429b-ac32-bafa457272f4",
   "metadata": {},
   "outputs": [
    {
     "data": {
      "text/plain": [
       "array([[1, 2],\n",
       "       [3, 4],\n",
       "       [5, 6]], dtype=int32)"
      ]
     },
     "execution_count": 148,
     "metadata": {},
     "output_type": "execute_result"
    }
   ],
   "source": [
    "arr_modified = arr.reshape((3,2))\n",
    "arr_modified"
   ]
  },
  {
   "cell_type": "code",
   "execution_count": 149,
   "id": "e910e1a8-ec49-4b7d-97c4-c91cbcf53356",
   "metadata": {},
   "outputs": [
    {
     "data": {
      "text/plain": [
       "(8, 4)"
      ]
     },
     "execution_count": 149,
     "metadata": {},
     "output_type": "execute_result"
    }
   ],
   "source": [
    "arr_modified.strides"
   ]
  },
  {
   "cell_type": "code",
   "execution_count": 155,
   "id": "1adbb99c-f73b-4687-9cab-d2847b3b79fb",
   "metadata": {},
   "outputs": [
    {
     "data": {
      "text/plain": [
       "(4,)"
      ]
     },
     "execution_count": 155,
     "metadata": {},
     "output_type": "execute_result"
    }
   ],
   "source": [
    "arr.reshape(6,).strides"
   ]
  },
  {
   "cell_type": "code",
   "execution_count": 156,
   "id": "3b81044a-687f-4734-b1e9-af051076880b",
   "metadata": {},
   "outputs": [
    {
     "data": {
      "text/plain": [
       "array([1, 2, 3, 4, 5, 6], dtype=int32)"
      ]
     },
     "execution_count": 156,
     "metadata": {},
     "output_type": "execute_result"
    }
   ],
   "source": [
    "arr.reshape(6,)"
   ]
  },
  {
   "cell_type": "markdown",
   "id": "c8dfc3e5-0fe9-4e11-b7c9-600a9286a3a6",
   "metadata": {},
   "source": [
    "# Stacking "
   ]
  },
  {
   "cell_type": "code",
   "execution_count": 177,
   "id": "2e9920e6-119c-4aa6-a50d-ed706b5271c0",
   "metadata": {},
   "outputs": [
    {
     "name": "stdout",
     "output_type": "stream",
     "text": [
      "[[ 1  2  3  4  5]\n",
      " [ 6  7  8  9 10]]\n",
      "\n",
      "[[100 101 102 103 104]\n",
      " [105 106 107 108 109]\n",
      " [110 111 112 113 114]]\n",
      "\n",
      "[0 0 0 0 0]\n",
      "\n",
      "\n",
      "[[100 101 102 103 104]\n",
      " [105 106 107 108 109]\n",
      " [110 111 112 113 114]\n",
      " [  0   0   0   0   0]\n",
      " [  1   2   3   4   5]\n",
      " [  6   7   8   9  10]]\n"
     ]
    }
   ],
   "source": [
    "a1 = np.arange(1,11, dtype=np.uint8).reshape((2,5))\n",
    "a2 = np.arange(100,115, dtype=np.uint8).reshape((3,5))\n",
    "a3 = np.array([0,0,0,0,0])\n",
    "print(a1,end='\\n\\n')\n",
    "\n",
    "print(a2,end='\\n\\n')\n",
    "\n",
    "print(a3,end='\\n\\n\\n')\n",
    "\n",
    "print(np.vstack((a2, a3, a1)))"
   ]
  },
  {
   "cell_type": "markdown",
   "id": "ae04434d-dd07-45f9-8b04-5ed488f802ba",
   "metadata": {},
   "source": [
    "### Latest version of numpy allows `concatenate` which is more modern than `hstack` or `vstack`"
   ]
  },
  {
   "cell_type": "code",
   "execution_count": 184,
   "id": "967a479e-9160-4821-bfec-60b8f8070959",
   "metadata": {},
   "outputs": [
    {
     "data": {
      "text/plain": [
       "array([[1, 2],\n",
       "       [3, 4],\n",
       "       [5, 6]])"
      ]
     },
     "execution_count": 184,
     "metadata": {},
     "output_type": "execute_result"
    }
   ],
   "source": [
    "a = np.array([[1, 2], [3, 4]])\n",
    "b = np.array([[5, 6]])\n",
    "np.concatenate((a, b), axis=0)"
   ]
  },
  {
   "cell_type": "code",
   "execution_count": 185,
   "id": "515a8d65-b167-4e0a-b0fb-d8eaa9a6b1bb",
   "metadata": {},
   "outputs": [
    {
     "data": {
      "text/plain": [
       "array([[ 1,  2,  3,  4,  5],\n",
       "       [ 6,  7,  8,  9, 10]], dtype=uint8)"
      ]
     },
     "execution_count": 185,
     "metadata": {},
     "output_type": "execute_result"
    }
   ],
   "source": [
    "a1"
   ]
  },
  {
   "cell_type": "code",
   "execution_count": 186,
   "id": "291e703c-7fb0-4796-90e5-bf9f42b0a2fc",
   "metadata": {},
   "outputs": [
    {
     "data": {
      "text/plain": [
       "array([[ 1.,  2.,  3.,  4.,  5.],\n",
       "       [ 6.,  7.,  8.,  9., 10.]], dtype=float32)"
      ]
     },
     "execution_count": 186,
     "metadata": {},
     "output_type": "execute_result"
    }
   ],
   "source": [
    "a1.astype(np.float32)"
   ]
  },
  {
   "cell_type": "markdown",
   "id": "41f22dd0-97ea-42b6-9013-9a2bc32ca340",
   "metadata": {},
   "source": [
    "# Indexing"
   ]
  },
  {
   "cell_type": "code",
   "execution_count": 189,
   "id": "c50d9af7-1871-4cfe-af6b-10ad7f43fc87",
   "metadata": {},
   "outputs": [
    {
     "data": {
      "text/plain": [
       "array([[15,  1],\n",
       "       [15, 15],\n",
       "       [14,  4],\n",
       "       [10,  2],\n",
       "       [ 7, 17]], dtype=uint8)"
      ]
     },
     "execution_count": 189,
     "metadata": {},
     "output_type": "execute_result"
    }
   ],
   "source": [
    "a = np.random.randint(1, 20, 10, dtype=np.uint8).reshape(5,2)\n",
    "a"
   ]
  },
  {
   "cell_type": "code",
   "execution_count": 193,
   "id": "c9161e5d-7675-41e5-bbc0-d69e2fd90575",
   "metadata": {},
   "outputs": [
    {
     "data": {
      "text/plain": [
       "np.uint8(2)"
      ]
     },
     "execution_count": 193,
     "metadata": {},
     "output_type": "execute_result"
    }
   ],
   "source": [
    "a[3][1]"
   ]
  },
  {
   "cell_type": "code",
   "execution_count": 194,
   "id": "46b2d6b4-511b-4c9f-b8e5-3e135c11e4ab",
   "metadata": {},
   "outputs": [
    {
     "data": {
      "text/plain": [
       "np.uint8(2)"
      ]
     },
     "execution_count": 194,
     "metadata": {},
     "output_type": "execute_result"
    }
   ],
   "source": [
    "a[3,1]"
   ]
  },
  {
   "cell_type": "code",
   "execution_count": 195,
   "id": "fbaf2acd-a90b-4cbc-a441-82f2a09130b8",
   "metadata": {},
   "outputs": [
    {
     "data": {
      "text/plain": [
       "array([[15,  1],\n",
       "       [15, 15],\n",
       "       [14,  4],\n",
       "       [10, 20],\n",
       "       [ 7, 17]], dtype=uint8)"
      ]
     },
     "execution_count": 195,
     "metadata": {},
     "output_type": "execute_result"
    }
   ],
   "source": [
    "a[3,1] = a[3,1]*10\n",
    "a"
   ]
  },
  {
   "cell_type": "code",
   "execution_count": 196,
   "id": "657d4bce-453c-4bd1-b633-804bb37a0f5b",
   "metadata": {},
   "outputs": [
    {
     "ename": "ValueError",
     "evalue": "invalid literal for int() with base 10: 'a'",
     "output_type": "error",
     "traceback": [
      "\u001b[31m---------------------------------------------------------------------------\u001b[39m",
      "\u001b[31mValueError\u001b[39m                                Traceback (most recent call last)",
      "\u001b[36mCell\u001b[39m\u001b[36m \u001b[39m\u001b[32mIn[196]\u001b[39m\u001b[32m, line 1\u001b[39m\n\u001b[32m----> \u001b[39m\u001b[32m1\u001b[39m \u001b[43ma\u001b[49m\u001b[43m[\u001b[49m\u001b[32;43m2\u001b[39;49m\u001b[43m,\u001b[49m\u001b[32;43m1\u001b[39;49m\u001b[43m]\u001b[49m = \u001b[33m'\u001b[39m\u001b[33ma\u001b[39m\u001b[33m'\u001b[39m\n",
      "\u001b[31mValueError\u001b[39m: invalid literal for int() with base 10: 'a'"
     ]
    }
   ],
   "source": [
    "a[2,1] = 'a'"
   ]
  },
  {
   "cell_type": "code",
   "execution_count": 197,
   "id": "38b57258-a028-4295-9a42-b61dfb15e48b",
   "metadata": {},
   "outputs": [
    {
     "ename": "OverflowError",
     "evalue": "Python integer 256 out of bounds for uint8",
     "output_type": "error",
     "traceback": [
      "\u001b[31m---------------------------------------------------------------------------\u001b[39m",
      "\u001b[31mOverflowError\u001b[39m                             Traceback (most recent call last)",
      "\u001b[36mCell\u001b[39m\u001b[36m \u001b[39m\u001b[32mIn[197]\u001b[39m\u001b[32m, line 1\u001b[39m\n\u001b[32m----> \u001b[39m\u001b[32m1\u001b[39m \u001b[43ma\u001b[49m\u001b[43m[\u001b[49m\u001b[32;43m2\u001b[39;49m\u001b[43m,\u001b[49m\u001b[32;43m1\u001b[39;49m\u001b[43m]\u001b[49m=\u001b[32m256\u001b[39m\n\u001b[32m      2\u001b[39m a\n",
      "\u001b[31mOverflowError\u001b[39m: Python integer 256 out of bounds for uint8"
     ]
    }
   ],
   "source": [
    "a[2,1]=256\n",
    "a"
   ]
  },
  {
   "cell_type": "markdown",
   "id": "2af5fe93-c2af-4f6c-b47b-488f7ba9a800",
   "metadata": {},
   "source": [
    "# Slicing"
   ]
  },
  {
   "cell_type": "code",
   "execution_count": 203,
   "id": "5b629cd5-63f3-4c06-8306-3135efdbc861",
   "metadata": {},
   "outputs": [
    {
     "data": {
      "text/plain": [
       "array([24, 79, 59, 32, 96, 88, 52, 62, 58])"
      ]
     },
     "execution_count": 203,
     "metadata": {},
     "output_type": "execute_result"
    }
   ],
   "source": [
    "a = np.random.randint(1,100,9)\n",
    "a"
   ]
  },
  {
   "cell_type": "code",
   "execution_count": 204,
   "id": "e8835c96-05b5-4c60-99b3-224dec9c71ac",
   "metadata": {},
   "outputs": [
    {
     "data": {
      "text/plain": [
       "array([24, 79, 59])"
      ]
     },
     "execution_count": 204,
     "metadata": {},
     "output_type": "execute_result"
    }
   ],
   "source": [
    "a[0:3]"
   ]
  },
  {
   "cell_type": "code",
   "execution_count": 206,
   "id": "00ff6cb2-f9ff-49be-9c9d-4bfceca3deea",
   "metadata": {},
   "outputs": [
    {
     "data": {
      "text/plain": [
       "array([59, 96, 52])"
      ]
     },
     "execution_count": 206,
     "metadata": {},
     "output_type": "execute_result"
    }
   ],
   "source": [
    "a[2:8:2]"
   ]
  },
  {
   "cell_type": "code",
   "execution_count": 208,
   "id": "068d42fe-cd27-4cc5-ad96-b5ab45399422",
   "metadata": {},
   "outputs": [
    {
     "data": {
      "text/plain": [
       "array([79, 32, 88, 62])"
      ]
     },
     "execution_count": 208,
     "metadata": {},
     "output_type": "execute_result"
    }
   ],
   "source": [
    "a[1::2]"
   ]
  },
  {
   "cell_type": "code",
   "execution_count": 209,
   "id": "a740388d-ba0f-46dc-8590-547c4ee912cc",
   "metadata": {},
   "outputs": [
    {
     "data": {
      "text/plain": [
       "array([58, 62, 52, 88, 96, 32, 59, 79, 24])"
      ]
     },
     "execution_count": 209,
     "metadata": {},
     "output_type": "execute_result"
    }
   ],
   "source": [
    "a[::-1]"
   ]
  },
  {
   "cell_type": "code",
   "execution_count": 212,
   "id": "10130b35-07b2-46fd-b46f-ef48edd05392",
   "metadata": {},
   "outputs": [
    {
     "data": {
      "text/plain": [
       "array([[87, 96, 97,  1],\n",
       "       [19,  2, 53, 44],\n",
       "       [90, 32, 70, 32]])"
      ]
     },
     "execution_count": 212,
     "metadata": {},
     "output_type": "execute_result"
    }
   ],
   "source": [
    "a = np.random.randint(1,100,12).reshape(3,4)\n",
    "a"
   ]
  },
  {
   "cell_type": "code",
   "execution_count": 213,
   "id": "92453829-bd69-4d88-a8ff-60352aad4d5a",
   "metadata": {},
   "outputs": [
    {
     "data": {
      "text/plain": [
       "array([[96, 97],\n",
       "       [ 2, 53]])"
      ]
     },
     "execution_count": 213,
     "metadata": {},
     "output_type": "execute_result"
    }
   ],
   "source": [
    "a[:2,1:3]"
   ]
  },
  {
   "cell_type": "code",
   "execution_count": 215,
   "id": "ccdf961f-3ffe-4bff-95aa-f047ef179913",
   "metadata": {},
   "outputs": [
    {
     "data": {
      "text/plain": [
       "array([[19, 53],\n",
       "       [90, 70]])"
      ]
     },
     "execution_count": 215,
     "metadata": {},
     "output_type": "execute_result"
    }
   ],
   "source": [
    "a[1:,::2]"
   ]
  },
  {
   "cell_type": "code",
   "execution_count": 224,
   "id": "ea579909-518c-4c5f-a3d8-12352776aaad",
   "metadata": {},
   "outputs": [
    {
     "name": "stdout",
     "output_type": "stream",
     "text": [
      "[1, 2, 3, 4] [1 2 3 4]\n",
      "[2, 3] [2 3]\n",
      "[1, 2, 3, 4] [ 1 10  3  4]\n"
     ]
    }
   ],
   "source": [
    "# difference between python list and numpy slice\n",
    "\n",
    "l = [1,2,3,4]\n",
    "arr = np.array([1,2,3,4])\n",
    "\n",
    "print(l, arr)\n",
    "\n",
    "l_slice = l[1:3]\n",
    "arr_slice = arr[1:3]\n",
    "\n",
    "print(l_slice, arr_slice)\n",
    "\n",
    "l_slice[0] = 10\n",
    "arr_slice[0] = 10\n",
    "\n",
    "print(l, arr)"
   ]
  },
  {
   "cell_type": "markdown",
   "id": "2d71539d-560b-44e6-9319-4efedfbbe219",
   "metadata": {},
   "source": [
    "# Fancy indexing"
   ]
  },
  {
   "cell_type": "code",
   "execution_count": 226,
   "id": "c2f57523-8145-4991-a882-856151416024",
   "metadata": {},
   "outputs": [
    {
     "data": {
      "text/plain": [
       "array([1, 2, 3, 4, 5, 6])"
      ]
     },
     "execution_count": 226,
     "metadata": {},
     "output_type": "execute_result"
    }
   ],
   "source": [
    "arr = np.array([1,2,3,4,5,6])\n",
    "arr"
   ]
  },
  {
   "cell_type": "code",
   "execution_count": 229,
   "id": "80c11944-0879-4dbb-9bf1-de2f3599a6cb",
   "metadata": {},
   "outputs": [
    {
     "data": {
      "text/plain": [
       "array([1, 4, 5])"
      ]
     },
     "execution_count": 229,
     "metadata": {},
     "output_type": "execute_result"
    }
   ],
   "source": [
    "arr[np.array([0,3,4])]"
   ]
  },
  {
   "cell_type": "code",
   "execution_count": 232,
   "id": "b09f4513-bccb-4685-92e4-9061ff3ad773",
   "metadata": {},
   "outputs": [
    {
     "data": {
      "text/plain": [
       "array([[ 1,  2,  3,  4,  5],\n",
       "       [ 6,  7,  8,  9, 10],\n",
       "       [11, 12, 13, 14, 15],\n",
       "       [16, 17, 18, 19, 20],\n",
       "       [21, 22, 23, 24, 25]])"
      ]
     },
     "execution_count": 232,
     "metadata": {},
     "output_type": "execute_result"
    }
   ],
   "source": [
    "arr = np.arange(1,26).reshape(5,5)\n",
    "arr"
   ]
  },
  {
   "cell_type": "code",
   "execution_count": 235,
   "id": "add72332-f578-4c4a-a01e-2e8db15fa077",
   "metadata": {},
   "outputs": [
    {
     "data": {
      "text/plain": [
       "array([[ 6,  9, 10],\n",
       "       [11, 14, 15]])"
      ]
     },
     "execution_count": 235,
     "metadata": {},
     "output_type": "execute_result"
    }
   ],
   "source": [
    "# combination of usual indexing and fancy indexing\n",
    "# fancy index just uses an array instead of reguar index\n",
    "\n",
    "arr[1:3,np.array([0,3,4])]"
   ]
  },
  {
   "cell_type": "code",
   "execution_count": 240,
   "id": "90d2d7e2-cbda-49f4-a9b5-13b964dc3023",
   "metadata": {},
   "outputs": [
    {
     "data": {
      "text/plain": [
       "array([ 2, 19])"
      ]
     },
     "execution_count": 240,
     "metadata": {},
     "output_type": "execute_result"
    }
   ],
   "source": [
    "# when both args are fancy, then numpy takes a zip of both indices i.e\n",
    "# (0,1) and (3,3)\n",
    "\n",
    "arr[np.array([0,3]),np.array([1,3])]"
   ]
  },
  {
   "cell_type": "code",
   "execution_count": 241,
   "id": "35174057-5ba3-48ab-97a5-7eb76b8c80f4",
   "metadata": {},
   "outputs": [
    {
     "ename": "IndexError",
     "evalue": "shape mismatch: indexing arrays could not be broadcast together with shapes (2,) (3,) ",
     "output_type": "error",
     "traceback": [
      "\u001b[31m---------------------------------------------------------------------------\u001b[39m",
      "\u001b[31mIndexError\u001b[39m                                Traceback (most recent call last)",
      "\u001b[36mCell\u001b[39m\u001b[36m \u001b[39m\u001b[32mIn[241]\u001b[39m\u001b[32m, line 3\u001b[39m\n\u001b[32m      1\u001b[39m \u001b[38;5;66;03m# because of this below wont work \u001b[39;00m\n\u001b[32m----> \u001b[39m\u001b[32m3\u001b[39m \u001b[43marr\u001b[49m\u001b[43m[\u001b[49m\u001b[43mnp\u001b[49m\u001b[43m.\u001b[49m\u001b[43marray\u001b[49m\u001b[43m(\u001b[49m\u001b[43m[\u001b[49m\u001b[32;43m0\u001b[39;49m\u001b[43m,\u001b[49m\u001b[32;43m3\u001b[39;49m\u001b[43m]\u001b[49m\u001b[43m)\u001b[49m\u001b[43m,\u001b[49m\u001b[43mnp\u001b[49m\u001b[43m.\u001b[49m\u001b[43marray\u001b[49m\u001b[43m(\u001b[49m\u001b[43m[\u001b[49m\u001b[32;43m1\u001b[39;49m\u001b[43m,\u001b[49m\u001b[32;43m3\u001b[39;49m\u001b[43m,\u001b[49m\u001b[32;43m4\u001b[39;49m\u001b[43m]\u001b[49m\u001b[43m)\u001b[49m\u001b[43m]\u001b[49m\n",
      "\u001b[31mIndexError\u001b[39m: shape mismatch: indexing arrays could not be broadcast together with shapes (2,) (3,) "
     ]
    }
   ],
   "source": [
    "# because of this below wont work \n",
    "\n",
    "arr[np.array([0,3]),np.array([1,3,4])]"
   ]
  },
  {
   "cell_type": "code",
   "execution_count": 244,
   "id": "81d8371c-909e-4ee3-ba4b-822f6485caa2",
   "metadata": {},
   "outputs": [],
   "source": [
    "import csv\n",
    "\n",
    "with open('data/appl.csv', 'r') as f:\n",
    "    reader = csv.reader(f, skipinitialspace=True)\n",
    "    headers = next(reader)\n",
    "    data = list(reader)"
   ]
  },
  {
   "cell_type": "code",
   "execution_count": 246,
   "id": "a25efeab-a646-4008-900d-9e4164845bfd",
   "metadata": {},
   "outputs": [
    {
     "data": {
      "text/plain": [
       "['Symbol', 'Date', 'Close', 'Volume', 'Open', 'High', 'Low']"
      ]
     },
     "execution_count": 246,
     "metadata": {},
     "output_type": "execute_result"
    }
   ],
   "source": [
    "headers"
   ]
  },
  {
   "cell_type": "code",
   "execution_count": 247,
   "id": "fcbbf8d8-3cd6-492a-a7eb-1ed27fe256ce",
   "metadata": {},
   "outputs": [
    {
     "data": {
      "text/plain": [
       "[['AAPL', '10/29/2020', '115.32', '146129200', '112.37', '116.93', '112.2'],\n",
       " ['AAPL', '10/28/2020', '111.2', '143937800', '115.05', '115.43', '111.1'],\n",
       " ['AAPL', '10/27/2020', '116.6', '92276770', '115.49', '117.28', '114.5399'],\n",
       " ['AAPL', '10/26/2020', '115.05', '111850700', '114.01', '116.55', '112.88'],\n",
       " ['AAPL', '10/23/2020', '115.04', '82572650', '116.39', '116.55', '114.28'],\n",
       " ['AAPL', '10/22/2020', '115.75', '101988000', '117.45', '118.04', '114.59'],\n",
       " ['AAPL', '10/21/2020', '116.87', '89945980', '116.67', '118.705', '116.45'],\n",
       " ['AAPL', '10/20/2020', '117.51', '124423700', '116.2', '118.98', '115.63'],\n",
       " ['AAPL', '10/19/2020', '115.98', '120639300', '119.96', '120.419', '115.66'],\n",
       " ['AAPL', '10/16/2020', '119.02', '115393800', '121.28', '121.548', '118.81'],\n",
       " ['AAPL', '10/15/2020', '120.71', '112559200', '118.72', '121.2', '118.15'],\n",
       " ['AAPL', '10/14/2020', '121.19', '151062300', '121', '123.03', '119.62'],\n",
       " ['AAPL', '10/13/2020', '121.1', '262330500', '125.27', '125.39', '119.65'],\n",
       " ['AAPL', '10/12/2020', '124.4', '240226800', '120.06', '125.18', '119.2845'],\n",
       " ['AAPL', '10/09/2020', '116.97', '100506900', '115.28', '117', '114.92'],\n",
       " ['AAPL', '10/08/2020', '114.97', '83477150', '116.25', '116.4', '114.5901'],\n",
       " ['AAPL', '10/07/2020', '115.08', '96848990', '114.62', '115.55', '114.13'],\n",
       " ['AAPL', '10/06/2020', '113.16', '161498200', '115.7', '116.12', '112.25'],\n",
       " ['AAPL', '10/05/2020', '116.5', '106243800', '113.91', '116.65', '113.55'],\n",
       " ['AAPL', '10/02/2020', '113.02', '144712000', '112.89', '115.37', '112.22'],\n",
       " ['AAPL', '10/01/2020', '116.79', '116120400', '117.64', '117.72', '115.83'],\n",
       " ['AAPL', '09/30/2020', '115.81', '142675200', '113.79', '117.26', '113.62'],\n",
       " ['AAPL', '09/29/2020', '114.09', '100060500', '114.55', '115.31', '113.57']]"
      ]
     },
     "execution_count": 247,
     "metadata": {},
     "output_type": "execute_result"
    }
   ],
   "source": [
    "data"
   ]
  },
  {
   "cell_type": "code",
   "execution_count": 250,
   "id": "b299fbbd-7fb4-4649-9398-e9f1315a0e8f",
   "metadata": {},
   "outputs": [
    {
     "data": {
      "text/plain": [
       "array([['AAPL', '10/29/2020', '115.32', '146129200', '112.37', '116.93',\n",
       "        '112.2'],\n",
       "       ['AAPL', '10/28/2020', '111.2', '143937800', '115.05', '115.43',\n",
       "        '111.1'],\n",
       "       ['AAPL', '10/27/2020', '116.6', '92276770', '115.49', '117.28',\n",
       "        '114.5399'],\n",
       "       ['AAPL', '10/26/2020', '115.05', '111850700', '114.01', '116.55',\n",
       "        '112.88'],\n",
       "       ['AAPL', '10/23/2020', '115.04', '82572650', '116.39', '116.55',\n",
       "        '114.28'],\n",
       "       ['AAPL', '10/22/2020', '115.75', '101988000', '117.45', '118.04',\n",
       "        '114.59'],\n",
       "       ['AAPL', '10/21/2020', '116.87', '89945980', '116.67', '118.705',\n",
       "        '116.45'],\n",
       "       ['AAPL', '10/20/2020', '117.51', '124423700', '116.2', '118.98',\n",
       "        '115.63'],\n",
       "       ['AAPL', '10/19/2020', '115.98', '120639300', '119.96', '120.419',\n",
       "        '115.66'],\n",
       "       ['AAPL', '10/16/2020', '119.02', '115393800', '121.28', '121.548',\n",
       "        '118.81'],\n",
       "       ['AAPL', '10/15/2020', '120.71', '112559200', '118.72', '121.2',\n",
       "        '118.15'],\n",
       "       ['AAPL', '10/14/2020', '121.19', '151062300', '121', '123.03',\n",
       "        '119.62'],\n",
       "       ['AAPL', '10/13/2020', '121.1', '262330500', '125.27', '125.39',\n",
       "        '119.65'],\n",
       "       ['AAPL', '10/12/2020', '124.4', '240226800', '120.06', '125.18',\n",
       "        '119.2845'],\n",
       "       ['AAPL', '10/09/2020', '116.97', '100506900', '115.28', '117',\n",
       "        '114.92'],\n",
       "       ['AAPL', '10/08/2020', '114.97', '83477150', '116.25', '116.4',\n",
       "        '114.5901'],\n",
       "       ['AAPL', '10/07/2020', '115.08', '96848990', '114.62', '115.55',\n",
       "        '114.13'],\n",
       "       ['AAPL', '10/06/2020', '113.16', '161498200', '115.7', '116.12',\n",
       "        '112.25'],\n",
       "       ['AAPL', '10/05/2020', '116.5', '106243800', '113.91', '116.65',\n",
       "        '113.55'],\n",
       "       ['AAPL', '10/02/2020', '113.02', '144712000', '112.89', '115.37',\n",
       "        '112.22'],\n",
       "       ['AAPL', '10/01/2020', '116.79', '116120400', '117.64', '117.72',\n",
       "        '115.83'],\n",
       "       ['AAPL', '09/30/2020', '115.81', '142675200', '113.79', '117.26',\n",
       "        '113.62'],\n",
       "       ['AAPL', '09/29/2020', '114.09', '100060500', '114.55', '115.31',\n",
       "        '113.57']], dtype='<U10')"
      ]
     },
     "execution_count": 250,
     "metadata": {},
     "output_type": "execute_result"
    }
   ],
   "source": [
    "data = np.array(data)\n",
    "data"
   ]
  },
  {
   "cell_type": "code",
   "execution_count": 252,
   "id": "637696a7-e169-4c9f-940c-79c27969cb92",
   "metadata": {},
   "outputs": [
    {
     "data": {
      "text/plain": [
       "array(['10/29/2020', '10/28/2020', '10/27/2020', '10/26/2020',\n",
       "       '10/23/2020', '10/22/2020', '10/21/2020', '10/20/2020',\n",
       "       '10/19/2020', '10/16/2020', '10/15/2020', '10/14/2020',\n",
       "       '10/13/2020', '10/12/2020', '10/09/2020', '10/08/2020',\n",
       "       '10/07/2020', '10/06/2020', '10/05/2020', '10/02/2020',\n",
       "       '10/01/2020', '09/30/2020', '09/29/2020'], dtype='<U10')"
      ]
     },
     "execution_count": 252,
     "metadata": {},
     "output_type": "execute_result"
    }
   ],
   "source": [
    "dates = data[:, 1]\n",
    "dates"
   ]
  },
  {
   "cell_type": "code",
   "execution_count": 253,
   "id": "4432488f-03fb-4918-9e46-65c954df6a0a",
   "metadata": {},
   "outputs": [
    {
     "data": {
      "text/plain": [
       "[datetime.datetime(2020, 10, 29, 0, 0),\n",
       " datetime.datetime(2020, 10, 28, 0, 0),\n",
       " datetime.datetime(2020, 10, 27, 0, 0),\n",
       " datetime.datetime(2020, 10, 26, 0, 0),\n",
       " datetime.datetime(2020, 10, 23, 0, 0),\n",
       " datetime.datetime(2020, 10, 22, 0, 0),\n",
       " datetime.datetime(2020, 10, 21, 0, 0),\n",
       " datetime.datetime(2020, 10, 20, 0, 0),\n",
       " datetime.datetime(2020, 10, 19, 0, 0),\n",
       " datetime.datetime(2020, 10, 16, 0, 0),\n",
       " datetime.datetime(2020, 10, 15, 0, 0),\n",
       " datetime.datetime(2020, 10, 14, 0, 0),\n",
       " datetime.datetime(2020, 10, 13, 0, 0),\n",
       " datetime.datetime(2020, 10, 12, 0, 0),\n",
       " datetime.datetime(2020, 10, 9, 0, 0),\n",
       " datetime.datetime(2020, 10, 8, 0, 0),\n",
       " datetime.datetime(2020, 10, 7, 0, 0),\n",
       " datetime.datetime(2020, 10, 6, 0, 0),\n",
       " datetime.datetime(2020, 10, 5, 0, 0),\n",
       " datetime.datetime(2020, 10, 2, 0, 0),\n",
       " datetime.datetime(2020, 10, 1, 0, 0),\n",
       " datetime.datetime(2020, 9, 30, 0, 0),\n",
       " datetime.datetime(2020, 9, 29, 0, 0)]"
      ]
     },
     "execution_count": 253,
     "metadata": {},
     "output_type": "execute_result"
    }
   ],
   "source": [
    "from dateutil import parser\n",
    "\n",
    "dates = [parser.parse(d) for d in dates]\n",
    "dates"
   ]
  },
  {
   "cell_type": "code",
   "execution_count": 256,
   "id": "c3fecdb6-b488-4ace-b838-5e83a854f3bd",
   "metadata": {},
   "outputs": [
    {
     "data": {
      "text/plain": [
       "array([[112.37, 115.32],\n",
       "       [115.05, 111.2 ],\n",
       "       [115.49, 116.6 ],\n",
       "       [114.01, 115.05],\n",
       "       [116.39, 115.04],\n",
       "       [117.45, 115.75],\n",
       "       [116.67, 116.87],\n",
       "       [116.2 , 117.51],\n",
       "       [119.96, 115.98],\n",
       "       [121.28, 119.02],\n",
       "       [118.72, 120.71],\n",
       "       [121.  , 121.19],\n",
       "       [125.27, 121.1 ],\n",
       "       [120.06, 124.4 ],\n",
       "       [115.28, 116.97],\n",
       "       [116.25, 114.97],\n",
       "       [114.62, 115.08],\n",
       "       [115.7 , 113.16],\n",
       "       [113.91, 116.5 ],\n",
       "       [112.89, 113.02],\n",
       "       [117.64, 116.79],\n",
       "       [113.79, 115.81],\n",
       "       [114.55, 114.09]], dtype=float32)"
      ]
     },
     "execution_count": 256,
     "metadata": {},
     "output_type": "execute_result"
    }
   ],
   "source": [
    "oc = data[:, np.array([4,2])].astype(np.float32)\n",
    "oc"
   ]
  },
  {
   "cell_type": "code",
   "execution_count": 258,
   "id": "b5e495db-e9e7-4d83-afc2-3c80d71a1c30",
   "metadata": {},
   "outputs": [
    {
     "data": {
      "text/plain": [
       "array([ 2.625253  , -3.3463764 ,  0.96112275,  0.9122015 , -1.1598921 ,\n",
       "       -1.4474219 ,  0.17142761,  1.1273711 , -3.3177688 , -1.8634582 ,\n",
       "        1.6762111 ,  0.15702681, -3.3288083 ,  3.6148627 ,  1.4659979 ,\n",
       "       -1.1010742 ,  0.4013253 , -2.195327  ,  2.2737217 ,  0.11515392,\n",
       "       -0.7225421 ,  1.7751969 , -0.4015772 ], dtype=float32)"
      ]
     },
     "execution_count": 258,
     "metadata": {},
     "output_type": "execute_result"
    }
   ],
   "source": [
    "diff_prices = (oc[:,1] - oc[:,0]) /  oc[:,0] *100\n",
    "diff_prices"
   ]
  },
  {
   "cell_type": "markdown",
   "id": "7dd5fdfc-036a-4706-9a1f-8c64d964162a",
   "metadata": {},
   "source": [
    "# Masking"
   ]
  },
  {
   "cell_type": "code",
   "execution_count": 281,
   "id": "d458ac3d-ecc8-4174-b928-08418d9bb49b",
   "metadata": {},
   "outputs": [
    {
     "data": {
      "text/plain": [
       "array([ 10, -10,  21, -33,  50,  61,  -6])"
      ]
     },
     "execution_count": 281,
     "metadata": {},
     "output_type": "execute_result"
    }
   ],
   "source": [
    "arr = np.array([10,-10,21,-33, 50,61 ,-6])\n",
    "arr"
   ]
  },
  {
   "cell_type": "code",
   "execution_count": 275,
   "id": "e686d030-2f5f-4875-b819-6f0c53beee3f",
   "metadata": {},
   "outputs": [
    {
     "data": {
      "text/plain": [
       "array([False,  True, False,  True, False, False,  True])"
      ]
     },
     "execution_count": 275,
     "metadata": {},
     "output_type": "execute_result"
    }
   ],
   "source": [
    "mask = arr < 0\n",
    "mask"
   ]
  },
  {
   "cell_type": "code",
   "execution_count": 276,
   "id": "15a0119b-2a62-4847-bce6-9e5a2e5bc986",
   "metadata": {},
   "outputs": [
    {
     "data": {
      "text/plain": [
       "array([-10, -33,  -7])"
      ]
     },
     "execution_count": 276,
     "metadata": {},
     "output_type": "execute_result"
    }
   ],
   "source": [
    "arr[mask]"
   ]
  },
  {
   "cell_type": "code",
   "execution_count": 282,
   "id": "0b612940-0ca5-4730-93c5-efe03e719651",
   "metadata": {},
   "outputs": [
    {
     "data": {
      "text/plain": [
       "array([ 10, -10,  50,  -6])"
      ]
     },
     "execution_count": 282,
     "metadata": {},
     "output_type": "execute_result"
    }
   ],
   "source": [
    "arr[arr % 2==0] "
   ]
  },
  {
   "cell_type": "code",
   "execution_count": 283,
   "id": "795005db-4db3-4c0b-b1c6-696a8a243a3c",
   "metadata": {},
   "outputs": [
    {
     "data": {
      "text/plain": [
       "array([10, 50])"
      ]
     },
     "execution_count": 283,
     "metadata": {},
     "output_type": "execute_result"
    }
   ],
   "source": [
    "arr[(arr>0) & (arr % 2 == 0)]"
   ]
  },
  {
   "cell_type": "markdown",
   "id": "6bf00c36-5392-4fcb-9145-e6ce8e70eccd",
   "metadata": {},
   "source": [
    "### Dates on which apple closed above 116.0"
   ]
  },
  {
   "cell_type": "code",
   "execution_count": 286,
   "id": "5a53bc54-b43a-487f-b488-f1a749fe18bd",
   "metadata": {},
   "outputs": [],
   "source": [
    "with open('data/appl.csv', 'r') as f:\n",
    "    reader = csv.reader(f)\n",
    "    headers = next(reader)\n",
    "    data = np.array(list(reader))"
   ]
  },
  {
   "cell_type": "code",
   "execution_count": 287,
   "id": "6082f9cb-4c3e-436a-8012-41f816b8bdf2",
   "metadata": {},
   "outputs": [
    {
     "data": {
      "text/plain": [
       "array([['AAPL', ' 10/29/2020', ' 115.32', ' 146129200', ' 112.37',\n",
       "        ' 116.93', ' 112.2'],\n",
       "       ['AAPL', ' 10/28/2020', ' 111.2', ' 143937800', ' 115.05',\n",
       "        ' 115.43', ' 111.1'],\n",
       "       ['AAPL', ' 10/27/2020', ' 116.6', ' 92276770', ' 115.49',\n",
       "        ' 117.28', ' 114.5399'],\n",
       "       ['AAPL', ' 10/26/2020', ' 115.05', ' 111850700', ' 114.01',\n",
       "        ' 116.55', ' 112.88'],\n",
       "       ['AAPL', ' 10/23/2020', ' 115.04', ' 82572650', ' 116.39',\n",
       "        ' 116.55', ' 114.28'],\n",
       "       ['AAPL', ' 10/22/2020', ' 115.75', ' 101988000', ' 117.45',\n",
       "        ' 118.04', ' 114.59'],\n",
       "       ['AAPL', ' 10/21/2020', ' 116.87', ' 89945980', ' 116.67',\n",
       "        ' 118.705', ' 116.45'],\n",
       "       ['AAPL', ' 10/20/2020', ' 117.51', ' 124423700', ' 116.2',\n",
       "        ' 118.98', ' 115.63'],\n",
       "       ['AAPL', ' 10/19/2020', ' 115.98', ' 120639300', ' 119.96',\n",
       "        ' 120.419', ' 115.66'],\n",
       "       ['AAPL', ' 10/16/2020', ' 119.02', ' 115393800', ' 121.28',\n",
       "        ' 121.548', ' 118.81'],\n",
       "       ['AAPL', ' 10/15/2020', ' 120.71', ' 112559200', ' 118.72',\n",
       "        ' 121.2', ' 118.15'],\n",
       "       ['AAPL', ' 10/14/2020', ' 121.19', ' 151062300', ' 121',\n",
       "        ' 123.03', ' 119.62'],\n",
       "       ['AAPL', ' 10/13/2020', ' 121.1', ' 262330500', ' 125.27',\n",
       "        ' 125.39', ' 119.65'],\n",
       "       ['AAPL', ' 10/12/2020', ' 124.4', ' 240226800', ' 120.06',\n",
       "        ' 125.18', ' 119.2845'],\n",
       "       ['AAPL', ' 10/09/2020', ' 116.97', ' 100506900', ' 115.28',\n",
       "        ' 117', ' 114.92'],\n",
       "       ['AAPL', ' 10/08/2020', ' 114.97', ' 83477150', ' 116.25',\n",
       "        ' 116.4', ' 114.5901'],\n",
       "       ['AAPL', ' 10/07/2020', ' 115.08', ' 96848990', ' 114.62',\n",
       "        ' 115.55', ' 114.13'],\n",
       "       ['AAPL', ' 10/06/2020', ' 113.16', ' 161498200', ' 115.7',\n",
       "        ' 116.12', ' 112.25'],\n",
       "       ['AAPL', ' 10/05/2020', ' 116.5', ' 106243800', ' 113.91',\n",
       "        ' 116.65', ' 113.55'],\n",
       "       ['AAPL', ' 10/02/2020', ' 113.02', ' 144712000', ' 112.89',\n",
       "        ' 115.37', ' 112.22'],\n",
       "       ['AAPL', ' 10/01/2020', ' 116.79', ' 116120400', ' 117.64',\n",
       "        ' 117.72', ' 115.83'],\n",
       "       ['AAPL', ' 09/30/2020', ' 115.81', ' 142675200', ' 113.79',\n",
       "        ' 117.26', ' 113.62'],\n",
       "       ['AAPL', ' 09/29/2020', ' 114.09', ' 100060500', ' 114.55',\n",
       "        ' 115.31', ' 113.57']], dtype='<U11')"
      ]
     },
     "execution_count": 287,
     "metadata": {},
     "output_type": "execute_result"
    }
   ],
   "source": [
    "data"
   ]
  },
  {
   "cell_type": "code",
   "execution_count": 289,
   "id": "28612fd7-beaa-468c-a224-ffa0a88bbacb",
   "metadata": {},
   "outputs": [
    {
     "data": {
      "text/plain": [
       "array([datetime.datetime(2020, 10, 29, 0, 0),\n",
       "       datetime.datetime(2020, 10, 28, 0, 0),\n",
       "       datetime.datetime(2020, 10, 27, 0, 0),\n",
       "       datetime.datetime(2020, 10, 26, 0, 0),\n",
       "       datetime.datetime(2020, 10, 23, 0, 0),\n",
       "       datetime.datetime(2020, 10, 22, 0, 0),\n",
       "       datetime.datetime(2020, 10, 21, 0, 0),\n",
       "       datetime.datetime(2020, 10, 20, 0, 0),\n",
       "       datetime.datetime(2020, 10, 19, 0, 0),\n",
       "       datetime.datetime(2020, 10, 16, 0, 0),\n",
       "       datetime.datetime(2020, 10, 15, 0, 0),\n",
       "       datetime.datetime(2020, 10, 14, 0, 0),\n",
       "       datetime.datetime(2020, 10, 13, 0, 0),\n",
       "       datetime.datetime(2020, 10, 12, 0, 0),\n",
       "       datetime.datetime(2020, 10, 9, 0, 0),\n",
       "       datetime.datetime(2020, 10, 8, 0, 0),\n",
       "       datetime.datetime(2020, 10, 7, 0, 0),\n",
       "       datetime.datetime(2020, 10, 6, 0, 0),\n",
       "       datetime.datetime(2020, 10, 5, 0, 0),\n",
       "       datetime.datetime(2020, 10, 2, 0, 0),\n",
       "       datetime.datetime(2020, 10, 1, 0, 0),\n",
       "       datetime.datetime(2020, 9, 30, 0, 0),\n",
       "       datetime.datetime(2020, 9, 29, 0, 0)], dtype=object)"
      ]
     },
     "execution_count": 289,
     "metadata": {},
     "output_type": "execute_result"
    }
   ],
   "source": [
    "dates = np.array([parser.parse(d) for d in data[:,1]])\n",
    "dates"
   ]
  },
  {
   "cell_type": "code",
   "execution_count": 290,
   "id": "78fdaf7b-8aa6-4d30-8a49-dcffb8fc2067",
   "metadata": {},
   "outputs": [
    {
     "data": {
      "text/plain": [
       "['Symbol', ' Date', ' Close', ' Volume', ' Open', ' High', ' Low']"
      ]
     },
     "execution_count": 290,
     "metadata": {},
     "output_type": "execute_result"
    }
   ],
   "source": [
    "headers"
   ]
  },
  {
   "cell_type": "code",
   "execution_count": 292,
   "id": "7b1de4be-9080-4aba-94d2-b0e102a3d73b",
   "metadata": {},
   "outputs": [
    {
     "data": {
      "text/plain": [
       "array([[112.37  , 116.93  , 112.2   , 115.32  ],\n",
       "       [115.05  , 115.43  , 111.1   , 111.2   ],\n",
       "       [115.49  , 117.28  , 114.5399, 116.6   ],\n",
       "       [114.01  , 116.55  , 112.88  , 115.05  ],\n",
       "       [116.39  , 116.55  , 114.28  , 115.04  ],\n",
       "       [117.45  , 118.04  , 114.59  , 115.75  ],\n",
       "       [116.67  , 118.705 , 116.45  , 116.87  ],\n",
       "       [116.2   , 118.98  , 115.63  , 117.51  ],\n",
       "       [119.96  , 120.419 , 115.66  , 115.98  ],\n",
       "       [121.28  , 121.548 , 118.81  , 119.02  ],\n",
       "       [118.72  , 121.2   , 118.15  , 120.71  ],\n",
       "       [121.    , 123.03  , 119.62  , 121.19  ],\n",
       "       [125.27  , 125.39  , 119.65  , 121.1   ],\n",
       "       [120.06  , 125.18  , 119.2845, 124.4   ],\n",
       "       [115.28  , 117.    , 114.92  , 116.97  ],\n",
       "       [116.25  , 116.4   , 114.5901, 114.97  ],\n",
       "       [114.62  , 115.55  , 114.13  , 115.08  ],\n",
       "       [115.7   , 116.12  , 112.25  , 113.16  ],\n",
       "       [113.91  , 116.65  , 113.55  , 116.5   ],\n",
       "       [112.89  , 115.37  , 112.22  , 113.02  ],\n",
       "       [117.64  , 117.72  , 115.83  , 116.79  ],\n",
       "       [113.79  , 117.26  , 113.62  , 115.81  ],\n",
       "       [114.55  , 115.31  , 113.57  , 114.09  ]], dtype=float32)"
      ]
     },
     "execution_count": 292,
     "metadata": {},
     "output_type": "execute_result"
    }
   ],
   "source": [
    "ohlc = data[:,np.array([4,5,6,2])].astype(np.float32)\n",
    "ohlc"
   ]
  },
  {
   "cell_type": "code",
   "execution_count": 293,
   "id": "63f822ae-7c8e-4c42-ad67-057d94d640e9",
   "metadata": {},
   "outputs": [
    {
     "data": {
      "text/plain": [
       "array([False, False,  True, False, False, False,  True,  True, False,\n",
       "        True,  True,  True,  True,  True,  True, False, False, False,\n",
       "        True, False,  True, False, False])"
      ]
     },
     "execution_count": 293,
     "metadata": {},
     "output_type": "execute_result"
    }
   ],
   "source": [
    "ohlc[:,3] > 116.0"
   ]
  },
  {
   "cell_type": "code",
   "execution_count": 301,
   "id": "111be9df-12da-4ee6-87e2-9e2de6a690a8",
   "metadata": {},
   "outputs": [
    {
     "data": {
      "text/plain": [
       "array([[datetime.datetime(2020, 10, 27, 0, 0), 115.48999786376953,\n",
       "        117.27999877929688, 114.53990173339844, 116.5999984741211],\n",
       "       [datetime.datetime(2020, 10, 21, 0, 0), 116.66999816894531,\n",
       "        118.70500183105469, 116.44999694824219, 116.87000274658203],\n",
       "       [datetime.datetime(2020, 10, 20, 0, 0), 116.19999694824219,\n",
       "        118.9800033569336, 115.62999725341797, 117.51000213623047],\n",
       "       [datetime.datetime(2020, 10, 16, 0, 0), 121.27999877929688,\n",
       "        121.5479965209961, 118.80999755859375, 119.0199966430664],\n",
       "       [datetime.datetime(2020, 10, 15, 0, 0), 118.72000122070312,\n",
       "        121.19999694824219, 118.1500015258789, 120.70999908447266],\n",
       "       [datetime.datetime(2020, 10, 14, 0, 0), 121.0, 123.02999877929688,\n",
       "        119.62000274658203, 121.19000244140625],\n",
       "       [datetime.datetime(2020, 10, 13, 0, 0), 125.2699966430664,\n",
       "        125.38999938964844, 119.6500015258789, 121.0999984741211],\n",
       "       [datetime.datetime(2020, 10, 12, 0, 0), 120.05999755859375,\n",
       "        125.18000030517578, 119.28450012207031, 124.4000015258789],\n",
       "       [datetime.datetime(2020, 10, 9, 0, 0), 115.27999877929688, 117.0,\n",
       "        114.91999816894531, 116.97000122070312],\n",
       "       [datetime.datetime(2020, 10, 5, 0, 0), 113.91000366210938,\n",
       "        116.6500015258789, 113.55000305175781, 116.5],\n",
       "       [datetime.datetime(2020, 10, 1, 0, 0), 117.63999938964844,\n",
       "        117.72000122070312, 115.83000183105469, 116.79000091552734]],\n",
       "      dtype=object)"
      ]
     },
     "execution_count": 301,
     "metadata": {},
     "output_type": "execute_result"
    }
   ],
   "source": [
    "np.hstack((dates[ohlc[:,3] > 116.0].reshape(11,1),ohlc[ohlc[:,3] > 116.0]))"
   ]
  },
  {
   "cell_type": "code",
   "execution_count": 299,
   "id": "33e23aab-ac8a-4581-a8c4-1a65663a1e61",
   "metadata": {},
   "outputs": [
    {
     "data": {
      "text/plain": [
       "array([[datetime.datetime(2020, 10, 27, 0, 0)],\n",
       "       [datetime.datetime(2020, 10, 21, 0, 0)],\n",
       "       [datetime.datetime(2020, 10, 20, 0, 0)],\n",
       "       [datetime.datetime(2020, 10, 16, 0, 0)],\n",
       "       [datetime.datetime(2020, 10, 15, 0, 0)],\n",
       "       [datetime.datetime(2020, 10, 14, 0, 0)],\n",
       "       [datetime.datetime(2020, 10, 13, 0, 0)],\n",
       "       [datetime.datetime(2020, 10, 12, 0, 0)],\n",
       "       [datetime.datetime(2020, 10, 9, 0, 0)],\n",
       "       [datetime.datetime(2020, 10, 5, 0, 0)],\n",
       "       [datetime.datetime(2020, 10, 1, 0, 0)]], dtype=object)"
      ]
     },
     "execution_count": 299,
     "metadata": {},
     "output_type": "execute_result"
    }
   ],
   "source": [
    "dates[ohlc[:,3] > 116.0].reshape(11,1)"
   ]
  },
  {
   "cell_type": "code",
   "execution_count": 298,
   "id": "fd99603b-0ddd-47c9-b0d7-b2edab423eec",
   "metadata": {},
   "outputs": [
    {
     "data": {
      "text/plain": [
       "(11, 4)"
      ]
     },
     "execution_count": 298,
     "metadata": {},
     "output_type": "execute_result"
    }
   ],
   "source": [
    "ohlc[ohlc[:,3] > 116.0].shape"
   ]
  },
  {
   "cell_type": "code",
   "execution_count": 305,
   "id": "38d27cf6-ea3f-4fb1-b0f5-b32bbba2ad73",
   "metadata": {},
   "outputs": [
    {
     "data": {
      "text/plain": [
       "array([[' 10/27/2020'],\n",
       "       [' 10/21/2020'],\n",
       "       [' 10/20/2020'],\n",
       "       [' 10/16/2020'],\n",
       "       [' 10/15/2020'],\n",
       "       [' 10/14/2020'],\n",
       "       [' 10/13/2020'],\n",
       "       [' 10/12/2020'],\n",
       "       [' 10/09/2020'],\n",
       "       [' 10/05/2020'],\n",
       "       [' 10/01/2020']], dtype='<U11')"
      ]
     },
     "execution_count": 305,
     "metadata": {},
     "output_type": "execute_result"
    }
   ],
   "source": [
    "dates = np.array([d for d in data[:,1]])\n",
    "dates[ohlc[:,3] > 116.0].reshape(11,1)"
   ]
  },
  {
   "cell_type": "code",
   "execution_count": 306,
   "id": "1f0ecee2-540c-475e-8ca4-3063943f3ee4",
   "metadata": {},
   "outputs": [
    {
     "data": {
      "text/plain": [
       "array([[' 10/27/2020', '115.49', '117.28', '114.5399', '116.6'],\n",
       "       [' 10/21/2020', '116.67', '118.705', '116.45', '116.87'],\n",
       "       [' 10/20/2020', '116.2', '118.98', '115.63', '117.51'],\n",
       "       [' 10/16/2020', '121.28', '121.548', '118.81', '119.02'],\n",
       "       [' 10/15/2020', '118.72', '121.2', '118.15', '120.71'],\n",
       "       [' 10/14/2020', '121.0', '123.03', '119.62', '121.19'],\n",
       "       [' 10/13/2020', '125.27', '125.39', '119.65', '121.1'],\n",
       "       [' 10/12/2020', '120.06', '125.18', '119.2845', '124.4'],\n",
       "       [' 10/09/2020', '115.28', '117.0', '114.92', '116.97'],\n",
       "       [' 10/05/2020', '113.91', '116.65', '113.55', '116.5'],\n",
       "       [' 10/01/2020', '117.64', '117.72', '115.83', '116.79']],\n",
       "      dtype='<U32')"
      ]
     },
     "execution_count": 306,
     "metadata": {},
     "output_type": "execute_result"
    }
   ],
   "source": [
    "np.hstack((dates[ohlc[:,3] > 116.0].reshape(11,1),ohlc[ohlc[:,3] > 116.0]))"
   ]
  },
  {
   "cell_type": "markdown",
   "id": "217fa9a0-b451-4e6d-857e-2714ba8dc28e",
   "metadata": {},
   "source": [
    "# Universal functions (vectorized functions)"
   ]
  },
  {
   "cell_type": "code",
   "execution_count": 307,
   "id": "00be0d94-03a0-4d07-b75f-3c92f73c4457",
   "metadata": {},
   "outputs": [
    {
     "data": {
      "text/plain": [
       "array([ 2,  4,  6,  8, 10])"
      ]
     },
     "execution_count": 307,
     "metadata": {},
     "output_type": "execute_result"
    }
   ],
   "source": [
    "arr_1 = np.array([1,2,3,4,5])\n",
    "arr_2 = np.arange(1,6)\n",
    "\n",
    "arr_1 + arr_2"
   ]
  },
  {
   "cell_type": "code",
   "execution_count": 308,
   "id": "05163c01-5a34-4a9a-8033-9533db0d141e",
   "metadata": {},
   "outputs": [
    {
     "data": {
      "text/plain": [
       "array([ 2,  4,  6,  8, 10])"
      ]
     },
     "execution_count": 308,
     "metadata": {},
     "output_type": "execute_result"
    }
   ],
   "source": [
    "np.add(arr_1, arr_2)"
   ]
  },
  {
   "cell_type": "code",
   "execution_count": 309,
   "id": "f921147f-e7ff-4700-a8c8-7517b9e2f1a9",
   "metadata": {},
   "outputs": [
    {
     "data": {
      "text/plain": [
       "array([ 1,  4,  9, 16, 25])"
      ]
     },
     "execution_count": 309,
     "metadata": {},
     "output_type": "execute_result"
    }
   ],
   "source": [
    "np.multiply(arr_1, arr_2)"
   ]
  },
  {
   "cell_type": "code",
   "execution_count": 310,
   "id": "ade9dc0f-a151-4747-b135-927ee3312ed5",
   "metadata": {},
   "outputs": [
    {
     "data": {
      "text/plain": [
       "array([   1,    4,   27,  256, 3125])"
      ]
     },
     "execution_count": 310,
     "metadata": {},
     "output_type": "execute_result"
    }
   ],
   "source": [
    "arr_1 ** arr_2"
   ]
  },
  {
   "cell_type": "code",
   "execution_count": 311,
   "id": "1ccfef86-cb09-40c2-b995-1a57c757e8c2",
   "metadata": {},
   "outputs": [
    {
     "data": {
      "text/plain": [
       "array([ 2.44929360e-16,  9.84807753e-01,  3.42020143e-01, -8.66025404e-01,\n",
       "       -6.42787610e-01,  6.42787610e-01,  8.66025404e-01, -3.42020143e-01,\n",
       "       -9.84807753e-01, -2.44929360e-16])"
      ]
     },
     "execution_count": 311,
     "metadata": {},
     "output_type": "execute_result"
    }
   ],
   "source": [
    "arr = np.linspace(-2 * math.pi, 2 * math.pi, 10)\n",
    "np.sin(arr)"
   ]
  },
  {
   "cell_type": "code",
   "execution_count": 313,
   "id": "e3e15d7c-51df-433e-8eab-0d4892a2c234",
   "metadata": {},
   "outputs": [],
   "source": [
    "from time import perf_counter"
   ]
  },
  {
   "cell_type": "code",
   "execution_count": 314,
   "id": "77bfc87e-489d-474c-883c-4553f0179ffa",
   "metadata": {},
   "outputs": [],
   "source": [
    "l = list(range(1, 1_000_000))"
   ]
  },
  {
   "cell_type": "code",
   "execution_count": 315,
   "id": "450a477f-0970-4794-a966-a000bf2e4232",
   "metadata": {},
   "outputs": [
    {
     "name": "stdout",
     "output_type": "stream",
     "text": [
      "Elapsed :0.08828599995467812\n"
     ]
    }
   ],
   "source": [
    "start = perf_counter()\n",
    "new_list = []\n",
    "for el in l:\n",
    "    new_list.append(1/el)\n",
    "end = perf_counter()\n",
    "print(f'Elapsed :{end - start}')"
   ]
  },
  {
   "cell_type": "code",
   "execution_count": 316,
   "id": "15d828a1-dbfe-40fe-b302-7aaf88cb4b40",
   "metadata": {},
   "outputs": [
    {
     "name": "stdout",
     "output_type": "stream",
     "text": [
      "Elapsed :0.06646487500984222\n"
     ]
    }
   ],
   "source": [
    "start = perf_counter()\n",
    "new_list = [1/el for el in l]\n",
    "end = perf_counter()\n",
    "print(f'Elapsed :{end - start}')"
   ]
  },
  {
   "cell_type": "code",
   "execution_count": 318,
   "id": "3d3da030-9656-4ac9-af4a-e93a18b7d378",
   "metadata": {},
   "outputs": [
    {
     "name": "stdout",
     "output_type": "stream",
     "text": [
      "Elapsed :0.0010412499541416764\n"
     ]
    }
   ],
   "source": [
    "np_l = np.array(l, dtype=np.float32)\n",
    "start = perf_counter()\n",
    "new_list = 1/np_l\n",
    "end = perf_counter()\n",
    "print(f'Elapsed :{end - start}')"
   ]
  },
  {
   "cell_type": "code",
   "execution_count": 321,
   "id": "0cd2110e-7d93-41ac-846d-9dd025bb8e6d",
   "metadata": {},
   "outputs": [
    {
     "data": {
      "text/plain": [
       "np.int64(4)"
      ]
     },
     "execution_count": 321,
     "metadata": {},
     "output_type": "execute_result"
    }
   ],
   "source": [
    "np.amax(np.array([1,2,3,4]))"
   ]
  },
  {
   "cell_type": "code",
   "execution_count": 329,
   "id": "f1d11a29-efe7-41e5-a81e-e5fd11e2bc05",
   "metadata": {},
   "outputs": [
    {
     "name": "stdout",
     "output_type": "stream",
     "text": [
      "[[ 1  2  3  4]\n",
      " [ 5  6  7  8]\n",
      " [ 9 10 11 12]\n",
      " [13 14 15 16]\n",
      " [17 18 19 20]]\n"
     ]
    },
    {
     "data": {
      "text/plain": [
       "array([17, 18, 19, 20])"
      ]
     },
     "execution_count": 329,
     "metadata": {},
     "output_type": "execute_result"
    }
   ],
   "source": [
    "arr = np.arange(1,21).reshape(5,4)\n",
    "print(arr)\n",
    "np.amax(arr,axis=0)"
   ]
  },
  {
   "cell_type": "code",
   "execution_count": 331,
   "id": "e8471146-7e3e-4f33-a59b-a590b2176693",
   "metadata": {},
   "outputs": [
    {
     "data": {
      "text/plain": [
       "array([10, 26, 42, 58, 74])"
      ]
     },
     "execution_count": 331,
     "metadata": {},
     "output_type": "execute_result"
    }
   ],
   "source": [
    "np.sum(arr,axis=1)"
   ]
  },
  {
   "cell_type": "code",
   "execution_count": 333,
   "id": "92c304ef-2f72-46c6-bc61-5bab24d14573",
   "metadata": {},
   "outputs": [
    {
     "data": {
      "text/plain": [
       "array([ 0,  1,  2,  3,  4,  5,  6,  7,  8,  9, 10])"
      ]
     },
     "execution_count": 333,
     "metadata": {},
     "output_type": "execute_result"
    }
   ],
   "source": [
    "arr = np.arange(0,11)\n",
    "arr"
   ]
  },
  {
   "cell_type": "code",
   "execution_count": 334,
   "id": "e6fc5f65-55a7-4fa9-982c-6d39417cc679",
   "metadata": {},
   "outputs": [],
   "source": [
    "bins = [0, 3, 8, 10]\n",
    "# creates bins [0, 3) [3, 8), [8,11)"
   ]
  },
  {
   "cell_type": "code",
   "execution_count": 336,
   "id": "f4fbec90-514b-4920-9048-46e74aabfbc0",
   "metadata": {},
   "outputs": [
    {
     "data": {
      "text/plain": [
       "(array([2, 0, 0]), array([ 0,  3,  8, 10]))"
      ]
     },
     "execution_count": 336,
     "metadata": {},
     "output_type": "execute_result"
    }
   ],
   "source": [
    "np.histogram(a, bins)\n",
    "# gives frequency of each bin and bins array"
   ]
  },
  {
   "cell_type": "code",
   "execution_count": 338,
   "id": "afc761fe-7699-4734-911b-c220ab3d7303",
   "metadata": {},
   "outputs": [
    {
     "data": {
      "text/plain": [
       "(array([5, 2, 5]), array([ 1., 33., 65., 97.]))"
      ]
     },
     "execution_count": 338,
     "metadata": {},
     "output_type": "execute_result"
    }
   ],
   "source": [
    "np.histogram(a, 3)\n",
    "# 3 evenly spaced bins"
   ]
  },
  {
   "cell_type": "code",
   "execution_count": null,
   "id": "6f82815e-bbc2-444c-898f-367020b5d28f",
   "metadata": {},
   "outputs": [],
   "source": []
  }
 ],
 "metadata": {
  "kernelspec": {
   "display_name": "Python 3 (ipykernel)",
   "language": "python",
   "name": "python3"
  },
  "language_info": {
   "codemirror_mode": {
    "name": "ipython",
    "version": 3
   },
   "file_extension": ".py",
   "mimetype": "text/x-python",
   "name": "python",
   "nbconvert_exporter": "python",
   "pygments_lexer": "ipython3",
   "version": "3.13.2"
  }
 },
 "nbformat": 4,
 "nbformat_minor": 5
}
