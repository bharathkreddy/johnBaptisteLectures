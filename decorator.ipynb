{
 "cells": [
  {
   "cell_type": "code",
   "execution_count": 1,
   "id": "2c8e6d15-ea6b-4e32-9a5f-0ce5a34205e9",
   "metadata": {},
   "outputs": [],
   "source": [
    "import functools\n",
    "import inspect"
   ]
  },
  {
   "cell_type": "code",
   "execution_count": 2,
   "id": "bb5f393a-ff64-4ae6-8499-e3feab759a6a",
   "metadata": {
    "editable": true,
    "slideshow": {
     "slide_type": ""
    },
    "tags": []
   },
   "outputs": [],
   "source": [
    "def counter(fn):\n",
    "    count = 0\n",
    "    def inner(*args, **kwargs):\n",
    "        nonlocal count\n",
    "        count += 1\n",
    "        print(f'function {fn.__name__} called {count} times')\n",
    "        return fn(*args, **kwargs)\n",
    "    return inner\n",
    "\n",
    "def add(a, b):\n",
    "    return a + b"
   ]
  },
  {
   "cell_type": "code",
   "execution_count": 3,
   "id": "645b48ee-1609-465b-8fc4-d0d8e1e27ec6",
   "metadata": {},
   "outputs": [],
   "source": [
    "add = counter(add)"
   ]
  },
  {
   "cell_type": "code",
   "execution_count": 4,
   "id": "a54633d7-1d80-4022-b05d-1dcbd7fa99d1",
   "metadata": {},
   "outputs": [
    {
     "name": "stdout",
     "output_type": "stream",
     "text": [
      "function add called 1 times\n"
     ]
    },
    {
     "data": {
      "text/plain": [
       "30"
      ]
     },
     "execution_count": 4,
     "metadata": {},
     "output_type": "execute_result"
    }
   ],
   "source": [
    "add(10, 20)"
   ]
  },
  {
   "cell_type": "code",
   "execution_count": 5,
   "id": "ad99903c-f759-49bd-ab0d-122c7d50a128",
   "metadata": {},
   "outputs": [
    {
     "name": "stdout",
     "output_type": "stream",
     "text": [
      "function add called 2 times\n"
     ]
    },
    {
     "data": {
      "text/plain": [
       "10"
      ]
     },
     "execution_count": 5,
     "metadata": {},
     "output_type": "execute_result"
    }
   ],
   "source": [
    "add(3, 7)"
   ]
  },
  {
   "cell_type": "markdown",
   "id": "80c292df-1644-40dd-bf6e-33316e272c31",
   "metadata": {},
   "source": [
    "# Decorator"
   ]
  },
  {
   "cell_type": "code",
   "execution_count": 6,
   "id": "6315633f-5a68-40f0-8ade-c918cd0c7ad0",
   "metadata": {},
   "outputs": [],
   "source": [
    "def outer(fn):\n",
    "    count = 0\n",
    "    def inner(*args, **kwargs):\n",
    "        nonlocal count\n",
    "        count += 1\n",
    "        print(f'function {fn.__name__} called {count} times')\n",
    "        return fn(*args, **kwargs)\n",
    "    return inner\n",
    "\n",
    "@outer  # has same effect as : add = outer(add)\n",
    "def add(a, b):\n",
    "    return a + b"
   ]
  },
  {
   "cell_type": "code",
   "execution_count": 7,
   "id": "1436be9b-aa7d-451b-a3f3-15d8cbccc221",
   "metadata": {},
   "outputs": [
    {
     "name": "stdout",
     "output_type": "stream",
     "text": [
      "function add called 1 times\n"
     ]
    },
    {
     "data": {
      "text/plain": [
       "15"
      ]
     },
     "execution_count": 7,
     "metadata": {},
     "output_type": "execute_result"
    }
   ],
   "source": [
    "add(10,5)"
   ]
  },
  {
   "cell_type": "code",
   "execution_count": 8,
   "id": "2b117ef3-39bc-4aae-94f6-ed8c4ee74ccb",
   "metadata": {},
   "outputs": [
    {
     "name": "stdout",
     "output_type": "stream",
     "text": [
      "Name: inner\n",
      "\n",
      "Closure: (<cell at 0x107ad2ad0: int object at 0x10524a0c0>, <cell at 0x107ad2230: function object at 0x107ae5940>)\n",
      "\n",
      "Signature: (*args, **kwargs)\n",
      "\n",
      "Help on function inner in module __main__:\n",
      "\n",
      "inner(*args, **kwargs)\n",
      "\n"
     ]
    }
   ],
   "source": [
    "print(f'Name: {add.__name__}\\n')\n",
    "print(f'Closure: {add.__closure__}\\n')\n",
    "print(f'Signature: {inspect.signature(add)}\\n')\n",
    "help(add)"
   ]
  },
  {
   "cell_type": "markdown",
   "id": "300f40df-8879-4254-a4b0-863f2f25e43d",
   "metadata": {},
   "source": [
    "### All the information about originall function `add` is lost and we get back details of `inner`. How can we fix this ?"
   ]
  },
  {
   "cell_type": "code",
   "execution_count": 10,
   "id": "9713b3a0-d520-4e8d-88b7-52e878dc5d56",
   "metadata": {},
   "outputs": [],
   "source": [
    "def outer(fn):\n",
    "    count = 0\n",
    "    def inner(*args, **kwargs):\n",
    "        nonlocal count\n",
    "        count += 1\n",
    "        print(f'function {fn.__name__} called {count} times')\n",
    "        return fn(*args, **kwargs)\n",
    "    inner.__name__ = fn.__name__\n",
    "    inner.__doc__ = fn.__doc__\n",
    "    return inner\n",
    "\n",
    "@outer  # has same effect as : add = outer(add)\n",
    "def add(a, b):\n",
    "    \"\"\"returns sum of a and b\"\"\"\n",
    "    return a + b"
   ]
  },
  {
   "cell_type": "code",
   "execution_count": 11,
   "id": "c91783ea-9366-41b8-969d-97468509e269",
   "metadata": {},
   "outputs": [
    {
     "name": "stdout",
     "output_type": "stream",
     "text": [
      "Name: add\n",
      "\n",
      "Closure: (<cell at 0x107aee9e0: int object at 0x10524a0a0>, <cell at 0x107aee980: function object at 0x107ae6160>)\n",
      "\n",
      "Signature: (*args, **kwargs)\n",
      "\n",
      "Help on function add in module __main__:\n",
      "\n",
      "add(*args, **kwargs)\n",
      "    returns sum of a and b\n",
      "\n"
     ]
    }
   ],
   "source": [
    "print(f'Name: {add.__name__}\\n')\n",
    "print(f'Closure: {add.__closure__}\\n')\n",
    "print(f'Signature: {inspect.signature(add)}\\n')\n",
    "help(add)"
   ]
  },
  {
   "cell_type": "markdown",
   "id": "132af83c-25fc-4c2f-98e0-2f8bbbc93fa8",
   "metadata": {},
   "source": [
    "### But the function signature still reads `add(*args, **kwargs)`"
   ]
  },
  {
   "cell_type": "code",
   "execution_count": 12,
   "id": "911dfac6-8daf-46fa-b155-46f1d2e3d000",
   "metadata": {},
   "outputs": [
    {
     "name": "stdout",
     "output_type": "stream",
     "text": [
      "Name: add\n",
      "\n",
      "Closure: (<cell at 0x107aeef20: int object at 0x10524a0a0>, <cell at 0x107aef730: function object at 0x107ae6ac0>)\n",
      "\n",
      "Signature: (a, b)\n",
      "\n",
      "Help on function add in module __main__:\n",
      "\n",
      "add(a, b)\n",
      "    returns sum of a and b\n",
      "\n"
     ]
    }
   ],
   "source": [
    "def outer(fn):\n",
    "    count = 0\n",
    "    def inner(*args, **kwargs):\n",
    "        nonlocal count\n",
    "        count += 1\n",
    "        print(f'function {fn.__name__} called {count} times')\n",
    "        return fn(*args, **kwargs)\n",
    "    inner = functools.wraps(fn)(inner)\n",
    "    return inner\n",
    "\n",
    "@outer  # has same effect as : add = outer(add)\n",
    "def add(a, b):\n",
    "    \"\"\"returns sum of a and b\"\"\"\n",
    "    return a + b\n",
    "\n",
    "print(f'Name: {add.__name__}\\n')\n",
    "print(f'Closure: {add.__closure__}\\n')\n",
    "print(f'Signature: {inspect.signature(add)}\\n')\n",
    "help(add)"
   ]
  },
  {
   "cell_type": "code",
   "execution_count": 13,
   "id": "d1bc73f5-f7ae-41a0-9b3b-82a0acbffc88",
   "metadata": {},
   "outputs": [
    {
     "name": "stdout",
     "output_type": "stream",
     "text": [
      "Name: add\n",
      "\n",
      "Closure: (<cell at 0x107aefaf0: int object at 0x10524a0a0>, <cell at 0x107aec070: function object at 0x107ae6fc0>)\n",
      "\n",
      "Signature: (a, b)\n",
      "\n",
      "Help on function add in module __main__:\n",
      "\n",
      "add(a, b)\n",
      "    returns sum of a and b\n",
      "\n"
     ]
    }
   ],
   "source": [
    "def outer(fn):\n",
    "    count = 0\n",
    "    @functools.wraps(fn)\n",
    "    def inner(*args, **kwargs):\n",
    "        nonlocal count\n",
    "        count += 1\n",
    "        print(f'function {fn.__name__} called {count} times')\n",
    "        return fn(*args, **kwargs)\n",
    "    return inner\n",
    "\n",
    "@outer  # has same effect as : add = outer(add)\n",
    "def add(a, b):\n",
    "    \"\"\"returns sum of a and b\"\"\"\n",
    "    return a + b\n",
    "\n",
    "print(f'Name: {add.__name__}\\n')\n",
    "print(f'Closure: {add.__closure__}\\n')\n",
    "print(f'Signature: {inspect.signature(add)}\\n')\n",
    "help(add)"
   ]
  },
  {
   "cell_type": "markdown",
   "id": "fc8d1170-894d-4908-aecd-82b558e2f2de",
   "metadata": {},
   "source": [
    "# Application of Decorators"
   ]
  },
  {
   "cell_type": "code",
   "execution_count": 18,
   "id": "666714b7-3fec-4500-8aba-d8b9a285e009",
   "metadata": {},
   "outputs": [],
   "source": [
    "def timed(fn):\n",
    "    # import these so users wont have to import these in their modules\n",
    "    from time import perf_counter\n",
    "    from functools import wraps\n",
    "\n",
    "    @wraps(fn)\n",
    "    def inner(*args, **kwargs):\n",
    "        start = perf_counter()\n",
    "        result = fn(*args, **kwargs)\n",
    "        end = perf_counter()\n",
    "        print(f'Elapsed time: {end - start}s')\n",
    "        return result\n",
    "\n",
    "    return inner\n",
    "\n",
    "@timed\n",
    "def add(a: int, b: int) -> int:\n",
    "    return a + b\n",
    "    "
   ]
  },
  {
   "cell_type": "code",
   "execution_count": 19,
   "id": "fe6b7a21-8a8a-4853-abb6-f4c9a8286b29",
   "metadata": {},
   "outputs": [
    {
     "name": "stdout",
     "output_type": "stream",
     "text": [
      "Elapsed time: 1.125037670135498e-06s\n"
     ]
    },
    {
     "data": {
      "text/plain": [
       "8"
      ]
     },
     "execution_count": 19,
     "metadata": {},
     "output_type": "execute_result"
    }
   ],
   "source": [
    "add(1, 7)"
   ]
  },
  {
   "cell_type": "code",
   "execution_count": 20,
   "id": "59bf34fc-4174-41ca-a9ae-d6a136c8e9ec",
   "metadata": {},
   "outputs": [],
   "source": [
    "@timed\n",
    "def fib(n):\n",
    "    if n<=2:\n",
    "        return 1\n",
    "    else:\n",
    "        return fib(n-1) + fib(n-1)"
   ]
  },
  {
   "cell_type": "code",
   "execution_count": 23,
   "id": "29c3d6a3-e411-4bcb-99a9-9d0958dd3f36",
   "metadata": {},
   "outputs": [
    {
     "name": "stdout",
     "output_type": "stream",
     "text": [
      "Elapsed time: 3.7497375160455704e-07s\n",
      "Elapsed time: 3.33995558321476e-07s\n",
      "Elapsed time: 0.00010679091792553663s\n",
      "Elapsed time: 2.4994369596242905e-07s\n",
      "Elapsed time: 2.50060111284256e-07s\n",
      "Elapsed time: 3.0125025659799576e-05s\n",
      "Elapsed time: 0.00016716693062335253s\n",
      "Elapsed time: 2.50060111284256e-07s\n",
      "Elapsed time: 2.909218892455101e-07s\n",
      "Elapsed time: 3.0208961106836796e-05s\n",
      "Elapsed time: 2.50060111284256e-07s\n",
      "Elapsed time: 2.50060111284256e-07s\n",
      "Elapsed time: 2.920802216976881e-05s\n",
      "Elapsed time: 8.874991908669472e-05s\n",
      "Elapsed time: 0.0002862090477719903s\n"
     ]
    },
    {
     "data": {
      "text/plain": [
       "8"
      ]
     },
     "execution_count": 23,
     "metadata": {},
     "output_type": "execute_result"
    }
   ],
   "source": [
    "fib(5)"
   ]
  },
  {
   "cell_type": "markdown",
   "id": "1585cca1-aace-4cfd-bbd9-557dad8d9c1d",
   "metadata": {},
   "source": [
    "## Whats happening ? \n",
    "Lets do some logging"
   ]
  },
  {
   "cell_type": "code",
   "execution_count": 37,
   "id": "78fb3452-f92d-41c2-89c0-ea2d1efbe2bb",
   "metadata": {},
   "outputs": [],
   "source": [
    "def timed(fn):\n",
    "    # import these so users wont have to import these in their modules\n",
    "    from time import perf_counter\n",
    "    from functools import wraps\n",
    "\n",
    "    @wraps(fn)\n",
    "    def inner(*args, **kwargs):\n",
    "        start = perf_counter()\n",
    "        result = fn(*args, **kwargs)\n",
    "        end = perf_counter()\n",
    "        \n",
    "        args_ = [str(x) for x in args]\n",
    "        kwargs_ = ['{k}:{v}' for k,v in kwargs]\n",
    "        \n",
    "        print(f'{fn.__name__}({args_+kwargs_}) took: {end - start}s\\n')\n",
    "        return result\n",
    "\n",
    "    return inner\n",
    "\n",
    "@timed\n",
    "def fib(n):\n",
    "    if n<=2:\n",
    "        return 1\n",
    "    else:\n",
    "        return fib(n-1) + fib(n-1)"
   ]
  },
  {
   "cell_type": "code",
   "execution_count": 38,
   "id": "a276a4ca-7d34-4ca0-8c73-861da96baecd",
   "metadata": {},
   "outputs": [
    {
     "name": "stdout",
     "output_type": "stream",
     "text": [
      "fib(['2']) took: 5.830079317092896e-07s\n",
      "\n",
      "fib(['2']) took: 6.25033862888813e-07s\n",
      "\n",
      "fib(['3']) took: 0.00013025000225752592s\n",
      "\n",
      "fib(['2']) took: 3.7497375160455704e-07s\n",
      "\n",
      "fib(['2']) took: 3.7497375160455704e-07s\n",
      "\n",
      "fib(['3']) took: 5.1332986913621426e-05s\n",
      "\n",
      "fib(['4']) took: 0.00023408292327076197s\n",
      "\n",
      "fib(['2']) took: 3.7497375160455704e-07s\n",
      "\n",
      "fib(['2']) took: 4.580942913889885e-07s\n",
      "\n",
      "fib(['3']) took: 4.904100205749273e-05s\n",
      "\n",
      "fib(['2']) took: 3.7497375160455704e-07s\n",
      "\n",
      "fib(['2']) took: 4.169996827840805e-07s\n",
      "\n",
      "fib(['3']) took: 5.041609983891249e-05s\n",
      "\n",
      "fib(['4']) took: 0.000148500083014369s\n",
      "\n",
      "fib(['5']) took: 0.0004329170333221555s\n",
      "\n"
     ]
    },
    {
     "data": {
      "text/plain": [
       "8"
      ]
     },
     "execution_count": 38,
     "metadata": {},
     "output_type": "execute_result"
    }
   ],
   "source": [
    "fib(5)"
   ]
  },
  {
   "cell_type": "markdown",
   "id": "51ae1246-d194-480c-aa1e-32f57f46ee4b",
   "metadata": {},
   "source": [
    "# use lru cache, or reduce functions"
   ]
  },
  {
   "cell_type": "code",
   "execution_count": 40,
   "id": "f6250418-411e-40a5-8bc3-28885dfea2d8",
   "metadata": {},
   "outputs": [],
   "source": [
    "def logged(fn):\n",
    "    from functools import wraps\n",
    "    from datetime import datetime, timezone\n",
    "\n",
    "    @wraps(fn)\n",
    "    def inner(*args, **kwargs):\n",
    "        run_dt = datetime.now(timezone.utc)\n",
    "        result = fn(*args, **kwargs)\n",
    "        print(f'{run_dt}: called {fn.__name__}')\n",
    "        return result\n",
    "\n",
    "    return inner"
   ]
  },
  {
   "cell_type": "code",
   "execution_count": 41,
   "id": "8704f9ff-62ab-4b34-8d67-845f40457e03",
   "metadata": {},
   "outputs": [],
   "source": [
    "@logged\n",
    "def func1():\n",
    "    pass"
   ]
  },
  {
   "cell_type": "code",
   "execution_count": 42,
   "id": "25b7a064-803c-4507-9826-2b89fdacab1a",
   "metadata": {},
   "outputs": [],
   "source": [
    "@logged\n",
    "def func2():\n",
    "    pass"
   ]
  },
  {
   "cell_type": "code",
   "execution_count": 43,
   "id": "be374391-cc33-450e-9319-2c5e7c90337b",
   "metadata": {},
   "outputs": [
    {
     "name": "stdout",
     "output_type": "stream",
     "text": [
      "2025-06-21 17:44:46.496518+00:00: called func1\n"
     ]
    }
   ],
   "source": [
    "func1()"
   ]
  },
  {
   "cell_type": "code",
   "execution_count": 44,
   "id": "99fdb95f-add9-4919-9ab6-6c4ea20000e0",
   "metadata": {},
   "outputs": [
    {
     "name": "stdout",
     "output_type": "stream",
     "text": [
      "2025-06-21 17:44:49.523942+00:00: called func2\n"
     ]
    }
   ],
   "source": [
    "func2()"
   ]
  },
  {
   "cell_type": "code",
   "execution_count": 45,
   "id": "22bdd137-e12d-4f8a-b096-e05fc556fbcb",
   "metadata": {},
   "outputs": [],
   "source": [
    "def timed(fn):\n",
    "    from functools import wraps\n",
    "    from time import perf_counter\n",
    "\n",
    "    @wraps(fn)\n",
    "    def inner(*args, **kwargs):\n",
    "        start = perf_counter()\n",
    "        result = fn(*args, **kwargs)\n",
    "        end = perf_counter()\n",
    "        print(f'{fn.__name__} ran for {end-start}s')\n",
    "        \n",
    "        return result\n",
    "\n",
    "    return inner"
   ]
  },
  {
   "cell_type": "code",
   "execution_count": 57,
   "id": "b3224a91-e879-46cd-8c21-aeb306066924",
   "metadata": {},
   "outputs": [],
   "source": [
    "@logged\n",
    "@timed\n",
    "def fact(n):\n",
    "    from functools import reduce\n",
    "    return reduce(lambda x,y: x * y, range(1, n+1))"
   ]
  },
  {
   "cell_type": "code",
   "execution_count": 58,
   "id": "44e56975-aae0-4fe7-937a-41c526b3b98a",
   "metadata": {},
   "outputs": [
    {
     "name": "stdout",
     "output_type": "stream",
     "text": [
      "fact ran for 4.916917532682419e-06s\n",
      "2025-06-21 17:51:35.088883+00:00: called fact\n"
     ]
    },
    {
     "data": {
      "text/plain": [
       "120"
      ]
     },
     "execution_count": 58,
     "metadata": {},
     "output_type": "execute_result"
    }
   ],
   "source": [
    "fact(5)"
   ]
  },
  {
   "cell_type": "markdown",
   "id": "5696fa2b-3968-419f-98bd-301466f8c35a",
   "metadata": {},
   "source": [
    "# above is same as "
   ]
  },
  {
   "cell_type": "code",
   "execution_count": 61,
   "id": "152195ea-78fe-408e-a16c-9d0cf064bf41",
   "metadata": {},
   "outputs": [],
   "source": [
    "def fact_2(n):\n",
    "    from functools import reduce\n",
    "    return reduce(lambda x,y: x * y, range(1, n+1))\n",
    "\n",
    "fact_2 = logged(timed(fact_2))"
   ]
  },
  {
   "cell_type": "code",
   "execution_count": 62,
   "id": "75c6c0d8-e5ba-4fc1-af14-d512b821161a",
   "metadata": {},
   "outputs": [
    {
     "name": "stdout",
     "output_type": "stream",
     "text": [
      "fact_2 ran for 7.2499969974160194e-06s\n",
      "2025-06-21 17:53:26.934322+00:00: called fact_2\n"
     ]
    },
    {
     "data": {
      "text/plain": [
       "120"
      ]
     },
     "execution_count": 62,
     "metadata": {},
     "output_type": "execute_result"
    }
   ],
   "source": [
    "fact_2(5)"
   ]
  },
  {
   "cell_type": "markdown",
   "id": "cfcacc61-a82b-4e30-b664-5c02fd0934d5",
   "metadata": {},
   "source": [
    "# Memoization"
   ]
  },
  {
   "cell_type": "code",
   "execution_count": 63,
   "id": "179ee56a-f10b-4b95-a446-9fe0a7712c20",
   "metadata": {},
   "outputs": [],
   "source": [
    "def fib(n):\n",
    "    print(f'Calculating fib({n})')\n",
    "    return 1 if n < 3 else fib(n-1) + fib(n-1)"
   ]
  },
  {
   "cell_type": "code",
   "execution_count": 64,
   "id": "4c6846cc-f98e-45fd-a849-5388705f66b7",
   "metadata": {},
   "outputs": [
    {
     "name": "stdout",
     "output_type": "stream",
     "text": [
      "Calculating fib(5)\n",
      "Calculating fib(4)\n",
      "Calculating fib(3)\n",
      "Calculating fib(2)\n",
      "Calculating fib(2)\n",
      "Calculating fib(3)\n",
      "Calculating fib(2)\n",
      "Calculating fib(2)\n",
      "Calculating fib(4)\n",
      "Calculating fib(3)\n",
      "Calculating fib(2)\n",
      "Calculating fib(2)\n",
      "Calculating fib(3)\n",
      "Calculating fib(2)\n",
      "Calculating fib(2)\n"
     ]
    },
    {
     "data": {
      "text/plain": [
       "8"
      ]
     },
     "execution_count": 64,
     "metadata": {},
     "output_type": "execute_result"
    }
   ],
   "source": [
    "fib(5)"
   ]
  },
  {
   "cell_type": "code",
   "execution_count": 71,
   "id": "0b7817b6-02d6-4fa7-aee8-ab76833825bf",
   "metadata": {},
   "outputs": [],
   "source": [
    "class Fib:\n",
    "    def __init__(self):\n",
    "        self.cache = {1: 1, 2: 1}\n",
    "\n",
    "    def fib(self, n):\n",
    "        if n not in self.cache:\n",
    "            print(f'Calculating fib({n})')\n",
    "            self.cache[n] = self.fib(n-1) + self.fib(n-2)\n",
    "        return self.cache[n]"
   ]
  },
  {
   "cell_type": "code",
   "execution_count": 75,
   "id": "2bdfd944-b09c-42b6-b706-55dd95d9414b",
   "metadata": {},
   "outputs": [
    {
     "name": "stdout",
     "output_type": "stream",
     "text": [
      "Calculating fib(10)\n",
      "Calculating fib(9)\n",
      "Calculating fib(8)\n",
      "Calculating fib(7)\n",
      "Calculating fib(6)\n",
      "Calculating fib(5)\n",
      "Calculating fib(4)\n",
      "Calculating fib(3)\n"
     ]
    },
    {
     "data": {
      "text/plain": [
       "55"
      ]
     },
     "execution_count": 75,
     "metadata": {},
     "output_type": "execute_result"
    }
   ],
   "source": [
    "f = Fib()\n",
    "f.fib(10)"
   ]
  },
  {
   "cell_type": "code",
   "execution_count": 76,
   "id": "f4ba2cca-805f-47b1-948c-d5266b4c7806",
   "metadata": {},
   "outputs": [
    {
     "data": {
      "text/plain": [
       "{1: 1, 2: 1, 3: 2, 4: 3, 5: 5, 6: 8, 7: 13, 8: 21, 9: 34, 10: 55}"
      ]
     },
     "execution_count": 76,
     "metadata": {},
     "output_type": "execute_result"
    }
   ],
   "source": [
    "f.cache"
   ]
  },
  {
   "cell_type": "code",
   "execution_count": 80,
   "id": "1cc47204-3d98-4b5b-83f4-dcab27361adf",
   "metadata": {},
   "outputs": [],
   "source": [
    "def fib():\n",
    "    cache = {1: 1, 2: 1}\n",
    "    def inner(n):\n",
    "        if n not in cache:\n",
    "            print(f'Calculating fib({n})')\n",
    "            cache[n] = inner(n-1) + inner(n-2)\n",
    "        return cache[n]\n",
    "    return inner"
   ]
  },
  {
   "cell_type": "code",
   "execution_count": 81,
   "id": "d59eb90c-a4cb-4790-ba93-81de39a36212",
   "metadata": {},
   "outputs": [
    {
     "name": "stdout",
     "output_type": "stream",
     "text": [
      "Calculating fib(10)\n",
      "Calculating fib(9)\n",
      "Calculating fib(8)\n",
      "Calculating fib(7)\n",
      "Calculating fib(6)\n",
      "Calculating fib(5)\n",
      "Calculating fib(4)\n",
      "Calculating fib(3)\n"
     ]
    },
    {
     "data": {
      "text/plain": [
       "55"
      ]
     },
     "execution_count": 81,
     "metadata": {},
     "output_type": "execute_result"
    }
   ],
   "source": [
    "f = fib()\n",
    "f(10)"
   ]
  },
  {
   "cell_type": "code",
   "execution_count": 84,
   "id": "b15a32ac-dc92-41a6-9ad6-238e97767ce9",
   "metadata": {},
   "outputs": [],
   "source": [
    "def fib(n):\n",
    "    print(f'Calculating fib({n})')\n",
    "    return 1 if n < 3 else fib(n-1) + fib(n-2)"
   ]
  },
  {
   "cell_type": "code",
   "execution_count": 85,
   "id": "94d80885-1759-4726-8bba-677c035c1380",
   "metadata": {},
   "outputs": [
    {
     "name": "stdout",
     "output_type": "stream",
     "text": [
      "Calculating fib(10)\n",
      "Calculating fib(9)\n",
      "Calculating fib(8)\n",
      "Calculating fib(7)\n",
      "Calculating fib(6)\n",
      "Calculating fib(5)\n",
      "Calculating fib(4)\n",
      "Calculating fib(3)\n",
      "Calculating fib(2)\n",
      "Calculating fib(1)\n",
      "Calculating fib(2)\n",
      "Calculating fib(3)\n",
      "Calculating fib(2)\n",
      "Calculating fib(1)\n",
      "Calculating fib(4)\n",
      "Calculating fib(3)\n",
      "Calculating fib(2)\n",
      "Calculating fib(1)\n",
      "Calculating fib(2)\n",
      "Calculating fib(5)\n",
      "Calculating fib(4)\n",
      "Calculating fib(3)\n",
      "Calculating fib(2)\n",
      "Calculating fib(1)\n",
      "Calculating fib(2)\n",
      "Calculating fib(3)\n",
      "Calculating fib(2)\n",
      "Calculating fib(1)\n",
      "Calculating fib(6)\n",
      "Calculating fib(5)\n",
      "Calculating fib(4)\n",
      "Calculating fib(3)\n",
      "Calculating fib(2)\n",
      "Calculating fib(1)\n",
      "Calculating fib(2)\n",
      "Calculating fib(3)\n",
      "Calculating fib(2)\n",
      "Calculating fib(1)\n",
      "Calculating fib(4)\n",
      "Calculating fib(3)\n",
      "Calculating fib(2)\n",
      "Calculating fib(1)\n",
      "Calculating fib(2)\n",
      "Calculating fib(7)\n",
      "Calculating fib(6)\n",
      "Calculating fib(5)\n",
      "Calculating fib(4)\n",
      "Calculating fib(3)\n",
      "Calculating fib(2)\n",
      "Calculating fib(1)\n",
      "Calculating fib(2)\n",
      "Calculating fib(3)\n",
      "Calculating fib(2)\n",
      "Calculating fib(1)\n",
      "Calculating fib(4)\n",
      "Calculating fib(3)\n",
      "Calculating fib(2)\n",
      "Calculating fib(1)\n",
      "Calculating fib(2)\n",
      "Calculating fib(5)\n",
      "Calculating fib(4)\n",
      "Calculating fib(3)\n",
      "Calculating fib(2)\n",
      "Calculating fib(1)\n",
      "Calculating fib(2)\n",
      "Calculating fib(3)\n",
      "Calculating fib(2)\n",
      "Calculating fib(1)\n",
      "Calculating fib(8)\n",
      "Calculating fib(7)\n",
      "Calculating fib(6)\n",
      "Calculating fib(5)\n",
      "Calculating fib(4)\n",
      "Calculating fib(3)\n",
      "Calculating fib(2)\n",
      "Calculating fib(1)\n",
      "Calculating fib(2)\n",
      "Calculating fib(3)\n",
      "Calculating fib(2)\n",
      "Calculating fib(1)\n",
      "Calculating fib(4)\n",
      "Calculating fib(3)\n",
      "Calculating fib(2)\n",
      "Calculating fib(1)\n",
      "Calculating fib(2)\n",
      "Calculating fib(5)\n",
      "Calculating fib(4)\n",
      "Calculating fib(3)\n",
      "Calculating fib(2)\n",
      "Calculating fib(1)\n",
      "Calculating fib(2)\n",
      "Calculating fib(3)\n",
      "Calculating fib(2)\n",
      "Calculating fib(1)\n",
      "Calculating fib(6)\n",
      "Calculating fib(5)\n",
      "Calculating fib(4)\n",
      "Calculating fib(3)\n",
      "Calculating fib(2)\n",
      "Calculating fib(1)\n",
      "Calculating fib(2)\n",
      "Calculating fib(3)\n",
      "Calculating fib(2)\n",
      "Calculating fib(1)\n",
      "Calculating fib(4)\n",
      "Calculating fib(3)\n",
      "Calculating fib(2)\n",
      "Calculating fib(1)\n",
      "Calculating fib(2)\n"
     ]
    },
    {
     "data": {
      "text/plain": [
       "55"
      ]
     },
     "execution_count": 85,
     "metadata": {},
     "output_type": "execute_result"
    }
   ],
   "source": [
    "fib(10)"
   ]
  },
  {
   "cell_type": "code",
   "execution_count": 121,
   "id": "93172215-0563-45c9-a834-a59dc0a3bf35",
   "metadata": {},
   "outputs": [],
   "source": [
    "def memoize(fn):\n",
    "    cache = {}\n",
    "    def inner(n):\n",
    "        if n not in cache:\n",
    "            cache[n] = fn(n)\n",
    "        return cache[n]\n",
    "            \n",
    "    return inner"
   ]
  },
  {
   "cell_type": "code",
   "execution_count": 122,
   "id": "a0da1172-a33e-47af-976d-578b17d1aa6c",
   "metadata": {},
   "outputs": [],
   "source": [
    "@memoize\n",
    "def fib(n):\n",
    "    print(f'Calculating fib({n})')\n",
    "    return 1 if n < 3 else fib(n-1) + fib(n-2)"
   ]
  },
  {
   "cell_type": "code",
   "execution_count": 123,
   "id": "a506aaa7-2cc3-4cf3-a528-9cac35cdf226",
   "metadata": {},
   "outputs": [
    {
     "name": "stdout",
     "output_type": "stream",
     "text": [
      "Calculating fib(10)\n",
      "Calculating fib(9)\n",
      "Calculating fib(8)\n",
      "Calculating fib(7)\n",
      "Calculating fib(6)\n",
      "Calculating fib(5)\n",
      "Calculating fib(4)\n",
      "Calculating fib(3)\n",
      "Calculating fib(2)\n",
      "Calculating fib(1)\n"
     ]
    },
    {
     "data": {
      "text/plain": [
       "55"
      ]
     },
     "execution_count": 123,
     "metadata": {},
     "output_type": "execute_result"
    }
   ],
   "source": [
    "fib(10)"
   ]
  },
  {
   "cell_type": "code",
   "execution_count": 124,
   "id": "069322fd-f71d-4bf9-be86-46a8d90fe9db",
   "metadata": {},
   "outputs": [
    {
     "name": "stdout",
     "output_type": "stream",
     "text": [
      "Calculating fib(11)\n"
     ]
    },
    {
     "data": {
      "text/plain": [
       "89"
      ]
     },
     "execution_count": 124,
     "metadata": {},
     "output_type": "execute_result"
    }
   ],
   "source": [
    "fib(11)"
   ]
  },
  {
   "cell_type": "code",
   "execution_count": 131,
   "id": "5fd98fa8-fbbe-4d3b-bb34-e0e348e70509",
   "metadata": {},
   "outputs": [],
   "source": [
    "def fact_(n):\n",
    "    print(f'Calculating fact_({n})')\n",
    "    return 1 if n == 1 else n * fact_(n-1)"
   ]
  },
  {
   "cell_type": "code",
   "execution_count": 132,
   "id": "30987343-5f39-4d50-84e1-3cbab8615ac2",
   "metadata": {},
   "outputs": [
    {
     "name": "stdout",
     "output_type": "stream",
     "text": [
      "Calculating fact_(3)\n",
      "Calculating fact_(2)\n",
      "Calculating fact_(1)\n"
     ]
    },
    {
     "data": {
      "text/plain": [
       "6"
      ]
     },
     "execution_count": 132,
     "metadata": {},
     "output_type": "execute_result"
    }
   ],
   "source": [
    "fact_(3)"
   ]
  },
  {
   "cell_type": "code",
   "execution_count": 133,
   "id": "fc779470-1acf-41b2-a719-e7f03e4d9753",
   "metadata": {},
   "outputs": [
    {
     "name": "stdout",
     "output_type": "stream",
     "text": [
      "Calculating fact_(4)\n",
      "Calculating fact_(3)\n",
      "Calculating fact_(2)\n",
      "Calculating fact_(1)\n"
     ]
    },
    {
     "data": {
      "text/plain": [
       "24"
      ]
     },
     "execution_count": 133,
     "metadata": {},
     "output_type": "execute_result"
    }
   ],
   "source": [
    "fact_(4)"
   ]
  },
  {
   "cell_type": "code",
   "execution_count": 134,
   "id": "5e8d7864-d343-4758-9330-ff31482b613c",
   "metadata": {},
   "outputs": [],
   "source": [
    "@memoize\n",
    "def fact_(n):\n",
    "    print(f'Calculating fact_({n})')\n",
    "    return 1 if n == 1 else n * fact_(n-1)"
   ]
  },
  {
   "cell_type": "code",
   "execution_count": 135,
   "id": "b1466c61-fbdd-4e6d-b650-204dbf0d84ef",
   "metadata": {},
   "outputs": [
    {
     "name": "stdout",
     "output_type": "stream",
     "text": [
      "Calculating fact_(3)\n",
      "Calculating fact_(2)\n",
      "Calculating fact_(1)\n"
     ]
    },
    {
     "data": {
      "text/plain": [
       "6"
      ]
     },
     "execution_count": 135,
     "metadata": {},
     "output_type": "execute_result"
    }
   ],
   "source": [
    "fact_(3)"
   ]
  },
  {
   "cell_type": "code",
   "execution_count": 137,
   "id": "95339932-2cd6-4e91-bfa5-fa5b9cfd7b72",
   "metadata": {},
   "outputs": [
    {
     "name": "stdout",
     "output_type": "stream",
     "text": [
      "Calculating fact_(4)\n"
     ]
    },
    {
     "data": {
      "text/plain": [
       "24"
      ]
     },
     "execution_count": 137,
     "metadata": {},
     "output_type": "execute_result"
    }
   ],
   "source": [
    "fact_(4)"
   ]
  },
  {
   "cell_type": "code",
   "execution_count": 139,
   "id": "ea4fcbac-539a-46cf-a92f-47497adfbf5c",
   "metadata": {},
   "outputs": [
    {
     "data": {
      "text/plain": [
       "720"
      ]
     },
     "execution_count": 139,
     "metadata": {},
     "output_type": "execute_result"
    }
   ],
   "source": [
    "# results from factorials upto 4 are cached allready !\n",
    "fact_(6)"
   ]
  },
  {
   "cell_type": "code",
   "execution_count": 142,
   "id": "5a9af0cf-0851-45c4-994b-8766df2015cf",
   "metadata": {},
   "outputs": [],
   "source": [
    "from functools import lru_cache\n",
    "\n",
    "@lru_cache\n",
    "def fib(n):\n",
    "    print(f'Calculating fib({n})')\n",
    "    return 1 if n < 3 else fib(n-1) + fib(n-2)"
   ]
  },
  {
   "cell_type": "code",
   "execution_count": 143,
   "id": "22a63ca2-fcb5-4ba7-b644-1c3473e4ac3d",
   "metadata": {},
   "outputs": [
    {
     "name": "stdout",
     "output_type": "stream",
     "text": [
      "Calculating fib(10)\n",
      "Calculating fib(9)\n",
      "Calculating fib(8)\n",
      "Calculating fib(7)\n",
      "Calculating fib(6)\n",
      "Calculating fib(5)\n",
      "Calculating fib(4)\n",
      "Calculating fib(3)\n",
      "Calculating fib(2)\n",
      "Calculating fib(1)\n"
     ]
    },
    {
     "data": {
      "text/plain": [
       "55"
      ]
     },
     "execution_count": 143,
     "metadata": {},
     "output_type": "execute_result"
    }
   ],
   "source": [
    "fib(10)"
   ]
  },
  {
   "cell_type": "markdown",
   "id": "1f005599-ef78-41c1-81f6-35b661e0b09a",
   "metadata": {},
   "source": [
    "# Decorator Parameters"
   ]
  },
  {
   "cell_type": "code",
   "execution_count": 148,
   "id": "f90f7188-ccbb-4f6d-8ee6-eee5f3c09476",
   "metadata": {},
   "outputs": [],
   "source": [
    "def timed(fn):\n",
    "    from time import perf_counter\n",
    "\n",
    "    def inner(*args, **kwargs):\n",
    "        total_elapsed = 0\n",
    "        for i in range(10):\n",
    "            start = perf_counter()\n",
    "            result = fn(*args, **kwargs)\n",
    "            total_elapsed += (perf_counter()-start)\n",
    "        avg_elapsed = total_elapsed / 10\n",
    "        print(f'{fn.__name__} took {avg_elapsed}s')\n",
    "        return result\n",
    "    \n",
    "    return inner"
   ]
  },
  {
   "cell_type": "code",
   "execution_count": 151,
   "id": "dce34e89-2710-48c7-9841-879ad61e672d",
   "metadata": {},
   "outputs": [],
   "source": [
    "@timed\n",
    "def myfunc():\n",
    "    return 'hi brk'"
   ]
  },
  {
   "cell_type": "code",
   "execution_count": 152,
   "id": "20003a6d-5866-4a55-8934-0dcfeba8ef8e",
   "metadata": {},
   "outputs": [
    {
     "name": "stdout",
     "output_type": "stream",
     "text": [
      "myfunc took 3.418070264160633e-07s\n"
     ]
    },
    {
     "data": {
      "text/plain": [
       "'hi brk'"
      ]
     },
     "execution_count": 152,
     "metadata": {},
     "output_type": "execute_result"
    }
   ],
   "source": [
    "myfunc()"
   ]
  },
  {
   "cell_type": "code",
   "execution_count": 208,
   "id": "73f0d61c-71a4-4e5b-afe0-09ec33d529f0",
   "metadata": {},
   "outputs": [],
   "source": [
    "def outer(reps):  # outer is not a decorator it creates a decorator and hence its called decorator factory\n",
    "    def timed(fn):\n",
    "        from time import perf_counter\n",
    "        from functools import wraps\n",
    "\n",
    "        @wraps(fn)\n",
    "        def inner(*args, **kwargs):\n",
    "            total_elapsed = 0\n",
    "            for i in range(reps):\n",
    "                start = perf_counter()\n",
    "                result = fn(*args, **kwargs)\n",
    "                total_elapsed += (perf_counter()-start)\n",
    "            avg_elapsed = total_elapsed / reps\n",
    "            print(f'{fn.__name__} took {avg_elapsed*1000:0.6f}ms over {reps} repitions')\n",
    "            return result\n",
    "        \n",
    "        return inner\n",
    "        \n",
    "    return timed   # calling outer(n) returns original decorator with reps set to n as free variable"
   ]
  },
  {
   "cell_type": "code",
   "execution_count": 209,
   "id": "a65d523a-cb68-44ff-a7c4-c06aca24ae2e",
   "metadata": {},
   "outputs": [],
   "source": [
    "def myfunc():\n",
    "    return 'hi brk'"
   ]
  },
  {
   "cell_type": "code",
   "execution_count": 210,
   "id": "6e30d939-ab59-4cd9-a5eb-d6ff33571904",
   "metadata": {},
   "outputs": [
    {
     "name": "stdout",
     "output_type": "stream",
     "text": [
      "myfunc took 0.000192ms over 10 repitions\n"
     ]
    },
    {
     "data": {
      "text/plain": [
       "'hi brk'"
      ]
     },
     "execution_count": 210,
     "metadata": {},
     "output_type": "execute_result"
    }
   ],
   "source": [
    "myfunc = outer(10)(myfunc)\n",
    "myfunc()"
   ]
  },
  {
   "cell_type": "code",
   "execution_count": 211,
   "id": "c91bfeca-4298-49cc-a6c0-0c079498fb29",
   "metadata": {},
   "outputs": [],
   "source": [
    "@outer(10)\n",
    "def myfunc2():\n",
    "    return 'hi brk'"
   ]
  },
  {
   "cell_type": "code",
   "execution_count": 212,
   "id": "02fef3c8-bf6a-4ca7-8d6b-952a105d9d64",
   "metadata": {},
   "outputs": [
    {
     "name": "stdout",
     "output_type": "stream",
     "text": [
      "myfunc2 took 0.000429ms over 10 repitions\n"
     ]
    },
    {
     "data": {
      "text/plain": [
       "'hi brk'"
      ]
     },
     "execution_count": 212,
     "metadata": {},
     "output_type": "execute_result"
    }
   ],
   "source": [
    "myfunc2()"
   ]
  },
  {
   "cell_type": "markdown",
   "id": "e9be0cb8-a062-4aee-a1df-8edec94a5183",
   "metadata": {},
   "source": [
    "# Decorator Class"
   ]
  },
  {
   "cell_type": "code",
   "execution_count": 217,
   "id": "4d7172b9-0229-41fb-8616-a3bcf0ad30b4",
   "metadata": {},
   "outputs": [],
   "source": [
    "class Myclass:\n",
    "    def __init__(self, a, b):\n",
    "        self.a = a\n",
    "        self.b = b\n",
    "\n",
    "    def __call__(self, c):\n",
    "        print(f'called a:{self.a}, b:{self.b}, c:{c}')\n"
   ]
  },
  {
   "cell_type": "code",
   "execution_count": 218,
   "id": "43a3789f-0f8d-49f5-b969-e83ec18b31fd",
   "metadata": {},
   "outputs": [],
   "source": [
    "obj = Myclass(10, 20)"
   ]
  },
  {
   "cell_type": "code",
   "execution_count": 219,
   "id": "46e003ec-a72c-4008-b69b-d46d5669c9ca",
   "metadata": {},
   "outputs": [
    {
     "name": "stdout",
     "output_type": "stream",
     "text": [
      "called a:10, b:20, c:100\n"
     ]
    }
   ],
   "source": [
    "obj(100)"
   ]
  },
  {
   "cell_type": "code",
   "execution_count": 225,
   "id": "2153b00e-a0dd-42c6-bf9a-e7ae2ed7fb17",
   "metadata": {},
   "outputs": [],
   "source": [
    "class Myclass:\n",
    "    def __init__(self, a, b):\n",
    "        self.a = a\n",
    "        self.b = b\n",
    "\n",
    "    def __call__(self, fn):\n",
    "        def inner(*args, **kwargs):\n",
    "            print(f'called a:{self.a}, b:{self.b}')\n",
    "            return fn(*args, **kwargs)\n",
    "        return inner"
   ]
  },
  {
   "cell_type": "code",
   "execution_count": 229,
   "id": "c4679f82-1b73-4261-96ab-f0b28bba6ea7",
   "metadata": {},
   "outputs": [],
   "source": [
    "@Myclass(10, 20)\n",
    "def my_func(s):\n",
    "    print(f'{s}')"
   ]
  },
  {
   "cell_type": "code",
   "execution_count": 230,
   "id": "231401cf-8b7e-4962-93e2-ba0b548f6348",
   "metadata": {},
   "outputs": [
    {
     "name": "stdout",
     "output_type": "stream",
     "text": [
      "called a:10, b:20\n",
      "brk\n"
     ]
    }
   ],
   "source": [
    "my_func('brk')"
   ]
  },
  {
   "cell_type": "code",
   "execution_count": 234,
   "id": "f0467ddf-bcf7-44a6-af2a-5459bde7e4be",
   "metadata": {},
   "outputs": [],
   "source": [
    "def my_func(s):\n",
    "    print(f'{s}')"
   ]
  },
  {
   "cell_type": "code",
   "execution_count": 235,
   "id": "92abeef2-9d61-4b4f-9824-235c77cd3910",
   "metadata": {},
   "outputs": [],
   "source": [
    "obj = Myclass(10, 20)"
   ]
  },
  {
   "cell_type": "code",
   "execution_count": 236,
   "id": "5453afd4-7643-4080-ba8d-69a9c2d8b3ab",
   "metadata": {},
   "outputs": [],
   "source": [
    "my_func = obj(my_func)"
   ]
  },
  {
   "cell_type": "code",
   "execution_count": 237,
   "id": "477279de-be8e-4254-bf31-0799c22ac679",
   "metadata": {},
   "outputs": [
    {
     "name": "stdout",
     "output_type": "stream",
     "text": [
      "called a:10, b:20\n",
      "hello\n"
     ]
    }
   ],
   "source": [
    "my_func('hello')"
   ]
  },
  {
   "cell_type": "markdown",
   "id": "133d08cb-b9aa-4361-8b3a-91b93753835c",
   "metadata": {},
   "source": [
    "# Decorating Classes"
   ]
  },
  {
   "cell_type": "code",
   "execution_count": 238,
   "id": "f0622187-d678-4635-ae7e-c5e5380a8e34",
   "metadata": {},
   "outputs": [],
   "source": [
    "from fractions import Fraction"
   ]
  },
  {
   "cell_type": "code",
   "execution_count": 240,
   "id": "adde6f46-1212-45f6-abe4-679681de72aa",
   "metadata": {},
   "outputs": [
    {
     "data": {
      "text/plain": [
       "(3, 2)"
      ]
     },
     "execution_count": 240,
     "metadata": {},
     "output_type": "execute_result"
    }
   ],
   "source": [
    "f = Fraction(2, 3)\n",
    "f.denominator, f.numerator"
   ]
  },
  {
   "cell_type": "code",
   "execution_count": 241,
   "id": "775c10ba-7c76-4375-9f81-69a4aab99ce7",
   "metadata": {},
   "outputs": [
    {
     "ename": "AttributeError",
     "evalue": "'Fraction' object has no attribute 'speak'",
     "output_type": "error",
     "traceback": [
      "\u001b[31m---------------------------------------------------------------------------\u001b[39m",
      "\u001b[31mAttributeError\u001b[39m                            Traceback (most recent call last)",
      "\u001b[36mCell\u001b[39m\u001b[36m \u001b[39m\u001b[32mIn[241]\u001b[39m\u001b[32m, line 1\u001b[39m\n\u001b[32m----> \u001b[39m\u001b[32m1\u001b[39m \u001b[43mf\u001b[49m\u001b[43m.\u001b[49m\u001b[43mspeak\u001b[49m()\n",
      "\u001b[31mAttributeError\u001b[39m: 'Fraction' object has no attribute 'speak'"
     ]
    }
   ],
   "source": [
    "f.speak()"
   ]
  },
  {
   "cell_type": "code",
   "execution_count": 242,
   "id": "50cdf970-ee38-4666-bddf-576550fb1e08",
   "metadata": {},
   "outputs": [],
   "source": [
    "Fraction.speak = lambda self, message: f'fraction says {message}'"
   ]
  },
  {
   "cell_type": "code",
   "execution_count": 243,
   "id": "21c2296d-87be-4206-95b7-f2ed90e2b5b5",
   "metadata": {},
   "outputs": [
    {
     "data": {
      "text/plain": [
       "'fraction says i am brk'"
      ]
     },
     "execution_count": 243,
     "metadata": {},
     "output_type": "execute_result"
    }
   ],
   "source": [
    "f.speak('i am brk')"
   ]
  },
  {
   "cell_type": "markdown",
   "id": "e2878832-c635-4194-a8c3-c9bc6ff8d23c",
   "metadata": {},
   "source": [
    "# this changing of classes or functions from outside is called `monkey patching`"
   ]
  },
  {
   "cell_type": "code",
   "execution_count": 244,
   "id": "76df9322-fa4a-40e8-83ee-1d2f31481246",
   "metadata": {},
   "outputs": [],
   "source": [
    "f1 = Fraction(2,3)"
   ]
  },
  {
   "cell_type": "code",
   "execution_count": 245,
   "id": "11d5d3fa-61d7-4c2a-a684-6cd6c2d5b064",
   "metadata": {},
   "outputs": [
    {
     "ename": "AttributeError",
     "evalue": "'Fraction' object has no attribute 'is_integal'",
     "output_type": "error",
     "traceback": [
      "\u001b[31m---------------------------------------------------------------------------\u001b[39m",
      "\u001b[31mAttributeError\u001b[39m                            Traceback (most recent call last)",
      "\u001b[36mCell\u001b[39m\u001b[36m \u001b[39m\u001b[32mIn[245]\u001b[39m\u001b[32m, line 1\u001b[39m\n\u001b[32m----> \u001b[39m\u001b[32m1\u001b[39m \u001b[43mf1\u001b[49m\u001b[43m.\u001b[49m\u001b[43mis_integal\u001b[49m()\n",
      "\u001b[31mAttributeError\u001b[39m: 'Fraction' object has no attribute 'is_integal'"
     ]
    }
   ],
   "source": [
    "f1.is_integal()"
   ]
  },
  {
   "cell_type": "code",
   "execution_count": 246,
   "id": "4a7ccc90-af86-4553-9330-9ba4e06fc834",
   "metadata": {},
   "outputs": [],
   "source": [
    "Fraction.is_integral = lambda self: self.denominator == 1"
   ]
  },
  {
   "cell_type": "code",
   "execution_count": 247,
   "id": "b37860ad-2124-4ba5-aada-312339dc1e91",
   "metadata": {},
   "outputs": [
    {
     "data": {
      "text/plain": [
       "False"
      ]
     },
     "execution_count": 247,
     "metadata": {},
     "output_type": "execute_result"
    }
   ],
   "source": [
    "f1.is_integral()"
   ]
  },
  {
   "cell_type": "code",
   "execution_count": 250,
   "id": "b9721902-3811-4afd-a7c4-462c692dfb7d",
   "metadata": {},
   "outputs": [
    {
     "data": {
      "text/plain": [
       "(Fraction(8, 1), True)"
      ]
     },
     "execution_count": 250,
     "metadata": {},
     "output_type": "execute_result"
    }
   ],
   "source": [
    "f2 = Fraction(64, 8)\n",
    "f2, f2.is_integral()"
   ]
  },
  {
   "cell_type": "markdown",
   "id": "23cef53a-5590-412e-a400-fdb70732cd5c",
   "metadata": {},
   "source": [
    "# Lets use decorators for `monkey patching`"
   ]
  },
  {
   "cell_type": "code",
   "execution_count": 260,
   "id": "5ff4d7f3-461e-4f01-8bd9-64302bee7937",
   "metadata": {},
   "outputs": [],
   "source": [
    "from datetime import datetime, timezone"
   ]
  },
  {
   "cell_type": "code",
   "execution_count": 269,
   "id": "e9ae434c-0146-45e2-a308-e5bbf3a3d898",
   "metadata": {},
   "outputs": [],
   "source": [
    "def info(self):\n",
    "        results=[]\n",
    "        results.append(f'time: {datetime.now(timezone.utc)}')\n",
    "        results.append(f'Class: {self.__class__.__name__}')\n",
    "        results.append(f'id: {hex(id(self))}')\n",
    "        for k,v in vars(self).items():\n",
    "            results.append(f'{k}: {v}')\n",
    "        return results\n",
    "\n",
    "def debug_info(cls):     \n",
    "    cls.debug = info\n",
    "    return cls"
   ]
  },
  {
   "cell_type": "code",
   "execution_count": 270,
   "id": "c4c548e4-edf9-4006-9bcd-9485f3cf84d8",
   "metadata": {},
   "outputs": [],
   "source": [
    "@debug_info\n",
    "class Person:\n",
    "    def __init__(self, name, birth_year):\n",
    "        self.name = name\n",
    "        self.birth_year = birth_year\n",
    "\n",
    "    def say_hi():\n",
    "        return 'Hello there'"
   ]
  },
  {
   "cell_type": "code",
   "execution_count": 271,
   "id": "e54b7e4e-73c1-4981-b2fd-c31d1b6b6c3c",
   "metadata": {},
   "outputs": [],
   "source": [
    "p = Person('Bharath', 1985)"
   ]
  },
  {
   "cell_type": "code",
   "execution_count": 272,
   "id": "6e038974-d22a-4971-971b-05fa85e0a5f3",
   "metadata": {},
   "outputs": [
    {
     "data": {
      "text/plain": [
       "['time: 2025-06-21 21:13:10.492158+00:00',\n",
       " 'Class: Person',\n",
       " 'id: 0x107c72cf0',\n",
       " 'name: Bharath',\n",
       " 'birth_year: 1985']"
      ]
     },
     "execution_count": 272,
     "metadata": {},
     "output_type": "execute_result"
    }
   ],
   "source": [
    "p.debug()"
   ]
  },
  {
   "cell_type": "markdown",
   "id": "057a405c-f6b1-43f9-8765-6b6f33a5d3bc",
   "metadata": {},
   "source": [
    "# creating static methods using decorators"
   ]
  },
  {
   "cell_type": "code",
   "execution_count": 280,
   "id": "ed7012ec-68b2-413f-b5ca-2e1046f2e06f",
   "metadata": {},
   "outputs": [],
   "source": [
    "import math"
   ]
  },
  {
   "cell_type": "code",
   "execution_count": 281,
   "id": "76c032de-affd-413b-8e9e-a034ca7175b7",
   "metadata": {},
   "outputs": [],
   "source": [
    "class Point:\n",
    "    def __init__(self, x, y):\n",
    "        self.x = x\n",
    "        self.y = y\n",
    "\n",
    "    def __repr__(self):\n",
    "        return f'Point({self.x}, {self.y})'\n",
    "\n",
    "    def __abs__(self):\n",
    "        return math.sqrt(self.x ** 2 + self.y ** 2)\n",
    "\n",
    "    def __eq__(self, other):\n",
    "        if isinstance(other, Point):\n",
    "            return self.x == other.x and self.y == other.y\n",
    "        else:\n",
    "            return False\n",
    "\n",
    "    def __lt__(self, other):\n",
    "        if isinstance(other, Point):\n",
    "            return abs(self) < abs(other)\n",
    "        else:\n",
    "            return NotImplemented\n",
    "            "
   ]
  },
  {
   "cell_type": "code",
   "execution_count": 282,
   "id": "1e19b1d3-7b52-4ee0-a439-7c1aad89ba8f",
   "metadata": {},
   "outputs": [],
   "source": [
    "p1, p2, p3 = Point(2, 3), Point(2, 3), Point(0, 0)"
   ]
  },
  {
   "cell_type": "code",
   "execution_count": 283,
   "id": "26523fed-500e-457d-bb46-585043db0077",
   "metadata": {},
   "outputs": [
    {
     "data": {
      "text/plain": [
       "True"
      ]
     },
     "execution_count": 283,
     "metadata": {},
     "output_type": "execute_result"
    }
   ],
   "source": [
    "p1 == p2"
   ]
  },
  {
   "cell_type": "code",
   "execution_count": 284,
   "id": "bfd1e92e-20c9-4d5d-bb03-d89d39ecaf3b",
   "metadata": {},
   "outputs": [
    {
     "data": {
      "text/plain": [
       "True"
      ]
     },
     "execution_count": 284,
     "metadata": {},
     "output_type": "execute_result"
    }
   ],
   "source": [
    "p3 < p2"
   ]
  },
  {
   "cell_type": "code",
   "execution_count": 285,
   "id": "53f2bd9a-b156-4051-b688-530e67caa8d2",
   "metadata": {},
   "outputs": [
    {
     "data": {
      "text/plain": [
       "True"
      ]
     },
     "execution_count": 285,
     "metadata": {},
     "output_type": "execute_result"
    }
   ],
   "source": [
    "p2 > p3"
   ]
  },
  {
   "cell_type": "code",
   "execution_count": 286,
   "id": "0ac09623-9f30-45f9-8c8a-a5c6b945215f",
   "metadata": {},
   "outputs": [
    {
     "ename": "TypeError",
     "evalue": "'<=' not supported between instances of 'Point' and 'Point'",
     "output_type": "error",
     "traceback": [
      "\u001b[31m---------------------------------------------------------------------------\u001b[39m",
      "\u001b[31mTypeError\u001b[39m                                 Traceback (most recent call last)",
      "\u001b[36mCell\u001b[39m\u001b[36m \u001b[39m\u001b[32mIn[286]\u001b[39m\u001b[32m, line 1\u001b[39m\n\u001b[32m----> \u001b[39m\u001b[32m1\u001b[39m \u001b[43mp2\u001b[49m\u001b[43m \u001b[49m\u001b[43m<\u001b[49m\u001b[43m=\u001b[49m\u001b[43m \u001b[49m\u001b[43mp1\u001b[49m\n",
      "\u001b[31mTypeError\u001b[39m: '<=' not supported between instances of 'Point' and 'Point'"
     ]
    }
   ],
   "source": [
    "p2 <= p1"
   ]
  },
  {
   "cell_type": "markdown",
   "id": "23d9fe02-0d0f-420e-8315-98b4ad5d4773",
   "metadata": {},
   "source": [
    "# less than equal can be a combination of less than and equal to\n",
    "- a <= b iff a < b or a == b\n",
    "- a > b iff not(a < b) and a != b\n",
    "- a >= b iff not(a < b)"
   ]
  },
  {
   "cell_type": "code",
   "execution_count": 287,
   "id": "27af2b30-312f-4d63-9844-f1eced2dd90e",
   "metadata": {},
   "outputs": [],
   "source": [
    "def complete_ordering(cls):\n",
    "    if '__eq__' in dir(cls) and '__lt__' in dir(cls):\n",
    "        cls.__le__ = lambda self, other: self < other or self == other\n",
    "        cls.__gt__ = lambda self, other: not (self < other) and not (self == other)\n",
    "        cls.__ge__ = lambda self, other: not (self < other)\n",
    "    return cls"
   ]
  },
  {
   "cell_type": "code",
   "execution_count": 288,
   "id": "1b9287fa-fd53-4eb7-8e64-aa940a0584f8",
   "metadata": {},
   "outputs": [],
   "source": [
    "@complete_ordering\n",
    "class Point:\n",
    "    def __init__(self, x, y):\n",
    "        self.x = x\n",
    "        self.y = y\n",
    "\n",
    "    def __repr__(self):\n",
    "        return f'Point({self.x}, {self.y})'\n",
    "\n",
    "    def __abs__(self):\n",
    "        return math.sqrt(self.x ** 2 + self.y ** 2)\n",
    "\n",
    "    def __eq__(self, other):\n",
    "        if isinstance(other, Point):\n",
    "            return self.x == other.x and self.y == other.y\n",
    "        else:\n",
    "            return False\n",
    "\n",
    "    def __lt__(self, other):\n",
    "        if isinstance(other, Point):\n",
    "            return abs(self) < abs(other)\n",
    "        else:\n",
    "            return NotImplemented"
   ]
  },
  {
   "cell_type": "code",
   "execution_count": 289,
   "id": "2d427d01-216c-416c-9270-69ce623b5c62",
   "metadata": {},
   "outputs": [],
   "source": [
    "p1, p2, p3 = Point(2, 3), Point(2, 3), Point(0, 0)"
   ]
  },
  {
   "cell_type": "code",
   "execution_count": 290,
   "id": "40c5e402-f2bf-4aa3-bfe2-c3df783e9668",
   "metadata": {},
   "outputs": [
    {
     "data": {
      "text/plain": [
       "True"
      ]
     },
     "execution_count": 290,
     "metadata": {},
     "output_type": "execute_result"
    }
   ],
   "source": [
    "p2 <= p1"
   ]
  },
  {
   "cell_type": "code",
   "execution_count": 292,
   "id": "57a5bf28-4da1-497b-8377-cf6253a25bb6",
   "metadata": {},
   "outputs": [
    {
     "data": {
      "text/plain": [
       "False"
      ]
     },
     "execution_count": 292,
     "metadata": {},
     "output_type": "execute_result"
    }
   ],
   "source": [
    "p2 != p1"
   ]
  },
  {
   "cell_type": "code",
   "execution_count": 293,
   "id": "4635fa51-4fd3-4207-ba7e-fe6005c18a93",
   "metadata": {},
   "outputs": [],
   "source": [
    "from functools import total_ordering"
   ]
  },
  {
   "cell_type": "code",
   "execution_count": 294,
   "id": "a0a9e09b-e1cb-4682-ac8f-be6d8b91c484",
   "metadata": {},
   "outputs": [],
   "source": [
    "@total_ordering\n",
    "class Point:\n",
    "    def __init__(self, x, y):\n",
    "        self.x = x\n",
    "        self.y = y\n",
    "\n",
    "    def __repr__(self):\n",
    "        return f'Point({self.x}, {self.y})'\n",
    "\n",
    "    def __abs__(self):\n",
    "        return math.sqrt(self.x ** 2 + self.y ** 2)\n",
    "\n",
    "    def __eq__(self, other):\n",
    "        if isinstance(other, Point):\n",
    "            return self.x == other.x and self.y == other.y\n",
    "        else:\n",
    "            return False\n",
    "\n",
    "    def __lt__(self, other):\n",
    "        if isinstance(other, Point):\n",
    "            return abs(self) < abs(other)\n",
    "        else:\n",
    "            return NotImplemented"
   ]
  },
  {
   "cell_type": "code",
   "execution_count": 297,
   "id": "31993a19-635d-4ab3-a4f2-5c7acec11b68",
   "metadata": {},
   "outputs": [],
   "source": [
    "p1, p2, p3, p4 = Point(2, 3), Point(2, 3), Point(0, 0), Point(100, 100)"
   ]
  },
  {
   "cell_type": "code",
   "execution_count": 296,
   "id": "97a6267b-3241-4f8d-9a66-25cfe8a0a886",
   "metadata": {},
   "outputs": [
    {
     "data": {
      "text/plain": [
       "True"
      ]
     },
     "execution_count": 296,
     "metadata": {},
     "output_type": "execute_result"
    }
   ],
   "source": [
    "p2 <= p1"
   ]
  },
  {
   "cell_type": "code",
   "execution_count": 299,
   "id": "b8842c35-04a5-44f7-8427-4dd7946141fb",
   "metadata": {},
   "outputs": [
    {
     "data": {
      "text/plain": [
       "True"
      ]
     },
     "execution_count": 299,
     "metadata": {},
     "output_type": "execute_result"
    }
   ],
   "source": [
    "p4 >= p1"
   ]
  },
  {
   "cell_type": "code",
   "execution_count": 300,
   "id": "aae16b12-8f99-4542-9f36-5610349cc394",
   "metadata": {},
   "outputs": [
    {
     "data": {
      "text/plain": [
       "True"
      ]
     },
     "execution_count": 300,
     "metadata": {},
     "output_type": "execute_result"
    }
   ],
   "source": [
    "p3 <= p1"
   ]
  },
  {
   "cell_type": "code",
   "execution_count": null,
   "id": "e4f9fdb3-7b80-4c5e-bf1b-68d0712323f2",
   "metadata": {},
   "outputs": [],
   "source": []
  }
 ],
 "metadata": {
  "kernelspec": {
   "display_name": "Python 3 (ipykernel)",
   "language": "python",
   "name": "python3"
  },
  "language_info": {
   "codemirror_mode": {
    "name": "ipython",
    "version": 3
   },
   "file_extension": ".py",
   "mimetype": "text/x-python",
   "name": "python",
   "nbconvert_exporter": "python",
   "pygments_lexer": "ipython3",
   "version": "3.13.2"
  }
 },
 "nbformat": 4,
 "nbformat_minor": 5
}
